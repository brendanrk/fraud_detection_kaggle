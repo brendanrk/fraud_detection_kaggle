{
 "cells": [
  {
   "cell_type": "markdown",
   "id": "smooth-drink",
   "metadata": {},
   "source": [
    "Transaction Table *\n",
    "\n",
    "* TransactionDT: timedelta from a given reference datetime (not an actual timestamp)\n",
    "* TransactionAMT: transaction payment amount in USD\n",
    "* ProductCD: product code, the product for each transaction\n",
    "* card1 - card6: payment card information, such as card type, card category, issue bank, country, etc.\n",
    "* addr: address\n",
    "* dist: distance\n",
    "* P_ and (R__) emaildomain: purchaser and recipient email domain\n",
    "* C1-C14: counting, such as how many addresses are found to be associated with the payment card, etc. The actual meaning is masked.\n",
    "* D1-D15: timedelta, such as days between previous transaction, etc.\n",
    "* M1-M9: match, such as names on card and address, etc.\n",
    "* Vxxx: Vesta engineered rich features, including ranking, counting, and other entity relations.\n",
    "\n",
    "Categorical Features:\n",
    "\n",
    "* ProductCD\n",
    "* card1 - card6\n",
    "* addr1, addr2\n",
    "* P_emaildomain\n",
    "* R_emaildomain\n",
    "* M1 - M9\n",
    "\n",
    "Identity Table *\n",
    "\n",
    "Variables in this table are identity information – network connection information (IP, ISP, Proxy, etc) and digital signature (UA/browser/os/version, etc) associated with transactions.\n",
    "They're collected by Vesta’s fraud protection system and digital security partners.\n",
    "(The field names are masked and pairwise dictionary will not be provided for privacy protection and contract agreement)\n",
    "\n",
    "* Categorical Features:\n",
    "* DeviceType\n",
    "* DeviceInfo\n",
    "* id_12 - id_38\n",
    "\n"
   ]
  },
  {
   "cell_type": "code",
   "execution_count": 1,
   "id": "confidential-exchange",
   "metadata": {
    "ExecuteTime": {
     "end_time": "2021-04-30T14:30:07.338415Z",
     "start_time": "2021-04-30T14:30:05.875369Z"
    }
   },
   "outputs": [],
   "source": [
    "import pandas as pd\n",
    "import numpy as np\n",
    "import gc\n",
    "import re\n",
    "from collections import defaultdict\n",
    "import matplotlib.pyplot as plt\n",
    "import seaborn as sns\n",
    "from sklearn.preprocessing import StandardScaler, OneHotEncoder\n",
    "from sklearn.model_selection import train_test_split\n",
    "from sklearn.impute import SimpleImputer, KNNImputer\n",
    "from sklearn.naive_bayes import MultinomialNB, GaussianNB, BernoulliNB\n",
    "from sklearn.naive_bayes import CategoricalNB\n",
    "from sklearn.metrics import confusion_matrix, accuracy_score\n",
    "from sklearn.svm import OneClassSVM\n",
    "from sklearn.neighbors import KNeighborsClassifier\n",
    "from sklearn.model_selection import cross_val_score\n",
    "from sklearn.tree import DecisionTreeClassifier\n",
    "from sklearn.metrics import classification_report\n",
    "\n",
    "\n",
    "from matplotlib import rcParams\n",
    "# figure size in inches\n",
    "rcParams['figure.figsize'] = 12, 10"
   ]
  },
  {
   "cell_type": "code",
   "execution_count": null,
   "id": "confidential-laser",
   "metadata": {},
   "outputs": [],
   "source": [
    "train_identity = pd.read_csv('data/ieee-fraud-detection/train_identity.csv')\n",
    "train_transaction = pd.read_csv('data/ieee-fraud-detection/train_transaction.csv')"
   ]
  },
  {
   "cell_type": "code",
   "execution_count": null,
   "id": "appreciated-jacob",
   "metadata": {},
   "outputs": [],
   "source": [
    "train = pd.merge(train_transaction, train_identity, on='TransactionID', how='left')\n",
    "train = train.drop(columns=[x for x in train.columns if x.startswith(\"V\")])\n",
    "train.shape"
   ]
  },
  {
   "cell_type": "code",
   "execution_count": null,
   "id": "lovely-garage",
   "metadata": {},
   "outputs": [],
   "source": [
    "del train_identity, train_transaction\n",
    "gc.collect()\n"
   ]
  },
  {
   "cell_type": "code",
   "execution_count": null,
   "id": "imposed-posting",
   "metadata": {},
   "outputs": [],
   "source": [
    "# move isFraud to end\n",
    "isFraud = train['isFraud']\n",
    "train.drop(labels=['isFraud'], axis=1, inplace = True)\n",
    "train['isFraud'] = isFraud\n",
    "del isFraud\n",
    "\n",
    "# print amount of each\n",
    "frauds = train.shape[0]\n",
    "yes = train['isFraud'].sum()\n",
    "no = frauds - yes\n",
    "print('{} frauds'.format(frauds))\n",
    "print('{} yes \\n{} no'.format(yes,no))"
   ]
  },
  {
   "cell_type": "code",
   "execution_count": null,
   "id": "equal-official",
   "metadata": {},
   "outputs": [],
   "source": [
    "print(list(train.columns))\n"
   ]
  },
  {
   "cell_type": "code",
   "execution_count": null,
   "id": "constitutional-failure",
   "metadata": {},
   "outputs": [],
   "source": [
    "train.to_pickle(\"train.pkl\")"
   ]
  },
  {
   "cell_type": "code",
   "execution_count": 3,
   "id": "dutch-radar",
   "metadata": {
    "ExecuteTime": {
     "end_time": "2021-04-30T14:30:31.882044Z",
     "start_time": "2021-04-30T14:30:30.758960Z"
    }
   },
   "outputs": [],
   "source": [
    "train = pd.read_pickle(\"train.pkl\")"
   ]
  },
  {
   "cell_type": "markdown",
   "id": "serial-noise",
   "metadata": {},
   "source": [
    "## add new column for same emails"
   ]
  },
  {
   "cell_type": "code",
   "execution_count": 4,
   "id": "bizarre-wagner",
   "metadata": {
    "ExecuteTime": {
     "end_time": "2021-04-30T14:30:39.132229Z",
     "start_time": "2021-04-30T14:30:31.883557Z"
    }
   },
   "outputs": [],
   "source": [
    "train['is_email_same'] = train.apply(lambda x: x['P_emaildomain']== x['R_emaildomain'] and x['R_emaildomain'] != np.nan, axis=1)"
   ]
  },
  {
   "cell_type": "markdown",
   "id": "greatest-machinery",
   "metadata": {},
   "source": [
    "# Start to prepare Train for finding best models"
   ]
  },
  {
   "cell_type": "markdown",
   "id": "excess-exhaust",
   "metadata": {},
   "source": [
    "## remove columns over 80% missing"
   ]
  },
  {
   "cell_type": "code",
   "execution_count": 5,
   "id": "steady-helen",
   "metadata": {
    "ExecuteTime": {
     "end_time": "2021-04-30T14:30:40.666139Z",
     "start_time": "2021-04-30T14:30:39.133955Z"
    }
   },
   "outputs": [
    {
     "name": "stdout",
     "output_type": "stream",
     "text": [
      "remove_columns limit: 0.8\n",
      "missing perc (first 20): {'id_24': 0.9919615944728554, 'id_25': 0.9913096487960172, 'id_08': 0.9912707013919464, 'id_07': 0.9912707013919464, 'id_21': 0.9912639279303688, 'id_26': 0.9912571544687913, 'id_22': 0.9912469942764249, 'id_23': 0.9912469942764249, 'id_27': 0.9912469942764249, 'dist2': 0.9362837403054831, 'D7': 0.9340992989467267, 'id_18': 0.9236072069631185, 'D13': 0.8950926270870728, 'D14': 0.8946946862193924, 'D12': 0.8904104717715988, 'id_03': 0.8876892335828225, 'id_04': 0.8876892335828225, 'D6': 0.8760676668811597, 'id_33': 0.8758949436109323, 'D8': 0.8731229044603245}\n",
      "Columns over the limit (first 20): Index(['id_24', 'id_25', 'id_08', 'id_07', 'id_21', 'id_26', 'id_22', 'id_23',\n",
      "       'id_27', 'dist2', 'D7', 'id_18', 'D13', 'D14', 'D12', 'id_03', 'id_04',\n",
      "       'D6', 'id_33', 'D8'],\n",
      "      dtype='object')\n",
      "before drop: (590540, 96)\n",
      "after drop: (590540, 69)\n"
     ]
    }
   ],
   "source": [
    "columns_dropped = []\n",
    "\n",
    "def remove_columns(perc_limit):\n",
    "    missing_perc = (train.isna().sum() / train.isna().count()).sort_values(ascending=False)\n",
    "    print(\"remove_columns limit:\", perc_limit)\n",
    "    print(\"missing perc (first 20):\", dict(missing_perc[:20]))\n",
    "    perc_too_high_cols = missing_perc[missing_perc > perc_limit].index\n",
    "    print(\"Columns over the limit (first 20):\",perc_too_high_cols[:20])\n",
    "    print(\"before drop:\", train.shape)\n",
    "    columns_dropped.extend(perc_too_high_cols)\n",
    "    train.drop(columns=perc_too_high_cols, inplace=True)\n",
    "    print(\"after drop:\", train.shape)\n",
    "    \n",
    "remove_columns(0.80)"
   ]
  },
  {
   "cell_type": "markdown",
   "id": "simple-russian",
   "metadata": {},
   "source": [
    "## Remove too many NaN on rows"
   ]
  },
  {
   "cell_type": "code",
   "execution_count": 6,
   "id": "radical-month",
   "metadata": {
    "ExecuteTime": {
     "end_time": "2021-04-30T14:30:41.384950Z",
     "start_time": "2021-04-30T14:30:40.667775Z"
    }
   },
   "outputs": [
    {
     "name": "stdout",
     "output_type": "stream",
     "text": [
      "(590540, 69)\n",
      "(11074, 69)\n",
      "(11074, 69) ['TransactionID', 'TransactionDT', 'TransactionAmt', 'ProductCD', 'card1', 'card2', 'card3', 'card4', 'card5', 'card6', 'addr1', 'addr2', 'dist1', 'P_emaildomain', 'R_emaildomain', 'C1', 'C2', 'C3', 'C4', 'C5', 'C6', 'C7', 'C8', 'C9', 'C10', 'C11', 'C12', 'C13', 'C14', 'D1', 'D2', 'D3', 'D4', 'D5', 'D10', 'D11', 'D15', 'M1', 'M2', 'M3', 'M4', 'M5', 'M6', 'M7', 'M8', 'M9', 'id_01', 'id_02', 'id_05', 'id_06', 'id_11', 'id_12', 'id_13', 'id_15', 'id_16', 'id_17', 'id_19', 'id_20', 'id_28', 'id_29', 'id_31', 'id_35', 'id_36', 'id_37', 'id_38', 'DeviceType', 'DeviceInfo', 'isFraud', 'is_email_same']\n"
     ]
    }
   ],
   "source": [
    "def drop_more_than_N_Nan(N): # of the 68 columns, only 12 allowed to be NaN\n",
    "    print(train.shape)\n",
    "    train.dropna(thresh=train.shape[1]-N, axis=0, inplace=True)\n",
    "    print(train.shape)\n",
    "    \n",
    "drop_more_than_N_Nan(12)\n",
    "print(train.shape, list(train.columns))"
   ]
  },
  {
   "cell_type": "code",
   "execution_count": 7,
   "id": "distinguished-material",
   "metadata": {
    "ExecuteTime": {
     "end_time": "2021-04-30T14:30:41.393647Z",
     "start_time": "2021-04-30T14:30:41.386514Z"
    }
   },
   "outputs": [
    {
     "data": {
      "text/plain": [
       "((11074, 68),\n",
       " Index(['TransactionDT', 'TransactionAmt', 'ProductCD', 'card1', 'card2',\n",
       "        'card3', 'card4', 'card5', 'card6', 'addr1', 'addr2', 'dist1',\n",
       "        'P_emaildomain', 'R_emaildomain', 'C1', 'C2', 'C3', 'C4', 'C5', 'C6',\n",
       "        'C7', 'C8', 'C9', 'C10', 'C11', 'C12', 'C13', 'C14', 'D1', 'D2', 'D3',\n",
       "        'D4', 'D5', 'D10', 'D11', 'D15', 'M1', 'M2', 'M3', 'M4', 'M5', 'M6',\n",
       "        'M7', 'M8', 'M9', 'id_01', 'id_02', 'id_05', 'id_06', 'id_11', 'id_12',\n",
       "        'id_13', 'id_15', 'id_16', 'id_17', 'id_19', 'id_20', 'id_28', 'id_29',\n",
       "        'id_31', 'id_35', 'id_36', 'id_37', 'id_38', 'DeviceType', 'DeviceInfo',\n",
       "        'isFraud', 'is_email_same'],\n",
       "       dtype='object'))"
      ]
     },
     "execution_count": 7,
     "metadata": {},
     "output_type": "execute_result"
    }
   ],
   "source": [
    "train.set_index(\"TransactionID\", inplace=True)\n",
    "train.shape, train.columns"
   ]
  },
  {
   "cell_type": "markdown",
   "id": "acute-hello",
   "metadata": {},
   "source": [
    "## check categories"
   ]
  },
  {
   "cell_type": "code",
   "execution_count": 8,
   "id": "planned-philippines",
   "metadata": {
    "ExecuteTime": {
     "end_time": "2021-04-30T14:30:41.464208Z",
     "start_time": "2021-04-30T14:30:41.397948Z"
    }
   },
   "outputs": [
    {
     "name": "stdout",
     "output_type": "stream",
     "text": [
      "P_emaildomain: 46\n",
      "['gmail.com' 'anonymous.com' 'hotmail.com' 'att.net' 'outlook.com'\n",
      " 'servicios-ta.com' 'yahoo.com.mx' 'icloud.com' 'live.com.mx' 'msn.com'\n",
      " 'aol.com' 'yahoo.com' 'verizon.net' 'web.de' 'yahoo.fr' 'hotmail.fr'\n",
      " 'comcast.net' 'outlook.es' 'earthlink.net' 'prodigy.net.mx'] ....\n",
      "\n",
      "gmail.com        4102\n",
      "hotmail.com      3784\n",
      "anonymous.com    1391\n",
      "outlook.com       308\n",
      "yahoo.com         294\n",
      "yahoo.com.mx      214\n",
      "aol.com           131\n",
      "live.com.mx       127\n",
      "live.com           76\n",
      "outlook.es         64\n",
      "Name: P_emaildomain, dtype: int64\n",
      "\n",
      "\n",
      "R_emaildomain: 49\n",
      "['gmail.com' 'anonymous.com' 'hotmail.com' 'att.net' 'outlook.com'\n",
      " 'servicios-ta.com' 'yahoo.com.mx' nan 'icloud.com' 'live.com.mx'\n",
      " 'msn.com' 'aol.com' 'yahoo.com' 'verizon.net' 'bellsouth.net' 'web.de'\n",
      " 'yahoo.fr' 'hotmail.fr' 'comcast.net' 'outlook.es'] ....\n",
      "\n",
      "gmail.com        4133\n",
      "hotmail.com      3780\n",
      "anonymous.com    1387\n",
      "outlook.com       308\n",
      "yahoo.com         279\n",
      "yahoo.com.mx      214\n",
      "live.com.mx       135\n",
      "aol.com           117\n",
      "live.com           75\n",
      "outlook.es         64\n",
      "Name: R_emaildomain, dtype: int64\n",
      "\n",
      "\n",
      "id_31: 95\n",
      "['chrome 62.0' 'chrome 62.0 for android' 'edge 15.0'\n",
      " 'chrome 61.0 for android' 'samsung browser 6.2' 'firefox 57.0'\n",
      " 'chrome 55.0' 'ie' 'ie 11.0 for desktop' 'mobile safari 10.0'\n",
      " 'chrome 59.0' 'chrome 61.0' 'chrome generic' 'safari generic' 'firefox'\n",
      " 'mobile safari 11.0' 'chrome 49.0' 'chrome 56.0 for android'\n",
      " 'chrome 59.0 for android' 'firefox 48.0'] ....\n",
      "\n",
      "chrome 63.0                1771\n",
      "chrome 63.0 for android     865\n",
      "chrome 64.0 for android     718\n",
      "chrome 64.0                 693\n",
      "chrome 65.0 for android     637\n",
      "chrome 65.0                 590\n",
      "chrome 62.0                 584\n",
      "chrome generic              582\n",
      "chrome 66.0 for android     577\n",
      "ie 11.0 for desktop         540\n",
      "Name: id_31, dtype: int64\n",
      "\n",
      "\n",
      "DeviceInfo: 720\n",
      "['Windows' 'LG-K500 Build/MMB29M' 'SM-J700M Build/MMB29K'\n",
      " 'F3113 Build/33.2.A.4.70' 'SAMSUNG SM-G935F Build/NRD90M'\n",
      " 'Windows NT 6.2' 'SM-E500M Build/KTU84P' 'Trident/7.0' 'iOS Device'\n",
      " 'SAMSUNG' 'Moto G (4) Build/NPJS25.93-14-10' 'SM-A500M Build/KTU84P'\n",
      " 'SM-G935F Build/NRD90M' 'SM-G531H Build/LMY48B' 'SM-A720F Build/MMB29K'\n",
      " 'SM-G930U Build/NRD90M' nan 'MacOS' 'LG-K410 Build/LRX22G' 'rv:57.0'] ....\n",
      "\n",
      "Windows                  4849\n",
      "Trident/7.0               504\n",
      "iOS Device                206\n",
      "MacOS                     187\n",
      "SM-J700M Build/MMB29K     137\n",
      "SM-G531H Build/LMY48B     126\n",
      "SM-G610M Build/MMB29K      96\n",
      "rv:11.0                    83\n",
      "rv:57.0                    71\n",
      "SM-G532M Build/MMB29T      71\n",
      "Name: DeviceInfo, dtype: int64\n",
      "\n",
      "\n"
     ]
    }
   ],
   "source": [
    "def check_categories():\n",
    "    for col, values in train.loc[:, train.dtypes == object].iteritems():\n",
    "        num_uniques = values.nunique()\n",
    "        if num_uniques > 5:\n",
    "            print ('{name}: {num_unique}'.format(name=col, num_unique=num_uniques))\n",
    "            print (values.unique()[:20], \"....\")\n",
    "            print (\"\")\n",
    "            print (values.value_counts()[:10])\n",
    "            print ('\\n')\n",
    "            \n",
    "check_categories()"
   ]
  },
  {
   "cell_type": "code",
   "execution_count": 9,
   "id": "mental-bristol",
   "metadata": {
    "ExecuteTime": {
     "end_time": "2021-04-30T14:30:41.468276Z",
     "start_time": "2021-04-30T14:30:41.465746Z"
    }
   },
   "outputs": [],
   "source": [
    "def get_perc(x):\n",
    "    return x.sum()/x.count()"
   ]
  },
  {
   "cell_type": "code",
   "execution_count": 10,
   "id": "iraqi-affairs",
   "metadata": {
    "ExecuteTime": {
     "end_time": "2021-04-30T14:30:41.474378Z",
     "start_time": "2021-04-30T14:30:41.471328Z"
    }
   },
   "outputs": [],
   "source": [
    "email_repl = ['gmail', 'hotmail', 'yahoo', 'aol', 'anonymous', 'outlook', 'protonmail',\"nothing\"]\n",
    "DeviceInfo_repl = ['rv', 'windows', 'ios', 'build', 'trident', 'moto', \"nothing\"]\n",
    "id_31_repl = ['icedragon', 'firefox', 'android', 'chrome', 'safari', 'ie', 'edge', 'samsung', 'opera',\"nothing\"]"
   ]
  },
  {
   "cell_type": "code",
   "execution_count": 11,
   "id": "sought-pavilion",
   "metadata": {
    "ExecuteTime": {
     "end_time": "2021-04-30T14:30:41.643490Z",
     "start_time": "2021-04-30T14:30:41.476120Z"
    }
   },
   "outputs": [
    {
     "data": {
      "text/plain": [
       "other      10541\n",
       "rv           309\n",
       "nothing      212\n",
       "moto          12\n",
       "Name: DeviceInfo, dtype: int64"
      ]
     },
     "execution_count": 11,
     "metadata": {},
     "output_type": "execute_result"
    }
   ],
   "source": [
    "train.loc[train['P_emaildomain'].isna(), 'P_emaildomain'] = \"nothing\"\n",
    "for i in email_repl:\n",
    "    train.loc[train['P_emaildomain'].str.contains(i), 'P_emaildomain'] = i\n",
    "train.loc[~train['P_emaildomain'].isin(email_repl), 'P_emaildomain'] = \"other\"\n",
    "\n",
    "train.loc[train['R_emaildomain'].isna(), 'R_emaildomain'] = \"nothing\"\n",
    "for i in email_repl:\n",
    "    train.loc[train['R_emaildomain'].str.contains(i), 'R_emaildomain'] = i\n",
    "train.loc[~train['R_emaildomain'].isin(email_repl), 'R_emaildomain'] = \"other\"\n",
    "\n",
    "train.loc[train['id_31'].isna(), 'id_31'] = \"nothing\"\n",
    "for i in id_31_repl:\n",
    "    train.loc[train['id_31'].str.contains(i), 'id_31'] = i\n",
    "train.loc[~train['id_31'].isin(id_31_repl), 'id_31'] = \"other\"\n",
    "\n",
    "train.loc[train['DeviceInfo'].isna(), 'DeviceInfo'] = \"nothing\"\n",
    "for i in DeviceInfo_repl:\n",
    "    train.loc[train['DeviceInfo'].str.contains(i), 'DeviceInfo'] = i\n",
    "train.loc[~train['DeviceInfo'].isin(DeviceInfo_repl), 'DeviceInfo'] = \"other\"\n",
    "train['DeviceInfo'].value_counts().head(15)"
   ]
  },
  {
   "cell_type": "markdown",
   "id": "plastic-reservation",
   "metadata": {},
   "source": [
    "## again remove empty columns"
   ]
  },
  {
   "cell_type": "code",
   "execution_count": 12,
   "id": "increased-location",
   "metadata": {
    "ExecuteTime": {
     "end_time": "2021-04-30T14:30:41.690072Z",
     "start_time": "2021-04-30T14:30:41.645381Z"
    }
   },
   "outputs": [
    {
     "name": "stdout",
     "output_type": "stream",
     "text": [
      "remove_columns limit: 0.8\n",
      "missing perc (first 20): {'D11': 1.0, 'dist1': 1.0, 'M5': 1.0, 'M3': 1.0, 'M2': 1.0, 'M1': 1.0, 'M8': 1.0, 'M9': 1.0, 'M7': 1.0, 'M6': 1.0, 'addr2': 0.8166877370417194, 'addr1': 0.8166877370417194, 'M4': 0.10502076936969477, 'D3': 0.04117753296008669, 'D2': 0.03955210402745169, 'D10': 0.017518511829510565, 'D15': 0.008849557522123894, 'D5': 0.007946541448437781, 'id_16': 0.005598699656853892, 'id_13': 0.0027090482210583348}\n",
      "Columns over the limit (first 20): Index(['D11', 'dist1', 'M5', 'M3', 'M2', 'M1', 'M8', 'M9', 'M7', 'M6', 'addr2',\n",
      "       'addr1'],\n",
      "      dtype='object')\n",
      "before drop: (11074, 68)\n",
      "after drop: (11074, 56)\n",
      "columns_dropped: ['id_24', 'id_25', 'id_08', 'id_07', 'id_21', 'id_26', 'id_22', 'id_23', 'id_27', 'dist2', 'D7', 'id_18', 'D13', 'D14', 'D12', 'id_03', 'id_04', 'D6', 'id_33', 'D8', 'id_09', 'id_10', 'D9', 'id_30', 'id_32', 'id_34', 'id_14', 'D11', 'dist1', 'M5', 'M3', 'M2', 'M1', 'M8', 'M9', 'M7', 'M6', 'addr2', 'addr1']\n"
     ]
    }
   ],
   "source": [
    "remove_columns(0.80)\n",
    "print(\"columns_dropped:\",columns_dropped)"
   ]
  },
  {
   "cell_type": "code",
   "execution_count": 13,
   "id": "unable-function",
   "metadata": {
    "ExecuteTime": {
     "end_time": "2021-04-30T14:30:41.769791Z",
     "start_time": "2021-04-30T14:30:41.691354Z"
    }
   },
   "outputs": [
    {
     "name": "stdout",
     "output_type": "stream",
     "text": [
      "                 vals  missing\n",
      "col                           \n",
      "TransactionDT   11070     0.00\n",
      "TransactionAmt   2895     0.00\n",
      "ProductCD           3     0.00\n",
      "card1            1031     0.00\n",
      "card2             164     0.01\n",
      "card3              54     0.00\n",
      "card4               4     0.00\n",
      "card5              44     0.02\n",
      "card6               3     0.00\n",
      "P_emaildomain       7     0.00\n",
      "R_emaildomain       8     0.00\n",
      "C1                108     0.00\n",
      "C2                165     0.00\n",
      "C3                  1     0.00\n",
      "C4                 70     0.00\n",
      "C5                  1     0.00\n",
      "C6                 69     0.00\n",
      "C7                 59     0.00\n",
      "C8                 79     0.00\n",
      "C9                  1     0.00\n",
      "C10                84     0.00\n",
      "C11                98     0.00\n",
      "C12                91     0.00\n",
      "C13               105     0.00\n",
      "C14                48     0.00\n",
      "D1                600     0.00\n",
      "D2                598     3.96\n",
      "D3                464     4.12\n",
      "D4                711     0.00\n",
      "D5                463     0.79\n",
      "D10               350     1.75\n",
      "D15               664     0.88\n",
      "M4                  3    10.50\n",
      "id_01              25     0.00\n",
      "id_02           10927     0.00\n",
      "id_05              61     0.02\n",
      "id_06              78     0.02\n",
      "id_11              64     0.00\n",
      "id_12               2     0.00\n",
      "id_13              27     0.27\n",
      "id_15               3     0.00\n",
      "id_16               2     0.56\n",
      "id_17              42     0.00\n",
      "id_19             201     0.00\n",
      "id_20             174     0.03\n",
      "id_28               2     0.00\n",
      "id_29               2     0.00\n",
      "id_31               9     0.00\n",
      "id_35               2     0.00\n",
      "id_36               2     0.00\n",
      "id_37               2     0.00\n",
      "id_38               2     0.00\n",
      "DeviceType          2     0.00\n",
      "DeviceInfo          4     0.00\n",
      "isFraud             2     0.00\n",
      "is_email_same       2     0.00\n"
     ]
    }
   ],
   "source": [
    "def missing_vals(df):\n",
    "    x = []\n",
    "    for col in df.columns:\n",
    "        vals = df[col].value_counts().shape[0]\n",
    "        missing = round((df[col].isna().sum()/df[col].shape[0])*100,2)\n",
    "        x.append([col,vals,missing])\n",
    "    with pd.option_context('display.max_rows', None, 'display.max_columns', None):\n",
    "        print(pd.DataFrame(x, columns=[\"col\",\"vals\",\"missing\"]).set_index(\"col\"))\n",
    "\n",
    "missing_vals(train)"
   ]
  },
  {
   "cell_type": "code",
   "execution_count": 14,
   "id": "legislative-calibration",
   "metadata": {
    "ExecuteTime": {
     "end_time": "2021-04-30T14:30:41.823387Z",
     "start_time": "2021-04-30T14:30:41.771561Z"
    },
    "scrolled": true
   },
   "outputs": [
    {
     "name": "stdout",
     "output_type": "stream",
     "text": [
      "removed: Index(['C3', 'C5', 'C9'], dtype='object')\n"
     ]
    }
   ],
   "source": [
    "# remove columns with only 1 values and not missing\n",
    "# train = pd.read_pickle(\"trainbeforeScale.pkl\")\n",
    "cols_remove = train.columns[train.apply(lambda x: x.value_counts().shape[0]) == 1]\n",
    "columns_dropped.extend(cols_remove)\n",
    "train.drop(columns=cols_remove, inplace=True)\n",
    "print(\"removed:\", cols_remove)"
   ]
  },
  {
   "cell_type": "code",
   "execution_count": 15,
   "id": "front-journal",
   "metadata": {
    "ExecuteTime": {
     "end_time": "2021-04-30T14:30:42.484124Z",
     "start_time": "2021-04-30T14:30:41.824771Z"
    }
   },
   "outputs": [
    {
     "data": {
      "image/png": "[encoded data removed]",
      "text/plain": [
       "<Figure size 864x720 with 2 Axes>"
      ]
     },
     "metadata": {
      "needs_background": "light"
     },
     "output_type": "display_data"
    }
   ],
   "source": [
    "corrMatrix = train.corr()\n",
    "sns.heatmap(corrMatrix, annot=False, cmap=\"Greens\")\n",
    "plt.show()"
   ]
  },
  {
   "cell_type": "code",
   "execution_count": 16,
   "id": "applicable-collins",
   "metadata": {
    "ExecuteTime": {
     "end_time": "2021-04-30T14:30:42.507170Z",
     "start_time": "2021-04-30T14:30:42.485454Z"
    }
   },
   "outputs": [
    {
     "data": {
      "text/plain": [
       "Index(['TransactionDT', 'TransactionAmt', 'ProductCD', 'card1', 'card2',\n",
       "       'card3', 'card4', 'card5', 'card6', 'P_emaildomain', 'R_emaildomain',\n",
       "       'C1', 'C2', 'C4', 'C6', 'C7', 'C8', 'C10', 'C11', 'C12', 'C13', 'C14',\n",
       "       'D1', 'D2', 'D3', 'D4', 'D5', 'D10', 'D15', 'M4', 'id_01', 'id_02',\n",
       "       'id_05', 'id_06', 'id_11', 'id_12', 'id_13', 'id_15', 'id_16', 'id_17',\n",
       "       'id_19', 'id_20', 'id_28', 'id_29', 'id_31', 'id_35', 'id_36', 'id_37',\n",
       "       'id_38', 'DeviceType', 'DeviceInfo', 'isFraud', 'is_email_same'],\n",
       "      dtype='object')"
      ]
     },
     "execution_count": 16,
     "metadata": {},
     "output_type": "execute_result"
    }
   ],
   "source": [
    "train.to_pickle(\"trainbeforeScale.pkl\")\n",
    "train.columns"
   ]
  },
  {
   "cell_type": "markdown",
   "id": "correct-wednesday",
   "metadata": {},
   "source": [
    "# scale everything"
   ]
  },
  {
   "cell_type": "code",
   "execution_count": 17,
   "id": "experimental-parade",
   "metadata": {
    "ExecuteTime": {
     "end_time": "2021-04-30T14:30:42.555969Z",
     "start_time": "2021-04-30T14:30:42.508841Z"
    },
    "scrolled": true
   },
   "outputs": [],
   "source": [
    "num_cols_mask = (train.dtypes != object) & (train.columns != 'isFraud') & (train.nunique()>2)\n",
    "not_num_cols_mask = (train.dtypes == object)\n",
    "num_cols = train.columns[num_cols_mask]\n",
    "not_num_cols = train.columns[not_num_cols_mask]"
   ]
  },
  {
   "cell_type": "code",
   "execution_count": 18,
   "id": "soviet-moses",
   "metadata": {
    "ExecuteTime": {
     "end_time": "2021-04-30T14:30:42.614651Z",
     "start_time": "2021-04-30T14:30:42.558524Z"
    }
   },
   "outputs": [],
   "source": [
    "scaler = StandardScaler()\n",
    "train[num_cols] = scaler.fit_transform(train[num_cols])"
   ]
  },
  {
   "cell_type": "markdown",
   "id": "particular-conversation",
   "metadata": {},
   "source": [
    "# remove outliers and fill missing"
   ]
  },
  {
   "cell_type": "code",
   "execution_count": 19,
   "id": "prompt-motor",
   "metadata": {
    "ExecuteTime": {
     "end_time": "2021-04-30T14:30:43.594898Z",
     "start_time": "2021-04-30T14:30:42.616105Z"
    }
   },
   "outputs": [
    {
     "name": "stdout",
     "output_type": "stream",
     "text": [
      "(11074, 53)\n",
      "(11074, 53)\n"
     ]
    }
   ],
   "source": [
    "print(train.shape)\n",
    "imp_kNN = KNNImputer(missing_values = np.nan)\n",
    "imp_kNN.fit(train[num_cols])\n",
    "train[num_cols] = imp_kNN.transform(train[num_cols])\n",
    "print(train.shape)"
   ]
  },
  {
   "cell_type": "code",
   "execution_count": 20,
   "id": "inappropriate-cover",
   "metadata": {
    "ExecuteTime": {
     "end_time": "2021-04-30T14:30:43.636851Z",
     "start_time": "2021-04-30T14:30:43.596459Z"
    }
   },
   "outputs": [
    {
     "name": "stdout",
     "output_type": "stream",
     "text": [
      "P_emaildomain: 7\n",
      "['gmail' 'anonymous' 'hotmail' 'other' 'outlook' 'yahoo' 'aol'] ....\n",
      "\n",
      "gmail        4125\n",
      "hotmail      3883\n",
      "anonymous    1391\n",
      "other         592\n",
      "yahoo         580\n",
      "outlook       372\n",
      "aol           131\n",
      "Name: P_emaildomain, dtype: int64\n",
      "\n",
      "\n",
      "R_emaildomain: 8\n",
      "['gmail' 'anonymous' 'hotmail' 'other' 'outlook' 'yahoo' 'nothing' 'aol'] ....\n",
      "\n",
      "gmail        4156\n",
      "hotmail      3879\n",
      "anonymous    1387\n",
      "other         589\n",
      "yahoo         567\n",
      "outlook       372\n",
      "aol           117\n",
      "nothing         7\n",
      "Name: R_emaildomain, dtype: int64\n",
      "\n",
      "\n",
      "id_31: 9\n",
      "['chrome' 'android' 'edge' 'samsung' 'firefox' 'ie' 'safari' 'opera'\n",
      " 'other'] ....\n",
      "\n",
      "chrome     4801\n",
      "android    3834\n",
      "firefox     615\n",
      "ie          597\n",
      "samsung     391\n",
      "safari      368\n",
      "edge        304\n",
      "other       136\n",
      "opera        28\n",
      "Name: id_31, dtype: int64\n",
      "\n",
      "\n"
     ]
    }
   ],
   "source": [
    "check_categories()"
   ]
  },
  {
   "cell_type": "markdown",
   "id": "protecting-nelson",
   "metadata": {},
   "source": [
    "## replace the last few NaN for the models"
   ]
  },
  {
   "cell_type": "code",
   "execution_count": 21,
   "id": "loved-forth",
   "metadata": {
    "ExecuteTime": {
     "end_time": "2021-04-30T14:30:43.680176Z",
     "start_time": "2021-04-30T14:30:43.638385Z"
    }
   },
   "outputs": [],
   "source": [
    "imp = SimpleImputer(missing_values=np.nan, strategy='most_frequent')\n",
    "imp.fit(train[not_num_cols])\n",
    "train[not_num_cols] = imp.transform(train[not_num_cols])"
   ]
  },
  {
   "cell_type": "code",
   "execution_count": 22,
   "id": "logical-columbia",
   "metadata": {
    "ExecuteTime": {
     "end_time": "2021-04-30T14:30:43.692787Z",
     "start_time": "2021-04-30T14:30:43.681590Z"
    }
   },
   "outputs": [
    {
     "name": "stdout",
     "output_type": "stream",
     "text": [
      "(11074, 53)\n"
     ]
    }
   ],
   "source": [
    "train.to_pickle(\"train_beforeOneHotEncoder.pkl\")\n",
    "# train = pd.read_pickle(\"train_beforeOneHotEncoder.pkl\")\n",
    "print(train.shape)"
   ]
  },
  {
   "cell_type": "code",
   "execution_count": 23,
   "id": "numerical-house",
   "metadata": {
    "ExecuteTime": {
     "end_time": "2021-04-30T14:30:43.699294Z",
     "start_time": "2021-04-30T14:30:43.694333Z"
    }
   },
   "outputs": [],
   "source": [
    "train_hot_categories = {}\n",
    "def onehot(df, col, categories=None):\n",
    "    print(\"using\", col, categories)\n",
    "    print(\"unique values:\", df[col].unique().tolist())\n",
    "    if categories:\n",
    "        enc = OneHotEncoder(sparse=False, categories=(categories,), handle_unknown=\"ignore\")\n",
    "    else:\n",
    "        enc = OneHotEncoder(sparse=False, handle_unknown=\"ignore\")\n",
    "    array_hot_encoded = enc.fit_transform(df[[col]])\n",
    "    print(\"get_feature_names:\", enc.get_feature_names([col]))\n",
    "    print(\"categories_:\", enc.categories_)\n",
    "    train_hot_categories[col] = list(enc.categories_[0])\n",
    "    hot_array = pd.DataFrame(array_hot_encoded, columns=enc.get_feature_names([col]))\n",
    "    print(\"hot_array.columns\", hot_array.columns)\n",
    "    return pd.concat([df.drop(columns=[col]).reset_index(drop=True), hot_array], axis=1)"
   ]
  },
  {
   "cell_type": "code",
   "execution_count": 24,
   "id": "light-philosophy",
   "metadata": {
    "ExecuteTime": {
     "end_time": "2021-04-30T14:30:44.011763Z",
     "start_time": "2021-04-30T14:30:43.700789Z"
    }
   },
   "outputs": [
    {
     "name": "stdout",
     "output_type": "stream",
     "text": [
      "using ProductCD ['C', 'R', 'H']\n",
      "unique values: ['C', 'R', 'H']\n",
      "get_feature_names: ['ProductCD_C' 'ProductCD_R' 'ProductCD_H']\n",
      "categories_: [array(['C', 'R', 'H'], dtype=object)]\n",
      "hot_array.columns Index(['ProductCD_C', 'ProductCD_R', 'ProductCD_H'], dtype='object')\n",
      "using card4 ['mastercard', 'visa', 'american express', 'discover']\n",
      "unique values: ['mastercard', 'visa', 'american express', 'discover']\n",
      "get_feature_names: ['card4_mastercard' 'card4_visa' 'card4_american express' 'card4_discover']\n",
      "categories_: [array(['mastercard', 'visa', 'american express', 'discover'], dtype=object)]\n",
      "hot_array.columns Index(['card4_mastercard', 'card4_visa', 'card4_american express',\n",
      "       'card4_discover'],\n",
      "      dtype='object')\n",
      "using card6 ['credit', 'debit', 'charge card']\n",
      "unique values: ['credit', 'debit', 'charge card']\n",
      "get_feature_names: ['card6_credit' 'card6_debit' 'card6_charge card']\n",
      "categories_: [array(['credit', 'debit', 'charge card'], dtype=object)]\n",
      "hot_array.columns Index(['card6_credit', 'card6_debit', 'card6_charge card'], dtype='object')\n",
      "using P_emaildomain ['gmail', 'anonymous', 'hotmail', 'other', 'outlook', 'yahoo', 'aol']\n",
      "unique values: ['gmail', 'anonymous', 'hotmail', 'other', 'outlook', 'yahoo', 'aol']\n",
      "get_feature_names: ['P_emaildomain_gmail' 'P_emaildomain_anonymous' 'P_emaildomain_hotmail'\n",
      " 'P_emaildomain_other' 'P_emaildomain_outlook' 'P_emaildomain_yahoo'\n",
      " 'P_emaildomain_aol']\n",
      "categories_: [array(['gmail', 'anonymous', 'hotmail', 'other', 'outlook', 'yahoo',\n",
      "       'aol'], dtype=object)]\n",
      "hot_array.columns Index(['P_emaildomain_gmail', 'P_emaildomain_anonymous',\n",
      "       'P_emaildomain_hotmail', 'P_emaildomain_other', 'P_emaildomain_outlook',\n",
      "       'P_emaildomain_yahoo', 'P_emaildomain_aol'],\n",
      "      dtype='object')\n",
      "using R_emaildomain ['gmail', 'anonymous', 'hotmail', 'other', 'outlook', 'yahoo', 'nothing', 'aol']\n",
      "unique values: ['gmail', 'anonymous', 'hotmail', 'other', 'outlook', 'yahoo', 'nothing', 'aol']\n",
      "get_feature_names: ['R_emaildomain_gmail' 'R_emaildomain_anonymous' 'R_emaildomain_hotmail'\n",
      " 'R_emaildomain_other' 'R_emaildomain_outlook' 'R_emaildomain_yahoo'\n",
      " 'R_emaildomain_nothing' 'R_emaildomain_aol']\n",
      "categories_: [array(['gmail', 'anonymous', 'hotmail', 'other', 'outlook', 'yahoo',\n",
      "       'nothing', 'aol'], dtype=object)]\n",
      "hot_array.columns Index(['R_emaildomain_gmail', 'R_emaildomain_anonymous',\n",
      "       'R_emaildomain_hotmail', 'R_emaildomain_other', 'R_emaildomain_outlook',\n",
      "       'R_emaildomain_yahoo', 'R_emaildomain_nothing', 'R_emaildomain_aol'],\n",
      "      dtype='object')\n",
      "using M4 ['M0', 'M2', 'M1']\n",
      "unique values: ['M0', 'M2', 'M1']\n",
      "get_feature_names: ['M4_M0' 'M4_M2' 'M4_M1']\n",
      "categories_: [array(['M0', 'M2', 'M1'], dtype=object)]\n",
      "hot_array.columns Index(['M4_M0', 'M4_M2', 'M4_M1'], dtype='object')\n",
      "using id_12 ['NotFound', 'Found']\n",
      "unique values: ['NotFound', 'Found']\n",
      "get_feature_names: ['id_12_NotFound' 'id_12_Found']\n",
      "categories_: [array(['NotFound', 'Found'], dtype=object)]\n",
      "hot_array.columns Index(['id_12_NotFound', 'id_12_Found'], dtype='object')\n",
      "using id_15 ['Found', 'New', 'Unknown']\n",
      "unique values: ['Found', 'New', 'Unknown']\n",
      "get_feature_names: ['id_15_Found' 'id_15_New' 'id_15_Unknown']\n",
      "categories_: [array(['Found', 'New', 'Unknown'], dtype=object)]\n",
      "hot_array.columns Index(['id_15_Found', 'id_15_New', 'id_15_Unknown'], dtype='object')\n",
      "using id_16 ['Found', 'NotFound']\n",
      "unique values: ['Found', 'NotFound']\n",
      "get_feature_names: ['id_16_Found' 'id_16_NotFound']\n",
      "categories_: [array(['Found', 'NotFound'], dtype=object)]\n",
      "hot_array.columns Index(['id_16_Found', 'id_16_NotFound'], dtype='object')\n",
      "using id_28 ['Found', 'New']\n",
      "unique values: ['Found', 'New']\n",
      "get_feature_names: ['id_28_Found' 'id_28_New']\n",
      "categories_: [array(['Found', 'New'], dtype=object)]\n",
      "hot_array.columns Index(['id_28_Found', 'id_28_New'], dtype='object')\n",
      "using id_29 ['Found', 'NotFound']\n",
      "unique values: ['Found', 'NotFound']\n",
      "get_feature_names: ['id_29_Found' 'id_29_NotFound']\n",
      "categories_: [array(['Found', 'NotFound'], dtype=object)]\n",
      "hot_array.columns Index(['id_29_Found', 'id_29_NotFound'], dtype='object')\n",
      "using id_31 ['chrome', 'android', 'edge', 'samsung', 'firefox', 'ie', 'safari', 'opera', 'other']\n",
      "unique values: ['chrome', 'android', 'edge', 'samsung', 'firefox', 'ie', 'safari', 'opera', 'other']\n",
      "get_feature_names: ['id_31_chrome' 'id_31_android' 'id_31_edge' 'id_31_samsung'\n",
      " 'id_31_firefox' 'id_31_ie' 'id_31_safari' 'id_31_opera' 'id_31_other']\n",
      "categories_: [array(['chrome', 'android', 'edge', 'samsung', 'firefox', 'ie', 'safari',\n",
      "       'opera', 'other'], dtype=object)]\n",
      "hot_array.columns Index(['id_31_chrome', 'id_31_android', 'id_31_edge', 'id_31_samsung',\n",
      "       'id_31_firefox', 'id_31_ie', 'id_31_safari', 'id_31_opera',\n",
      "       'id_31_other'],\n",
      "      dtype='object')\n",
      "using id_35 ['F', 'T']\n",
      "unique values: ['F', 'T']\n",
      "get_feature_names: ['id_35_F' 'id_35_T']\n",
      "categories_: [array(['F', 'T'], dtype=object)]\n",
      "hot_array.columns Index(['id_35_F', 'id_35_T'], dtype='object')\n",
      "using id_36 ['F', 'T']\n",
      "unique values: ['F', 'T']\n",
      "get_feature_names: ['id_36_F' 'id_36_T']\n",
      "categories_: [array(['F', 'T'], dtype=object)]\n",
      "hot_array.columns Index(['id_36_F', 'id_36_T'], dtype='object')\n",
      "using id_37 ['T', 'F']\n",
      "unique values: ['T', 'F']\n",
      "get_feature_names: ['id_37_T' 'id_37_F']\n",
      "categories_: [array(['T', 'F'], dtype=object)]\n",
      "hot_array.columns Index(['id_37_T', 'id_37_F'], dtype='object')\n",
      "using id_38 ['T', 'F']\n",
      "unique values: ['T', 'F']\n",
      "get_feature_names: ['id_38_T' 'id_38_F']\n",
      "categories_: [array(['T', 'F'], dtype=object)]\n",
      "hot_array.columns Index(['id_38_T', 'id_38_F'], dtype='object')\n",
      "using DeviceType ['desktop', 'mobile']\n",
      "unique values: ['desktop', 'mobile']\n",
      "get_feature_names: ['DeviceType_desktop' 'DeviceType_mobile']\n",
      "categories_: [array(['desktop', 'mobile'], dtype=object)]\n",
      "hot_array.columns Index(['DeviceType_desktop', 'DeviceType_mobile'], dtype='object')\n",
      "using DeviceInfo ['other', 'nothing', 'rv', 'moto']\n",
      "unique values: ['other', 'nothing', 'rv', 'moto']\n",
      "get_feature_names: ['DeviceInfo_other' 'DeviceInfo_nothing' 'DeviceInfo_rv' 'DeviceInfo_moto']\n",
      "categories_: [array(['other', 'nothing', 'rv', 'moto'], dtype=object)]\n",
      "hot_array.columns Index(['DeviceInfo_other', 'DeviceInfo_nothing', 'DeviceInfo_rv',\n",
      "       'DeviceInfo_moto'],\n",
      "      dtype='object')\n"
     ]
    }
   ],
   "source": [
    "train.reset_index(inplace=True)\n",
    "for col in not_num_cols:\n",
    "    cates = train[col].unique().tolist()\n",
    "    train = onehot(df=train, col=col, categories=cates)"
   ]
  },
  {
   "cell_type": "code",
   "execution_count": 25,
   "id": "limited-coaching",
   "metadata": {
    "ExecuteTime": {
     "end_time": "2021-04-30T14:30:44.025451Z",
     "start_time": "2021-04-30T14:30:44.018810Z"
    }
   },
   "outputs": [],
   "source": [
    "train.set_index(\"TransactionID\", inplace=True)"
   ]
  },
  {
   "cell_type": "code",
   "execution_count": 26,
   "id": "pending-perfume",
   "metadata": {
    "ExecuteTime": {
     "end_time": "2021-04-30T14:30:44.060855Z",
     "start_time": "2021-04-30T14:30:44.027358Z"
    }
   },
   "outputs": [
    {
     "name": "stdout",
     "output_type": "stream",
     "text": [
      "(11074, 97)\n"
     ]
    }
   ],
   "source": [
    "train.to_pickle(\"train_beforeKNeighborsClassifier.pkl\")\n",
    "print(train.shape)"
   ]
  },
  {
   "cell_type": "code",
   "execution_count": 27,
   "id": "humanitarian-drilling",
   "metadata": {
    "ExecuteTime": {
     "end_time": "2021-04-30T14:30:44.078953Z",
     "start_time": "2021-04-30T14:30:44.064251Z"
    }
   },
   "outputs": [
    {
     "data": {
      "text/plain": [
       "TransactionID\n",
       "2987010    0\n",
       "2987130    0\n",
       "2987252    0\n",
       "2987258    0\n",
       "2987328    0\n",
       "          ..\n",
       "3577365    0\n",
       "3577469    0\n",
       "3577486    0\n",
       "3577499    0\n",
       "3577521    0\n",
       "Name: isFraud, Length: 11074, dtype: int64"
      ]
     },
     "execution_count": 27,
     "metadata": {},
     "output_type": "execute_result"
    }
   ],
   "source": [
    "y = train['isFraud']   #target classes\n",
    "X = train.drop('isFraud', axis=1)\n",
    "y"
   ]
  },
  {
   "cell_type": "code",
   "execution_count": 28,
   "id": "following-encoding",
   "metadata": {
    "ExecuteTime": {
     "end_time": "2021-04-30T14:30:45.878263Z",
     "start_time": "2021-04-30T14:30:44.084489Z"
    }
   },
   "outputs": [
    {
     "name": "stdout",
     "output_type": "stream",
     "text": [
      "5x CV Accuracy kNNs: 0.94\n"
     ]
    },
    {
     "data": {
      "text/plain": [
       "array([0.94176072, 0.93589165, 0.93950339, 0.93634312, 0.93179765])"
      ]
     },
     "execution_count": 28,
     "metadata": {},
     "output_type": "execute_result"
    }
   ],
   "source": [
    "kNN = KNeighborsClassifier(n_neighbors=3)  \n",
    "kNN_scores = cross_val_score(kNN, X, y, cv=5)\n",
    "print(\"5x CV Accuracy kNNs: {0:.2f}\".format(kNN_scores.mean())) \n",
    "kNN_scores\n"
   ]
  },
  {
   "cell_type": "code",
   "execution_count": null,
   "id": "seven-trial",
   "metadata": {},
   "outputs": [],
   "source": []
  },
  {
   "cell_type": "markdown",
   "id": "varying-costa",
   "metadata": {},
   "source": [
    "# Now for Test"
   ]
  },
  {
   "cell_type": "code",
   "execution_count": 29,
   "id": "horizontal-endorsement",
   "metadata": {
    "ExecuteTime": {
     "end_time": "2021-04-30T14:30:59.697203Z",
     "start_time": "2021-04-30T14:30:45.880221Z"
    }
   },
   "outputs": [],
   "source": [
    "test_identity = pd.read_csv('data/ieee-fraud-detection/test_identity.csv')\n",
    "test_transaction = pd.read_csv('data/ieee-fraud-detection/test_transaction.csv')"
   ]
  },
  {
   "cell_type": "code",
   "execution_count": 30,
   "id": "israeli-amendment",
   "metadata": {
    "ExecuteTime": {
     "end_time": "2021-04-30T14:31:24.886993Z",
     "start_time": "2021-04-30T14:30:59.698889Z"
    },
    "pycharm": {
     "name": "#%%\n"
    }
   },
   "outputs": [
    {
     "data": {
      "text/plain": [
       "(506691, 94)"
      ]
     },
     "execution_count": 30,
     "metadata": {},
     "output_type": "execute_result"
    }
   ],
   "source": [
    "test = pd.merge(test_transaction, test_identity, on='TransactionID', how='left')\n",
    "test = test.drop(columns=[x for x in test.columns if x.startswith(\"V\")])\n",
    "test.shape"
   ]
  },
  {
   "cell_type": "code",
   "execution_count": 31,
   "id": "fundamental-falls",
   "metadata": {
    "ExecuteTime": {
     "end_time": "2021-04-30T14:31:27.985690Z",
     "start_time": "2021-04-30T14:31:24.927526Z"
    },
    "pycharm": {
     "name": "#%%\n"
    }
   },
   "outputs": [
    {
     "data": {
      "text/plain": [
       "8207"
      ]
     },
     "execution_count": 31,
     "metadata": {},
     "output_type": "execute_result"
    }
   ],
   "source": [
    "del test_identity, test_transaction\n",
    "gc.collect()"
   ]
  },
  {
   "cell_type": "markdown",
   "id": "violent-bonus",
   "metadata": {},
   "source": [
    "### need to set value for the test set"
   ]
  },
  {
   "cell_type": "code",
   "execution_count": 32,
   "id": "flush-pathology",
   "metadata": {
    "ExecuteTime": {
     "end_time": "2021-04-30T14:31:28.053205Z",
     "start_time": "2021-04-30T14:31:27.988800Z"
    },
    "pycharm": {
     "name": "#%%\n"
    }
   },
   "outputs": [],
   "source": [
    "test[\"isFraud\"] = \"test\""
   ]
  },
  {
   "cell_type": "code",
   "execution_count": 33,
   "id": "selective-simple",
   "metadata": {
    "ExecuteTime": {
     "end_time": "2021-04-30T14:31:28.072448Z",
     "start_time": "2021-04-30T14:31:28.057134Z"
    },
    "pycharm": {
     "name": "#%%\n"
    }
   },
   "outputs": [],
   "source": [
    "test.columns=test.columns.str.replace('-','_')"
   ]
  },
  {
   "cell_type": "code",
   "execution_count": 34,
   "id": "associate-consolidation",
   "metadata": {
    "ExecuteTime": {
     "end_time": "2021-04-30T14:31:33.338338Z",
     "start_time": "2021-04-30T14:31:28.077035Z"
    },
    "pycharm": {
     "name": "#%%\n"
    }
   },
   "outputs": [
    {
     "name": "stdout",
     "output_type": "stream",
     "text": [
      "['TransactionID', 'TransactionDT', 'TransactionAmt', 'ProductCD', 'card1', 'card2', 'card3', 'card4', 'card5', 'card6', 'addr1', 'addr2', 'dist1', 'dist2', 'P_emaildomain', 'R_emaildomain', 'C1', 'C2', 'C3', 'C4', 'C5', 'C6', 'C7', 'C8', 'C9', 'C10', 'C11', 'C12', 'C13', 'C14', 'D1', 'D2', 'D3', 'D4', 'D5', 'D6', 'D7', 'D8', 'D9', 'D10', 'D11', 'D12', 'D13', 'D14', 'D15', 'M1', 'M2', 'M3', 'M4', 'M5', 'M6', 'M7', 'M8', 'M9', 'id_01', 'id_02', 'id_03', 'id_04', 'id_05', 'id_06', 'id_07', 'id_08', 'id_09', 'id_10', 'id_11', 'id_12', 'id_13', 'id_14', 'id_15', 'id_16', 'id_17', 'id_18', 'id_19', 'id_20', 'id_21', 'id_22', 'id_23', 'id_24', 'id_25', 'id_26', 'id_27', 'id_28', 'id_29', 'id_30', 'id_31', 'id_32', 'id_33', 'id_34', 'id_35', 'id_36', 'id_37', 'id_38', 'DeviceType', 'DeviceInfo', 'isFraud']\n"
     ]
    }
   ],
   "source": [
    "print(list(test.columns))\n",
    "test.to_pickle(\"test.pkl\")"
   ]
  },
  {
   "cell_type": "code",
   "execution_count": 35,
   "id": "driving-helping",
   "metadata": {
    "ExecuteTime": {
     "end_time": "2021-04-30T14:31:34.037324Z",
     "start_time": "2021-04-30T14:31:33.342645Z"
    }
   },
   "outputs": [
    {
     "name": "stdout",
     "output_type": "stream",
     "text": [
      "dropping these: ['id_24', 'id_25', 'id_08', 'id_07', 'id_21', 'id_26', 'id_22', 'id_23', 'id_27', 'dist2', 'D7', 'id_18', 'D13', 'D14', 'D12', 'id_03', 'id_04', 'D6', 'id_33', 'D8', 'id_09', 'id_10', 'D9', 'id_30', 'id_32', 'id_34', 'id_14', 'D11', 'dist1', 'M5', 'M3', 'M2', 'M1', 'M8', 'M9', 'M7', 'M6', 'addr2', 'addr1', 'C3', 'C5', 'C9']\n",
      "(506691, 95)\n",
      "(506691, 53)\n"
     ]
    }
   ],
   "source": [
    "print(\"dropping these:\", columns_dropped)\n",
    "print(test.shape)\n",
    "test.drop(columns=columns_dropped, inplace=True)\n",
    "print(test.shape)"
   ]
  },
  {
   "cell_type": "code",
   "execution_count": 36,
   "id": "comparative-yugoslavia",
   "metadata": {
    "ExecuteTime": {
     "end_time": "2021-04-30T14:31:40.660454Z",
     "start_time": "2021-04-30T14:31:34.039196Z"
    }
   },
   "outputs": [],
   "source": [
    "test['is_email_same'] = test.apply(lambda x: x['P_emaildomain']== x['R_emaildomain'] and x['R_emaildomain'] != np.nan, axis=1)"
   ]
  },
  {
   "cell_type": "code",
   "execution_count": 37,
   "id": "artificial-helping",
   "metadata": {
    "ExecuteTime": {
     "end_time": "2021-04-30T14:31:46.212529Z",
     "start_time": "2021-04-30T14:31:40.661705Z"
    }
   },
   "outputs": [
    {
     "data": {
      "text/plain": [
       "nothing    391634\n",
       "other      110902\n",
       "rv           2812\n",
       "moto         1343\n",
       "Name: DeviceInfo, dtype: int64"
      ]
     },
     "execution_count": 37,
     "metadata": {},
     "output_type": "execute_result"
    }
   ],
   "source": [
    "test.loc[test['P_emaildomain'].isna(), 'P_emaildomain'] = \"nothing\"\n",
    "for i in email_repl:\n",
    "    test.loc[test['P_emaildomain'].str.contains(i), 'P_emaildomain'] = i\n",
    "test.loc[~test['P_emaildomain'].isin(email_repl), 'P_emaildomain'] = \"other\"\n",
    "\n",
    "test.loc[test['R_emaildomain'].isna(), 'R_emaildomain'] = \"nothing\"\n",
    "for i in email_repl:\n",
    "    test.loc[test['R_emaildomain'].str.contains(i), 'R_emaildomain'] = i\n",
    "test.loc[~test['R_emaildomain'].isin(email_repl), 'R_emaildomain'] = \"other\"\n",
    "\n",
    "test.loc[test['id_31'].isna(), 'id_31'] = \"nothing\"\n",
    "for i in id_31_repl:\n",
    "    test.loc[test['id_31'].str.contains(i), 'id_31'] = i\n",
    "test.loc[~test['id_31'].isin(id_31_repl), 'id_31'] = \"other\"\n",
    "\n",
    "test.loc[test['DeviceInfo'].isna(), 'DeviceInfo'] = \"nothing\"\n",
    "for i in DeviceInfo_repl:\n",
    "    test.loc[test['DeviceInfo'].str.contains(i), 'DeviceInfo'] = i\n",
    "test.loc[~test['DeviceInfo'].isin(DeviceInfo_repl), 'DeviceInfo'] = \"other\"\n",
    "test['DeviceInfo'].value_counts().head(15)"
   ]
  },
  {
   "cell_type": "code",
   "execution_count": 38,
   "id": "reported-storm",
   "metadata": {
    "ExecuteTime": {
     "end_time": "2021-04-30T14:31:48.672085Z",
     "start_time": "2021-04-30T14:31:46.214508Z"
    }
   },
   "outputs": [],
   "source": [
    "imp = SimpleImputer(strategy='constant', fill_value='missing')\n",
    "imp.fit(test[not_num_cols])\n",
    "test[not_num_cols] = imp.transform(test[not_num_cols])"
   ]
  },
  {
   "cell_type": "code",
   "execution_count": 39,
   "id": "multiple-uniform",
   "metadata": {
    "ExecuteTime": {
     "end_time": "2021-04-30T14:31:48.681049Z",
     "start_time": "2021-04-30T14:31:48.674200Z"
    }
   },
   "outputs": [
    {
     "data": {
      "text/plain": [
       "{'ProductCD': ['C', 'R', 'H'],\n",
       " 'card4': ['mastercard', 'visa', 'american express', 'discover'],\n",
       " 'card6': ['credit', 'debit', 'charge card'],\n",
       " 'P_emaildomain': ['gmail',\n",
       "  'anonymous',\n",
       "  'hotmail',\n",
       "  'other',\n",
       "  'outlook',\n",
       "  'yahoo',\n",
       "  'aol'],\n",
       " 'R_emaildomain': ['gmail',\n",
       "  'anonymous',\n",
       "  'hotmail',\n",
       "  'other',\n",
       "  'outlook',\n",
       "  'yahoo',\n",
       "  'nothing',\n",
       "  'aol'],\n",
       " 'M4': ['M0', 'M2', 'M1'],\n",
       " 'id_12': ['NotFound', 'Found'],\n",
       " 'id_15': ['Found', 'New', 'Unknown'],\n",
       " 'id_16': ['Found', 'NotFound'],\n",
       " 'id_28': ['Found', 'New'],\n",
       " 'id_29': ['Found', 'NotFound'],\n",
       " 'id_31': ['chrome',\n",
       "  'android',\n",
       "  'edge',\n",
       "  'samsung',\n",
       "  'firefox',\n",
       "  'ie',\n",
       "  'safari',\n",
       "  'opera',\n",
       "  'other'],\n",
       " 'id_35': ['F', 'T'],\n",
       " 'id_36': ['F', 'T'],\n",
       " 'id_37': ['T', 'F'],\n",
       " 'id_38': ['T', 'F'],\n",
       " 'DeviceType': ['desktop', 'mobile'],\n",
       " 'DeviceInfo': ['other', 'nothing', 'rv', 'moto']}"
      ]
     },
     "execution_count": 39,
     "metadata": {},
     "output_type": "execute_result"
    }
   ],
   "source": [
    "train_hot_categories"
   ]
  },
  {
   "cell_type": "code",
   "execution_count": 40,
   "id": "permanent-testament",
   "metadata": {
    "ExecuteTime": {
     "end_time": "2021-04-30T14:32:02.201683Z",
     "start_time": "2021-04-30T14:31:48.682842Z"
    }
   },
   "outputs": [
    {
     "name": "stdout",
     "output_type": "stream",
     "text": [
      "using ProductCD ['C', 'R', 'H']\n",
      "unique values: ['W', 'C', 'S', 'H', 'R']\n",
      "get_feature_names: ['ProductCD_C' 'ProductCD_R' 'ProductCD_H']\n",
      "categories_: [array(['C', 'R', 'H'], dtype=object)]\n",
      "hot_array.columns Index(['ProductCD_C', 'ProductCD_R', 'ProductCD_H'], dtype='object')\n",
      "using card4 ['mastercard', 'visa', 'american express', 'discover']\n",
      "unique values: ['visa', 'mastercard', 'american express', 'discover', 'missing']\n",
      "get_feature_names: ['card4_mastercard' 'card4_visa' 'card4_american express' 'card4_discover']\n",
      "categories_: [array(['mastercard', 'visa', 'american express', 'discover'], dtype=object)]\n",
      "hot_array.columns Index(['card4_mastercard', 'card4_visa', 'card4_american express',\n",
      "       'card4_discover'],\n",
      "      dtype='object')\n",
      "using card6 ['credit', 'debit', 'charge card']\n",
      "unique values: ['debit', 'credit', 'missing', 'charge card']\n",
      "get_feature_names: ['card6_credit' 'card6_debit' 'card6_charge card']\n",
      "categories_: [array(['credit', 'debit', 'charge card'], dtype=object)]\n",
      "hot_array.columns Index(['card6_credit', 'card6_debit', 'card6_charge card'], dtype='object')\n",
      "using P_emaildomain ['gmail', 'anonymous', 'hotmail', 'other', 'outlook', 'yahoo', 'aol']\n",
      "unique values: ['gmail', 'aol', 'hotmail', 'nothing', 'other', 'yahoo', 'anonymous', 'outlook', 'protonmail']\n",
      "get_feature_names: ['P_emaildomain_gmail' 'P_emaildomain_anonymous' 'P_emaildomain_hotmail'\n",
      " 'P_emaildomain_other' 'P_emaildomain_outlook' 'P_emaildomain_yahoo'\n",
      " 'P_emaildomain_aol']\n",
      "categories_: [array(['gmail', 'anonymous', 'hotmail', 'other', 'outlook', 'yahoo',\n",
      "       'aol'], dtype=object)]\n",
      "hot_array.columns Index(['P_emaildomain_gmail', 'P_emaildomain_anonymous',\n",
      "       'P_emaildomain_hotmail', 'P_emaildomain_other', 'P_emaildomain_outlook',\n",
      "       'P_emaildomain_yahoo', 'P_emaildomain_aol'],\n",
      "      dtype='object')\n",
      "using R_emaildomain ['gmail', 'anonymous', 'hotmail', 'other', 'outlook', 'yahoo', 'nothing', 'aol']\n",
      "unique values: ['nothing', 'hotmail', 'gmail', 'anonymous', 'other', 'yahoo', 'aol', 'outlook', 'protonmail']\n",
      "get_feature_names: ['R_emaildomain_gmail' 'R_emaildomain_anonymous' 'R_emaildomain_hotmail'\n",
      " 'R_emaildomain_other' 'R_emaildomain_outlook' 'R_emaildomain_yahoo'\n",
      " 'R_emaildomain_nothing' 'R_emaildomain_aol']\n",
      "categories_: [array(['gmail', 'anonymous', 'hotmail', 'other', 'outlook', 'yahoo',\n",
      "       'nothing', 'aol'], dtype=object)]\n",
      "hot_array.columns Index(['R_emaildomain_gmail', 'R_emaildomain_anonymous',\n",
      "       'R_emaildomain_hotmail', 'R_emaildomain_other', 'R_emaildomain_outlook',\n",
      "       'R_emaildomain_yahoo', 'R_emaildomain_nothing', 'R_emaildomain_aol'],\n",
      "      dtype='object')\n",
      "using M4 ['M0', 'M2', 'M1']\n",
      "unique values: ['missing', 'M0', 'M1', 'M2']\n",
      "get_feature_names: ['M4_M0' 'M4_M2' 'M4_M1']\n",
      "categories_: [array(['M0', 'M2', 'M1'], dtype=object)]\n",
      "hot_array.columns Index(['M4_M0', 'M4_M2', 'M4_M1'], dtype='object')\n",
      "using id_12 ['NotFound', 'Found']\n",
      "unique values: ['missing', 'NotFound', 'Found']\n",
      "get_feature_names: ['id_12_NotFound' 'id_12_Found']\n",
      "categories_: [array(['NotFound', 'Found'], dtype=object)]\n",
      "hot_array.columns Index(['id_12_NotFound', 'id_12_Found'], dtype='object')\n",
      "using id_15 ['Found', 'New', 'Unknown']\n",
      "unique values: ['missing', 'New', 'Found', 'Unknown']\n",
      "get_feature_names: ['id_15_Found' 'id_15_New' 'id_15_Unknown']\n",
      "categories_: [array(['Found', 'New', 'Unknown'], dtype=object)]\n",
      "hot_array.columns Index(['id_15_Found', 'id_15_New', 'id_15_Unknown'], dtype='object')\n",
      "using id_16 ['Found', 'NotFound']\n",
      "unique values: ['missing', 'NotFound', 'Found']\n",
      "get_feature_names: ['id_16_Found' 'id_16_NotFound']\n",
      "categories_: [array(['Found', 'NotFound'], dtype=object)]\n",
      "hot_array.columns Index(['id_16_Found', 'id_16_NotFound'], dtype='object')\n",
      "using id_28 ['Found', 'New']\n",
      "unique values: ['missing', 'New', 'Found']\n",
      "get_feature_names: ['id_28_Found' 'id_28_New']\n",
      "categories_: [array(['Found', 'New'], dtype=object)]\n",
      "hot_array.columns Index(['id_28_Found', 'id_28_New'], dtype='object')\n",
      "using id_29 ['Found', 'NotFound']\n",
      "unique values: ['missing', 'NotFound', 'Found']\n",
      "get_feature_names: ['id_29_Found' 'id_29_NotFound']\n",
      "categories_: [array(['Found', 'NotFound'], dtype=object)]\n",
      "hot_array.columns Index(['id_29_Found', 'id_29_NotFound'], dtype='object')\n",
      "using id_31 ['chrome', 'android', 'edge', 'samsung', 'firefox', 'ie', 'safari', 'opera', 'other']\n",
      "unique values: ['nothing', 'android', 'ie', 'safari', 'chrome', 'edge', 'firefox', 'samsung', 'other', 'opera']\n",
      "get_feature_names: ['id_31_chrome' 'id_31_android' 'id_31_edge' 'id_31_samsung'\n",
      " 'id_31_firefox' 'id_31_ie' 'id_31_safari' 'id_31_opera' 'id_31_other']\n",
      "categories_: [array(['chrome', 'android', 'edge', 'samsung', 'firefox', 'ie', 'safari',\n",
      "       'opera', 'other'], dtype=object)]\n",
      "hot_array.columns Index(['id_31_chrome', 'id_31_android', 'id_31_edge', 'id_31_samsung',\n",
      "       'id_31_firefox', 'id_31_ie', 'id_31_safari', 'id_31_opera',\n",
      "       'id_31_other'],\n",
      "      dtype='object')\n",
      "using id_35 ['F', 'T']\n",
      "unique values: ['missing', 'F', 'T']\n",
      "get_feature_names: ['id_35_F' 'id_35_T']\n",
      "categories_: [array(['F', 'T'], dtype=object)]\n",
      "hot_array.columns Index(['id_35_F', 'id_35_T'], dtype='object')\n",
      "using id_36 ['F', 'T']\n",
      "unique values: ['missing', 'F', 'T']\n",
      "get_feature_names: ['id_36_F' 'id_36_T']\n",
      "categories_: [array(['F', 'T'], dtype=object)]\n",
      "hot_array.columns Index(['id_36_F', 'id_36_T'], dtype='object')\n",
      "using id_37 ['T', 'F']\n",
      "unique values: ['missing', 'T', 'F']\n",
      "get_feature_names: ['id_37_T' 'id_37_F']\n",
      "categories_: [array(['T', 'F'], dtype=object)]\n",
      "hot_array.columns Index(['id_37_T', 'id_37_F'], dtype='object')\n",
      "using id_38 ['T', 'F']\n",
      "unique values: ['missing', 'F', 'T']\n",
      "get_feature_names: ['id_38_T' 'id_38_F']\n",
      "categories_: [array(['T', 'F'], dtype=object)]\n",
      "hot_array.columns Index(['id_38_T', 'id_38_F'], dtype='object')\n",
      "using DeviceType ['desktop', 'mobile']\n",
      "unique values: ['missing', 'mobile', 'desktop']\n",
      "get_feature_names: ['DeviceType_desktop' 'DeviceType_mobile']\n",
      "categories_: [array(['desktop', 'mobile'], dtype=object)]\n",
      "hot_array.columns Index(['DeviceType_desktop', 'DeviceType_mobile'], dtype='object')\n",
      "using DeviceInfo ['other', 'nothing', 'rv', 'moto']\n",
      "unique values: ['nothing', 'other', 'rv', 'moto']\n",
      "get_feature_names: ['DeviceInfo_other' 'DeviceInfo_nothing' 'DeviceInfo_rv' 'DeviceInfo_moto']\n",
      "categories_: [array(['other', 'nothing', 'rv', 'moto'], dtype=object)]\n",
      "hot_array.columns Index(['DeviceInfo_other', 'DeviceInfo_nothing', 'DeviceInfo_rv',\n",
      "       'DeviceInfo_moto'],\n",
      "      dtype='object')\n"
     ]
    }
   ],
   "source": [
    "test.reset_index(inplace=True)\n",
    "for col in not_num_cols:\n",
    "    test = onehot(df=test, col=str(col), categories=train_hot_categories[col])\n"
   ]
  },
  {
   "cell_type": "code",
   "execution_count": 47,
   "id": "tutorial-hierarchy",
   "metadata": {
    "ExecuteTime": {
     "end_time": "2021-04-30T14:34:13.834849Z",
     "start_time": "2021-04-30T14:34:13.591343Z"
    }
   },
   "outputs": [],
   "source": [
    "test.set_index(\"TransactionID\", inplace=True)\n",
    "test.drop(columns=\"index\", inplace=True)"
   ]
  },
  {
   "cell_type": "code",
   "execution_count": 48,
   "id": "instrumental-harbor",
   "metadata": {
    "ExecuteTime": {
     "end_time": "2021-04-30T14:34:19.416034Z",
     "start_time": "2021-04-30T14:34:19.408273Z"
    }
   },
   "outputs": [
    {
     "data": {
      "text/plain": [
       "True"
      ]
     },
     "execution_count": 48,
     "metadata": {},
     "output_type": "execute_result"
    }
   ],
   "source": [
    "list(test.columns) == list(train.columns)"
   ]
  },
  {
   "cell_type": "code",
   "execution_count": 49,
   "id": "exterior-student",
   "metadata": {
    "ExecuteTime": {
     "end_time": "2021-04-30T14:34:21.943088Z",
     "start_time": "2021-04-30T14:34:21.939726Z"
    }
   },
   "outputs": [
    {
     "data": {
      "text/plain": [
       "[]"
      ]
     },
     "execution_count": 49,
     "metadata": {},
     "output_type": "execute_result"
    }
   ],
   "source": [
    "list(set(list(test.columns)) - set(list(train.columns)))"
   ]
  },
  {
   "cell_type": "code",
   "execution_count": 45,
   "id": "realistic-denver",
   "metadata": {
    "ExecuteTime": {
     "end_time": "2021-04-30T14:32:41.051699Z",
     "start_time": "2021-04-30T14:32:41.039435Z"
    }
   },
   "outputs": [
    {
     "data": {
      "text/plain": [
       "['index',\n",
       " 'TransactionDT',\n",
       " 'TransactionAmt',\n",
       " 'card1',\n",
       " 'card2',\n",
       " 'card3',\n",
       " 'card5',\n",
       " 'C1',\n",
       " 'C2',\n",
       " 'C4',\n",
       " 'C6',\n",
       " 'C7',\n",
       " 'C8',\n",
       " 'C10',\n",
       " 'C11',\n",
       " 'C12',\n",
       " 'C13',\n",
       " 'C14',\n",
       " 'D1',\n",
       " 'D2',\n",
       " 'D3',\n",
       " 'D4',\n",
       " 'D5',\n",
       " 'D10',\n",
       " 'D15',\n",
       " 'id_01',\n",
       " 'id_02',\n",
       " 'id_05',\n",
       " 'id_06',\n",
       " 'id_11',\n",
       " 'id_13',\n",
       " 'id_17',\n",
       " 'id_19',\n",
       " 'id_20',\n",
       " 'isFraud',\n",
       " 'is_email_same',\n",
       " 'ProductCD_C',\n",
       " 'ProductCD_R',\n",
       " 'ProductCD_H',\n",
       " 'card4_mastercard',\n",
       " 'card4_visa',\n",
       " 'card4_american express',\n",
       " 'card4_discover',\n",
       " 'card6_credit',\n",
       " 'card6_debit',\n",
       " 'card6_charge card',\n",
       " 'P_emaildomain_gmail',\n",
       " 'P_emaildomain_anonymous',\n",
       " 'P_emaildomain_hotmail',\n",
       " 'P_emaildomain_other',\n",
       " 'P_emaildomain_outlook',\n",
       " 'P_emaildomain_yahoo',\n",
       " 'P_emaildomain_aol',\n",
       " 'R_emaildomain_gmail',\n",
       " 'R_emaildomain_anonymous',\n",
       " 'R_emaildomain_hotmail',\n",
       " 'R_emaildomain_other',\n",
       " 'R_emaildomain_outlook',\n",
       " 'R_emaildomain_yahoo',\n",
       " 'R_emaildomain_nothing',\n",
       " 'R_emaildomain_aol',\n",
       " 'M4_M0',\n",
       " 'M4_M2',\n",
       " 'M4_M1',\n",
       " 'id_12_NotFound',\n",
       " 'id_12_Found',\n",
       " 'id_15_Found',\n",
       " 'id_15_New',\n",
       " 'id_15_Unknown',\n",
       " 'id_16_Found',\n",
       " 'id_16_NotFound',\n",
       " 'id_28_Found',\n",
       " 'id_28_New',\n",
       " 'id_29_Found',\n",
       " 'id_29_NotFound',\n",
       " 'id_31_chrome',\n",
       " 'id_31_android',\n",
       " 'id_31_edge',\n",
       " 'id_31_samsung',\n",
       " 'id_31_firefox',\n",
       " 'id_31_ie',\n",
       " 'id_31_safari',\n",
       " 'id_31_opera',\n",
       " 'id_31_other',\n",
       " 'id_35_F',\n",
       " 'id_35_T',\n",
       " 'id_36_F',\n",
       " 'id_36_T',\n",
       " 'id_37_T',\n",
       " 'id_37_F',\n",
       " 'id_38_T',\n",
       " 'id_38_F',\n",
       " 'DeviceType_desktop',\n",
       " 'DeviceType_mobile',\n",
       " 'DeviceInfo_other',\n",
       " 'DeviceInfo_nothing',\n",
       " 'DeviceInfo_rv',\n",
       " 'DeviceInfo_moto']"
      ]
     },
     "execution_count": 45,
     "metadata": {},
     "output_type": "execute_result"
    }
   ],
   "source": [
    "list(test.columns)"
   ]
  },
  {
   "cell_type": "code",
   "execution_count": 44,
   "id": "cooked-special",
   "metadata": {
    "ExecuteTime": {
     "end_time": "2021-04-30T14:32:02.232121Z",
     "start_time": "2021-04-30T14:32:02.227226Z"
    }
   },
   "outputs": [
    {
     "data": {
      "text/plain": [
       "['TransactionDT',\n",
       " 'TransactionAmt',\n",
       " 'card1',\n",
       " 'card2',\n",
       " 'card3',\n",
       " 'card5',\n",
       " 'C1',\n",
       " 'C2',\n",
       " 'C4',\n",
       " 'C6',\n",
       " 'C7',\n",
       " 'C8',\n",
       " 'C10',\n",
       " 'C11',\n",
       " 'C12',\n",
       " 'C13',\n",
       " 'C14',\n",
       " 'D1',\n",
       " 'D2',\n",
       " 'D3',\n",
       " 'D4',\n",
       " 'D5',\n",
       " 'D10',\n",
       " 'D15',\n",
       " 'id_01',\n",
       " 'id_02',\n",
       " 'id_05',\n",
       " 'id_06',\n",
       " 'id_11',\n",
       " 'id_13',\n",
       " 'id_17',\n",
       " 'id_19',\n",
       " 'id_20',\n",
       " 'isFraud',\n",
       " 'is_email_same',\n",
       " 'ProductCD_C',\n",
       " 'ProductCD_R',\n",
       " 'ProductCD_H',\n",
       " 'card4_mastercard',\n",
       " 'card4_visa',\n",
       " 'card4_american express',\n",
       " 'card4_discover',\n",
       " 'card6_credit',\n",
       " 'card6_debit',\n",
       " 'card6_charge card',\n",
       " 'P_emaildomain_gmail',\n",
       " 'P_emaildomain_anonymous',\n",
       " 'P_emaildomain_hotmail',\n",
       " 'P_emaildomain_other',\n",
       " 'P_emaildomain_outlook',\n",
       " 'P_emaildomain_yahoo',\n",
       " 'P_emaildomain_aol',\n",
       " 'R_emaildomain_gmail',\n",
       " 'R_emaildomain_anonymous',\n",
       " 'R_emaildomain_hotmail',\n",
       " 'R_emaildomain_other',\n",
       " 'R_emaildomain_outlook',\n",
       " 'R_emaildomain_yahoo',\n",
       " 'R_emaildomain_nothing',\n",
       " 'R_emaildomain_aol',\n",
       " 'M4_M0',\n",
       " 'M4_M2',\n",
       " 'M4_M1',\n",
       " 'id_12_NotFound',\n",
       " 'id_12_Found',\n",
       " 'id_15_Found',\n",
       " 'id_15_New',\n",
       " 'id_15_Unknown',\n",
       " 'id_16_Found',\n",
       " 'id_16_NotFound',\n",
       " 'id_28_Found',\n",
       " 'id_28_New',\n",
       " 'id_29_Found',\n",
       " 'id_29_NotFound',\n",
       " 'id_31_chrome',\n",
       " 'id_31_android',\n",
       " 'id_31_edge',\n",
       " 'id_31_samsung',\n",
       " 'id_31_firefox',\n",
       " 'id_31_ie',\n",
       " 'id_31_safari',\n",
       " 'id_31_opera',\n",
       " 'id_31_other',\n",
       " 'id_35_F',\n",
       " 'id_35_T',\n",
       " 'id_36_F',\n",
       " 'id_36_T',\n",
       " 'id_37_T',\n",
       " 'id_37_F',\n",
       " 'id_38_T',\n",
       " 'id_38_F',\n",
       " 'DeviceType_desktop',\n",
       " 'DeviceType_mobile',\n",
       " 'DeviceInfo_other',\n",
       " 'DeviceInfo_nothing',\n",
       " 'DeviceInfo_rv',\n",
       " 'DeviceInfo_moto']"
      ]
     },
     "execution_count": 44,
     "metadata": {},
     "output_type": "execute_result"
    }
   ],
   "source": [
    "list(train.columns)"
   ]
  }
 ],
 "metadata": {
  "kernelspec": {
   "display_name": "Python 3",
   "language": "python",
   "name": "python3"
  },
  "language_info": {
   "codemirror_mode": {
    "name": "ipython",
    "version": 3
   },
   "file_extension": ".py",
   "mimetype": "text/x-python",
   "name": "python",
   "nbconvert_exporter": "python",
   "pygments_lexer": "ipython3",
   "version": "3.8.5"
  }
 },
 "nbformat": 4,
 "nbformat_minor": 5
}
