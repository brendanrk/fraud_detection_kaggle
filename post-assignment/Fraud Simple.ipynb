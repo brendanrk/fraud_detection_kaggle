{
 "cells": [
  {
   "cell_type": "code",
   "execution_count": 1,
   "id": "dde7fe8f",
   "metadata": {
    "ExecuteTime": {
     "end_time": "2021-05-06T16:12:39.970939Z",
     "start_time": "2021-05-06T16:12:38.377605Z"
    }
   },
   "outputs": [],
   "source": [
    "import pandas as pd\n",
    "import numpy as np\n",
    "import datetime as dt\n",
    "import gc\n",
    "import matplotlib.pyplot as plt  \n",
    "from sklearn.neighbors import KNeighborsClassifier\n",
    "from sklearn.impute import SimpleImputer, KNNImputer\n",
    "from sklearn.pipeline import Pipeline\n",
    "from sklearn.model_selection import train_test_split\n",
    "from sklearn.metrics import confusion_matrix, accuracy_score, plot_roc_curve, roc_auc_score\n",
    "from sklearn.preprocessing import StandardScaler\n",
    "from sklearn.preprocessing import OneHotEncoder, OrdinalEncoder, LabelEncoder\n",
    "from sklearn.model_selection import cross_val_score\n",
    "from sklearn.model_selection import GridSearchCV\n",
    "from sklearn.compose import make_column_selector \n",
    "from sklearn.compose import ColumnTransformer\n",
    "from sklearn.model_selection import ShuffleSplit\n",
    "from sklearn.decomposition import PCA\n",
    "from sklearn.neural_network import MLPClassifier\n",
    "from sklearn.svm import SVC\n",
    "from sklearn.tree import DecisionTreeClassifier\n",
    "from sklearn.linear_model import LogisticRegression"
   ]
  },
  {
   "cell_type": "code",
   "execution_count": 2,
   "id": "510f8e41",
   "metadata": {
    "ExecuteTime": {
     "end_time": "2021-05-06T16:12:39.975874Z",
     "start_time": "2021-05-06T16:12:39.972600Z"
    }
   },
   "outputs": [],
   "source": [
    "skip_start = True"
   ]
  },
  {
   "cell_type": "markdown",
   "id": "2f6b87ee",
   "metadata": {},
   "source": [
    "# Import data"
   ]
  },
  {
   "cell_type": "code",
   "execution_count": 3,
   "id": "f0558a08",
   "metadata": {
    "ExecuteTime": {
     "end_time": "2021-05-06T16:12:45.666318Z",
     "start_time": "2021-05-06T16:12:39.977363Z"
    }
   },
   "outputs": [],
   "source": [
    "if not skip_start:\n",
    "    train_identity = pd.read_csv('data/ieee-fraud-detection/train_identity.csv')\n",
    "    train_transaction = pd.read_csv('data/ieee-fraud-detection/train_transaction.csv')\n",
    "    train = pd.merge(train_transaction, train_identity, on='TransactionID', how='left')\n",
    "    print(train.shape)\n",
    "    del train_identity, train_transaction\n",
    "    gc.collect()\n",
    "    train.to_pickle(\"train.pkl\")\n",
    "else:\n",
    "    train = pd.read_pickle(\"train.pkl\")\n",
    "#     train = train.sample(200000)"
   ]
  },
  {
   "cell_type": "code",
   "execution_count": 4,
   "id": "6b5277e6",
   "metadata": {
    "ExecuteTime": {
     "end_time": "2021-05-06T16:12:55.018152Z",
     "start_time": "2021-05-06T16:12:45.668027Z"
    }
   },
   "outputs": [
    {
     "name": "stdout",
     "output_type": "stream",
     "text": [
      "(590540, 433) (590540,)\n"
     ]
    }
   ],
   "source": [
    "y = train['isFraud']   # target class\n",
    "X = train.drop('isFraud', axis=1)\n",
    "print(X.shape, y.shape)"
   ]
  },
  {
   "cell_type": "code",
   "execution_count": 5,
   "id": "70c3a9fb",
   "metadata": {
    "ExecuteTime": {
     "end_time": "2021-05-06T16:12:55.309116Z",
     "start_time": "2021-05-06T16:12:55.022085Z"
    }
   },
   "outputs": [
    {
     "data": {
      "text/plain": [
       "40"
      ]
     },
     "execution_count": 5,
     "metadata": {},
     "output_type": "execute_result"
    }
   ],
   "source": [
    "del train\n",
    "gc.collect()"
   ]
  },
  {
   "cell_type": "markdown",
   "id": "4d4b17d9",
   "metadata": {},
   "source": [
    "# split data into test and train"
   ]
  },
  {
   "cell_type": "code",
   "execution_count": 6,
   "id": "51d5e84e",
   "metadata": {
    "ExecuteTime": {
     "end_time": "2021-05-06T16:13:01.448383Z",
     "start_time": "2021-05-06T16:12:55.312040Z"
    }
   },
   "outputs": [
    {
     "data": {
      "text/plain": [
       "((295270, 433), (295270, 433), (295270,), (295270,))"
      ]
     },
     "execution_count": 6,
     "metadata": {},
     "output_type": "execute_result"
    }
   ],
   "source": [
    "X_train_hold, X_test_hold, y_train_hold, y_test_hold = train_test_split(X, y, test_size=0.5, random_state=42)\n",
    "X_train_hold.shape, X_test_hold.shape, y_train_hold.shape, y_test_hold.shape"
   ]
  },
  {
   "cell_type": "code",
   "execution_count": 7,
   "id": "8053d0b9",
   "metadata": {
    "ExecuteTime": {
     "end_time": "2021-05-06T16:13:01.575991Z",
     "start_time": "2021-05-06T16:13:01.449934Z"
    }
   },
   "outputs": [
    {
     "data": {
      "text/plain": [
       "40"
      ]
     },
     "execution_count": 7,
     "metadata": {},
     "output_type": "execute_result"
    }
   ],
   "source": [
    "del X, y\n",
    "gc.collect()"
   ]
  },
  {
   "cell_type": "markdown",
   "id": "d171f316",
   "metadata": {},
   "source": [
    "# Now work on train"
   ]
  },
  {
   "cell_type": "markdown",
   "id": "1dee4c1a",
   "metadata": {},
   "source": [
    "### Parameters to tune:"
   ]
  },
  {
   "cell_type": "code",
   "execution_count": 8,
   "id": "5ca369dc",
   "metadata": {
    "ExecuteTime": {
     "end_time": "2021-05-06T16:13:01.581934Z",
     "start_time": "2021-05-06T16:13:01.578717Z"
    }
   },
   "outputs": [],
   "source": [
    "threshold_column_missing = 0.22 # more than this number is not used"
   ]
  },
  {
   "cell_type": "code",
   "execution_count": 9,
   "id": "03347e12",
   "metadata": {
    "ExecuteTime": {
     "end_time": "2021-05-06T16:13:01.587990Z",
     "start_time": "2021-05-06T16:13:01.583870Z"
    }
   },
   "outputs": [],
   "source": [
    "correct_bias_isFruad_times_multiply = 3 # x times as many not fraud as fraud"
   ]
  },
  {
   "cell_type": "markdown",
   "id": "b7cdebef",
   "metadata": {},
   "source": [
    "## handle bias in data for isFraud"
   ]
  },
  {
   "cell_type": "code",
   "execution_count": 10,
   "id": "1cac5c2a",
   "metadata": {
    "ExecuteTime": {
     "end_time": "2021-05-06T16:13:01.942914Z",
     "start_time": "2021-05-06T16:13:01.589400Z"
    }
   },
   "outputs": [],
   "source": [
    "X_train = X_train_hold.copy()"
   ]
  },
  {
   "cell_type": "code",
   "execution_count": 11,
   "id": "970b4d0a",
   "metadata": {
    "ExecuteTime": {
     "end_time": "2021-05-06T16:13:01.949974Z",
     "start_time": "2021-05-06T16:13:01.944406Z"
    }
   },
   "outputs": [],
   "source": [
    "X_train.loc[:, 'isFraud'] = y_train_hold"
   ]
  },
  {
   "cell_type": "code",
   "execution_count": 12,
   "id": "45652db6",
   "metadata": {
    "ExecuteTime": {
     "end_time": "2021-05-06T16:13:03.083639Z",
     "start_time": "2021-05-06T16:13:01.954556Z"
    }
   },
   "outputs": [
    {
     "data": {
      "text/plain": [
       "isFraud\n",
       "0          285043\n",
       "1           10227\n",
       "dtype: int64"
      ]
     },
     "execution_count": 12,
     "metadata": {},
     "output_type": "execute_result"
    }
   ],
   "source": [
    "total_is_fraud = X_train[X_train[\"isFraud\"] == 1][\"isFraud\"].value_counts().item()\n",
    "total_is_not_fraud = X_train[X_train[\"isFraud\"] == 0][\"isFraud\"].value_counts().item()\n",
    "(X_train\n",
    "    .filter(['isFraud'])\n",
    "    .value_counts()\n",
    ")"
   ]
  },
  {
   "cell_type": "code",
   "execution_count": 13,
   "id": "9ad72bf6",
   "metadata": {
    "ExecuteTime": {
     "end_time": "2021-05-06T16:13:04.455986Z",
     "start_time": "2021-05-06T16:13:03.085077Z"
    }
   },
   "outputs": [
    {
     "data": {
      "text/plain": [
       "(40908, 434)"
      ]
     },
     "execution_count": 13,
     "metadata": {},
     "output_type": "execute_result"
    }
   ],
   "source": [
    "X_train = X_train[X_train[\"isFraud\"] == 1].append(X_train[X_train[\"isFraud\"] == 0].sample(total_is_fraud*correct_bias_isFruad_times_multiply))\n",
    "X_train.shape"
   ]
  },
  {
   "cell_type": "code",
   "execution_count": 14,
   "id": "b874c2a4",
   "metadata": {
    "ExecuteTime": {
     "end_time": "2021-05-06T16:13:04.582334Z",
     "start_time": "2021-05-06T16:13:04.457716Z"
    }
   },
   "outputs": [
    {
     "data": {
      "text/plain": [
       "isFraud\n",
       "0          30681\n",
       "1          10227\n",
       "dtype: int64"
      ]
     },
     "execution_count": 14,
     "metadata": {},
     "output_type": "execute_result"
    }
   ],
   "source": [
    "(X_train\n",
    "    .filter(['isFraud'])\n",
    "    .value_counts()\n",
    ")"
   ]
  },
  {
   "cell_type": "code",
   "execution_count": null,
   "id": "829d34a2",
   "metadata": {},
   "outputs": [],
   "source": []
  },
  {
   "cell_type": "code",
   "execution_count": 15,
   "id": "1e5f9702",
   "metadata": {
    "ExecuteTime": {
     "end_time": "2021-05-06T16:13:04.655482Z",
     "start_time": "2021-05-06T16:13:04.585346Z"
    }
   },
   "outputs": [],
   "source": [
    "y_train = X_train.loc[:, 'isFraud']\n",
    "X_train.drop(labels=['isFraud'], axis=1, inplace = True)"
   ]
  },
  {
   "cell_type": "code",
   "execution_count": 16,
   "id": "e89efcbf",
   "metadata": {
    "ExecuteTime": {
     "end_time": "2021-05-06T16:13:05.196389Z",
     "start_time": "2021-05-06T16:13:04.657066Z"
    }
   },
   "outputs": [
    {
     "data": {
      "image/png": "[encoded data removed]",
      "text/plain": [
       "<Figure size 432x288 with 1 Axes>"
      ]
     },
     "metadata": {
      "needs_background": "light"
     },
     "output_type": "display_data"
    }
   ],
   "source": [
    "data = [(col, X_train[col].isnull().sum() / len(X_train)) \n",
    "        for col in X_train.columns if X_train[col].isnull().sum()]\n",
    "col_names = ['column', 'percent_missing']\n",
    "missing_df = pd.DataFrame(data, columns=col_names).sort_values('percent_missing')\n",
    "missing_df.sort_values([\"percent_missing\"], ascending=True, inplace=True)\n",
    "missing_df.reset_index(inplace=True)\n",
    "\n",
    "\n",
    "plt.plot(missing_df.percent_missing)\n",
    "plt.xlabel('Columns')\n",
    "plt.ylabel('% missing')\n",
    "plt.show()"
   ]
  },
  {
   "cell_type": "code",
   "execution_count": 17,
   "id": "997dd472",
   "metadata": {
    "ExecuteTime": {
     "end_time": "2021-05-06T16:13:05.393049Z",
     "start_time": "2021-05-06T16:13:05.197703Z"
    }
   },
   "outputs": [
    {
     "name": "stdout",
     "output_type": "stream",
     "text": [
      "dropping:\n"
     ]
    },
    {
     "data": {
      "text/plain": [
       "['dist1',\n",
       " 'dist2',\n",
       " 'R_emaildomain',\n",
       " 'D2',\n",
       " 'D3',\n",
       " 'D4',\n",
       " 'D5',\n",
       " 'D6',\n",
       " 'D7',\n",
       " 'D8',\n",
       " 'D9',\n",
       " 'D11',\n",
       " 'D12',\n",
       " 'D13',\n",
       " 'D14',\n",
       " 'M1',\n",
       " 'M2',\n",
       " 'M3',\n",
       " 'M4',\n",
       " 'M5',\n",
       " 'M6',\n",
       " 'M7',\n",
       " 'M8',\n",
       " 'M9',\n",
       " 'V1',\n",
       " 'V2',\n",
       " 'V3',\n",
       " 'V4',\n",
       " 'V5',\n",
       " 'V6',\n",
       " 'V7',\n",
       " 'V8',\n",
       " 'V9',\n",
       " 'V10',\n",
       " 'V11',\n",
       " 'V35',\n",
       " 'V36',\n",
       " 'V37',\n",
       " 'V38',\n",
       " 'V39',\n",
       " 'V40',\n",
       " 'V41',\n",
       " 'V42',\n",
       " 'V43',\n",
       " 'V44',\n",
       " 'V45',\n",
       " 'V46',\n",
       " 'V47',\n",
       " 'V48',\n",
       " 'V49',\n",
       " 'V50',\n",
       " 'V51',\n",
       " 'V52',\n",
       " 'V138',\n",
       " 'V139',\n",
       " 'V140',\n",
       " 'V141',\n",
       " 'V142',\n",
       " 'V143',\n",
       " 'V144',\n",
       " 'V145',\n",
       " 'V146',\n",
       " 'V147',\n",
       " 'V148',\n",
       " 'V149',\n",
       " 'V150',\n",
       " 'V151',\n",
       " 'V152',\n",
       " 'V153',\n",
       " 'V154',\n",
       " 'V155',\n",
       " 'V156',\n",
       " 'V157',\n",
       " 'V158',\n",
       " 'V159',\n",
       " 'V160',\n",
       " 'V161',\n",
       " 'V162',\n",
       " 'V163',\n",
       " 'V164',\n",
       " 'V165',\n",
       " 'V166',\n",
       " 'V167',\n",
       " 'V168',\n",
       " 'V169',\n",
       " 'V170',\n",
       " 'V171',\n",
       " 'V172',\n",
       " 'V173',\n",
       " 'V174',\n",
       " 'V175',\n",
       " 'V176',\n",
       " 'V177',\n",
       " 'V178',\n",
       " 'V179',\n",
       " 'V180',\n",
       " 'V181',\n",
       " 'V182',\n",
       " 'V183',\n",
       " 'V184',\n",
       " 'V185',\n",
       " 'V186',\n",
       " 'V187',\n",
       " 'V188',\n",
       " 'V189',\n",
       " 'V190',\n",
       " 'V191',\n",
       " 'V192',\n",
       " 'V193',\n",
       " 'V194',\n",
       " 'V195',\n",
       " 'V196',\n",
       " 'V197',\n",
       " 'V198',\n",
       " 'V199',\n",
       " 'V200',\n",
       " 'V201',\n",
       " 'V202',\n",
       " 'V203',\n",
       " 'V204',\n",
       " 'V205',\n",
       " 'V206',\n",
       " 'V207',\n",
       " 'V208',\n",
       " 'V209',\n",
       " 'V210',\n",
       " 'V211',\n",
       " 'V212',\n",
       " 'V213',\n",
       " 'V214',\n",
       " 'V215',\n",
       " 'V216',\n",
       " 'V217',\n",
       " 'V218',\n",
       " 'V219',\n",
       " 'V220',\n",
       " 'V221',\n",
       " 'V222',\n",
       " 'V223',\n",
       " 'V224',\n",
       " 'V225',\n",
       " 'V226',\n",
       " 'V227',\n",
       " 'V228',\n",
       " 'V229',\n",
       " 'V230',\n",
       " 'V231',\n",
       " 'V232',\n",
       " 'V233',\n",
       " 'V234',\n",
       " 'V235',\n",
       " 'V236',\n",
       " 'V237',\n",
       " 'V238',\n",
       " 'V239',\n",
       " 'V240',\n",
       " 'V241',\n",
       " 'V242',\n",
       " 'V243',\n",
       " 'V244',\n",
       " 'V245',\n",
       " 'V246',\n",
       " 'V247',\n",
       " 'V248',\n",
       " 'V249',\n",
       " 'V250',\n",
       " 'V251',\n",
       " 'V252',\n",
       " 'V253',\n",
       " 'V254',\n",
       " 'V255',\n",
       " 'V256',\n",
       " 'V257',\n",
       " 'V258',\n",
       " 'V259',\n",
       " 'V260',\n",
       " 'V261',\n",
       " 'V262',\n",
       " 'V263',\n",
       " 'V264',\n",
       " 'V265',\n",
       " 'V266',\n",
       " 'V267',\n",
       " 'V268',\n",
       " 'V269',\n",
       " 'V270',\n",
       " 'V271',\n",
       " 'V272',\n",
       " 'V273',\n",
       " 'V274',\n",
       " 'V275',\n",
       " 'V276',\n",
       " 'V277',\n",
       " 'V278',\n",
       " 'V322',\n",
       " 'V323',\n",
       " 'V324',\n",
       " 'V325',\n",
       " 'V326',\n",
       " 'V327',\n",
       " 'V328',\n",
       " 'V329',\n",
       " 'V330',\n",
       " 'V331',\n",
       " 'V332',\n",
       " 'V333',\n",
       " 'V334',\n",
       " 'V335',\n",
       " 'V336',\n",
       " 'V337',\n",
       " 'V338',\n",
       " 'V339',\n",
       " 'id_01',\n",
       " 'id_02',\n",
       " 'id_03',\n",
       " 'id_04',\n",
       " 'id_05',\n",
       " 'id_06',\n",
       " 'id_07',\n",
       " 'id_08',\n",
       " 'id_09',\n",
       " 'id_10',\n",
       " 'id_11',\n",
       " 'id_12',\n",
       " 'id_13',\n",
       " 'id_14',\n",
       " 'id_15',\n",
       " 'id_16',\n",
       " 'id_17',\n",
       " 'id_18',\n",
       " 'id_19',\n",
       " 'id_20',\n",
       " 'id_21',\n",
       " 'id_22',\n",
       " 'id_23',\n",
       " 'id_24',\n",
       " 'id_25',\n",
       " 'id_26',\n",
       " 'id_27',\n",
       " 'id_28',\n",
       " 'id_29',\n",
       " 'id_30',\n",
       " 'id_31',\n",
       " 'id_32',\n",
       " 'id_33',\n",
       " 'id_34',\n",
       " 'id_35',\n",
       " 'id_36',\n",
       " 'id_37',\n",
       " 'id_38',\n",
       " 'DeviceType',\n",
       " 'DeviceInfo',\n",
       " 'TransactionID']"
      ]
     },
     "execution_count": 17,
     "metadata": {},
     "output_type": "execute_result"
    }
   ],
   "source": [
    "print(\"dropping:\")\n",
    "dropped_columns = X_train.loc[:,\n",
    "    (X_train\n",
    "        .isna()\n",
    "        .mean()\n",
    "        .ge(threshold_column_missing)\n",
    "     )\n",
    "].columns.tolist()\n",
    "dropped_columns"
   ]
  },
  {
   "cell_type": "code",
   "execution_count": 18,
   "id": "778f8977",
   "metadata": {
    "ExecuteTime": {
     "end_time": "2021-05-06T16:13:05.428665Z",
     "start_time": "2021-05-06T16:13:05.394964Z"
    }
   },
   "outputs": [],
   "source": [
    "X_train.drop(columns=dropped_columns, inplace=True)\n",
    "transactionID = X_train.pop(\"TransactionID\")"
   ]
  },
  {
   "cell_type": "code",
   "execution_count": 19,
   "id": "e137b0c5",
   "metadata": {
    "ExecuteTime": {
     "end_time": "2021-05-06T16:13:05.931640Z",
     "start_time": "2021-05-06T16:13:05.430442Z"
    }
   },
   "outputs": [],
   "source": [
    "start = dt.datetime(2021,1,1,0,0) # need a reference point use this for train and test\n",
    "X_train.loc[:, \"TransactionDT\"] = X_train[\"TransactionDT\"].apply(lambda x: start + pd.Timedelta(seconds=x)).dt.day_name()"
   ]
  },
  {
   "cell_type": "code",
   "execution_count": 20,
   "id": "2da9ba80",
   "metadata": {
    "ExecuteTime": {
     "end_time": "2021-05-06T16:13:05.984823Z",
     "start_time": "2021-05-06T16:13:05.933060Z"
    },
    "scrolled": true
   },
   "outputs": [
    {
     "data": {
      "text/html": [
       "<div>\n",
       "<style scoped>\n",
       "    .dataframe tbody tr th:only-of-type {\n",
       "        vertical-align: middle;\n",
       "    }\n",
       "\n",
       "    .dataframe tbody tr th {\n",
       "        vertical-align: top;\n",
       "    }\n",
       "\n",
       "    .dataframe thead th {\n",
       "        text-align: right;\n",
       "    }\n",
       "</style>\n",
       "<table border=\"1\" class=\"dataframe\">\n",
       "  <thead>\n",
       "    <tr style=\"text-align: right;\">\n",
       "      <th></th>\n",
       "      <th>TransactionDT</th>\n",
       "      <th>TransactionAmt</th>\n",
       "      <th>ProductCD</th>\n",
       "      <th>card1</th>\n",
       "      <th>card2</th>\n",
       "      <th>card3</th>\n",
       "      <th>card4</th>\n",
       "      <th>card5</th>\n",
       "      <th>card6</th>\n",
       "      <th>addr1</th>\n",
       "      <th>...</th>\n",
       "      <th>V312</th>\n",
       "      <th>V313</th>\n",
       "      <th>V314</th>\n",
       "      <th>V315</th>\n",
       "      <th>V316</th>\n",
       "      <th>V317</th>\n",
       "      <th>V318</th>\n",
       "      <th>V319</th>\n",
       "      <th>V320</th>\n",
       "      <th>V321</th>\n",
       "    </tr>\n",
       "  </thead>\n",
       "  <tbody>\n",
       "    <tr>\n",
       "      <th>370739</th>\n",
       "      <td>Saturday</td>\n",
       "      <td>10.392</td>\n",
       "      <td>C</td>\n",
       "      <td>9633</td>\n",
       "      <td>130.0</td>\n",
       "      <td>185.0</td>\n",
       "      <td>visa</td>\n",
       "      <td>138.0</td>\n",
       "      <td>debit</td>\n",
       "      <td>NaN</td>\n",
       "      <td>...</td>\n",
       "      <td>0.000000</td>\n",
       "      <td>0.000000</td>\n",
       "      <td>0.000000</td>\n",
       "      <td>0.000000</td>\n",
       "      <td>0.0</td>\n",
       "      <td>0.000000</td>\n",
       "      <td>0.000000</td>\n",
       "      <td>0.0</td>\n",
       "      <td>0.000000</td>\n",
       "      <td>0.000000</td>\n",
       "    </tr>\n",
       "    <tr>\n",
       "      <th>473420</th>\n",
       "      <td>Saturday</td>\n",
       "      <td>68.950</td>\n",
       "      <td>W</td>\n",
       "      <td>11727</td>\n",
       "      <td>301.0</td>\n",
       "      <td>150.0</td>\n",
       "      <td>mastercard</td>\n",
       "      <td>224.0</td>\n",
       "      <td>debit</td>\n",
       "      <td>485.0</td>\n",
       "      <td>...</td>\n",
       "      <td>0.000000</td>\n",
       "      <td>67.949997</td>\n",
       "      <td>67.949997</td>\n",
       "      <td>67.949997</td>\n",
       "      <td>0.0</td>\n",
       "      <td>0.000000</td>\n",
       "      <td>0.000000</td>\n",
       "      <td>0.0</td>\n",
       "      <td>0.000000</td>\n",
       "      <td>0.000000</td>\n",
       "    </tr>\n",
       "    <tr>\n",
       "      <th>85573</th>\n",
       "      <td>Thursday</td>\n",
       "      <td>38.012</td>\n",
       "      <td>C</td>\n",
       "      <td>2650</td>\n",
       "      <td>142.0</td>\n",
       "      <td>185.0</td>\n",
       "      <td>mastercard</td>\n",
       "      <td>224.0</td>\n",
       "      <td>debit</td>\n",
       "      <td>NaN</td>\n",
       "      <td>...</td>\n",
       "      <td>26.409901</td>\n",
       "      <td>0.000000</td>\n",
       "      <td>26.409901</td>\n",
       "      <td>26.409901</td>\n",
       "      <td>0.0</td>\n",
       "      <td>236.931198</td>\n",
       "      <td>236.931198</td>\n",
       "      <td>0.0</td>\n",
       "      <td>158.342804</td>\n",
       "      <td>158.342804</td>\n",
       "    </tr>\n",
       "    <tr>\n",
       "      <th>240268</th>\n",
       "      <td>Sunday</td>\n",
       "      <td>226.000</td>\n",
       "      <td>W</td>\n",
       "      <td>1675</td>\n",
       "      <td>174.0</td>\n",
       "      <td>150.0</td>\n",
       "      <td>visa</td>\n",
       "      <td>226.0</td>\n",
       "      <td>debit</td>\n",
       "      <td>330.0</td>\n",
       "      <td>...</td>\n",
       "      <td>49.000000</td>\n",
       "      <td>49.000000</td>\n",
       "      <td>98.000000</td>\n",
       "      <td>49.000000</td>\n",
       "      <td>226.0</td>\n",
       "      <td>226.000000</td>\n",
       "      <td>226.000000</td>\n",
       "      <td>176.0</td>\n",
       "      <td>176.000000</td>\n",
       "      <td>176.000000</td>\n",
       "    </tr>\n",
       "    <tr>\n",
       "      <th>179343</th>\n",
       "      <td>Monday</td>\n",
       "      <td>280.000</td>\n",
       "      <td>W</td>\n",
       "      <td>16075</td>\n",
       "      <td>514.0</td>\n",
       "      <td>150.0</td>\n",
       "      <td>mastercard</td>\n",
       "      <td>102.0</td>\n",
       "      <td>credit</td>\n",
       "      <td>123.0</td>\n",
       "      <td>...</td>\n",
       "      <td>335.000000</td>\n",
       "      <td>335.000000</td>\n",
       "      <td>335.000000</td>\n",
       "      <td>335.000000</td>\n",
       "      <td>889.0</td>\n",
       "      <td>889.000000</td>\n",
       "      <td>889.000000</td>\n",
       "      <td>0.0</td>\n",
       "      <td>0.000000</td>\n",
       "      <td>0.000000</td>\n",
       "    </tr>\n",
       "    <tr>\n",
       "      <th>...</th>\n",
       "      <td>...</td>\n",
       "      <td>...</td>\n",
       "      <td>...</td>\n",
       "      <td>...</td>\n",
       "      <td>...</td>\n",
       "      <td>...</td>\n",
       "      <td>...</td>\n",
       "      <td>...</td>\n",
       "      <td>...</td>\n",
       "      <td>...</td>\n",
       "      <td>...</td>\n",
       "      <td>...</td>\n",
       "      <td>...</td>\n",
       "      <td>...</td>\n",
       "      <td>...</td>\n",
       "      <td>...</td>\n",
       "      <td>...</td>\n",
       "      <td>...</td>\n",
       "      <td>...</td>\n",
       "      <td>...</td>\n",
       "      <td>...</td>\n",
       "    </tr>\n",
       "    <tr>\n",
       "      <th>41925</th>\n",
       "      <td>Tuesday</td>\n",
       "      <td>50.000</td>\n",
       "      <td>W</td>\n",
       "      <td>4141</td>\n",
       "      <td>404.0</td>\n",
       "      <td>150.0</td>\n",
       "      <td>mastercard</td>\n",
       "      <td>102.0</td>\n",
       "      <td>credit</td>\n",
       "      <td>204.0</td>\n",
       "      <td>...</td>\n",
       "      <td>105.000000</td>\n",
       "      <td>105.000000</td>\n",
       "      <td>105.000000</td>\n",
       "      <td>105.000000</td>\n",
       "      <td>0.0</td>\n",
       "      <td>0.000000</td>\n",
       "      <td>0.000000</td>\n",
       "      <td>0.0</td>\n",
       "      <td>0.000000</td>\n",
       "      <td>0.000000</td>\n",
       "    </tr>\n",
       "    <tr>\n",
       "      <th>475330</th>\n",
       "      <td>Sunday</td>\n",
       "      <td>83.950</td>\n",
       "      <td>W</td>\n",
       "      <td>17188</td>\n",
       "      <td>321.0</td>\n",
       "      <td>150.0</td>\n",
       "      <td>visa</td>\n",
       "      <td>226.0</td>\n",
       "      <td>debit</td>\n",
       "      <td>299.0</td>\n",
       "      <td>...</td>\n",
       "      <td>0.000000</td>\n",
       "      <td>0.000000</td>\n",
       "      <td>0.000000</td>\n",
       "      <td>0.000000</td>\n",
       "      <td>0.0</td>\n",
       "      <td>0.000000</td>\n",
       "      <td>0.000000</td>\n",
       "      <td>0.0</td>\n",
       "      <td>0.000000</td>\n",
       "      <td>0.000000</td>\n",
       "    </tr>\n",
       "    <tr>\n",
       "      <th>93702</th>\n",
       "      <td>Saturday</td>\n",
       "      <td>82.950</td>\n",
       "      <td>W</td>\n",
       "      <td>3870</td>\n",
       "      <td>555.0</td>\n",
       "      <td>150.0</td>\n",
       "      <td>visa</td>\n",
       "      <td>226.0</td>\n",
       "      <td>debit</td>\n",
       "      <td>299.0</td>\n",
       "      <td>...</td>\n",
       "      <td>0.000000</td>\n",
       "      <td>159.949997</td>\n",
       "      <td>159.949997</td>\n",
       "      <td>159.949997</td>\n",
       "      <td>0.0</td>\n",
       "      <td>0.000000</td>\n",
       "      <td>0.000000</td>\n",
       "      <td>0.0</td>\n",
       "      <td>0.000000</td>\n",
       "      <td>0.000000</td>\n",
       "    </tr>\n",
       "    <tr>\n",
       "      <th>468580</th>\n",
       "      <td>Thursday</td>\n",
       "      <td>34.000</td>\n",
       "      <td>W</td>\n",
       "      <td>4576</td>\n",
       "      <td>310.0</td>\n",
       "      <td>150.0</td>\n",
       "      <td>mastercard</td>\n",
       "      <td>224.0</td>\n",
       "      <td>debit</td>\n",
       "      <td>203.0</td>\n",
       "      <td>...</td>\n",
       "      <td>0.000000</td>\n",
       "      <td>26.500000</td>\n",
       "      <td>109.500000</td>\n",
       "      <td>26.500000</td>\n",
       "      <td>0.0</td>\n",
       "      <td>0.000000</td>\n",
       "      <td>0.000000</td>\n",
       "      <td>0.0</td>\n",
       "      <td>0.000000</td>\n",
       "      <td>0.000000</td>\n",
       "    </tr>\n",
       "    <tr>\n",
       "      <th>22009</th>\n",
       "      <td>Thursday</td>\n",
       "      <td>200.000</td>\n",
       "      <td>W</td>\n",
       "      <td>13234</td>\n",
       "      <td>298.0</td>\n",
       "      <td>150.0</td>\n",
       "      <td>visa</td>\n",
       "      <td>226.0</td>\n",
       "      <td>debit</td>\n",
       "      <td>204.0</td>\n",
       "      <td>...</td>\n",
       "      <td>176.000000</td>\n",
       "      <td>57.950001</td>\n",
       "      <td>233.949997</td>\n",
       "      <td>57.950001</td>\n",
       "      <td>0.0</td>\n",
       "      <td>0.000000</td>\n",
       "      <td>0.000000</td>\n",
       "      <td>0.0</td>\n",
       "      <td>0.000000</td>\n",
       "      <td>0.000000</td>\n",
       "    </tr>\n",
       "  </tbody>\n",
       "</table>\n",
       "<p>40908 rows × 180 columns</p>\n",
       "</div>"
      ],
      "text/plain": [
       "       TransactionDT  TransactionAmt ProductCD  card1  card2  card3  \\\n",
       "370739      Saturday          10.392         C   9633  130.0  185.0   \n",
       "473420      Saturday          68.950         W  11727  301.0  150.0   \n",
       "85573       Thursday          38.012         C   2650  142.0  185.0   \n",
       "240268        Sunday         226.000         W   1675  174.0  150.0   \n",
       "179343        Monday         280.000         W  16075  514.0  150.0   \n",
       "...              ...             ...       ...    ...    ...    ...   \n",
       "41925        Tuesday          50.000         W   4141  404.0  150.0   \n",
       "475330        Sunday          83.950         W  17188  321.0  150.0   \n",
       "93702       Saturday          82.950         W   3870  555.0  150.0   \n",
       "468580      Thursday          34.000         W   4576  310.0  150.0   \n",
       "22009       Thursday         200.000         W  13234  298.0  150.0   \n",
       "\n",
       "             card4  card5   card6  addr1  ...        V312        V313  \\\n",
       "370739        visa  138.0   debit    NaN  ...    0.000000    0.000000   \n",
       "473420  mastercard  224.0   debit  485.0  ...    0.000000   67.949997   \n",
       "85573   mastercard  224.0   debit    NaN  ...   26.409901    0.000000   \n",
       "240268        visa  226.0   debit  330.0  ...   49.000000   49.000000   \n",
       "179343  mastercard  102.0  credit  123.0  ...  335.000000  335.000000   \n",
       "...            ...    ...     ...    ...  ...         ...         ...   \n",
       "41925   mastercard  102.0  credit  204.0  ...  105.000000  105.000000   \n",
       "475330        visa  226.0   debit  299.0  ...    0.000000    0.000000   \n",
       "93702         visa  226.0   debit  299.0  ...    0.000000  159.949997   \n",
       "468580  mastercard  224.0   debit  203.0  ...    0.000000   26.500000   \n",
       "22009         visa  226.0   debit  204.0  ...  176.000000   57.950001   \n",
       "\n",
       "              V314        V315   V316        V317        V318   V319  \\\n",
       "370739    0.000000    0.000000    0.0    0.000000    0.000000    0.0   \n",
       "473420   67.949997   67.949997    0.0    0.000000    0.000000    0.0   \n",
       "85573    26.409901   26.409901    0.0  236.931198  236.931198    0.0   \n",
       "240268   98.000000   49.000000  226.0  226.000000  226.000000  176.0   \n",
       "179343  335.000000  335.000000  889.0  889.000000  889.000000    0.0   \n",
       "...            ...         ...    ...         ...         ...    ...   \n",
       "41925   105.000000  105.000000    0.0    0.000000    0.000000    0.0   \n",
       "475330    0.000000    0.000000    0.0    0.000000    0.000000    0.0   \n",
       "93702   159.949997  159.949997    0.0    0.000000    0.000000    0.0   \n",
       "468580  109.500000   26.500000    0.0    0.000000    0.000000    0.0   \n",
       "22009   233.949997   57.950001    0.0    0.000000    0.000000    0.0   \n",
       "\n",
       "              V320        V321  \n",
       "370739    0.000000    0.000000  \n",
       "473420    0.000000    0.000000  \n",
       "85573   158.342804  158.342804  \n",
       "240268  176.000000  176.000000  \n",
       "179343    0.000000    0.000000  \n",
       "...            ...         ...  \n",
       "41925     0.000000    0.000000  \n",
       "475330    0.000000    0.000000  \n",
       "93702     0.000000    0.000000  \n",
       "468580    0.000000    0.000000  \n",
       "22009     0.000000    0.000000  \n",
       "\n",
       "[40908 rows x 180 columns]"
      ]
     },
     "execution_count": 20,
     "metadata": {},
     "output_type": "execute_result"
    }
   ],
   "source": [
    "X_train"
   ]
  },
  {
   "cell_type": "code",
   "execution_count": 21,
   "id": "7133de1b",
   "metadata": {
    "ExecuteTime": {
     "end_time": "2021-05-06T16:13:05.992347Z",
     "start_time": "2021-05-06T16:13:05.986099Z"
    }
   },
   "outputs": [
    {
     "data": {
      "text/plain": [
       "TransactionDT      object\n",
       "TransactionAmt    float64\n",
       "ProductCD          object\n",
       "card1               int64\n",
       "card2             float64\n",
       "                   ...   \n",
       "V317              float64\n",
       "V318              float64\n",
       "V319              float64\n",
       "V320              float64\n",
       "V321              float64\n",
       "Length: 180, dtype: object"
      ]
     },
     "execution_count": 21,
     "metadata": {},
     "output_type": "execute_result"
    }
   ],
   "source": [
    "X_train.dtypes"
   ]
  },
  {
   "cell_type": "code",
   "execution_count": null,
   "id": "9e91205b",
   "metadata": {},
   "outputs": [],
   "source": []
  },
  {
   "cell_type": "code",
   "execution_count": null,
   "id": "5935294f",
   "metadata": {},
   "outputs": [],
   "source": []
  },
  {
   "cell_type": "code",
   "execution_count": null,
   "id": "2a56e9bd",
   "metadata": {},
   "outputs": [],
   "source": []
  },
  {
   "cell_type": "code",
   "execution_count": 22,
   "id": "927bd64b",
   "metadata": {
    "ExecuteTime": {
     "end_time": "2021-05-06T16:13:05.997288Z",
     "start_time": "2021-05-06T16:13:05.993851Z"
    }
   },
   "outputs": [],
   "source": [
    "numeric_features = make_column_selector(dtype_include=['float64','int64'])\n",
    "numeric_transformer = Pipeline(steps=[\n",
    "    ('imputer', KNNImputer(n_neighbors=3)),\n",
    "    ('scaler', StandardScaler())])"
   ]
  },
  {
   "cell_type": "code",
   "execution_count": 23,
   "id": "2f39d827",
   "metadata": {
    "ExecuteTime": {
     "end_time": "2021-05-06T16:13:06.002736Z",
     "start_time": "2021-05-06T16:13:05.999986Z"
    }
   },
   "outputs": [],
   "source": [
    "categorical_features = make_column_selector(dtype_include='object')\n",
    "categorical_transformer = OneHotEncoder(handle_unknown='ignore')"
   ]
  },
  {
   "cell_type": "code",
   "execution_count": 24,
   "id": "27edff5b",
   "metadata": {
    "ExecuteTime": {
     "end_time": "2021-05-06T16:13:06.009288Z",
     "start_time": "2021-05-06T16:13:06.005401Z"
    }
   },
   "outputs": [],
   "source": [
    "preprocessor = ColumnTransformer(\n",
    "    transformers=[\n",
    "        ('num', numeric_transformer, numeric_features),\n",
    "        ('cat', categorical_transformer, categorical_features)])"
   ]
  },
  {
   "cell_type": "code",
   "execution_count": 25,
   "id": "3e3da5d3",
   "metadata": {
    "ExecuteTime": {
     "end_time": "2021-05-06T16:13:06.014182Z",
     "start_time": "2021-05-06T16:13:06.010789Z"
    }
   },
   "outputs": [],
   "source": [
    "pipe = Pipeline(steps=[('preprocessor', preprocessor),\n",
    "                        ('pca', PCA(n_components=50)),\n",
    "                      ('classifier', SVC())],\n",
    "               verbose=True)"
   ]
  },
  {
   "cell_type": "code",
   "execution_count": null,
   "id": "666af857",
   "metadata": {},
   "outputs": [],
   "source": []
  },
  {
   "cell_type": "code",
   "execution_count": null,
   "id": "75019e76",
   "metadata": {},
   "outputs": [],
   "source": []
  },
  {
   "cell_type": "code",
   "execution_count": null,
   "id": "9e172bfd",
   "metadata": {},
   "outputs": [],
   "source": []
  },
  {
   "cell_type": "code",
   "execution_count": null,
   "id": "ba1c5de2",
   "metadata": {},
   "outputs": [],
   "source": []
  },
  {
   "cell_type": "code",
   "execution_count": 26,
   "id": "61f06715",
   "metadata": {
    "ExecuteTime": {
     "end_time": "2021-05-06T16:13:06.019375Z",
     "start_time": "2021-05-06T16:13:06.015239Z"
    }
   },
   "outputs": [],
   "source": [
    "ss = ShuffleSplit(test_size=0.5, n_splits=1, random_state=7)"
   ]
  },
  {
   "cell_type": "code",
   "execution_count": 27,
   "id": "0955d3ab",
   "metadata": {
    "ExecuteTime": {
     "end_time": "2021-05-06T16:13:06.026467Z",
     "start_time": "2021-05-06T16:13:06.020624Z"
    }
   },
   "outputs": [],
   "source": [
    "param_grid = [{\n",
    "                  'classifier': (KNeighborsClassifier(),),\n",
    "                  'classifier__n_neighbors':[20], \n",
    "                  'classifier__metric':['manhattan'],\n",
    "                  'classifier__weights':['distance'],\n",
    "                  'pca__n_components':[100]        \n",
    "              },\n",
    "              {\n",
    "                  'classifier': (SVC(gamma=\"auto\",probability=True),),\n",
    "                  'pca__n_components':[100]  \n",
    "              },\n",
    "              {\n",
    "                  'classifier': (MLPClassifier(hidden_layer_sizes=(100,), max_iter=20, alpha=1e-4,\n",
    "                    solver='sgd', verbose=0, random_state=1,\n",
    "                    learning_rate_init=.1),),\n",
    "                  'pca__n_components':[100],\n",
    "                  'classifier__alpha':[1e-6],\n",
    "                  'classifier__hidden_layer_sizes':[(50,)],\n",
    "                  'classifier__max_iter':[100],\n",
    "                  'classifier__learning_rate_init':[0.01],\n",
    "              },\n",
    "                  {\n",
    "                  'classifier': (LogisticRegression(solver='liblinear'),),\n",
    "                  'pca__n_components':[100]  \n",
    "              }\n",
    "              ]\n"
   ]
  },
  {
   "cell_type": "code",
   "execution_count": 28,
   "id": "61461496",
   "metadata": {
    "ExecuteTime": {
     "end_time": "2021-05-06T16:13:06.031185Z",
     "start_time": "2021-05-06T16:13:06.027679Z"
    }
   },
   "outputs": [],
   "source": [
    "pipe_gs = GridSearchCV(pipe, param_grid, cv=ss, scoring=\"roc_auc\",\n",
    "                      verbose = 10, n_jobs = -1)"
   ]
  },
  {
   "cell_type": "code",
   "execution_count": 29,
   "id": "5f547628",
   "metadata": {
    "ExecuteTime": {
     "end_time": "2021-05-06T16:42:02.542668Z",
     "start_time": "2021-05-06T16:13:06.032232Z"
    }
   },
   "outputs": [
    {
     "name": "stdout",
     "output_type": "stream",
     "text": [
      "Fitting 1 folds for each of 4 candidates, totalling 4 fits\n",
      "[Pipeline] ...... (step 1 of 3) Processing preprocessor, total= 7.2min\n",
      "[Pipeline] ............... (step 2 of 3) Processing pca, total=   1.7s\n",
      "[Pipeline] ........ (step 3 of 3) Processing classifier, total=   0.0s\n"
     ]
    }
   ],
   "source": [
    "pipe_gs = pipe_gs.fit(X_train, y_train)"
   ]
  },
  {
   "cell_type": "code",
   "execution_count": 30,
   "id": "c46f5b5c",
   "metadata": {
    "ExecuteTime": {
     "end_time": "2021-05-06T16:42:02.743213Z",
     "start_time": "2021-05-06T16:42:02.579199Z"
    }
   },
   "outputs": [
    {
     "data": {
      "text/plain": [
       "{'classifier': KNeighborsClassifier(metric='manhattan', n_neighbors=20, weights='distance'),\n",
       " 'classifier__metric': 'manhattan',\n",
       " 'classifier__n_neighbors': 20,\n",
       " 'classifier__weights': 'distance',\n",
       " 'pca__n_components': 100}"
      ]
     },
     "execution_count": 30,
     "metadata": {},
     "output_type": "execute_result"
    }
   ],
   "source": [
    "pipe_gs.best_params_"
   ]
  },
  {
   "cell_type": "code",
   "execution_count": 31,
   "id": "9f028396",
   "metadata": {
    "ExecuteTime": {
     "end_time": "2021-05-06T16:42:02.789446Z",
     "start_time": "2021-05-06T16:42:02.746336Z"
    }
   },
   "outputs": [
    {
     "data": {
      "text/plain": [
       "{'mean_fit_time': array([ 817.17983317, 1076.82515192,  827.12853312,  818.80977273]),\n",
       " 'std_fit_time': array([0., 0., 0., 0.]),\n",
       " 'mean_score_time': array([426.94508457, 223.2392695 , 374.09607482, 382.75462198]),\n",
       " 'std_score_time': array([0., 0., 0., 0.]),\n",
       " 'param_classifier': masked_array(data=[KNeighborsClassifier(metric='manhattan', n_neighbors=20, weights='distance'),\n",
       "                    SVC(gamma='auto', probability=True),\n",
       "                    MLPClassifier(learning_rate_init=0.1, max_iter=20, random_state=1, solver='sgd',\n",
       "                                  verbose=0)                                                        ,\n",
       "                    LogisticRegression(solver='liblinear')],\n",
       "              mask=[False, False, False, False],\n",
       "        fill_value='?',\n",
       "             dtype=object),\n",
       " 'param_classifier__metric': masked_array(data=['manhattan', --, --, --],\n",
       "              mask=[False,  True,  True,  True],\n",
       "        fill_value='?',\n",
       "             dtype=object),\n",
       " 'param_classifier__n_neighbors': masked_array(data=[20, --, --, --],\n",
       "              mask=[False,  True,  True,  True],\n",
       "        fill_value='?',\n",
       "             dtype=object),\n",
       " 'param_classifier__weights': masked_array(data=['distance', --, --, --],\n",
       "              mask=[False,  True,  True,  True],\n",
       "        fill_value='?',\n",
       "             dtype=object),\n",
       " 'param_pca__n_components': masked_array(data=[100, 100, 100, 100],\n",
       "              mask=[False, False, False, False],\n",
       "        fill_value='?',\n",
       "             dtype=object),\n",
       " 'param_classifier__alpha': masked_array(data=[--, --, 1e-06, --],\n",
       "              mask=[ True,  True, False,  True],\n",
       "        fill_value='?',\n",
       "             dtype=object),\n",
       " 'param_classifier__hidden_layer_sizes': masked_array(data=[--, --, (50,), --],\n",
       "              mask=[ True,  True, False,  True],\n",
       "        fill_value='?',\n",
       "             dtype=object),\n",
       " 'param_classifier__learning_rate_init': masked_array(data=[--, --, 0.01, --],\n",
       "              mask=[ True,  True, False,  True],\n",
       "        fill_value='?',\n",
       "             dtype=object),\n",
       " 'param_classifier__max_iter': masked_array(data=[--, --, 100, --],\n",
       "              mask=[ True,  True, False,  True],\n",
       "        fill_value='?',\n",
       "             dtype=object),\n",
       " 'params': [{'classifier': KNeighborsClassifier(metric='manhattan', n_neighbors=20, weights='distance'),\n",
       "   'classifier__metric': 'manhattan',\n",
       "   'classifier__n_neighbors': 20,\n",
       "   'classifier__weights': 'distance',\n",
       "   'pca__n_components': 100},\n",
       "  {'classifier': SVC(gamma='auto', probability=True),\n",
       "   'pca__n_components': 100},\n",
       "  {'classifier': MLPClassifier(learning_rate_init=0.1, max_iter=20, random_state=1, solver='sgd',\n",
       "                 verbose=0),\n",
       "   'classifier__alpha': 1e-06,\n",
       "   'classifier__hidden_layer_sizes': (50,),\n",
       "   'classifier__learning_rate_init': 0.01,\n",
       "   'classifier__max_iter': 100,\n",
       "   'pca__n_components': 100},\n",
       "  {'classifier': LogisticRegression(solver='liblinear'),\n",
       "   'pca__n_components': 100}],\n",
       " 'split0_test_score': array([0.84434223, 0.83286909, 0.83797855, 0.81047797]),\n",
       " 'mean_test_score': array([0.84434223, 0.83286909, 0.83797855, 0.81047797]),\n",
       " 'std_test_score': array([0., 0., 0., 0.]),\n",
       " 'rank_test_score': array([1, 3, 2, 4], dtype=int32)}"
      ]
     },
     "execution_count": 31,
     "metadata": {},
     "output_type": "execute_result"
    }
   ],
   "source": [
    "pipe_gs.cv_results_"
   ]
  },
  {
   "cell_type": "code",
   "execution_count": 32,
   "id": "4957f5cc",
   "metadata": {
    "ExecuteTime": {
     "end_time": "2021-05-06T16:42:02.930415Z",
     "start_time": "2021-05-06T16:42:02.792747Z"
    }
   },
   "outputs": [
    {
     "data": {
      "text/html": [
       "<div>\n",
       "<style scoped>\n",
       "    .dataframe tbody tr th:only-of-type {\n",
       "        vertical-align: middle;\n",
       "    }\n",
       "\n",
       "    .dataframe tbody tr th {\n",
       "        vertical-align: top;\n",
       "    }\n",
       "\n",
       "    .dataframe thead th {\n",
       "        text-align: right;\n",
       "    }\n",
       "</style>\n",
       "<table border=\"1\" class=\"dataframe\">\n",
       "  <thead>\n",
       "    <tr style=\"text-align: right;\">\n",
       "      <th></th>\n",
       "      <th>classifier</th>\n",
       "      <th>classifier__metric</th>\n",
       "      <th>classifier__n_neighbors</th>\n",
       "      <th>classifier__weights</th>\n",
       "      <th>pca__n_components</th>\n",
       "      <th>classifier__alpha</th>\n",
       "      <th>classifier__hidden_layer_sizes</th>\n",
       "      <th>classifier__learning_rate_init</th>\n",
       "      <th>classifier__max_iter</th>\n",
       "      <th>roc_auc</th>\n",
       "    </tr>\n",
       "  </thead>\n",
       "  <tbody>\n",
       "    <tr>\n",
       "      <th>0</th>\n",
       "      <td>KNeighborsClassifier(metric='manhattan', n_nei...</td>\n",
       "      <td>manhattan</td>\n",
       "      <td>20.0</td>\n",
       "      <td>distance</td>\n",
       "      <td>100</td>\n",
       "      <td>NaN</td>\n",
       "      <td>NaN</td>\n",
       "      <td>NaN</td>\n",
       "      <td>NaN</td>\n",
       "      <td>0.844342</td>\n",
       "    </tr>\n",
       "    <tr>\n",
       "      <th>2</th>\n",
       "      <td>MLPClassifier(learning_rate_init=0.1, max_iter...</td>\n",
       "      <td>NaN</td>\n",
       "      <td>NaN</td>\n",
       "      <td>NaN</td>\n",
       "      <td>100</td>\n",
       "      <td>0.000001</td>\n",
       "      <td>(50,)</td>\n",
       "      <td>0.01</td>\n",
       "      <td>100.0</td>\n",
       "      <td>0.837979</td>\n",
       "    </tr>\n",
       "    <tr>\n",
       "      <th>1</th>\n",
       "      <td>SVC(gamma='auto', probability=True)</td>\n",
       "      <td>NaN</td>\n",
       "      <td>NaN</td>\n",
       "      <td>NaN</td>\n",
       "      <td>100</td>\n",
       "      <td>NaN</td>\n",
       "      <td>NaN</td>\n",
       "      <td>NaN</td>\n",
       "      <td>NaN</td>\n",
       "      <td>0.832869</td>\n",
       "    </tr>\n",
       "    <tr>\n",
       "      <th>3</th>\n",
       "      <td>LogisticRegression(solver='liblinear')</td>\n",
       "      <td>NaN</td>\n",
       "      <td>NaN</td>\n",
       "      <td>NaN</td>\n",
       "      <td>100</td>\n",
       "      <td>NaN</td>\n",
       "      <td>NaN</td>\n",
       "      <td>NaN</td>\n",
       "      <td>NaN</td>\n",
       "      <td>0.810478</td>\n",
       "    </tr>\n",
       "  </tbody>\n",
       "</table>\n",
       "</div>"
      ],
      "text/plain": [
       "                                          classifier classifier__metric  \\\n",
       "0  KNeighborsClassifier(metric='manhattan', n_nei...          manhattan   \n",
       "2  MLPClassifier(learning_rate_init=0.1, max_iter...                NaN   \n",
       "1                SVC(gamma='auto', probability=True)                NaN   \n",
       "3             LogisticRegression(solver='liblinear')                NaN   \n",
       "\n",
       "   classifier__n_neighbors classifier__weights  pca__n_components  \\\n",
       "0                     20.0            distance                100   \n",
       "2                      NaN                 NaN                100   \n",
       "1                      NaN                 NaN                100   \n",
       "3                      NaN                 NaN                100   \n",
       "\n",
       "   classifier__alpha classifier__hidden_layer_sizes  \\\n",
       "0                NaN                            NaN   \n",
       "2           0.000001                          (50,)   \n",
       "1                NaN                            NaN   \n",
       "3                NaN                            NaN   \n",
       "\n",
       "   classifier__learning_rate_init  classifier__max_iter   roc_auc  \n",
       "0                             NaN                   NaN  0.844342  \n",
       "2                            0.01                 100.0  0.837979  \n",
       "1                             NaN                   NaN  0.832869  \n",
       "3                             NaN                   NaN  0.810478  "
      ]
     },
     "execution_count": 32,
     "metadata": {},
     "output_type": "execute_result"
    }
   ],
   "source": [
    "(pd.concat([pd.DataFrame(pipe_gs\n",
    "                        .cv_results_[\"params\"]),\n",
    "           pd.DataFrame(pipe_gs.cv_results_[\"mean_test_score\"],\n",
    "                        columns=[\"roc_auc\"])],\n",
    "          axis=1)\n",
    " .sort_values(\"roc_auc\",ascending=False)\n",
    ")\n"
   ]
  },
  {
   "cell_type": "code",
   "execution_count": null,
   "id": "a8184e48",
   "metadata": {},
   "outputs": [],
   "source": []
  },
  {
   "cell_type": "code",
   "execution_count": null,
   "id": "66a31ea5",
   "metadata": {},
   "outputs": [],
   "source": []
  },
  {
   "cell_type": "code",
   "execution_count": null,
   "id": "19ecfda2",
   "metadata": {},
   "outputs": [],
   "source": []
  },
  {
   "cell_type": "markdown",
   "id": "8acf4047",
   "metadata": {},
   "source": [
    "# test model on hold out test from above"
   ]
  },
  {
   "cell_type": "code",
   "execution_count": 33,
   "id": "23426539",
   "metadata": {
    "ExecuteTime": {
     "end_time": "2021-05-06T16:42:28.854863Z",
     "start_time": "2021-05-06T16:42:02.933259Z"
    }
   },
   "outputs": [],
   "source": [
    "X_test_hold.drop(columns=dropped_columns, inplace=True)\n",
    "transactionID = X_test_hold.pop(\"TransactionID\")\n",
    "X_test_hold.loc[:, \"TransactionDT\"] = X_test_hold[\"TransactionDT\"].apply(lambda x: start + pd.Timedelta(seconds=x)).dt.day_name()"
   ]
  },
  {
   "cell_type": "code",
   "execution_count": 34,
   "id": "a552c752",
   "metadata": {
    "ExecuteTime": {
     "end_time": "2021-05-06T16:42:28.861095Z",
     "start_time": "2021-05-06T16:42:28.857139Z"
    }
   },
   "outputs": [
    {
     "data": {
      "text/plain": [
       "180"
      ]
     },
     "execution_count": 34,
     "metadata": {},
     "output_type": "execute_result"
    }
   ],
   "source": [
    "len(list(X_test_hold.columns))"
   ]
  },
  {
   "cell_type": "code",
   "execution_count": 35,
   "id": "7db719cb",
   "metadata": {
    "ExecuteTime": {
     "end_time": "2021-05-06T17:46:27.640770Z",
     "start_time": "2021-05-06T16:42:28.864496Z"
    }
   },
   "outputs": [],
   "source": [
    "y_pred_gs = pipe_gs.predict(X_test_hold)"
   ]
  },
  {
   "cell_type": "code",
   "execution_count": 36,
   "id": "ed16659f",
   "metadata": {
    "ExecuteTime": {
     "end_time": "2021-05-06T17:46:27.903664Z",
     "start_time": "2021-05-06T17:46:27.694804Z"
    }
   },
   "outputs": [
    {
     "name": "stdout",
     "output_type": "stream",
     "text": [
      "Accuracy: 0.94\n"
     ]
    }
   ],
   "source": [
    "print(\"Accuracy: {0:4.2f}\".format(accuracy_score(y_test_hold,y_pred_gs)))"
   ]
  },
  {
   "cell_type": "code",
   "execution_count": 37,
   "id": "9ea79772",
   "metadata": {
    "ExecuteTime": {
     "end_time": "2021-05-06T18:49:36.093716Z",
     "start_time": "2021-05-06T17:46:27.906916Z"
    }
   },
   "outputs": [],
   "source": [
    "y_test_hold_probs = pipe_gs.predict_proba(X_test_hold)[:, 1]"
   ]
  },
  {
   "cell_type": "code",
   "execution_count": 38,
   "id": "c5b6295c",
   "metadata": {
    "ExecuteTime": {
     "end_time": "2021-05-06T18:49:36.397971Z",
     "start_time": "2021-05-06T18:49:36.141715Z"
    }
   },
   "outputs": [
    {
     "name": "stdout",
     "output_type": "stream",
     "text": [
      "roc_auc_score: 0.87\n"
     ]
    }
   ],
   "source": [
    "print(\"roc_auc_score: {0:4.2f}\".format(roc_auc_score(y_test_hold, y_test_hold_probs)))"
   ]
  },
  {
   "cell_type": "code",
   "execution_count": null,
   "id": "47e6d8d9",
   "metadata": {},
   "outputs": [],
   "source": []
  },
  {
   "cell_type": "code",
   "execution_count": 39,
   "id": "70094c46",
   "metadata": {
    "ExecuteTime": {
     "end_time": "2021-05-06T18:49:36.963569Z",
     "start_time": "2021-05-06T18:49:36.400820Z"
    }
   },
   "outputs": [
    {
     "data": {
      "text/plain": [
       "['pipe_gs1.joblib']"
      ]
     },
     "execution_count": 39,
     "metadata": {},
     "output_type": "execute_result"
    }
   ],
   "source": [
    "from joblib import dump, load\n",
    "dump(pipe_gs, 'pipe_gs1.joblib') "
   ]
  },
  {
   "cell_type": "code",
   "execution_count": 40,
   "id": "3d9f33e5",
   "metadata": {
    "ExecuteTime": {
     "end_time": "2021-05-06T18:49:36.976579Z",
     "start_time": "2021-05-06T18:49:36.967853Z"
    }
   },
   "outputs": [],
   "source": [
    "# raise Exception(\"Stop right here!\") "
   ]
  },
  {
   "cell_type": "markdown",
   "id": "b4cdfbe4",
   "metadata": {},
   "source": [
    "# Finally predict the Kaggle test data set"
   ]
  },
  {
   "cell_type": "code",
   "execution_count": 61,
   "id": "e9ed4fd0",
   "metadata": {
    "ExecuteTime": {
     "end_time": "2021-05-06T20:45:20.192653Z",
     "start_time": "2021-05-06T20:44:23.251898Z"
    }
   },
   "outputs": [
    {
     "data": {
      "text/plain": [
       "(506691, 432)"
      ]
     },
     "execution_count": 61,
     "metadata": {},
     "output_type": "execute_result"
    }
   ],
   "source": [
    "test_identity = pd.read_csv('data/ieee-fraud-detection/test_identity.csv')\n",
    "test_transaction = pd.read_csv('data/ieee-fraud-detection/test_transaction.csv')\n",
    "test = pd.merge(test_transaction, test_identity, on='TransactionID', how='left')\n",
    "transactionID = test.pop(\"TransactionID\")\n",
    "test.shape"
   ]
  },
  {
   "cell_type": "code",
   "execution_count": 62,
   "id": "d7aa73f6",
   "metadata": {
    "ExecuteTime": {
     "end_time": "2021-05-06T20:45:20.275423Z",
     "start_time": "2021-05-06T20:45:20.224302Z"
    }
   },
   "outputs": [],
   "source": [
    "test.columns=test.columns.str.replace('-','_')"
   ]
  },
  {
   "cell_type": "code",
   "execution_count": 63,
   "id": "205a574c",
   "metadata": {
    "ExecuteTime": {
     "end_time": "2021-05-06T20:45:42.994009Z",
     "start_time": "2021-05-06T20:45:20.280962Z"
    }
   },
   "outputs": [],
   "source": [
    "test.drop(columns=dropped_columns, inplace=True)"
   ]
  },
  {
   "cell_type": "code",
   "execution_count": 64,
   "id": "d8d76c88",
   "metadata": {
    "ExecuteTime": {
     "end_time": "2021-05-06T20:45:50.439526Z",
     "start_time": "2021-05-06T20:45:43.013855Z"
    }
   },
   "outputs": [],
   "source": [
    "test.loc[:, \"TransactionDT\"] = test[\"TransactionDT\"].apply(lambda x: start + pd.Timedelta(seconds=x)).dt.day_name()"
   ]
  },
  {
   "cell_type": "code",
   "execution_count": 65,
   "id": "728fd9e1",
   "metadata": {
    "ExecuteTime": {
     "end_time": "2021-05-06T20:45:50.451178Z",
     "start_time": "2021-05-06T20:45:50.442352Z"
    }
   },
   "outputs": [
    {
     "data": {
      "text/plain": [
       "180"
      ]
     },
     "execution_count": 65,
     "metadata": {},
     "output_type": "execute_result"
    }
   ],
   "source": [
    "len(list(test.columns))"
   ]
  },
  {
   "cell_type": "code",
   "execution_count": 66,
   "id": "a169e2ba",
   "metadata": {
    "ExecuteTime": {
     "end_time": "2021-05-06T21:51:54.663408Z",
     "start_time": "2021-05-06T20:45:50.455803Z"
    }
   },
   "outputs": [],
   "source": [
    "test_isFraud_prob = pipe_gs.predict_proba(test)[:, 1]"
   ]
  },
  {
   "cell_type": "code",
   "execution_count": null,
   "id": "ca3bcf26",
   "metadata": {},
   "outputs": [],
   "source": []
  },
  {
   "cell_type": "code",
   "execution_count": 69,
   "id": "69ae5825",
   "metadata": {
    "ExecuteTime": {
     "end_time": "2021-05-06T21:54:10.887816Z",
     "start_time": "2021-05-06T21:54:09.994209Z"
    }
   },
   "outputs": [],
   "source": [
    "submission = pd.DataFrame({\"TransactionID\": transactionID, \"isFraud\": test_isFraud_prob}) \n",
    "submission.to_csv(\"data/submission.csv\", index=False)"
   ]
  },
  {
   "cell_type": "code",
   "execution_count": null,
   "id": "9aa614ad",
   "metadata": {},
   "outputs": [],
   "source": []
  },
  {
   "cell_type": "code",
   "execution_count": null,
   "id": "8689c54f",
   "metadata": {},
   "outputs": [],
   "source": []
  }
 ],
 "metadata": {
  "kernelspec": {
   "display_name": "Python 3",
   "language": "python",
   "name": "python3"
  },
  "language_info": {
   "codemirror_mode": {
    "name": "ipython",
    "version": 3
   },
   "file_extension": ".py",
   "mimetype": "text/x-python",
   "name": "python",
   "nbconvert_exporter": "python",
   "pygments_lexer": "ipython3",
   "version": "3.8.5"
  }
 },
 "nbformat": 4,
 "nbformat_minor": 5
}
