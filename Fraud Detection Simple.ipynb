{
 "cells": [
  {
   "cell_type": "markdown",
   "id": "smooth-drink",
   "metadata": {},
   "source": [
    "Transaction Table *\n",
    "\n",
    "* TransactionDT: timedelta from a given reference datetime (not an actual timestamp)\n",
    "* TransactionAMT: transaction payment amount in USD\n",
    "* ProductCD: product code, the product for each transaction\n",
    "* card1 - card6: payment card information, such as card type, card category, issue bank, country, etc.\n",
    "* addr: address\n",
    "* dist: distance\n",
    "* P_ and (R__) emaildomain: purchaser and recipient email domain\n",
    "* C1-C14: counting, such as how many addresses are found to be associated with the payment card, etc. The actual meaning is masked.\n",
    "* D1-D15: timedelta, such as days between previous transaction, etc.\n",
    "* M1-M9: match, such as names on card and address, etc.\n",
    "* Vxxx: Vesta engineered rich features, including ranking, counting, and other entity relations.\n",
    "\n",
    "Categorical Features:\n",
    "\n",
    "* ProductCD\n",
    "* card1 - card6\n",
    "* addr1, addr2\n",
    "* P_emaildomain\n",
    "* R_emaildomain\n",
    "* M1 - M9\n",
    "\n",
    "Identity Table *\n",
    "\n",
    "Variables in this table are identity information – network connection information (IP, ISP, Proxy, etc) and digital signature (UA/browser/os/version, etc) associated with transactions.\n",
    "They're collected by Vesta’s fraud protection system and digital security partners.\n",
    "(The field names are masked and pairwise dictionary will not be provided for privacy protection and contract agreement)\n",
    "\n",
    "* Categorical Features:\n",
    "* DeviceType\n",
    "* DeviceInfo\n",
    "* id_12 - id_38\n",
    "\n"
   ]
  },
  {
   "cell_type": "code",
   "execution_count": 14,
   "id": "confidential-exchange",
   "metadata": {
    "ExecuteTime": {
     "end_time": "2021-04-30T08:50:09.300152Z",
     "start_time": "2021-04-30T08:50:09.279915Z"
    }
   },
   "outputs": [],
   "source": [
    "import pandas as pd\n",
    "import numpy as np\n",
    "import gc\n",
    "import re\n",
    "from collections import defaultdict\n",
    "import matplotlib.pyplot as plt\n",
    "import seaborn as sns\n",
    "from sklearn.preprocessing import StandardScaler, OneHotEncoder\n",
    "from sklearn.model_selection import train_test_split\n",
    "from sklearn.impute import SimpleImputer, KNNImputer\n",
    "from sklearn.naive_bayes import MultinomialNB, GaussianNB, BernoulliNB\n",
    "from sklearn.naive_bayes import CategoricalNB\n",
    "from sklearn.metrics import confusion_matrix, accuracy_score\n",
    "from sklearn.svm import OneClassSVM\n",
    "from sklearn.neighbors import KNeighborsClassifier\n",
    "from sklearn.model_selection import cross_val_score\n",
    "from sklearn.tree import DecisionTreeClassifier\n",
    "from sklearn.metrics import classification_report\n",
    "\n",
    "\n",
    "from matplotlib import rcParams\n",
    "# figure size in inches\n",
    "rcParams['figure.figsize'] = 12, 10"
   ]
  },
  {
   "cell_type": "code",
   "execution_count": 15,
   "id": "confidential-laser",
   "metadata": {
    "ExecuteTime": {
     "end_time": "2021-04-30T08:50:44.483984Z",
     "start_time": "2021-04-30T08:50:09.302346Z"
    }
   },
   "outputs": [],
   "source": [
    "train_identity = pd.read_csv('data/ieee-fraud-detection/train_identity.csv')\n",
    "train_transaction = pd.read_csv('data/ieee-fraud-detection/train_transaction.csv')"
   ]
  },
  {
   "cell_type": "code",
   "execution_count": 16,
   "id": "appreciated-jacob",
   "metadata": {
    "ExecuteTime": {
     "end_time": "2021-04-30T08:51:24.823328Z",
     "start_time": "2021-04-30T08:50:44.486710Z"
    }
   },
   "outputs": [
    {
     "data": {
      "text/plain": [
       "(590540, 95)"
      ]
     },
     "execution_count": 16,
     "metadata": {},
     "output_type": "execute_result"
    }
   ],
   "source": [
    "train = pd.merge(train_transaction, train_identity, on='TransactionID', how='left')\n",
    "train = train.drop(columns=[x for x in train.columns if x.startswith(\"V\")])\n",
    "train.shape"
   ]
  },
  {
   "cell_type": "code",
   "execution_count": 17,
   "id": "lovely-garage",
   "metadata": {
    "ExecuteTime": {
     "end_time": "2021-04-30T08:51:28.293890Z",
     "start_time": "2021-04-30T08:51:24.855431Z"
    }
   },
   "outputs": [
    {
     "data": {
      "text/plain": [
       "40"
      ]
     },
     "execution_count": 17,
     "metadata": {},
     "output_type": "execute_result"
    }
   ],
   "source": [
    "del train_identity, train_transaction\n",
    "gc.collect()"
   ]
  },
  {
   "cell_type": "code",
   "execution_count": 18,
   "id": "floral-biography",
   "metadata": {
    "ExecuteTime": {
     "end_time": "2021-04-30T08:52:03.177555Z",
     "start_time": "2021-04-30T08:51:28.295381Z"
    }
   },
   "outputs": [],
   "source": [
    "test_identity = pd.read_csv('data/ieee-fraud-detection/test_identity.csv')\n",
    "test_transaction = pd.read_csv('data/ieee-fraud-detection/test_transaction.csv')"
   ]
  },
  {
   "cell_type": "code",
   "execution_count": 19,
   "id": "standard-aerospace",
   "metadata": {
    "ExecuteTime": {
     "end_time": "2021-04-30T08:52:34.703527Z",
     "start_time": "2021-04-30T08:52:03.179122Z"
    }
   },
   "outputs": [
    {
     "data": {
      "text/plain": [
       "(506691, 94)"
      ]
     },
     "execution_count": 19,
     "metadata": {},
     "output_type": "execute_result"
    }
   ],
   "source": [
    "test = pd.merge(test_transaction, test_identity, on='TransactionID', how='left')\n",
    "test = test.drop(columns=[x for x in test.columns if x.startswith(\"V\")])\n",
    "test.shape"
   ]
  },
  {
   "cell_type": "code",
   "execution_count": 20,
   "id": "excessive-invitation",
   "metadata": {
    "ExecuteTime": {
     "end_time": "2021-04-30T08:52:38.048463Z",
     "start_time": "2021-04-30T08:52:34.736128Z"
    }
   },
   "outputs": [
    {
     "data": {
      "text/plain": [
       "40"
      ]
     },
     "execution_count": 20,
     "metadata": {},
     "output_type": "execute_result"
    }
   ],
   "source": [
    "del test_identity, test_transaction\n",
    "gc.collect()"
   ]
  },
  {
   "cell_type": "markdown",
   "id": "acting-grammar",
   "metadata": {},
   "source": [
    "### need to set value for the test set "
   ]
  },
  {
   "cell_type": "code",
   "execution_count": 21,
   "id": "breathing-strike",
   "metadata": {
    "ExecuteTime": {
     "end_time": "2021-04-30T08:52:38.082619Z",
     "start_time": "2021-04-30T08:52:38.054470Z"
    }
   },
   "outputs": [],
   "source": [
    "test[\"isFraud\"] = \"test\""
   ]
  },
  {
   "cell_type": "code",
   "execution_count": 22,
   "id": "understood-theory",
   "metadata": {
    "ExecuteTime": {
     "end_time": "2021-04-30T08:52:38.092008Z",
     "start_time": "2021-04-30T08:52:38.085089Z"
    }
   },
   "outputs": [],
   "source": [
    "test.columns=test.columns.str.replace('-','_')"
   ]
  },
  {
   "cell_type": "code",
   "execution_count": 23,
   "id": "imposed-posting",
   "metadata": {
    "ExecuteTime": {
     "end_time": "2021-04-30T08:52:45.571711Z",
     "start_time": "2021-04-30T08:52:38.094430Z"
    }
   },
   "outputs": [
    {
     "name": "stdout",
     "output_type": "stream",
     "text": [
      "590540 frauds\n",
      "20663 yes \n",
      "569877 no\n"
     ]
    }
   ],
   "source": [
    "# move isFraud to end\n",
    "isFraud = train['isFraud']\n",
    "train.drop(labels=['isFraud'], axis=1, inplace = True)\n",
    "train['isFraud'] = isFraud\n",
    "del isFraud\n",
    "\n",
    "# print amount of each\n",
    "frauds = train.shape[0]\n",
    "yes = train['isFraud'].sum()\n",
    "no = frauds - yes\n",
    "print('{} frauds'.format(frauds))\n",
    "print('{} yes \\n{} no'.format(yes,no))"
   ]
  },
  {
   "cell_type": "code",
   "execution_count": 24,
   "id": "equal-official",
   "metadata": {
    "ExecuteTime": {
     "end_time": "2021-04-30T08:52:45.583327Z",
     "start_time": "2021-04-30T08:52:45.576822Z"
    }
   },
   "outputs": [
    {
     "name": "stdout",
     "output_type": "stream",
     "text": [
      "['TransactionID', 'TransactionDT', 'TransactionAmt', 'ProductCD', 'card1', 'card2', 'card3', 'card4', 'card5', 'card6', 'addr1', 'addr2', 'dist1', 'dist2', 'P_emaildomain', 'R_emaildomain', 'C1', 'C2', 'C3', 'C4', 'C5', 'C6', 'C7', 'C8', 'C9', 'C10', 'C11', 'C12', 'C13', 'C14', 'D1', 'D2', 'D3', 'D4', 'D5', 'D6', 'D7', 'D8', 'D9', 'D10', 'D11', 'D12', 'D13', 'D14', 'D15', 'M1', 'M2', 'M3', 'M4', 'M5', 'M6', 'M7', 'M8', 'M9', 'id_01', 'id_02', 'id_03', 'id_04', 'id_05', 'id_06', 'id_07', 'id_08', 'id_09', 'id_10', 'id_11', 'id_12', 'id_13', 'id_14', 'id_15', 'id_16', 'id_17', 'id_18', 'id_19', 'id_20', 'id_21', 'id_22', 'id_23', 'id_24', 'id_25', 'id_26', 'id_27', 'id_28', 'id_29', 'id_30', 'id_31', 'id_32', 'id_33', 'id_34', 'id_35', 'id_36', 'id_37', 'id_38', 'DeviceType', 'DeviceInfo', 'isFraud']\n"
     ]
    }
   ],
   "source": [
    "print(list(train.columns))"
   ]
  },
  {
   "cell_type": "code",
   "execution_count": 25,
   "id": "consecutive-leeds",
   "metadata": {
    "ExecuteTime": {
     "end_time": "2021-04-30T08:52:45.593516Z",
     "start_time": "2021-04-30T08:52:45.587213Z"
    },
    "scrolled": true
   },
   "outputs": [
    {
     "name": "stdout",
     "output_type": "stream",
     "text": [
      "['TransactionID', 'TransactionDT', 'TransactionAmt', 'ProductCD', 'card1', 'card2', 'card3', 'card4', 'card5', 'card6', 'addr1', 'addr2', 'dist1', 'dist2', 'P_emaildomain', 'R_emaildomain', 'C1', 'C2', 'C3', 'C4', 'C5', 'C6', 'C7', 'C8', 'C9', 'C10', 'C11', 'C12', 'C13', 'C14', 'D1', 'D2', 'D3', 'D4', 'D5', 'D6', 'D7', 'D8', 'D9', 'D10', 'D11', 'D12', 'D13', 'D14', 'D15', 'M1', 'M2', 'M3', 'M4', 'M5', 'M6', 'M7', 'M8', 'M9', 'id_01', 'id_02', 'id_03', 'id_04', 'id_05', 'id_06', 'id_07', 'id_08', 'id_09', 'id_10', 'id_11', 'id_12', 'id_13', 'id_14', 'id_15', 'id_16', 'id_17', 'id_18', 'id_19', 'id_20', 'id_21', 'id_22', 'id_23', 'id_24', 'id_25', 'id_26', 'id_27', 'id_28', 'id_29', 'id_30', 'id_31', 'id_32', 'id_33', 'id_34', 'id_35', 'id_36', 'id_37', 'id_38', 'DeviceType', 'DeviceInfo', 'isFraud']\n"
     ]
    }
   ],
   "source": [
    "print(list(test.columns))"
   ]
  },
  {
   "cell_type": "code",
   "execution_count": 27,
   "id": "tight-whole",
   "metadata": {
    "ExecuteTime": {
     "end_time": "2021-04-30T08:53:45.416037Z",
     "start_time": "2021-04-30T08:53:36.477526Z"
    }
   },
   "outputs": [
    {
     "data": {
      "text/plain": [
       "True"
      ]
     },
     "execution_count": 27,
     "metadata": {},
     "output_type": "execute_result"
    }
   ],
   "source": [
    "list(test.columns) == list(train.columns)"
   ]
  },
  {
   "cell_type": "code",
   "execution_count": 28,
   "id": "constitutional-failure",
   "metadata": {
    "ExecuteTime": {
     "end_time": "2021-04-30T08:54:50.354040Z",
     "start_time": "2021-04-30T08:54:44.107958Z"
    }
   },
   "outputs": [
    {
     "data": {
      "text/plain": [
       "1267"
      ]
     },
     "execution_count": 28,
     "metadata": {},
     "output_type": "execute_result"
    }
   ],
   "source": [
    "test.to_pickle(\"test.pkl\")\n",
    "train.to_pickle(\"train.pkl\")\n",
    "# save space and make sure to not edit this\n",
    "del test\n",
    "gc.collect()"
   ]
  },
  {
   "cell_type": "markdown",
   "id": "serial-noise",
   "metadata": {},
   "source": [
    "## add new column for same emails"
   ]
  },
  {
   "cell_type": "code",
   "execution_count": 29,
   "id": "bizarre-wagner",
   "metadata": {
    "ExecuteTime": {
     "end_time": "2021-04-30T08:54:59.298215Z",
     "start_time": "2021-04-30T08:54:50.355890Z"
    }
   },
   "outputs": [],
   "source": [
    "train['is_email_same'] = train.apply(lambda x: x['P_emaildomain']== x['R_emaildomain'] and x['R_emaildomain'] != np.nan, axis=1)"
   ]
  },
  {
   "cell_type": "markdown",
   "id": "greatest-machinery",
   "metadata": {},
   "source": [
    "# Start to prepare Train for finding best models"
   ]
  },
  {
   "cell_type": "markdown",
   "id": "excess-exhaust",
   "metadata": {},
   "source": [
    "## remove columns over 80% missing"
   ]
  },
  {
   "cell_type": "code",
   "execution_count": 30,
   "id": "steady-helen",
   "metadata": {
    "ExecuteTime": {
     "end_time": "2021-04-30T08:55:01.584810Z",
     "start_time": "2021-04-30T08:54:59.300041Z"
    }
   },
   "outputs": [
    {
     "name": "stdout",
     "output_type": "stream",
     "text": [
      "remove_columns limit: 0.8\n",
      "missing perc (first 20): {'id_24': 0.9919615944728554, 'id_25': 0.9913096487960172, 'id_08': 0.9912707013919464, 'id_07': 0.9912707013919464, 'id_21': 0.9912639279303688, 'id_26': 0.9912571544687913, 'id_22': 0.9912469942764249, 'id_23': 0.9912469942764249, 'id_27': 0.9912469942764249, 'dist2': 0.9362837403054831, 'D7': 0.9340992989467267, 'id_18': 0.9236072069631185, 'D13': 0.8950926270870728, 'D14': 0.8946946862193924, 'D12': 0.8904104717715988, 'id_03': 0.8876892335828225, 'id_04': 0.8876892335828225, 'D6': 0.8760676668811597, 'id_33': 0.8758949436109323, 'D8': 0.8731229044603245}\n",
      "Columns over the limit (first 20): Index(['id_24', 'id_25', 'id_08', 'id_07', 'id_21', 'id_26', 'id_22', 'id_23',\n",
      "       'id_27', 'dist2', 'D7', 'id_18', 'D13', 'D14', 'D12', 'id_03', 'id_04',\n",
      "       'D6', 'id_33', 'D8'],\n",
      "      dtype='object')\n",
      "before drop: (590540, 96)\n",
      "after drop: (590540, 69)\n"
     ]
    }
   ],
   "source": [
    "columns_dropped = []\n",
    "\n",
    "def remove_columns(perc_limit):\n",
    "    missing_perc = (train.isna().sum() / train.isna().count()).sort_values(ascending=False)\n",
    "    print(\"remove_columns limit:\", perc_limit)\n",
    "    print(\"missing perc (first 20):\", dict(missing_perc[:20]))\n",
    "    perc_too_high_cols = missing_perc[missing_perc > perc_limit].index\n",
    "    print(\"Columns over the limit (first 20):\",perc_too_high_cols[:20])\n",
    "    print(\"before drop:\", train.shape)\n",
    "    columns_dropped.extend(perc_too_high_cols)\n",
    "    train.drop(columns=perc_too_high_cols, inplace=True)\n",
    "    print(\"after drop:\", train.shape)\n",
    "    \n",
    "remove_columns(0.80)"
   ]
  },
  {
   "cell_type": "markdown",
   "id": "simple-russian",
   "metadata": {},
   "source": [
    "## Remove too many NaN on rows"
   ]
  },
  {
   "cell_type": "code",
   "execution_count": 31,
   "id": "radical-month",
   "metadata": {
    "ExecuteTime": {
     "end_time": "2021-04-30T08:55:03.046646Z",
     "start_time": "2021-04-30T08:55:01.586620Z"
    }
   },
   "outputs": [
    {
     "name": "stdout",
     "output_type": "stream",
     "text": [
      "(590540, 69)\n",
      "(11074, 69)\n",
      "(11074, 69) ['TransactionID', 'TransactionDT', 'TransactionAmt', 'ProductCD', 'card1', 'card2', 'card3', 'card4', 'card5', 'card6', 'addr1', 'addr2', 'dist1', 'P_emaildomain', 'R_emaildomain', 'C1', 'C2', 'C3', 'C4', 'C5', 'C6', 'C7', 'C8', 'C9', 'C10', 'C11', 'C12', 'C13', 'C14', 'D1', 'D2', 'D3', 'D4', 'D5', 'D10', 'D11', 'D15', 'M1', 'M2', 'M3', 'M4', 'M5', 'M6', 'M7', 'M8', 'M9', 'id_01', 'id_02', 'id_05', 'id_06', 'id_11', 'id_12', 'id_13', 'id_15', 'id_16', 'id_17', 'id_19', 'id_20', 'id_28', 'id_29', 'id_31', 'id_35', 'id_36', 'id_37', 'id_38', 'DeviceType', 'DeviceInfo', 'isFraud', 'is_email_same']\n"
     ]
    }
   ],
   "source": [
    "def drop_more_than_N_Nan(N): # of the 68 columns, only 12 allowed to be NaN\n",
    "    print(train.shape)\n",
    "    train.dropna(thresh=train.shape[1]-N, axis=0, inplace=True)\n",
    "    print(train.shape)\n",
    "    \n",
    "drop_more_than_N_Nan(12)\n",
    "print(train.shape, list(train.columns))"
   ]
  },
  {
   "cell_type": "code",
   "execution_count": 32,
   "id": "distinguished-material",
   "metadata": {
    "ExecuteTime": {
     "end_time": "2021-04-30T08:55:03.056777Z",
     "start_time": "2021-04-30T08:55:03.048831Z"
    }
   },
   "outputs": [
    {
     "data": {
      "text/plain": [
       "((11074, 68),\n",
       " Index(['TransactionDT', 'TransactionAmt', 'ProductCD', 'card1', 'card2',\n",
       "        'card3', 'card4', 'card5', 'card6', 'addr1', 'addr2', 'dist1',\n",
       "        'P_emaildomain', 'R_emaildomain', 'C1', 'C2', 'C3', 'C4', 'C5', 'C6',\n",
       "        'C7', 'C8', 'C9', 'C10', 'C11', 'C12', 'C13', 'C14', 'D1', 'D2', 'D3',\n",
       "        'D4', 'D5', 'D10', 'D11', 'D15', 'M1', 'M2', 'M3', 'M4', 'M5', 'M6',\n",
       "        'M7', 'M8', 'M9', 'id_01', 'id_02', 'id_05', 'id_06', 'id_11', 'id_12',\n",
       "        'id_13', 'id_15', 'id_16', 'id_17', 'id_19', 'id_20', 'id_28', 'id_29',\n",
       "        'id_31', 'id_35', 'id_36', 'id_37', 'id_38', 'DeviceType', 'DeviceInfo',\n",
       "        'isFraud', 'is_email_same'],\n",
       "       dtype='object'))"
      ]
     },
     "execution_count": 32,
     "metadata": {},
     "output_type": "execute_result"
    }
   ],
   "source": [
    "train.set_index(\"TransactionID\", inplace=True)\n",
    "train.shape, train.columns"
   ]
  },
  {
   "cell_type": "markdown",
   "id": "acute-hello",
   "metadata": {},
   "source": [
    "## check categories"
   ]
  },
  {
   "cell_type": "code",
   "execution_count": 33,
   "id": "planned-philippines",
   "metadata": {
    "ExecuteTime": {
     "end_time": "2021-04-30T08:55:03.144277Z",
     "start_time": "2021-04-30T08:55:03.058136Z"
    }
   },
   "outputs": [
    {
     "name": "stdout",
     "output_type": "stream",
     "text": [
      "P_emaildomain: 46\n",
      "['gmail.com' 'anonymous.com' 'hotmail.com' 'att.net' 'outlook.com'\n",
      " 'servicios-ta.com' 'yahoo.com.mx' 'icloud.com' 'live.com.mx' 'msn.com'\n",
      " 'aol.com' 'yahoo.com' 'verizon.net' 'web.de' 'yahoo.fr' 'hotmail.fr'\n",
      " 'comcast.net' 'outlook.es' 'earthlink.net' 'prodigy.net.mx'] ....\n",
      "\n",
      "gmail.com        4102\n",
      "hotmail.com      3784\n",
      "anonymous.com    1391\n",
      "outlook.com       308\n",
      "yahoo.com         294\n",
      "yahoo.com.mx      214\n",
      "aol.com           131\n",
      "live.com.mx       127\n",
      "live.com           76\n",
      "outlook.es         64\n",
      "Name: P_emaildomain, dtype: int64\n",
      "\n",
      "\n",
      "R_emaildomain: 49\n",
      "['gmail.com' 'anonymous.com' 'hotmail.com' 'att.net' 'outlook.com'\n",
      " 'servicios-ta.com' 'yahoo.com.mx' nan 'icloud.com' 'live.com.mx'\n",
      " 'msn.com' 'aol.com' 'yahoo.com' 'verizon.net' 'bellsouth.net' 'web.de'\n",
      " 'yahoo.fr' 'hotmail.fr' 'comcast.net' 'outlook.es'] ....\n",
      "\n",
      "gmail.com        4133\n",
      "hotmail.com      3780\n",
      "anonymous.com    1387\n",
      "outlook.com       308\n",
      "yahoo.com         279\n",
      "yahoo.com.mx      214\n",
      "live.com.mx       135\n",
      "aol.com           117\n",
      "live.com           75\n",
      "outlook.es         64\n",
      "Name: R_emaildomain, dtype: int64\n",
      "\n",
      "\n",
      "id_31: 95\n",
      "['chrome 62.0' 'chrome 62.0 for android' 'edge 15.0'\n",
      " 'chrome 61.0 for android' 'samsung browser 6.2' 'firefox 57.0'\n",
      " 'chrome 55.0' 'ie' 'ie 11.0 for desktop' 'mobile safari 10.0'\n",
      " 'chrome 59.0' 'chrome 61.0' 'chrome generic' 'safari generic' 'firefox'\n",
      " 'mobile safari 11.0' 'chrome 49.0' 'chrome 56.0 for android'\n",
      " 'chrome 59.0 for android' 'firefox 48.0'] ....\n",
      "\n",
      "chrome 63.0                1771\n",
      "chrome 63.0 for android     865\n",
      "chrome 64.0 for android     718\n",
      "chrome 64.0                 693\n",
      "chrome 65.0 for android     637\n",
      "chrome 65.0                 590\n",
      "chrome 62.0                 584\n",
      "chrome generic              582\n",
      "chrome 66.0 for android     577\n",
      "ie 11.0 for desktop         540\n",
      "Name: id_31, dtype: int64\n",
      "\n",
      "\n",
      "DeviceInfo: 720\n",
      "['Windows' 'LG-K500 Build/MMB29M' 'SM-J700M Build/MMB29K'\n",
      " 'F3113 Build/33.2.A.4.70' 'SAMSUNG SM-G935F Build/NRD90M'\n",
      " 'Windows NT 6.2' 'SM-E500M Build/KTU84P' 'Trident/7.0' 'iOS Device'\n",
      " 'SAMSUNG' 'Moto G (4) Build/NPJS25.93-14-10' 'SM-A500M Build/KTU84P'\n",
      " 'SM-G935F Build/NRD90M' 'SM-G531H Build/LMY48B' 'SM-A720F Build/MMB29K'\n",
      " 'SM-G930U Build/NRD90M' nan 'MacOS' 'LG-K410 Build/LRX22G' 'rv:57.0'] ....\n",
      "\n",
      "Windows                  4849\n",
      "Trident/7.0               504\n",
      "iOS Device                206\n",
      "MacOS                     187\n",
      "SM-J700M Build/MMB29K     137\n",
      "SM-G531H Build/LMY48B     126\n",
      "SM-G610M Build/MMB29K      96\n",
      "rv:11.0                    83\n",
      "rv:57.0                    71\n",
      "SM-G532M Build/MMB29T      71\n",
      "Name: DeviceInfo, dtype: int64\n",
      "\n",
      "\n"
     ]
    }
   ],
   "source": [
    "def check_categories():\n",
    "    for col, values in train.loc[:, train.dtypes == object].iteritems():\n",
    "        num_uniques = values.nunique()\n",
    "        if num_uniques > 5:\n",
    "            print ('{name}: {num_unique}'.format(name=col, num_unique=num_uniques))\n",
    "            print (values.unique()[:20], \"....\")\n",
    "            print (\"\")\n",
    "            print (values.value_counts()[:10])\n",
    "            print ('\\n')\n",
    "            \n",
    "check_categories()"
   ]
  },
  {
   "cell_type": "code",
   "execution_count": 34,
   "id": "mental-bristol",
   "metadata": {
    "ExecuteTime": {
     "end_time": "2021-04-30T08:55:03.148881Z",
     "start_time": "2021-04-30T08:55:03.146210Z"
    }
   },
   "outputs": [],
   "source": [
    "def get_perc(x):\n",
    "    return x.sum()/x.count()"
   ]
  },
  {
   "cell_type": "code",
   "execution_count": 35,
   "id": "distributed-external",
   "metadata": {
    "ExecuteTime": {
     "end_time": "2021-04-30T08:55:03.156610Z",
     "start_time": "2021-04-30T08:55:03.151860Z"
    }
   },
   "outputs": [],
   "source": [
    "email_repl_dict = {re.compile('.*gmail.*'): 'gmail',\n",
    "             re.compile('.*hotmail.*'): 'hotmail',\n",
    "             re.compile('.*yahoo.*'): 'yahoo',\n",
    "             re.compile('.*aol.*'): 'aol',\n",
    "             re.compile('.*anonymous.*'): 'anonymous',\n",
    "             re.compile('.*outlook.*'): 'outlook',\n",
    "             re.compile('.*protonmail.*'): 'protonmail'}"
   ]
  },
  {
   "cell_type": "code",
   "execution_count": 36,
   "id": "promising-partner",
   "metadata": {
    "ExecuteTime": {
     "end_time": "2021-04-30T08:55:03.161927Z",
     "start_time": "2021-04-30T08:55:03.158634Z"
    }
   },
   "outputs": [],
   "source": [
    "d = defaultdict(lambda: 'other')\n",
    "d.update(dict(zip(email_repl_dict.values(), email_repl_dict.values())))"
   ]
  },
  {
   "cell_type": "code",
   "execution_count": 37,
   "id": "commercial-modification",
   "metadata": {
    "ExecuteTime": {
     "end_time": "2021-04-30T08:55:03.369512Z",
     "start_time": "2021-04-30T08:55:03.163319Z"
    }
   },
   "outputs": [
    {
     "data": {
      "text/plain": [
       "gmail        4125\n",
       "hotmail      3883\n",
       "anonymous    1391\n",
       "other         592\n",
       "yahoo         580\n",
       "outlook       372\n",
       "aol           131\n",
       "Name: P_emaildomain, dtype: int64"
      ]
     },
     "execution_count": 37,
     "metadata": {},
     "output_type": "execute_result"
    }
   ],
   "source": [
    "train['P_emaildomain'] = train['P_emaildomain'].replace(email_repl_dict, regex=True, inplace=False).map(d)\n",
    "train['P_emaildomain'].value_counts().head(15)"
   ]
  },
  {
   "cell_type": "code",
   "execution_count": 38,
   "id": "decreased-scottish",
   "metadata": {
    "ExecuteTime": {
     "end_time": "2021-04-30T08:55:03.566684Z",
     "start_time": "2021-04-30T08:55:03.371077Z"
    }
   },
   "outputs": [
    {
     "data": {
      "text/plain": [
       "gmail        4156\n",
       "hotmail      3879\n",
       "anonymous    1387\n",
       "other         596\n",
       "yahoo         567\n",
       "outlook       372\n",
       "aol           117\n",
       "Name: R_emaildomain, dtype: int64"
      ]
     },
     "execution_count": 38,
     "metadata": {},
     "output_type": "execute_result"
    }
   ],
   "source": [
    "train['R_emaildomain'] = train['R_emaildomain'].replace(email_repl_dict, regex=True, inplace=False).map(d)\n",
    "train['R_emaildomain'].value_counts().head(15)"
   ]
  },
  {
   "cell_type": "code",
   "execution_count": 39,
   "id": "empty-proposition",
   "metadata": {
    "ExecuteTime": {
     "end_time": "2021-04-30T08:55:03.573889Z",
     "start_time": "2021-04-30T08:55:03.568730Z"
    }
   },
   "outputs": [],
   "source": [
    "DeviceInfo_repl_dict = {re.compile('.*rv.*'): 'rv',\n",
    "             re.compile('.*indows.*'): 'windows',\n",
    "             re.compile('.*iOS.*'): 'ios',\n",
    "             re.compile('.*Build.*'): 'build',\n",
    "             re.compile('.*rident.*'): 'trident',\n",
    "             re.compile('.*Moto.*'): 'moto'\n",
    "                  }"
   ]
  },
  {
   "cell_type": "code",
   "execution_count": 40,
   "id": "stunning-voluntary",
   "metadata": {
    "ExecuteTime": {
     "end_time": "2021-04-30T08:55:03.756583Z",
     "start_time": "2021-04-30T08:55:03.576742Z"
    }
   },
   "outputs": [
    {
     "data": {
      "text/plain": [
       "windows    4854\n",
       "build      4516\n",
       "other       644\n",
       "trident     504\n",
       "rv          309\n",
       "ios         206\n",
       "moto         41\n",
       "Name: DeviceInfo, dtype: int64"
      ]
     },
     "execution_count": 40,
     "metadata": {},
     "output_type": "execute_result"
    }
   ],
   "source": [
    "d = defaultdict(lambda: 'other')\n",
    "d.update(dict(zip(DeviceInfo_repl_dict.values(), DeviceInfo_repl_dict.values())))\n",
    "train['DeviceInfo'] = train['DeviceInfo'].replace(DeviceInfo_repl_dict, regex=True, inplace=False).map(d)\n",
    "train['DeviceInfo'].value_counts().head(15)"
   ]
  },
  {
   "cell_type": "code",
   "execution_count": 41,
   "id": "appreciated-ancient",
   "metadata": {
    "ExecuteTime": {
     "end_time": "2021-04-30T08:55:03.762435Z",
     "start_time": "2021-04-30T08:55:03.758173Z"
    }
   },
   "outputs": [],
   "source": [
    "id_31_repl_dict = {re.compile('.*icedragon.*'): 'icedragon',\n",
    "             re.compile('.*irefox.*'): 'firefox',\n",
    "             re.compile('.*android.*'): 'android',\n",
    "             re.compile('.*chrome.*'): 'chrome',\n",
    "             re.compile('.*safari.*'): 'safari',\n",
    "             re.compile('.*ie.*'): 'ie',\n",
    "             re.compile('.*edge.*'): 'ie',\n",
    "             re.compile('.*samsung browser.*'): 'samsung',\n",
    "             re.compile('.*opera*'): 'opera'\n",
    "                  }"
   ]
  },
  {
   "cell_type": "code",
   "execution_count": 42,
   "id": "direct-damages",
   "metadata": {
    "ExecuteTime": {
     "end_time": "2021-04-30T08:55:04.013071Z",
     "start_time": "2021-04-30T08:55:03.763688Z"
    }
   },
   "outputs": [
    {
     "data": {
      "text/plain": [
       "chrome     4801\n",
       "android    3834\n",
       "ie          901\n",
       "firefox     615\n",
       "samsung     391\n",
       "safari      368\n",
       "other       156\n",
       "opera         8\n",
       "Name: id_31, dtype: int64"
      ]
     },
     "execution_count": 42,
     "metadata": {},
     "output_type": "execute_result"
    }
   ],
   "source": [
    "d = defaultdict(lambda: 'other')\n",
    "d.update(dict(zip(id_31_repl_dict.values(), id_31_repl_dict.values())))\n",
    "train['id_31'] = train['id_31'].replace(id_31_repl_dict, regex=True, inplace=False).map(d)\n",
    "train['id_31'].value_counts().head(15)"
   ]
  },
  {
   "cell_type": "markdown",
   "id": "plastic-reservation",
   "metadata": {},
   "source": [
    "## again remove empty columns"
   ]
  },
  {
   "cell_type": "code",
   "execution_count": 43,
   "id": "increased-location",
   "metadata": {
    "ExecuteTime": {
     "end_time": "2021-04-30T08:55:04.070442Z",
     "start_time": "2021-04-30T08:55:04.015784Z"
    }
   },
   "outputs": [
    {
     "name": "stdout",
     "output_type": "stream",
     "text": [
      "remove_columns limit: 0.8\n",
      "missing perc (first 20): {'D11': 1.0, 'dist1': 1.0, 'M5': 1.0, 'M3': 1.0, 'M2': 1.0, 'M1': 1.0, 'M8': 1.0, 'M9': 1.0, 'M7': 1.0, 'M6': 1.0, 'addr2': 0.8166877370417194, 'addr1': 0.8166877370417194, 'M4': 0.10502076936969477, 'D3': 0.04117753296008669, 'D2': 0.03955210402745169, 'D10': 0.017518511829510565, 'D15': 0.008849557522123894, 'D5': 0.007946541448437781, 'id_16': 0.005598699656853892, 'id_13': 0.0027090482210583348}\n",
      "Columns over the limit (first 20): Index(['D11', 'dist1', 'M5', 'M3', 'M2', 'M1', 'M8', 'M9', 'M7', 'M6', 'addr2',\n",
      "       'addr1'],\n",
      "      dtype='object')\n",
      "before drop: (11074, 68)\n",
      "after drop: (11074, 56)\n",
      "columns_dropped: ['id_24', 'id_25', 'id_08', 'id_07', 'id_21', 'id_26', 'id_22', 'id_23', 'id_27', 'dist2', 'D7', 'id_18', 'D13', 'D14', 'D12', 'id_03', 'id_04', 'D6', 'id_33', 'D8', 'id_09', 'id_10', 'D9', 'id_30', 'id_32', 'id_34', 'id_14', 'D11', 'dist1', 'M5', 'M3', 'M2', 'M1', 'M8', 'M9', 'M7', 'M6', 'addr2', 'addr1']\n"
     ]
    }
   ],
   "source": [
    "remove_columns(0.80)\n",
    "print(\"columns_dropped:\",columns_dropped)"
   ]
  },
  {
   "cell_type": "markdown",
   "id": "corresponding-cemetery",
   "metadata": {},
   "source": [
    "# some corr matrices "
   ]
  },
  {
   "cell_type": "code",
   "execution_count": 44,
   "id": "abstract-vertical",
   "metadata": {
    "ExecuteTime": {
     "end_time": "2021-04-30T08:55:04.921490Z",
     "start_time": "2021-04-30T08:55:04.072286Z"
    }
   },
   "outputs": [
    {
     "data": {
      "image/png": "[encoded data removed]",
      "text/plain": [
       "<Figure size 864x720 with 2 Axes>"
      ]
     },
     "metadata": {
      "needs_background": "light"
     },
     "output_type": "display_data"
    }
   ],
   "source": [
    "corrMatrix = train.corr()\n",
    "sns.heatmap(corrMatrix, annot=False, cmap=\"Greens\")\n",
    "plt.show()"
   ]
  },
  {
   "cell_type": "markdown",
   "id": "published-round",
   "metadata": {},
   "source": [
    "as we can see no features are highly correlated if the isFruad, because that would make it too easy :) \n",
    "\n",
    "However card3 and is_email_same show promise"
   ]
  },
  {
   "cell_type": "code",
   "execution_count": 45,
   "id": "unable-function",
   "metadata": {
    "ExecuteTime": {
     "end_time": "2021-04-30T08:55:05.013302Z",
     "start_time": "2021-04-30T08:55:04.923018Z"
    }
   },
   "outputs": [
    {
     "name": "stdout",
     "output_type": "stream",
     "text": [
      "                 vals  missing\n",
      "col                           \n",
      "TransactionDT   11070     0.00\n",
      "TransactionAmt   2895     0.00\n",
      "ProductCD           3     0.00\n",
      "card1            1031     0.00\n",
      "card2             164     0.01\n",
      "card3              54     0.00\n",
      "card4               4     0.00\n",
      "card5              44     0.02\n",
      "card6               3     0.00\n",
      "P_emaildomain       7     0.00\n",
      "R_emaildomain       7     0.00\n",
      "C1                108     0.00\n",
      "C2                165     0.00\n",
      "C3                  1     0.00\n",
      "C4                 70     0.00\n",
      "C5                  1     0.00\n",
      "C6                 69     0.00\n",
      "C7                 59     0.00\n",
      "C8                 79     0.00\n",
      "C9                  1     0.00\n",
      "C10                84     0.00\n",
      "C11                98     0.00\n",
      "C12                91     0.00\n",
      "C13               105     0.00\n",
      "C14                48     0.00\n",
      "D1                600     0.00\n",
      "D2                598     3.96\n",
      "D3                464     4.12\n",
      "D4                711     0.00\n",
      "D5                463     0.79\n",
      "D10               350     1.75\n",
      "D15               664     0.88\n",
      "M4                  3    10.50\n",
      "id_01              25     0.00\n",
      "id_02           10927     0.00\n",
      "id_05              61     0.02\n",
      "id_06              78     0.02\n",
      "id_11              64     0.00\n",
      "id_12               2     0.00\n",
      "id_13              27     0.27\n",
      "id_15               3     0.00\n",
      "id_16               2     0.56\n",
      "id_17              42     0.00\n",
      "id_19             201     0.00\n",
      "id_20             174     0.03\n",
      "id_28               2     0.00\n",
      "id_29               2     0.00\n",
      "id_31               8     0.00\n",
      "id_35               2     0.00\n",
      "id_36               2     0.00\n",
      "id_37               2     0.00\n",
      "id_38               2     0.00\n",
      "DeviceType          2     0.00\n",
      "DeviceInfo          7     0.00\n",
      "isFraud             2     0.00\n",
      "is_email_same       2     0.00\n"
     ]
    }
   ],
   "source": [
    "def missing_vals(df):\n",
    "    x = []\n",
    "    for col in df.columns:\n",
    "        vals = train[col].value_counts().shape[0]\n",
    "        missing = round((train[col].isna().sum()/train[col].shape[0])*100,2)\n",
    "        x.append([col,vals,missing])\n",
    "    with pd.option_context('display.max_rows', None, 'display.max_columns', None):\n",
    "        print(pd.DataFrame(x, columns=[\"col\",\"vals\",\"missing\"]).set_index(\"col\"))\n",
    "\n",
    "missing_vals(train)"
   ]
  },
  {
   "cell_type": "markdown",
   "id": "correct-wednesday",
   "metadata": {},
   "source": [
    "# scale everything"
   ]
  },
  {
   "cell_type": "code",
   "execution_count": 46,
   "id": "experimental-parade",
   "metadata": {
    "ExecuteTime": {
     "end_time": "2021-04-30T08:55:05.056976Z",
     "start_time": "2021-04-30T08:55:05.014438Z"
    },
    "scrolled": true
   },
   "outputs": [],
   "source": [
    "num_cols_mask = (train.dtypes != object) & (train.columns != 'isFraud') & (train.nunique()>2)\n",
    "not_num_cols_mask = (train.dtypes == object)\n",
    "num_cols = train.columns[num_cols_mask]\n",
    "not_num_cols = train.columns[not_num_cols_mask]"
   ]
  },
  {
   "cell_type": "code",
   "execution_count": 47,
   "id": "soviet-moses",
   "metadata": {
    "ExecuteTime": {
     "end_time": "2021-04-30T08:55:05.244154Z",
     "start_time": "2021-04-30T08:55:05.059064Z"
    }
   },
   "outputs": [],
   "source": [
    "scaler = StandardScaler()\n",
    "train[num_cols] = scaler.fit_transform(train[num_cols])"
   ]
  },
  {
   "cell_type": "markdown",
   "id": "particular-conversation",
   "metadata": {},
   "source": [
    "# remove outliers and fill missing"
   ]
  },
  {
   "cell_type": "code",
   "execution_count": 48,
   "id": "prompt-motor",
   "metadata": {
    "ExecuteTime": {
     "end_time": "2021-04-30T08:55:06.658230Z",
     "start_time": "2021-04-30T08:55:05.245603Z"
    }
   },
   "outputs": [
    {
     "name": "stdout",
     "output_type": "stream",
     "text": [
      "(11074, 56)\n",
      "(11074, 56)\n"
     ]
    }
   ],
   "source": [
    "print(train.shape)\n",
    "imp_kNN = KNNImputer(missing_values = np.nan)\n",
    "imp_kNN.fit(train[num_cols])\n",
    "train[num_cols] = imp_kNN.transform(train[num_cols])\n",
    "print(train.shape)"
   ]
  },
  {
   "cell_type": "code",
   "execution_count": 49,
   "id": "inappropriate-cover",
   "metadata": {
    "ExecuteTime": {
     "end_time": "2021-04-30T08:55:06.712161Z",
     "start_time": "2021-04-30T08:55:06.661354Z"
    }
   },
   "outputs": [
    {
     "name": "stdout",
     "output_type": "stream",
     "text": [
      "P_emaildomain: 7\n",
      "['gmail' 'anonymous' 'hotmail' 'other' 'outlook' 'yahoo' 'aol'] ....\n",
      "\n",
      "gmail        4125\n",
      "hotmail      3883\n",
      "anonymous    1391\n",
      "other         592\n",
      "yahoo         580\n",
      "outlook       372\n",
      "aol           131\n",
      "Name: P_emaildomain, dtype: int64\n",
      "\n",
      "\n",
      "R_emaildomain: 7\n",
      "['gmail' 'anonymous' 'hotmail' 'other' 'outlook' 'yahoo' 'aol'] ....\n",
      "\n",
      "gmail        4156\n",
      "hotmail      3879\n",
      "anonymous    1387\n",
      "other         596\n",
      "yahoo         567\n",
      "outlook       372\n",
      "aol           117\n",
      "Name: R_emaildomain, dtype: int64\n",
      "\n",
      "\n",
      "id_31: 8\n",
      "['chrome' 'android' 'ie' 'samsung' 'firefox' 'safari' 'other' 'opera'] ....\n",
      "\n",
      "chrome     4801\n",
      "android    3834\n",
      "ie          901\n",
      "firefox     615\n",
      "samsung     391\n",
      "safari      368\n",
      "other       156\n",
      "opera         8\n",
      "Name: id_31, dtype: int64\n",
      "\n",
      "\n",
      "DeviceInfo: 7\n",
      "['windows' 'build' 'trident' 'ios' 'other' 'rv' 'moto'] ....\n",
      "\n",
      "windows    4854\n",
      "build      4516\n",
      "other       644\n",
      "trident     504\n",
      "rv          309\n",
      "ios         206\n",
      "moto         41\n",
      "Name: DeviceInfo, dtype: int64\n",
      "\n",
      "\n"
     ]
    }
   ],
   "source": [
    "check_categories()"
   ]
  },
  {
   "cell_type": "code",
   "execution_count": 50,
   "id": "strange-amateur",
   "metadata": {
    "ExecuteTime": {
     "end_time": "2021-04-30T08:55:06.736213Z",
     "start_time": "2021-04-30T08:55:06.715542Z"
    }
   },
   "outputs": [
    {
     "name": "stdout",
     "output_type": "stream",
     "text": [
      "(11074, 56)\n"
     ]
    }
   ],
   "source": [
    "train.to_pickle(\"train_beforeSimpleImputer.pkl\")\n",
    "print(train.shape)"
   ]
  },
  {
   "cell_type": "markdown",
   "id": "protecting-nelson",
   "metadata": {},
   "source": [
    "## replace the last few NaN for the models"
   ]
  },
  {
   "cell_type": "code",
   "execution_count": 51,
   "id": "loved-forth",
   "metadata": {
    "ExecuteTime": {
     "end_time": "2021-04-30T08:55:06.803347Z",
     "start_time": "2021-04-30T08:55:06.738657Z"
    }
   },
   "outputs": [],
   "source": [
    "imp = SimpleImputer(missing_values=np.nan, strategy='most_frequent')\n",
    "imp.fit(train[not_num_cols])\n",
    "train[not_num_cols] = imp.transform(train[not_num_cols])"
   ]
  },
  {
   "cell_type": "code",
   "execution_count": 52,
   "id": "logical-columbia",
   "metadata": {
    "ExecuteTime": {
     "end_time": "2021-04-30T08:55:06.828724Z",
     "start_time": "2021-04-30T08:55:06.805485Z"
    }
   },
   "outputs": [
    {
     "name": "stdout",
     "output_type": "stream",
     "text": [
      "(11074, 56)\n"
     ]
    }
   ],
   "source": [
    "train.to_pickle(\"train_beforeOneHotEncoder.pkl\")\n",
    "# train = pd.read_pickle(\"train_beforeOneHotEncoder.pkl\")\n",
    "print(train.shape)"
   ]
  },
  {
   "cell_type": "code",
   "execution_count": 53,
   "id": "numerical-house",
   "metadata": {
    "ExecuteTime": {
     "end_time": "2021-04-30T08:55:06.834969Z",
     "start_time": "2021-04-30T08:55:06.830360Z"
    }
   },
   "outputs": [],
   "source": [
    "def onehot(df, col, categories=None):\n",
    "    print(\"using\", col, categories)\n",
    "    if categories:\n",
    "        enc = OneHotEncoder(sparse=False, categories=(categories,), drop=\"first\")\n",
    "    else:\n",
    "        enc = OneHotEncoder(sparse=False, drop=\"first\")\n",
    "    array_hot_encoded = enc.fit_transform(df[[col]])\n",
    "#     print(\"get_feature_names:\", enc.get_feature_names([col]))\n",
    "#     print(\"categories_:\", enc.categories_)\n",
    "    hot_array = pd.DataFrame(array_hot_encoded, columns=enc.get_feature_names([col]))\n",
    "    print(hot_array.columns)\n",
    "    return pd.concat([df.drop(columns=[col]).reset_index(drop=True), hot_array], axis=1)"
   ]
  },
  {
   "cell_type": "code",
   "execution_count": 54,
   "id": "finite-overhead",
   "metadata": {
    "ExecuteTime": {
     "end_time": "2021-04-30T08:55:06.867032Z",
     "start_time": "2021-04-30T08:55:06.836637Z"
    }
   },
   "outputs": [
    {
     "data": {
      "text/html": [
       "<div>\n",
       "<style scoped>\n",
       "    .dataframe tbody tr th:only-of-type {\n",
       "        vertical-align: middle;\n",
       "    }\n",
       "\n",
       "    .dataframe tbody tr th {\n",
       "        vertical-align: top;\n",
       "    }\n",
       "\n",
       "    .dataframe thead th {\n",
       "        text-align: right;\n",
       "    }\n",
       "</style>\n",
       "<table border=\"1\" class=\"dataframe\">\n",
       "  <thead>\n",
       "    <tr style=\"text-align: right;\">\n",
       "      <th></th>\n",
       "      <th>ProductCD</th>\n",
       "      <th>card4</th>\n",
       "      <th>card6</th>\n",
       "      <th>P_emaildomain</th>\n",
       "      <th>R_emaildomain</th>\n",
       "      <th>M4</th>\n",
       "      <th>id_12</th>\n",
       "      <th>id_15</th>\n",
       "      <th>id_16</th>\n",
       "      <th>id_28</th>\n",
       "      <th>id_29</th>\n",
       "      <th>id_31</th>\n",
       "      <th>id_35</th>\n",
       "      <th>id_36</th>\n",
       "      <th>id_37</th>\n",
       "      <th>id_38</th>\n",
       "      <th>DeviceType</th>\n",
       "      <th>DeviceInfo</th>\n",
       "    </tr>\n",
       "    <tr>\n",
       "      <th>TransactionID</th>\n",
       "      <th></th>\n",
       "      <th></th>\n",
       "      <th></th>\n",
       "      <th></th>\n",
       "      <th></th>\n",
       "      <th></th>\n",
       "      <th></th>\n",
       "      <th></th>\n",
       "      <th></th>\n",
       "      <th></th>\n",
       "      <th></th>\n",
       "      <th></th>\n",
       "      <th></th>\n",
       "      <th></th>\n",
       "      <th></th>\n",
       "      <th></th>\n",
       "      <th></th>\n",
       "      <th></th>\n",
       "    </tr>\n",
       "  </thead>\n",
       "  <tbody>\n",
       "    <tr>\n",
       "      <th>2987010</th>\n",
       "      <td>C</td>\n",
       "      <td>mastercard</td>\n",
       "      <td>credit</td>\n",
       "      <td>gmail</td>\n",
       "      <td>gmail</td>\n",
       "      <td>M0</td>\n",
       "      <td>NotFound</td>\n",
       "      <td>Found</td>\n",
       "      <td>Found</td>\n",
       "      <td>Found</td>\n",
       "      <td>Found</td>\n",
       "      <td>chrome</td>\n",
       "      <td>F</td>\n",
       "      <td>F</td>\n",
       "      <td>T</td>\n",
       "      <td>T</td>\n",
       "      <td>desktop</td>\n",
       "      <td>windows</td>\n",
       "    </tr>\n",
       "    <tr>\n",
       "      <th>2987130</th>\n",
       "      <td>C</td>\n",
       "      <td>visa</td>\n",
       "      <td>credit</td>\n",
       "      <td>gmail</td>\n",
       "      <td>gmail</td>\n",
       "      <td>M0</td>\n",
       "      <td>NotFound</td>\n",
       "      <td>Found</td>\n",
       "      <td>Found</td>\n",
       "      <td>Found</td>\n",
       "      <td>Found</td>\n",
       "      <td>chrome</td>\n",
       "      <td>F</td>\n",
       "      <td>F</td>\n",
       "      <td>T</td>\n",
       "      <td>T</td>\n",
       "      <td>desktop</td>\n",
       "      <td>windows</td>\n",
       "    </tr>\n",
       "    <tr>\n",
       "      <th>2987252</th>\n",
       "      <td>C</td>\n",
       "      <td>mastercard</td>\n",
       "      <td>credit</td>\n",
       "      <td>anonymous</td>\n",
       "      <td>anonymous</td>\n",
       "      <td>M0</td>\n",
       "      <td>NotFound</td>\n",
       "      <td>Found</td>\n",
       "      <td>Found</td>\n",
       "      <td>Found</td>\n",
       "      <td>Found</td>\n",
       "      <td>chrome</td>\n",
       "      <td>F</td>\n",
       "      <td>F</td>\n",
       "      <td>T</td>\n",
       "      <td>T</td>\n",
       "      <td>desktop</td>\n",
       "      <td>windows</td>\n",
       "    </tr>\n",
       "    <tr>\n",
       "      <th>2987258</th>\n",
       "      <td>C</td>\n",
       "      <td>mastercard</td>\n",
       "      <td>credit</td>\n",
       "      <td>anonymous</td>\n",
       "      <td>anonymous</td>\n",
       "      <td>M0</td>\n",
       "      <td>NotFound</td>\n",
       "      <td>Found</td>\n",
       "      <td>Found</td>\n",
       "      <td>Found</td>\n",
       "      <td>Found</td>\n",
       "      <td>chrome</td>\n",
       "      <td>F</td>\n",
       "      <td>F</td>\n",
       "      <td>T</td>\n",
       "      <td>T</td>\n",
       "      <td>desktop</td>\n",
       "      <td>windows</td>\n",
       "    </tr>\n",
       "    <tr>\n",
       "      <th>2987328</th>\n",
       "      <td>C</td>\n",
       "      <td>mastercard</td>\n",
       "      <td>debit</td>\n",
       "      <td>gmail</td>\n",
       "      <td>gmail</td>\n",
       "      <td>M0</td>\n",
       "      <td>NotFound</td>\n",
       "      <td>Found</td>\n",
       "      <td>Found</td>\n",
       "      <td>Found</td>\n",
       "      <td>Found</td>\n",
       "      <td>chrome</td>\n",
       "      <td>F</td>\n",
       "      <td>F</td>\n",
       "      <td>T</td>\n",
       "      <td>T</td>\n",
       "      <td>desktop</td>\n",
       "      <td>windows</td>\n",
       "    </tr>\n",
       "    <tr>\n",
       "      <th>...</th>\n",
       "      <td>...</td>\n",
       "      <td>...</td>\n",
       "      <td>...</td>\n",
       "      <td>...</td>\n",
       "      <td>...</td>\n",
       "      <td>...</td>\n",
       "      <td>...</td>\n",
       "      <td>...</td>\n",
       "      <td>...</td>\n",
       "      <td>...</td>\n",
       "      <td>...</td>\n",
       "      <td>...</td>\n",
       "      <td>...</td>\n",
       "      <td>...</td>\n",
       "      <td>...</td>\n",
       "      <td>...</td>\n",
       "      <td>...</td>\n",
       "      <td>...</td>\n",
       "    </tr>\n",
       "    <tr>\n",
       "      <th>3577365</th>\n",
       "      <td>C</td>\n",
       "      <td>visa</td>\n",
       "      <td>debit</td>\n",
       "      <td>gmail</td>\n",
       "      <td>gmail</td>\n",
       "      <td>M2</td>\n",
       "      <td>NotFound</td>\n",
       "      <td>Found</td>\n",
       "      <td>Found</td>\n",
       "      <td>Found</td>\n",
       "      <td>Found</td>\n",
       "      <td>firefox</td>\n",
       "      <td>F</td>\n",
       "      <td>F</td>\n",
       "      <td>T</td>\n",
       "      <td>F</td>\n",
       "      <td>desktop</td>\n",
       "      <td>windows</td>\n",
       "    </tr>\n",
       "    <tr>\n",
       "      <th>3577469</th>\n",
       "      <td>C</td>\n",
       "      <td>mastercard</td>\n",
       "      <td>credit</td>\n",
       "      <td>hotmail</td>\n",
       "      <td>hotmail</td>\n",
       "      <td>M2</td>\n",
       "      <td>NotFound</td>\n",
       "      <td>Found</td>\n",
       "      <td>Found</td>\n",
       "      <td>Found</td>\n",
       "      <td>Found</td>\n",
       "      <td>chrome</td>\n",
       "      <td>F</td>\n",
       "      <td>F</td>\n",
       "      <td>T</td>\n",
       "      <td>F</td>\n",
       "      <td>desktop</td>\n",
       "      <td>windows</td>\n",
       "    </tr>\n",
       "    <tr>\n",
       "      <th>3577486</th>\n",
       "      <td>C</td>\n",
       "      <td>visa</td>\n",
       "      <td>debit</td>\n",
       "      <td>gmail</td>\n",
       "      <td>gmail</td>\n",
       "      <td>M2</td>\n",
       "      <td>NotFound</td>\n",
       "      <td>New</td>\n",
       "      <td>NotFound</td>\n",
       "      <td>New</td>\n",
       "      <td>NotFound</td>\n",
       "      <td>android</td>\n",
       "      <td>F</td>\n",
       "      <td>F</td>\n",
       "      <td>T</td>\n",
       "      <td>F</td>\n",
       "      <td>mobile</td>\n",
       "      <td>build</td>\n",
       "    </tr>\n",
       "    <tr>\n",
       "      <th>3577499</th>\n",
       "      <td>C</td>\n",
       "      <td>mastercard</td>\n",
       "      <td>credit</td>\n",
       "      <td>hotmail</td>\n",
       "      <td>hotmail</td>\n",
       "      <td>M2</td>\n",
       "      <td>NotFound</td>\n",
       "      <td>Found</td>\n",
       "      <td>Found</td>\n",
       "      <td>Found</td>\n",
       "      <td>Found</td>\n",
       "      <td>firefox</td>\n",
       "      <td>F</td>\n",
       "      <td>F</td>\n",
       "      <td>T</td>\n",
       "      <td>F</td>\n",
       "      <td>desktop</td>\n",
       "      <td>windows</td>\n",
       "    </tr>\n",
       "    <tr>\n",
       "      <th>3577521</th>\n",
       "      <td>C</td>\n",
       "      <td>mastercard</td>\n",
       "      <td>debit</td>\n",
       "      <td>yahoo</td>\n",
       "      <td>yahoo</td>\n",
       "      <td>M2</td>\n",
       "      <td>NotFound</td>\n",
       "      <td>Found</td>\n",
       "      <td>Found</td>\n",
       "      <td>Found</td>\n",
       "      <td>Found</td>\n",
       "      <td>android</td>\n",
       "      <td>F</td>\n",
       "      <td>F</td>\n",
       "      <td>T</td>\n",
       "      <td>F</td>\n",
       "      <td>mobile</td>\n",
       "      <td>build</td>\n",
       "    </tr>\n",
       "  </tbody>\n",
       "</table>\n",
       "<p>11074 rows × 18 columns</p>\n",
       "</div>"
      ],
      "text/plain": [
       "              ProductCD       card4   card6 P_emaildomain R_emaildomain  M4  \\\n",
       "TransactionID                                                                 \n",
       "2987010               C  mastercard  credit         gmail         gmail  M0   \n",
       "2987130               C        visa  credit         gmail         gmail  M0   \n",
       "2987252               C  mastercard  credit     anonymous     anonymous  M0   \n",
       "2987258               C  mastercard  credit     anonymous     anonymous  M0   \n",
       "2987328               C  mastercard   debit         gmail         gmail  M0   \n",
       "...                 ...         ...     ...           ...           ...  ..   \n",
       "3577365               C        visa   debit         gmail         gmail  M2   \n",
       "3577469               C  mastercard  credit       hotmail       hotmail  M2   \n",
       "3577486               C        visa   debit         gmail         gmail  M2   \n",
       "3577499               C  mastercard  credit       hotmail       hotmail  M2   \n",
       "3577521               C  mastercard   debit         yahoo         yahoo  M2   \n",
       "\n",
       "                  id_12  id_15     id_16  id_28     id_29    id_31 id_35  \\\n",
       "TransactionID                                                              \n",
       "2987010        NotFound  Found     Found  Found     Found   chrome     F   \n",
       "2987130        NotFound  Found     Found  Found     Found   chrome     F   \n",
       "2987252        NotFound  Found     Found  Found     Found   chrome     F   \n",
       "2987258        NotFound  Found     Found  Found     Found   chrome     F   \n",
       "2987328        NotFound  Found     Found  Found     Found   chrome     F   \n",
       "...                 ...    ...       ...    ...       ...      ...   ...   \n",
       "3577365        NotFound  Found     Found  Found     Found  firefox     F   \n",
       "3577469        NotFound  Found     Found  Found     Found   chrome     F   \n",
       "3577486        NotFound    New  NotFound    New  NotFound  android     F   \n",
       "3577499        NotFound  Found     Found  Found     Found  firefox     F   \n",
       "3577521        NotFound  Found     Found  Found     Found  android     F   \n",
       "\n",
       "              id_36 id_37 id_38 DeviceType DeviceInfo  \n",
       "TransactionID                                          \n",
       "2987010           F     T     T    desktop    windows  \n",
       "2987130           F     T     T    desktop    windows  \n",
       "2987252           F     T     T    desktop    windows  \n",
       "2987258           F     T     T    desktop    windows  \n",
       "2987328           F     T     T    desktop    windows  \n",
       "...             ...   ...   ...        ...        ...  \n",
       "3577365           F     T     F    desktop    windows  \n",
       "3577469           F     T     F    desktop    windows  \n",
       "3577486           F     T     F     mobile      build  \n",
       "3577499           F     T     F    desktop    windows  \n",
       "3577521           F     T     F     mobile      build  \n",
       "\n",
       "[11074 rows x 18 columns]"
      ]
     },
     "execution_count": 54,
     "metadata": {},
     "output_type": "execute_result"
    }
   ],
   "source": [
    "train[not_num_cols] \n",
    "# columns_dropped"
   ]
  },
  {
   "cell_type": "code",
   "execution_count": 55,
   "id": "married-prisoner",
   "metadata": {
    "ExecuteTime": {
     "end_time": "2021-04-30T08:55:07.462450Z",
     "start_time": "2021-04-30T08:55:06.868443Z"
    }
   },
   "outputs": [
    {
     "name": "stdout",
     "output_type": "stream",
     "text": [
      "using ProductCD None\n",
      "Index(['ProductCD_H', 'ProductCD_R'], dtype='object')\n",
      "using card4 None\n",
      "Index(['card4_discover', 'card4_mastercard', 'card4_visa'], dtype='object')\n",
      "using card6 None\n",
      "Index(['card6_credit', 'card6_debit'], dtype='object')\n",
      "using P_emaildomain ['gmail', 'hotmail', 'yahoo', 'aol', 'anonymous', 'outlook', 'protonmail', 'other']\n",
      "Index(['P_emaildomain_hotmail', 'P_emaildomain_yahoo', 'P_emaildomain_aol',\n",
      "       'P_emaildomain_anonymous', 'P_emaildomain_outlook',\n",
      "       'P_emaildomain_protonmail', 'P_emaildomain_other'],\n",
      "      dtype='object')\n",
      "using R_emaildomain ['gmail', 'hotmail', 'yahoo', 'aol', 'anonymous', 'outlook', 'protonmail', 'other']\n",
      "Index(['R_emaildomain_hotmail', 'R_emaildomain_yahoo', 'R_emaildomain_aol',\n",
      "       'R_emaildomain_anonymous', 'R_emaildomain_outlook',\n",
      "       'R_emaildomain_protonmail', 'R_emaildomain_other'],\n",
      "      dtype='object')\n",
      "using M4 None\n",
      "Index(['M4_M1', 'M4_M2'], dtype='object')\n",
      "using id_12 None\n",
      "Index(['id_12_NotFound'], dtype='object')\n",
      "using id_15 None\n",
      "Index(['id_15_New', 'id_15_Unknown'], dtype='object')\n",
      "using id_16 None\n",
      "Index(['id_16_NotFound'], dtype='object')\n",
      "using id_28 None\n",
      "Index(['id_28_New'], dtype='object')\n",
      "using id_29 None\n",
      "Index(['id_29_NotFound'], dtype='object')\n",
      "using id_31 ['icedragon', 'firefox', 'android', 'chrome', 'safari', 'ie', 'ie', 'samsung', 'opera', 'other']\n",
      "Index(['id_31_firefox', 'id_31_android', 'id_31_chrome', 'id_31_safari',\n",
      "       'id_31_ie', 'id_31_ie', 'id_31_samsung', 'id_31_opera', 'id_31_other'],\n",
      "      dtype='object')\n",
      "using id_35 None\n",
      "Index(['id_35_T'], dtype='object')\n",
      "using id_36 None\n",
      "Index(['id_36_T'], dtype='object')\n",
      "using id_37 None\n",
      "Index(['id_37_T'], dtype='object')\n",
      "using id_38 None\n",
      "Index(['id_38_T'], dtype='object')\n",
      "using DeviceType None\n",
      "Index(['DeviceType_mobile'], dtype='object')\n",
      "using DeviceInfo ['rv', 'windows', 'ios', 'build', 'trident', 'moto', 'other']\n",
      "Index(['DeviceInfo_windows', 'DeviceInfo_ios', 'DeviceInfo_build',\n",
      "       'DeviceInfo_trident', 'DeviceInfo_moto', 'DeviceInfo_other'],\n",
      "      dtype='object')\n"
     ]
    }
   ],
   "source": [
    "train.reset_index(inplace=True)\n",
    "train = onehot(df=train, col='ProductCD')\n",
    "train = onehot(df=train, col='card4')\n",
    "train = onehot(df=train, col='card6')\n",
    "train = onehot(df=train, col='P_emaildomain', categories=list(email_repl_dict.values()) + [\"other\"])\n",
    "train = onehot(df=train, col='R_emaildomain', categories=list(email_repl_dict.values()) + [\"other\"])\n",
    "train = onehot(df=train, col='M4')\n",
    "train = onehot(df=train, col='id_12')\n",
    "train = onehot(df=train, col='id_15')\n",
    "train = onehot(df=train, col='id_16')\n",
    "train = onehot(df=train, col='id_28')\n",
    "train = onehot(df=train, col='id_29')\n",
    "train = onehot(df=train, col='id_31', categories=list(id_31_repl_dict.values()) + [\"other\"])\n",
    "train = onehot(df=train, col='id_35')\n",
    "train = onehot(df=train, col='id_36')\n",
    "train = onehot(df=train, col='id_37')\n",
    "train = onehot(df=train, col='id_38')\n",
    "train = onehot(df=train, col='DeviceType')\n",
    "train = onehot(df=train, col='DeviceInfo', categories=list(DeviceInfo_repl_dict.values()) + [\"other\"])\n",
    "\n",
    "\n",
    "\n"
   ]
  },
  {
   "cell_type": "code",
   "execution_count": 56,
   "id": "limited-coaching",
   "metadata": {
    "ExecuteTime": {
     "end_time": "2021-04-30T08:55:07.470566Z",
     "start_time": "2021-04-30T08:55:07.464196Z"
    }
   },
   "outputs": [],
   "source": [
    "train.set_index(\"TransactionID\", inplace=True)"
   ]
  },
  {
   "cell_type": "code",
   "execution_count": 57,
   "id": "pending-perfume",
   "metadata": {
    "ExecuteTime": {
     "end_time": "2021-04-30T08:55:07.501944Z",
     "start_time": "2021-04-30T08:55:07.474107Z"
    }
   },
   "outputs": [
    {
     "name": "stdout",
     "output_type": "stream",
     "text": [
      "(11074, 87)\n"
     ]
    }
   ],
   "source": [
    "train.to_pickle(\"train_beforeKNeighborsClassifier.pkl\")\n",
    "print(train.shape)"
   ]
  },
  {
   "cell_type": "code",
   "execution_count": 58,
   "id": "humanitarian-drilling",
   "metadata": {
    "ExecuteTime": {
     "end_time": "2021-04-30T08:55:07.514197Z",
     "start_time": "2021-04-30T08:55:07.503594Z"
    }
   },
   "outputs": [
    {
     "data": {
      "text/plain": [
       "TransactionID\n",
       "2987010    0\n",
       "2987130    0\n",
       "2987252    0\n",
       "2987258    0\n",
       "2987328    0\n",
       "          ..\n",
       "3577365    0\n",
       "3577469    0\n",
       "3577486    0\n",
       "3577499    0\n",
       "3577521    0\n",
       "Name: isFraud, Length: 11074, dtype: int64"
      ]
     },
     "execution_count": 58,
     "metadata": {},
     "output_type": "execute_result"
    }
   ],
   "source": [
    "y = train['isFraud']   #target classes\n",
    "X = train.drop('isFraud', axis=1)\n",
    "y"
   ]
  },
  {
   "cell_type": "code",
   "execution_count": 59,
   "id": "following-encoding",
   "metadata": {
    "ExecuteTime": {
     "end_time": "2021-04-30T08:55:09.542926Z",
     "start_time": "2021-04-30T08:55:07.515601Z"
    }
   },
   "outputs": [
    {
     "name": "stdout",
     "output_type": "stream",
     "text": [
      "5x CV Accuracy kNNs: 0.94\n"
     ]
    },
    {
     "data": {
      "text/plain": [
       "array([0.94176072, 0.93860045, 0.93769752, 0.93769752, 0.9295393 ])"
      ]
     },
     "execution_count": 59,
     "metadata": {},
     "output_type": "execute_result"
    }
   ],
   "source": [
    "kNN = KNeighborsClassifier(n_neighbors=3)  \n",
    "kNN_scores = cross_val_score(kNN, X, y, cv=5)\n",
    "print(\"5x CV Accuracy kNNs: {0:.2f}\".format(kNN_scores.mean())) \n",
    "kNN_scores\n"
   ]
  },
  {
   "cell_type": "code",
   "execution_count": null,
   "id": "seven-trial",
   "metadata": {},
   "outputs": [],
   "source": []
  },
  {
   "cell_type": "markdown",
   "id": "varying-costa",
   "metadata": {},
   "source": [
    "# Now for Test"
   ]
  },
  {
   "cell_type": "code",
   "execution_count": 60,
   "id": "horizontal-endorsement",
   "metadata": {
    "ExecuteTime": {
     "end_time": "2021-04-30T08:55:10.798290Z",
     "start_time": "2021-04-30T08:55:09.544396Z"
    }
   },
   "outputs": [],
   "source": [
    "test = pd.read_pickle(\"test.pkl\")"
   ]
  },
  {
   "cell_type": "code",
   "execution_count": 61,
   "id": "driving-helping",
   "metadata": {
    "ExecuteTime": {
     "end_time": "2021-04-30T08:55:11.553275Z",
     "start_time": "2021-04-30T08:55:10.800180Z"
    }
   },
   "outputs": [
    {
     "name": "stdout",
     "output_type": "stream",
     "text": [
      "dropping these: ['id_24', 'id_25', 'id_08', 'id_07', 'id_21', 'id_26', 'id_22', 'id_23', 'id_27', 'dist2', 'D7', 'id_18', 'D13', 'D14', 'D12', 'id_03', 'id_04', 'D6', 'id_33', 'D8', 'id_09', 'id_10', 'D9', 'id_30', 'id_32', 'id_34', 'id_14', 'D11', 'dist1', 'M5', 'M3', 'M2', 'M1', 'M8', 'M9', 'M7', 'M6', 'addr2', 'addr1']\n",
      "(506691, 95)\n",
      "(506691, 56)\n"
     ]
    }
   ],
   "source": [
    "print(\"dropping these:\", columns_dropped)\n",
    "print(test.shape)\n",
    "test.drop(columns=columns_dropped, inplace=True)\n",
    "print(test.shape)"
   ]
  },
  {
   "cell_type": "code",
   "execution_count": 62,
   "id": "comparative-yugoslavia",
   "metadata": {
    "ExecuteTime": {
     "end_time": "2021-04-30T08:55:17.636900Z",
     "start_time": "2021-04-30T08:55:11.554629Z"
    }
   },
   "outputs": [],
   "source": [
    "test['is_email_same'] = test.apply(lambda x: x['P_emaildomain']== x['R_emaildomain'] and x['R_emaildomain'] != np.nan, axis=1)"
   ]
  },
  {
   "cell_type": "code",
   "execution_count": 63,
   "id": "artificial-helping",
   "metadata": {
    "ExecuteTime": {
     "end_time": "2021-04-30T08:55:17.643015Z",
     "start_time": "2021-04-30T08:55:17.638333Z"
    }
   },
   "outputs": [
    {
     "name": "stdout",
     "output_type": "stream",
     "text": [
      "Index(['TransactionID', 'TransactionDT', 'TransactionAmt', 'ProductCD',\n",
      "       'card1', 'card2', 'card3', 'card4', 'card5', 'card6', 'P_emaildomain',\n",
      "       'R_emaildomain', 'C1', 'C2', 'C3', 'C4', 'C5', 'C6', 'C7', 'C8', 'C9',\n",
      "       'C10', 'C11', 'C12', 'C13', 'C14', 'D1', 'D2', 'D3', 'D4', 'D5', 'D10',\n",
      "       'D15', 'M4', 'id_01', 'id_02', 'id_05', 'id_06', 'id_11', 'id_12',\n",
      "       'id_13', 'id_15', 'id_16', 'id_17', 'id_19', 'id_20', 'id_28', 'id_29',\n",
      "       'id_31', 'id_35', 'id_36', 'id_37', 'id_38', 'DeviceType', 'DeviceInfo',\n",
      "       'isFraud', 'is_email_same'],\n",
      "      dtype='object')\n"
     ]
    }
   ],
   "source": [
    "print(test.columns)"
   ]
  },
  {
   "cell_type": "code",
   "execution_count": null,
   "id": "permanent-testament",
   "metadata": {
    "ExecuteTime": {
     "start_time": "2021-04-30T08:54:44.208Z"
    }
   },
   "outputs": [
    {
     "name": "stdout",
     "output_type": "stream",
     "text": [
      "using ProductCD None\n",
      "Index(['ProductCD_H', 'ProductCD_R', 'ProductCD_S', 'ProductCD_W'], dtype='object')\n",
      "using card4 None\n",
      "Index(['card4_discover', 'card4_mastercard', 'card4_visa', 'card4_nan'], dtype='object')\n",
      "using card6 None\n",
      "Index(['card6_credit', 'card6_debit', 'card6_nan'], dtype='object')\n",
      "using P_emaildomain ['gmail', 'hotmail', 'yahoo', 'aol', 'anonymous', 'outlook', 'protonmail', 'other']\n"
     ]
    }
   ],
   "source": [
    "test.reset_index()\n",
    "test = onehot(df=test, col='ProductCD')\n",
    "test = onehot(df=test, col='card4')\n",
    "test = onehot(df=test, col='card6')\n",
    "test = onehot(df=test, col='P_emaildomain', categories=list(email_repl_dict.values()) + [\"other\"])\n",
    "test = onehot(df=test, col='R_emaildomain', categories=list(email_repl_dict.values()) + [\"other\"])\n",
    "test = onehot(df=test, col='M4')\n",
    "test = onehot(df=test, col='id_12')\n",
    "test = onehot(df=test, col='id_15')\n",
    "test = onehot(df=test, col='id_16')\n",
    "test = onehot(df=test, col='id_28')\n",
    "test = onehot(df=test, col='id_29')\n",
    "test = onehot(df=test, col='id_31', categories=list(id_31_repl_dict.values()) + [\"other\"])\n",
    "test = onehot(df=test, col='id_35')\n",
    "test = onehot(df=test, col='id_36')\n",
    "test = onehot(df=test, col='id_37')\n",
    "test = onehot(df=test, col='id_38')\n",
    "test = onehot(df=test, col='DeviceType', categories=list(DeviceInfo_repl_dict.values()) + [\"other\"])\n",
    "test = onehot(df=test, col='DeviceInfo')\n"
   ]
  },
  {
   "cell_type": "code",
   "execution_count": null,
   "id": "exterior-student",
   "metadata": {
    "ExecuteTime": {
     "start_time": "2021-04-30T08:54:44.212Z"
    }
   },
   "outputs": [],
   "source": [
    "test"
   ]
  }
 ],
 "metadata": {
  "kernelspec": {
   "display_name": "Python 3",
   "language": "python",
   "name": "python3"
  },
  "language_info": {
   "codemirror_mode": {
    "name": "ipython",
    "version": 3
   },
   "file_extension": ".py",
   "mimetype": "text/x-python",
   "name": "python",
   "nbconvert_exporter": "python",
   "pygments_lexer": "ipython3",
   "version": "3.8.5"
  }
 },
 "nbformat": 4,
 "nbformat_minor": 5
}
