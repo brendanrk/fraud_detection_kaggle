{
 "cells": [
  {
   "cell_type": "code",
   "execution_count": 1,
   "id": "dde7fe8f",
   "metadata": {
    "ExecuteTime": {
     "end_time": "2021-05-05T19:59:04.310159Z",
     "start_time": "2021-05-05T19:59:02.830226Z"
    }
   },
   "outputs": [],
   "source": [
    "import pandas as pd\n",
    "import numpy as np\n",
    "import datetime as dt\n",
    "import gc\n",
    "import matplotlib.pyplot as plt  \n",
    "from sklearn.neighbors import KNeighborsClassifier\n",
    "from sklearn.impute import SimpleImputer, KNNImputer\n",
    "from sklearn.pipeline import Pipeline\n",
    "from sklearn.model_selection import train_test_split\n",
    "from sklearn.metrics import confusion_matrix, accuracy_score, plot_roc_curve, roc_auc_score\n",
    "from sklearn.preprocessing import StandardScaler\n",
    "from sklearn.preprocessing import OneHotEncoder, OrdinalEncoder, LabelEncoder\n",
    "from sklearn.model_selection import cross_val_score\n",
    "from sklearn.model_selection import GridSearchCV\n",
    "from sklearn.compose import make_column_selector \n",
    "from sklearn.compose import ColumnTransformer\n",
    "from sklearn.model_selection import ShuffleSplit\n",
    "from sklearn.decomposition import PCA\n",
    "from sklearn.neural_network import MLPClassifier\n",
    "from sklearn.svm import SVC\n",
    "from sklearn.tree import DecisionTreeClassifier\n",
    "from sklearn.linear_model import LogisticRegression"
   ]
  },
  {
   "cell_type": "code",
   "execution_count": 2,
   "id": "510f8e41",
   "metadata": {
    "ExecuteTime": {
     "end_time": "2021-05-05T19:59:04.314424Z",
     "start_time": "2021-05-05T19:59:04.311959Z"
    }
   },
   "outputs": [],
   "source": [
    "skip_start = True"
   ]
  },
  {
   "cell_type": "markdown",
   "id": "2f6b87ee",
   "metadata": {},
   "source": [
    "# Import data"
   ]
  },
  {
   "cell_type": "code",
   "execution_count": 3,
   "id": "f0558a08",
   "metadata": {
    "ExecuteTime": {
     "end_time": "2021-05-05T19:59:25.062257Z",
     "start_time": "2021-05-05T19:59:04.315954Z"
    }
   },
   "outputs": [],
   "source": [
    "if not skip_start:\n",
    "    train_identity = pd.read_csv('data/ieee-fraud-detection/train_identity.csv')\n",
    "    train_transaction = pd.read_csv('data/ieee-fraud-detection/train_transaction.csv')\n",
    "    train = pd.merge(train_transaction, train_identity, on='TransactionID', how='left')\n",
    "    print(train.shape)\n",
    "    del train_identity, train_transaction\n",
    "    gc.collect()\n",
    "    train.to_pickle(\"train.pkl\")\n",
    "else:\n",
    "    train = pd.read_pickle(\"train.pkl\")\n",
    "    train = train.sample(200000)"
   ]
  },
  {
   "cell_type": "code",
   "execution_count": 4,
   "id": "6b5277e6",
   "metadata": {
    "ExecuteTime": {
     "end_time": "2021-05-05T19:59:25.350401Z",
     "start_time": "2021-05-05T19:59:25.073299Z"
    }
   },
   "outputs": [
    {
     "name": "stdout",
     "output_type": "stream",
     "text": [
      "(200000, 433) (200000,)\n"
     ]
    }
   ],
   "source": [
    "y = train['isFraud']   # target class\n",
    "X = train.drop('isFraud', axis=1)\n",
    "print(X.shape, y.shape)"
   ]
  },
  {
   "cell_type": "code",
   "execution_count": 5,
   "id": "70c3a9fb",
   "metadata": {
    "ExecuteTime": {
     "end_time": "2021-05-05T19:59:25.580588Z",
     "start_time": "2021-05-05T19:59:25.352112Z"
    }
   },
   "outputs": [
    {
     "data": {
      "text/plain": [
       "40"
      ]
     },
     "execution_count": 5,
     "metadata": {},
     "output_type": "execute_result"
    }
   ],
   "source": [
    "del train\n",
    "gc.collect()"
   ]
  },
  {
   "cell_type": "markdown",
   "id": "4d4b17d9",
   "metadata": {},
   "source": [
    "# split data into test and train"
   ]
  },
  {
   "cell_type": "code",
   "execution_count": 6,
   "id": "51d5e84e",
   "metadata": {
    "ExecuteTime": {
     "end_time": "2021-05-05T19:59:26.371313Z",
     "start_time": "2021-05-05T19:59:25.582032Z"
    }
   },
   "outputs": [
    {
     "data": {
      "text/plain": [
       "((134000, 433), (66000, 433), (134000,), (66000,))"
      ]
     },
     "execution_count": 6,
     "metadata": {},
     "output_type": "execute_result"
    }
   ],
   "source": [
    "X_train_hold, X_test_hold, y_train_hold, y_test_hold = train_test_split(X, y, test_size=0.33, random_state=42)\n",
    "X_train_hold.shape, X_test_hold.shape, y_train_hold.shape, y_test_hold.shape"
   ]
  },
  {
   "cell_type": "code",
   "execution_count": 7,
   "id": "8053d0b9",
   "metadata": {
    "ExecuteTime": {
     "end_time": "2021-05-05T19:59:26.488401Z",
     "start_time": "2021-05-05T19:59:26.373409Z"
    }
   },
   "outputs": [
    {
     "data": {
      "text/plain": [
       "40"
      ]
     },
     "execution_count": 7,
     "metadata": {},
     "output_type": "execute_result"
    }
   ],
   "source": [
    "del X, y\n",
    "gc.collect()"
   ]
  },
  {
   "cell_type": "markdown",
   "id": "d171f316",
   "metadata": {},
   "source": [
    "# Now work on train"
   ]
  },
  {
   "cell_type": "markdown",
   "id": "1dee4c1a",
   "metadata": {},
   "source": [
    "### Parameters to tune:"
   ]
  },
  {
   "cell_type": "code",
   "execution_count": 8,
   "id": "5ca369dc",
   "metadata": {
    "ExecuteTime": {
     "end_time": "2021-05-05T19:59:26.493751Z",
     "start_time": "2021-05-05T19:59:26.491441Z"
    }
   },
   "outputs": [],
   "source": [
    "threshold_column_missing = 0.22 # more than this number is not used"
   ]
  },
  {
   "cell_type": "code",
   "execution_count": 9,
   "id": "03347e12",
   "metadata": {
    "ExecuteTime": {
     "end_time": "2021-05-05T19:59:26.500316Z",
     "start_time": "2021-05-05T19:59:26.495673Z"
    }
   },
   "outputs": [],
   "source": [
    "correct_bias_isFruad_times_multiply = 3 # x times as many not fraud as fraud"
   ]
  },
  {
   "cell_type": "markdown",
   "id": "b7cdebef",
   "metadata": {},
   "source": [
    "## handle bias in data for isFraud"
   ]
  },
  {
   "cell_type": "code",
   "execution_count": 10,
   "id": "1cac5c2a",
   "metadata": {
    "ExecuteTime": {
     "end_time": "2021-05-05T19:59:26.664230Z",
     "start_time": "2021-05-05T19:59:26.501845Z"
    }
   },
   "outputs": [],
   "source": [
    "X_train = X_train_hold.copy()"
   ]
  },
  {
   "cell_type": "code",
   "execution_count": 11,
   "id": "970b4d0a",
   "metadata": {
    "ExecuteTime": {
     "end_time": "2021-05-05T19:59:26.673931Z",
     "start_time": "2021-05-05T19:59:26.665649Z"
    }
   },
   "outputs": [],
   "source": [
    "X_train.loc[:, 'isFraud'] = y_train_hold"
   ]
  },
  {
   "cell_type": "code",
   "execution_count": 12,
   "id": "45652db6",
   "metadata": {
    "ExecuteTime": {
     "end_time": "2021-05-05T19:59:27.295433Z",
     "start_time": "2021-05-05T19:59:26.675161Z"
    }
   },
   "outputs": [
    {
     "data": {
      "text/plain": [
       "isFraud\n",
       "0          129362\n",
       "1            4638\n",
       "dtype: int64"
      ]
     },
     "execution_count": 12,
     "metadata": {},
     "output_type": "execute_result"
    }
   ],
   "source": [
    "total_is_fraud = X_train[X_train[\"isFraud\"] == 1][\"isFraud\"].value_counts().item()\n",
    "total_is_not_fraud = X_train[X_train[\"isFraud\"] == 0][\"isFraud\"].value_counts().item()\n",
    "(X_train\n",
    "    .filter(['isFraud'])\n",
    "    .value_counts()\n",
    ")"
   ]
  },
  {
   "cell_type": "code",
   "execution_count": 13,
   "id": "9ad72bf6",
   "metadata": {
    "ExecuteTime": {
     "end_time": "2021-05-05T19:59:27.896504Z",
     "start_time": "2021-05-05T19:59:27.297040Z"
    }
   },
   "outputs": [
    {
     "data": {
      "text/plain": [
       "(18552, 434)"
      ]
     },
     "execution_count": 13,
     "metadata": {},
     "output_type": "execute_result"
    }
   ],
   "source": [
    "X_train = X_train[X_train[\"isFraud\"] == 1].append(X_train[X_train[\"isFraud\"] == 0].sample(total_is_fraud*correct_bias_isFruad_times_multiply))\n",
    "X_train.shape"
   ]
  },
  {
   "cell_type": "code",
   "execution_count": 14,
   "id": "b874c2a4",
   "metadata": {
    "ExecuteTime": {
     "end_time": "2021-05-05T19:59:27.963806Z",
     "start_time": "2021-05-05T19:59:27.898515Z"
    }
   },
   "outputs": [
    {
     "data": {
      "text/plain": [
       "isFraud\n",
       "0          13914\n",
       "1           4638\n",
       "dtype: int64"
      ]
     },
     "execution_count": 14,
     "metadata": {},
     "output_type": "execute_result"
    }
   ],
   "source": [
    "(X_train\n",
    "    .filter(['isFraud'])\n",
    "    .value_counts()\n",
    ")"
   ]
  },
  {
   "cell_type": "code",
   "execution_count": null,
   "id": "829d34a2",
   "metadata": {},
   "outputs": [],
   "source": []
  },
  {
   "cell_type": "code",
   "execution_count": 15,
   "id": "1e5f9702",
   "metadata": {
    "ExecuteTime": {
     "end_time": "2021-05-05T19:59:28.002136Z",
     "start_time": "2021-05-05T19:59:27.965718Z"
    }
   },
   "outputs": [],
   "source": [
    "y_train = X_train.loc[:, 'isFraud']\n",
    "X_train.drop(labels=['isFraud'], axis=1, inplace = True)"
   ]
  },
  {
   "cell_type": "code",
   "execution_count": null,
   "id": "74127064",
   "metadata": {
    "ExecuteTime": {
     "start_time": "2021-05-05T20:19:03.024Z"
    }
   },
   "outputs": [],
   "source": [
    "data = [(col, X_train[col].isnull().sum() / len(X_train)) \n",
    "        for col in X_train.columns if X_train[col].isnull().sum()]\n",
    "col_names = ['column', 'percent_missing']\n",
    "missing_df = pd.DataFrame(data, columns=col_names).sort_values('percent_missing')\n",
    "missing_df.sort_values([\"percent_missing\"], ascending=True, inplace=True)\n",
    "\n",
    "\n",
    "plt.plot(missing_df.percent_missing)\n",
    "\n",
    "plt.show()"
   ]
  },
  {
   "cell_type": "code",
   "execution_count": 17,
   "id": "997dd472",
   "metadata": {
    "ExecuteTime": {
     "end_time": "2021-05-05T19:59:30.929953Z",
     "start_time": "2021-05-05T19:59:30.834662Z"
    }
   },
   "outputs": [
    {
     "name": "stdout",
     "output_type": "stream",
     "text": [
      "dropping:\n"
     ]
    },
    {
     "data": {
      "text/plain": [
       "['dist1',\n",
       " 'dist2',\n",
       " 'R_emaildomain',\n",
       " 'D2',\n",
       " 'D3',\n",
       " 'D4',\n",
       " 'D5',\n",
       " 'D6',\n",
       " 'D7',\n",
       " 'D8',\n",
       " 'D9',\n",
       " 'D11',\n",
       " 'D12',\n",
       " 'D13',\n",
       " 'D14',\n",
       " 'M1',\n",
       " 'M2',\n",
       " 'M3',\n",
       " 'M4',\n",
       " 'M5',\n",
       " 'M6',\n",
       " 'M7',\n",
       " 'M8',\n",
       " 'M9',\n",
       " 'V1',\n",
       " 'V2',\n",
       " 'V3',\n",
       " 'V4',\n",
       " 'V5',\n",
       " 'V6',\n",
       " 'V7',\n",
       " 'V8',\n",
       " 'V9',\n",
       " 'V10',\n",
       " 'V11',\n",
       " 'V35',\n",
       " 'V36',\n",
       " 'V37',\n",
       " 'V38',\n",
       " 'V39',\n",
       " 'V40',\n",
       " 'V41',\n",
       " 'V42',\n",
       " 'V43',\n",
       " 'V44',\n",
       " 'V45',\n",
       " 'V46',\n",
       " 'V47',\n",
       " 'V48',\n",
       " 'V49',\n",
       " 'V50',\n",
       " 'V51',\n",
       " 'V52',\n",
       " 'V138',\n",
       " 'V139',\n",
       " 'V140',\n",
       " 'V141',\n",
       " 'V142',\n",
       " 'V143',\n",
       " 'V144',\n",
       " 'V145',\n",
       " 'V146',\n",
       " 'V147',\n",
       " 'V148',\n",
       " 'V149',\n",
       " 'V150',\n",
       " 'V151',\n",
       " 'V152',\n",
       " 'V153',\n",
       " 'V154',\n",
       " 'V155',\n",
       " 'V156',\n",
       " 'V157',\n",
       " 'V158',\n",
       " 'V159',\n",
       " 'V160',\n",
       " 'V161',\n",
       " 'V162',\n",
       " 'V163',\n",
       " 'V164',\n",
       " 'V165',\n",
       " 'V166',\n",
       " 'V167',\n",
       " 'V168',\n",
       " 'V169',\n",
       " 'V170',\n",
       " 'V171',\n",
       " 'V172',\n",
       " 'V173',\n",
       " 'V174',\n",
       " 'V175',\n",
       " 'V176',\n",
       " 'V177',\n",
       " 'V178',\n",
       " 'V179',\n",
       " 'V180',\n",
       " 'V181',\n",
       " 'V182',\n",
       " 'V183',\n",
       " 'V184',\n",
       " 'V185',\n",
       " 'V186',\n",
       " 'V187',\n",
       " 'V188',\n",
       " 'V189',\n",
       " 'V190',\n",
       " 'V191',\n",
       " 'V192',\n",
       " 'V193',\n",
       " 'V194',\n",
       " 'V195',\n",
       " 'V196',\n",
       " 'V197',\n",
       " 'V198',\n",
       " 'V199',\n",
       " 'V200',\n",
       " 'V201',\n",
       " 'V202',\n",
       " 'V203',\n",
       " 'V204',\n",
       " 'V205',\n",
       " 'V206',\n",
       " 'V207',\n",
       " 'V208',\n",
       " 'V209',\n",
       " 'V210',\n",
       " 'V211',\n",
       " 'V212',\n",
       " 'V213',\n",
       " 'V214',\n",
       " 'V215',\n",
       " 'V216',\n",
       " 'V217',\n",
       " 'V218',\n",
       " 'V219',\n",
       " 'V220',\n",
       " 'V221',\n",
       " 'V222',\n",
       " 'V223',\n",
       " 'V224',\n",
       " 'V225',\n",
       " 'V226',\n",
       " 'V227',\n",
       " 'V228',\n",
       " 'V229',\n",
       " 'V230',\n",
       " 'V231',\n",
       " 'V232',\n",
       " 'V233',\n",
       " 'V234',\n",
       " 'V235',\n",
       " 'V236',\n",
       " 'V237',\n",
       " 'V238',\n",
       " 'V239',\n",
       " 'V240',\n",
       " 'V241',\n",
       " 'V242',\n",
       " 'V243',\n",
       " 'V244',\n",
       " 'V245',\n",
       " 'V246',\n",
       " 'V247',\n",
       " 'V248',\n",
       " 'V249',\n",
       " 'V250',\n",
       " 'V251',\n",
       " 'V252',\n",
       " 'V253',\n",
       " 'V254',\n",
       " 'V255',\n",
       " 'V256',\n",
       " 'V257',\n",
       " 'V258',\n",
       " 'V259',\n",
       " 'V260',\n",
       " 'V261',\n",
       " 'V262',\n",
       " 'V263',\n",
       " 'V264',\n",
       " 'V265',\n",
       " 'V266',\n",
       " 'V267',\n",
       " 'V268',\n",
       " 'V269',\n",
       " 'V270',\n",
       " 'V271',\n",
       " 'V272',\n",
       " 'V273',\n",
       " 'V274',\n",
       " 'V275',\n",
       " 'V276',\n",
       " 'V277',\n",
       " 'V278',\n",
       " 'V322',\n",
       " 'V323',\n",
       " 'V324',\n",
       " 'V325',\n",
       " 'V326',\n",
       " 'V327',\n",
       " 'V328',\n",
       " 'V329',\n",
       " 'V330',\n",
       " 'V331',\n",
       " 'V332',\n",
       " 'V333',\n",
       " 'V334',\n",
       " 'V335',\n",
       " 'V336',\n",
       " 'V337',\n",
       " 'V338',\n",
       " 'V339',\n",
       " 'id_01',\n",
       " 'id_02',\n",
       " 'id_03',\n",
       " 'id_04',\n",
       " 'id_05',\n",
       " 'id_06',\n",
       " 'id_07',\n",
       " 'id_08',\n",
       " 'id_09',\n",
       " 'id_10',\n",
       " 'id_11',\n",
       " 'id_12',\n",
       " 'id_13',\n",
       " 'id_14',\n",
       " 'id_15',\n",
       " 'id_16',\n",
       " 'id_17',\n",
       " 'id_18',\n",
       " 'id_19',\n",
       " 'id_20',\n",
       " 'id_21',\n",
       " 'id_22',\n",
       " 'id_23',\n",
       " 'id_24',\n",
       " 'id_25',\n",
       " 'id_26',\n",
       " 'id_27',\n",
       " 'id_28',\n",
       " 'id_29',\n",
       " 'id_30',\n",
       " 'id_31',\n",
       " 'id_32',\n",
       " 'id_33',\n",
       " 'id_34',\n",
       " 'id_35',\n",
       " 'id_36',\n",
       " 'id_37',\n",
       " 'id_38',\n",
       " 'DeviceType',\n",
       " 'DeviceInfo']"
      ]
     },
     "execution_count": 17,
     "metadata": {},
     "output_type": "execute_result"
    }
   ],
   "source": [
    "print(\"dropping:\")\n",
    "dropped_columns = X_train.loc[:,\n",
    "    (X_train\n",
    "        .isna()\n",
    "        .mean()\n",
    "        .ge(threshold_column_missing)\n",
    "     )\n",
    "].columns.tolist()\n",
    "dropped_columns"
   ]
  },
  {
   "cell_type": "code",
   "execution_count": 18,
   "id": "778f8977",
   "metadata": {
    "ExecuteTime": {
     "end_time": "2021-05-05T19:59:31.008876Z",
     "start_time": "2021-05-05T19:59:30.931381Z"
    }
   },
   "outputs": [],
   "source": [
    "X_train = X_train.loc[:,\n",
    "    (X_train\n",
    "        .isna()\n",
    "        .mean()\n",
    "        .le(threshold_column_missing)\n",
    "     )\n",
    "]"
   ]
  },
  {
   "cell_type": "code",
   "execution_count": 19,
   "id": "d929b8e5",
   "metadata": {
    "ExecuteTime": {
     "end_time": "2021-05-05T19:59:31.066961Z",
     "start_time": "2021-05-05T19:59:31.010256Z"
    }
   },
   "outputs": [
    {
     "data": {
      "text/html": [
       "<div>\n",
       "<style scoped>\n",
       "    .dataframe tbody tr th:only-of-type {\n",
       "        vertical-align: middle;\n",
       "    }\n",
       "\n",
       "    .dataframe tbody tr th {\n",
       "        vertical-align: top;\n",
       "    }\n",
       "\n",
       "    .dataframe thead th {\n",
       "        text-align: right;\n",
       "    }\n",
       "</style>\n",
       "<table border=\"1\" class=\"dataframe\">\n",
       "  <thead>\n",
       "    <tr style=\"text-align: right;\">\n",
       "      <th></th>\n",
       "      <th>TransactionDT</th>\n",
       "      <th>TransactionAmt</th>\n",
       "      <th>ProductCD</th>\n",
       "      <th>card1</th>\n",
       "      <th>card2</th>\n",
       "      <th>card3</th>\n",
       "      <th>card4</th>\n",
       "      <th>card5</th>\n",
       "      <th>card6</th>\n",
       "      <th>addr1</th>\n",
       "      <th>...</th>\n",
       "      <th>V312</th>\n",
       "      <th>V313</th>\n",
       "      <th>V314</th>\n",
       "      <th>V315</th>\n",
       "      <th>V316</th>\n",
       "      <th>V317</th>\n",
       "      <th>V318</th>\n",
       "      <th>V319</th>\n",
       "      <th>V320</th>\n",
       "      <th>V321</th>\n",
       "    </tr>\n",
       "    <tr>\n",
       "      <th>TransactionID</th>\n",
       "      <th></th>\n",
       "      <th></th>\n",
       "      <th></th>\n",
       "      <th></th>\n",
       "      <th></th>\n",
       "      <th></th>\n",
       "      <th></th>\n",
       "      <th></th>\n",
       "      <th></th>\n",
       "      <th></th>\n",
       "      <th></th>\n",
       "      <th></th>\n",
       "      <th></th>\n",
       "      <th></th>\n",
       "      <th></th>\n",
       "      <th></th>\n",
       "      <th></th>\n",
       "      <th></th>\n",
       "      <th></th>\n",
       "      <th></th>\n",
       "      <th></th>\n",
       "    </tr>\n",
       "  </thead>\n",
       "  <tbody>\n",
       "    <tr>\n",
       "      <th>3329536</th>\n",
       "      <td>8448784</td>\n",
       "      <td>171.000</td>\n",
       "      <td>W</td>\n",
       "      <td>7919</td>\n",
       "      <td>194.0</td>\n",
       "      <td>150.0</td>\n",
       "      <td>mastercard</td>\n",
       "      <td>166.0</td>\n",
       "      <td>debit</td>\n",
       "      <td>269.0</td>\n",
       "      <td>...</td>\n",
       "      <td>59.000000</td>\n",
       "      <td>59.000000</td>\n",
       "      <td>59.000000</td>\n",
       "      <td>59.000000</td>\n",
       "      <td>177.0</td>\n",
       "      <td>177.0</td>\n",
       "      <td>177.0</td>\n",
       "      <td>0.0</td>\n",
       "      <td>0.0</td>\n",
       "      <td>0.0</td>\n",
       "    </tr>\n",
       "    <tr>\n",
       "      <th>3155699</th>\n",
       "      <td>3618877</td>\n",
       "      <td>100.000</td>\n",
       "      <td>H</td>\n",
       "      <td>5714</td>\n",
       "      <td>170.0</td>\n",
       "      <td>150.0</td>\n",
       "      <td>visa</td>\n",
       "      <td>195.0</td>\n",
       "      <td>credit</td>\n",
       "      <td>337.0</td>\n",
       "      <td>...</td>\n",
       "      <td>0.000000</td>\n",
       "      <td>0.000000</td>\n",
       "      <td>0.000000</td>\n",
       "      <td>0.000000</td>\n",
       "      <td>0.0</td>\n",
       "      <td>0.0</td>\n",
       "      <td>0.0</td>\n",
       "      <td>0.0</td>\n",
       "      <td>0.0</td>\n",
       "      <td>0.0</td>\n",
       "    </tr>\n",
       "    <tr>\n",
       "      <th>3300036</th>\n",
       "      <td>7783908</td>\n",
       "      <td>29.002</td>\n",
       "      <td>C</td>\n",
       "      <td>10568</td>\n",
       "      <td>204.0</td>\n",
       "      <td>185.0</td>\n",
       "      <td>visa</td>\n",
       "      <td>226.0</td>\n",
       "      <td>credit</td>\n",
       "      <td>NaN</td>\n",
       "      <td>...</td>\n",
       "      <td>0.000000</td>\n",
       "      <td>0.000000</td>\n",
       "      <td>0.000000</td>\n",
       "      <td>0.000000</td>\n",
       "      <td>0.0</td>\n",
       "      <td>0.0</td>\n",
       "      <td>0.0</td>\n",
       "      <td>0.0</td>\n",
       "      <td>0.0</td>\n",
       "      <td>0.0</td>\n",
       "    </tr>\n",
       "    <tr>\n",
       "      <th>3166731</th>\n",
       "      <td>3953005</td>\n",
       "      <td>100.000</td>\n",
       "      <td>H</td>\n",
       "      <td>15266</td>\n",
       "      <td>555.0</td>\n",
       "      <td>119.0</td>\n",
       "      <td>visa</td>\n",
       "      <td>102.0</td>\n",
       "      <td>credit</td>\n",
       "      <td>296.0</td>\n",
       "      <td>...</td>\n",
       "      <td>0.000000</td>\n",
       "      <td>0.000000</td>\n",
       "      <td>0.000000</td>\n",
       "      <td>0.000000</td>\n",
       "      <td>100.0</td>\n",
       "      <td>100.0</td>\n",
       "      <td>100.0</td>\n",
       "      <td>0.0</td>\n",
       "      <td>0.0</td>\n",
       "      <td>0.0</td>\n",
       "    </tr>\n",
       "    <tr>\n",
       "      <th>3260871</th>\n",
       "      <td>6644977</td>\n",
       "      <td>250.000</td>\n",
       "      <td>R</td>\n",
       "      <td>17188</td>\n",
       "      <td>321.0</td>\n",
       "      <td>150.0</td>\n",
       "      <td>visa</td>\n",
       "      <td>226.0</td>\n",
       "      <td>debit</td>\n",
       "      <td>299.0</td>\n",
       "      <td>...</td>\n",
       "      <td>0.000000</td>\n",
       "      <td>0.000000</td>\n",
       "      <td>0.000000</td>\n",
       "      <td>0.000000</td>\n",
       "      <td>0.0</td>\n",
       "      <td>0.0</td>\n",
       "      <td>0.0</td>\n",
       "      <td>0.0</td>\n",
       "      <td>0.0</td>\n",
       "      <td>0.0</td>\n",
       "    </tr>\n",
       "    <tr>\n",
       "      <th>...</th>\n",
       "      <td>...</td>\n",
       "      <td>...</td>\n",
       "      <td>...</td>\n",
       "      <td>...</td>\n",
       "      <td>...</td>\n",
       "      <td>...</td>\n",
       "      <td>...</td>\n",
       "      <td>...</td>\n",
       "      <td>...</td>\n",
       "      <td>...</td>\n",
       "      <td>...</td>\n",
       "      <td>...</td>\n",
       "      <td>...</td>\n",
       "      <td>...</td>\n",
       "      <td>...</td>\n",
       "      <td>...</td>\n",
       "      <td>...</td>\n",
       "      <td>...</td>\n",
       "      <td>...</td>\n",
       "      <td>...</td>\n",
       "      <td>...</td>\n",
       "    </tr>\n",
       "    <tr>\n",
       "      <th>3433988</th>\n",
       "      <td>11385239</td>\n",
       "      <td>171.000</td>\n",
       "      <td>W</td>\n",
       "      <td>17781</td>\n",
       "      <td>555.0</td>\n",
       "      <td>150.0</td>\n",
       "      <td>mastercard</td>\n",
       "      <td>117.0</td>\n",
       "      <td>debit</td>\n",
       "      <td>177.0</td>\n",
       "      <td>...</td>\n",
       "      <td>107.949997</td>\n",
       "      <td>107.949997</td>\n",
       "      <td>359.799988</td>\n",
       "      <td>107.949997</td>\n",
       "      <td>0.0</td>\n",
       "      <td>0.0</td>\n",
       "      <td>0.0</td>\n",
       "      <td>0.0</td>\n",
       "      <td>0.0</td>\n",
       "      <td>0.0</td>\n",
       "    </tr>\n",
       "    <tr>\n",
       "      <th>3145799</th>\n",
       "      <td>3340104</td>\n",
       "      <td>49.000</td>\n",
       "      <td>W</td>\n",
       "      <td>7919</td>\n",
       "      <td>194.0</td>\n",
       "      <td>150.0</td>\n",
       "      <td>mastercard</td>\n",
       "      <td>202.0</td>\n",
       "      <td>debit</td>\n",
       "      <td>123.0</td>\n",
       "      <td>...</td>\n",
       "      <td>0.000000</td>\n",
       "      <td>0.000000</td>\n",
       "      <td>0.000000</td>\n",
       "      <td>0.000000</td>\n",
       "      <td>0.0</td>\n",
       "      <td>0.0</td>\n",
       "      <td>0.0</td>\n",
       "      <td>0.0</td>\n",
       "      <td>0.0</td>\n",
       "      <td>0.0</td>\n",
       "    </tr>\n",
       "    <tr>\n",
       "      <th>3479756</th>\n",
       "      <td>12858497</td>\n",
       "      <td>30.864</td>\n",
       "      <td>C</td>\n",
       "      <td>3887</td>\n",
       "      <td>202.0</td>\n",
       "      <td>185.0</td>\n",
       "      <td>mastercard</td>\n",
       "      <td>137.0</td>\n",
       "      <td>credit</td>\n",
       "      <td>NaN</td>\n",
       "      <td>...</td>\n",
       "      <td>0.000000</td>\n",
       "      <td>0.000000</td>\n",
       "      <td>0.000000</td>\n",
       "      <td>0.000000</td>\n",
       "      <td>0.0</td>\n",
       "      <td>0.0</td>\n",
       "      <td>0.0</td>\n",
       "      <td>0.0</td>\n",
       "      <td>0.0</td>\n",
       "      <td>0.0</td>\n",
       "    </tr>\n",
       "    <tr>\n",
       "      <th>3183759</th>\n",
       "      <td>4422811</td>\n",
       "      <td>59.000</td>\n",
       "      <td>W</td>\n",
       "      <td>14712</td>\n",
       "      <td>111.0</td>\n",
       "      <td>150.0</td>\n",
       "      <td>visa</td>\n",
       "      <td>226.0</td>\n",
       "      <td>debit</td>\n",
       "      <td>264.0</td>\n",
       "      <td>...</td>\n",
       "      <td>0.000000</td>\n",
       "      <td>0.000000</td>\n",
       "      <td>0.000000</td>\n",
       "      <td>0.000000</td>\n",
       "      <td>0.0</td>\n",
       "      <td>0.0</td>\n",
       "      <td>0.0</td>\n",
       "      <td>0.0</td>\n",
       "      <td>0.0</td>\n",
       "      <td>0.0</td>\n",
       "    </tr>\n",
       "    <tr>\n",
       "      <th>3289009</th>\n",
       "      <td>7467530</td>\n",
       "      <td>107.950</td>\n",
       "      <td>W</td>\n",
       "      <td>7222</td>\n",
       "      <td>360.0</td>\n",
       "      <td>150.0</td>\n",
       "      <td>visa</td>\n",
       "      <td>226.0</td>\n",
       "      <td>debit</td>\n",
       "      <td>253.0</td>\n",
       "      <td>...</td>\n",
       "      <td>194.949997</td>\n",
       "      <td>0.000000</td>\n",
       "      <td>0.000000</td>\n",
       "      <td>0.000000</td>\n",
       "      <td>0.0</td>\n",
       "      <td>0.0</td>\n",
       "      <td>0.0</td>\n",
       "      <td>0.0</td>\n",
       "      <td>0.0</td>\n",
       "      <td>0.0</td>\n",
       "    </tr>\n",
       "  </tbody>\n",
       "</table>\n",
       "<p>18552 rows × 180 columns</p>\n",
       "</div>"
      ],
      "text/plain": [
       "               TransactionDT  TransactionAmt ProductCD  card1  card2  card3  \\\n",
       "TransactionID                                                                 \n",
       "3329536              8448784         171.000         W   7919  194.0  150.0   \n",
       "3155699              3618877         100.000         H   5714  170.0  150.0   \n",
       "3300036              7783908          29.002         C  10568  204.0  185.0   \n",
       "3166731              3953005         100.000         H  15266  555.0  119.0   \n",
       "3260871              6644977         250.000         R  17188  321.0  150.0   \n",
       "...                      ...             ...       ...    ...    ...    ...   \n",
       "3433988             11385239         171.000         W  17781  555.0  150.0   \n",
       "3145799              3340104          49.000         W   7919  194.0  150.0   \n",
       "3479756             12858497          30.864         C   3887  202.0  185.0   \n",
       "3183759              4422811          59.000         W  14712  111.0  150.0   \n",
       "3289009              7467530         107.950         W   7222  360.0  150.0   \n",
       "\n",
       "                    card4  card5   card6  addr1  ...        V312        V313  \\\n",
       "TransactionID                                    ...                           \n",
       "3329536        mastercard  166.0   debit  269.0  ...   59.000000   59.000000   \n",
       "3155699              visa  195.0  credit  337.0  ...    0.000000    0.000000   \n",
       "3300036              visa  226.0  credit    NaN  ...    0.000000    0.000000   \n",
       "3166731              visa  102.0  credit  296.0  ...    0.000000    0.000000   \n",
       "3260871              visa  226.0   debit  299.0  ...    0.000000    0.000000   \n",
       "...                   ...    ...     ...    ...  ...         ...         ...   \n",
       "3433988        mastercard  117.0   debit  177.0  ...  107.949997  107.949997   \n",
       "3145799        mastercard  202.0   debit  123.0  ...    0.000000    0.000000   \n",
       "3479756        mastercard  137.0  credit    NaN  ...    0.000000    0.000000   \n",
       "3183759              visa  226.0   debit  264.0  ...    0.000000    0.000000   \n",
       "3289009              visa  226.0   debit  253.0  ...  194.949997    0.000000   \n",
       "\n",
       "                     V314        V315   V316   V317   V318  V319  V320  V321  \n",
       "TransactionID                                                                 \n",
       "3329536         59.000000   59.000000  177.0  177.0  177.0   0.0   0.0   0.0  \n",
       "3155699          0.000000    0.000000    0.0    0.0    0.0   0.0   0.0   0.0  \n",
       "3300036          0.000000    0.000000    0.0    0.0    0.0   0.0   0.0   0.0  \n",
       "3166731          0.000000    0.000000  100.0  100.0  100.0   0.0   0.0   0.0  \n",
       "3260871          0.000000    0.000000    0.0    0.0    0.0   0.0   0.0   0.0  \n",
       "...                   ...         ...    ...    ...    ...   ...   ...   ...  \n",
       "3433988        359.799988  107.949997    0.0    0.0    0.0   0.0   0.0   0.0  \n",
       "3145799          0.000000    0.000000    0.0    0.0    0.0   0.0   0.0   0.0  \n",
       "3479756          0.000000    0.000000    0.0    0.0    0.0   0.0   0.0   0.0  \n",
       "3183759          0.000000    0.000000    0.0    0.0    0.0   0.0   0.0   0.0  \n",
       "3289009          0.000000    0.000000    0.0    0.0    0.0   0.0   0.0   0.0  \n",
       "\n",
       "[18552 rows x 180 columns]"
      ]
     },
     "execution_count": 19,
     "metadata": {},
     "output_type": "execute_result"
    }
   ],
   "source": [
    "X_train.set_index(\"TransactionID\", inplace=True)\n",
    "X_train"
   ]
  },
  {
   "cell_type": "code",
   "execution_count": 20,
   "id": "e137b0c5",
   "metadata": {
    "ExecuteTime": {
     "end_time": "2021-05-05T19:59:31.333975Z",
     "start_time": "2021-05-05T19:59:31.068287Z"
    }
   },
   "outputs": [],
   "source": [
    "start = dt.datetime(2021,1,1,0,0) # need a reference point use this for train and test\n",
    "X_train.loc[:, \"TransactionDT\"] = X_train[\"TransactionDT\"].apply(lambda x: start + pd.Timedelta(seconds=x)).dt.day_name()"
   ]
  },
  {
   "cell_type": "code",
   "execution_count": 21,
   "id": "2da9ba80",
   "metadata": {
    "ExecuteTime": {
     "end_time": "2021-05-05T19:59:31.389947Z",
     "start_time": "2021-05-05T19:59:31.336052Z"
    }
   },
   "outputs": [
    {
     "data": {
      "text/html": [
       "<div>\n",
       "<style scoped>\n",
       "    .dataframe tbody tr th:only-of-type {\n",
       "        vertical-align: middle;\n",
       "    }\n",
       "\n",
       "    .dataframe tbody tr th {\n",
       "        vertical-align: top;\n",
       "    }\n",
       "\n",
       "    .dataframe thead th {\n",
       "        text-align: right;\n",
       "    }\n",
       "</style>\n",
       "<table border=\"1\" class=\"dataframe\">\n",
       "  <thead>\n",
       "    <tr style=\"text-align: right;\">\n",
       "      <th></th>\n",
       "      <th>TransactionDT</th>\n",
       "      <th>TransactionAmt</th>\n",
       "      <th>ProductCD</th>\n",
       "      <th>card1</th>\n",
       "      <th>card2</th>\n",
       "      <th>card3</th>\n",
       "      <th>card4</th>\n",
       "      <th>card5</th>\n",
       "      <th>card6</th>\n",
       "      <th>addr1</th>\n",
       "      <th>...</th>\n",
       "      <th>V312</th>\n",
       "      <th>V313</th>\n",
       "      <th>V314</th>\n",
       "      <th>V315</th>\n",
       "      <th>V316</th>\n",
       "      <th>V317</th>\n",
       "      <th>V318</th>\n",
       "      <th>V319</th>\n",
       "      <th>V320</th>\n",
       "      <th>V321</th>\n",
       "    </tr>\n",
       "    <tr>\n",
       "      <th>TransactionID</th>\n",
       "      <th></th>\n",
       "      <th></th>\n",
       "      <th></th>\n",
       "      <th></th>\n",
       "      <th></th>\n",
       "      <th></th>\n",
       "      <th></th>\n",
       "      <th></th>\n",
       "      <th></th>\n",
       "      <th></th>\n",
       "      <th></th>\n",
       "      <th></th>\n",
       "      <th></th>\n",
       "      <th></th>\n",
       "      <th></th>\n",
       "      <th></th>\n",
       "      <th></th>\n",
       "      <th></th>\n",
       "      <th></th>\n",
       "      <th></th>\n",
       "      <th></th>\n",
       "    </tr>\n",
       "  </thead>\n",
       "  <tbody>\n",
       "    <tr>\n",
       "      <th>3329536</th>\n",
       "      <td>Thursday</td>\n",
       "      <td>171.000</td>\n",
       "      <td>W</td>\n",
       "      <td>7919</td>\n",
       "      <td>194.0</td>\n",
       "      <td>150.0</td>\n",
       "      <td>mastercard</td>\n",
       "      <td>166.0</td>\n",
       "      <td>debit</td>\n",
       "      <td>269.0</td>\n",
       "      <td>...</td>\n",
       "      <td>59.000000</td>\n",
       "      <td>59.000000</td>\n",
       "      <td>59.000000</td>\n",
       "      <td>59.000000</td>\n",
       "      <td>177.0</td>\n",
       "      <td>177.0</td>\n",
       "      <td>177.0</td>\n",
       "      <td>0.0</td>\n",
       "      <td>0.0</td>\n",
       "      <td>0.0</td>\n",
       "    </tr>\n",
       "    <tr>\n",
       "      <th>3155699</th>\n",
       "      <td>Thursday</td>\n",
       "      <td>100.000</td>\n",
       "      <td>H</td>\n",
       "      <td>5714</td>\n",
       "      <td>170.0</td>\n",
       "      <td>150.0</td>\n",
       "      <td>visa</td>\n",
       "      <td>195.0</td>\n",
       "      <td>credit</td>\n",
       "      <td>337.0</td>\n",
       "      <td>...</td>\n",
       "      <td>0.000000</td>\n",
       "      <td>0.000000</td>\n",
       "      <td>0.000000</td>\n",
       "      <td>0.000000</td>\n",
       "      <td>0.0</td>\n",
       "      <td>0.0</td>\n",
       "      <td>0.0</td>\n",
       "      <td>0.0</td>\n",
       "      <td>0.0</td>\n",
       "      <td>0.0</td>\n",
       "    </tr>\n",
       "    <tr>\n",
       "      <th>3300036</th>\n",
       "      <td>Thursday</td>\n",
       "      <td>29.002</td>\n",
       "      <td>C</td>\n",
       "      <td>10568</td>\n",
       "      <td>204.0</td>\n",
       "      <td>185.0</td>\n",
       "      <td>visa</td>\n",
       "      <td>226.0</td>\n",
       "      <td>credit</td>\n",
       "      <td>NaN</td>\n",
       "      <td>...</td>\n",
       "      <td>0.000000</td>\n",
       "      <td>0.000000</td>\n",
       "      <td>0.000000</td>\n",
       "      <td>0.000000</td>\n",
       "      <td>0.0</td>\n",
       "      <td>0.0</td>\n",
       "      <td>0.0</td>\n",
       "      <td>0.0</td>\n",
       "      <td>0.0</td>\n",
       "      <td>0.0</td>\n",
       "    </tr>\n",
       "    <tr>\n",
       "      <th>3166731</th>\n",
       "      <td>Monday</td>\n",
       "      <td>100.000</td>\n",
       "      <td>H</td>\n",
       "      <td>15266</td>\n",
       "      <td>555.0</td>\n",
       "      <td>119.0</td>\n",
       "      <td>visa</td>\n",
       "      <td>102.0</td>\n",
       "      <td>credit</td>\n",
       "      <td>296.0</td>\n",
       "      <td>...</td>\n",
       "      <td>0.000000</td>\n",
       "      <td>0.000000</td>\n",
       "      <td>0.000000</td>\n",
       "      <td>0.000000</td>\n",
       "      <td>100.0</td>\n",
       "      <td>100.0</td>\n",
       "      <td>100.0</td>\n",
       "      <td>0.0</td>\n",
       "      <td>0.0</td>\n",
       "      <td>0.0</td>\n",
       "    </tr>\n",
       "    <tr>\n",
       "      <th>3260871</th>\n",
       "      <td>Thursday</td>\n",
       "      <td>250.000</td>\n",
       "      <td>R</td>\n",
       "      <td>17188</td>\n",
       "      <td>321.0</td>\n",
       "      <td>150.0</td>\n",
       "      <td>visa</td>\n",
       "      <td>226.0</td>\n",
       "      <td>debit</td>\n",
       "      <td>299.0</td>\n",
       "      <td>...</td>\n",
       "      <td>0.000000</td>\n",
       "      <td>0.000000</td>\n",
       "      <td>0.000000</td>\n",
       "      <td>0.000000</td>\n",
       "      <td>0.0</td>\n",
       "      <td>0.0</td>\n",
       "      <td>0.0</td>\n",
       "      <td>0.0</td>\n",
       "      <td>0.0</td>\n",
       "      <td>0.0</td>\n",
       "    </tr>\n",
       "    <tr>\n",
       "      <th>...</th>\n",
       "      <td>...</td>\n",
       "      <td>...</td>\n",
       "      <td>...</td>\n",
       "      <td>...</td>\n",
       "      <td>...</td>\n",
       "      <td>...</td>\n",
       "      <td>...</td>\n",
       "      <td>...</td>\n",
       "      <td>...</td>\n",
       "      <td>...</td>\n",
       "      <td>...</td>\n",
       "      <td>...</td>\n",
       "      <td>...</td>\n",
       "      <td>...</td>\n",
       "      <td>...</td>\n",
       "      <td>...</td>\n",
       "      <td>...</td>\n",
       "      <td>...</td>\n",
       "      <td>...</td>\n",
       "      <td>...</td>\n",
       "      <td>...</td>\n",
       "    </tr>\n",
       "    <tr>\n",
       "      <th>3433988</th>\n",
       "      <td>Wednesday</td>\n",
       "      <td>171.000</td>\n",
       "      <td>W</td>\n",
       "      <td>17781</td>\n",
       "      <td>555.0</td>\n",
       "      <td>150.0</td>\n",
       "      <td>mastercard</td>\n",
       "      <td>117.0</td>\n",
       "      <td>debit</td>\n",
       "      <td>177.0</td>\n",
       "      <td>...</td>\n",
       "      <td>107.949997</td>\n",
       "      <td>107.949997</td>\n",
       "      <td>359.799988</td>\n",
       "      <td>107.949997</td>\n",
       "      <td>0.0</td>\n",
       "      <td>0.0</td>\n",
       "      <td>0.0</td>\n",
       "      <td>0.0</td>\n",
       "      <td>0.0</td>\n",
       "      <td>0.0</td>\n",
       "    </tr>\n",
       "    <tr>\n",
       "      <th>3145799</th>\n",
       "      <td>Monday</td>\n",
       "      <td>49.000</td>\n",
       "      <td>W</td>\n",
       "      <td>7919</td>\n",
       "      <td>194.0</td>\n",
       "      <td>150.0</td>\n",
       "      <td>mastercard</td>\n",
       "      <td>202.0</td>\n",
       "      <td>debit</td>\n",
       "      <td>123.0</td>\n",
       "      <td>...</td>\n",
       "      <td>0.000000</td>\n",
       "      <td>0.000000</td>\n",
       "      <td>0.000000</td>\n",
       "      <td>0.000000</td>\n",
       "      <td>0.0</td>\n",
       "      <td>0.0</td>\n",
       "      <td>0.0</td>\n",
       "      <td>0.0</td>\n",
       "      <td>0.0</td>\n",
       "      <td>0.0</td>\n",
       "    </tr>\n",
       "    <tr>\n",
       "      <th>3479756</th>\n",
       "      <td>Saturday</td>\n",
       "      <td>30.864</td>\n",
       "      <td>C</td>\n",
       "      <td>3887</td>\n",
       "      <td>202.0</td>\n",
       "      <td>185.0</td>\n",
       "      <td>mastercard</td>\n",
       "      <td>137.0</td>\n",
       "      <td>credit</td>\n",
       "      <td>NaN</td>\n",
       "      <td>...</td>\n",
       "      <td>0.000000</td>\n",
       "      <td>0.000000</td>\n",
       "      <td>0.000000</td>\n",
       "      <td>0.000000</td>\n",
       "      <td>0.0</td>\n",
       "      <td>0.0</td>\n",
       "      <td>0.0</td>\n",
       "      <td>0.0</td>\n",
       "      <td>0.0</td>\n",
       "      <td>0.0</td>\n",
       "    </tr>\n",
       "    <tr>\n",
       "      <th>3183759</th>\n",
       "      <td>Sunday</td>\n",
       "      <td>59.000</td>\n",
       "      <td>W</td>\n",
       "      <td>14712</td>\n",
       "      <td>111.0</td>\n",
       "      <td>150.0</td>\n",
       "      <td>visa</td>\n",
       "      <td>226.0</td>\n",
       "      <td>debit</td>\n",
       "      <td>264.0</td>\n",
       "      <td>...</td>\n",
       "      <td>0.000000</td>\n",
       "      <td>0.000000</td>\n",
       "      <td>0.000000</td>\n",
       "      <td>0.000000</td>\n",
       "      <td>0.0</td>\n",
       "      <td>0.0</td>\n",
       "      <td>0.0</td>\n",
       "      <td>0.0</td>\n",
       "      <td>0.0</td>\n",
       "      <td>0.0</td>\n",
       "    </tr>\n",
       "    <tr>\n",
       "      <th>3289009</th>\n",
       "      <td>Sunday</td>\n",
       "      <td>107.950</td>\n",
       "      <td>W</td>\n",
       "      <td>7222</td>\n",
       "      <td>360.0</td>\n",
       "      <td>150.0</td>\n",
       "      <td>visa</td>\n",
       "      <td>226.0</td>\n",
       "      <td>debit</td>\n",
       "      <td>253.0</td>\n",
       "      <td>...</td>\n",
       "      <td>194.949997</td>\n",
       "      <td>0.000000</td>\n",
       "      <td>0.000000</td>\n",
       "      <td>0.000000</td>\n",
       "      <td>0.0</td>\n",
       "      <td>0.0</td>\n",
       "      <td>0.0</td>\n",
       "      <td>0.0</td>\n",
       "      <td>0.0</td>\n",
       "      <td>0.0</td>\n",
       "    </tr>\n",
       "  </tbody>\n",
       "</table>\n",
       "<p>18552 rows × 180 columns</p>\n",
       "</div>"
      ],
      "text/plain": [
       "              TransactionDT  TransactionAmt ProductCD  card1  card2  card3  \\\n",
       "TransactionID                                                                \n",
       "3329536            Thursday         171.000         W   7919  194.0  150.0   \n",
       "3155699            Thursday         100.000         H   5714  170.0  150.0   \n",
       "3300036            Thursday          29.002         C  10568  204.0  185.0   \n",
       "3166731              Monday         100.000         H  15266  555.0  119.0   \n",
       "3260871            Thursday         250.000         R  17188  321.0  150.0   \n",
       "...                     ...             ...       ...    ...    ...    ...   \n",
       "3433988           Wednesday         171.000         W  17781  555.0  150.0   \n",
       "3145799              Monday          49.000         W   7919  194.0  150.0   \n",
       "3479756            Saturday          30.864         C   3887  202.0  185.0   \n",
       "3183759              Sunday          59.000         W  14712  111.0  150.0   \n",
       "3289009              Sunday         107.950         W   7222  360.0  150.0   \n",
       "\n",
       "                    card4  card5   card6  addr1  ...        V312        V313  \\\n",
       "TransactionID                                    ...                           \n",
       "3329536        mastercard  166.0   debit  269.0  ...   59.000000   59.000000   \n",
       "3155699              visa  195.0  credit  337.0  ...    0.000000    0.000000   \n",
       "3300036              visa  226.0  credit    NaN  ...    0.000000    0.000000   \n",
       "3166731              visa  102.0  credit  296.0  ...    0.000000    0.000000   \n",
       "3260871              visa  226.0   debit  299.0  ...    0.000000    0.000000   \n",
       "...                   ...    ...     ...    ...  ...         ...         ...   \n",
       "3433988        mastercard  117.0   debit  177.0  ...  107.949997  107.949997   \n",
       "3145799        mastercard  202.0   debit  123.0  ...    0.000000    0.000000   \n",
       "3479756        mastercard  137.0  credit    NaN  ...    0.000000    0.000000   \n",
       "3183759              visa  226.0   debit  264.0  ...    0.000000    0.000000   \n",
       "3289009              visa  226.0   debit  253.0  ...  194.949997    0.000000   \n",
       "\n",
       "                     V314        V315   V316   V317   V318  V319  V320  V321  \n",
       "TransactionID                                                                 \n",
       "3329536         59.000000   59.000000  177.0  177.0  177.0   0.0   0.0   0.0  \n",
       "3155699          0.000000    0.000000    0.0    0.0    0.0   0.0   0.0   0.0  \n",
       "3300036          0.000000    0.000000    0.0    0.0    0.0   0.0   0.0   0.0  \n",
       "3166731          0.000000    0.000000  100.0  100.0  100.0   0.0   0.0   0.0  \n",
       "3260871          0.000000    0.000000    0.0    0.0    0.0   0.0   0.0   0.0  \n",
       "...                   ...         ...    ...    ...    ...   ...   ...   ...  \n",
       "3433988        359.799988  107.949997    0.0    0.0    0.0   0.0   0.0   0.0  \n",
       "3145799          0.000000    0.000000    0.0    0.0    0.0   0.0   0.0   0.0  \n",
       "3479756          0.000000    0.000000    0.0    0.0    0.0   0.0   0.0   0.0  \n",
       "3183759          0.000000    0.000000    0.0    0.0    0.0   0.0   0.0   0.0  \n",
       "3289009          0.000000    0.000000    0.0    0.0    0.0   0.0   0.0   0.0  \n",
       "\n",
       "[18552 rows x 180 columns]"
      ]
     },
     "execution_count": 21,
     "metadata": {},
     "output_type": "execute_result"
    }
   ],
   "source": [
    "X_train"
   ]
  },
  {
   "cell_type": "code",
   "execution_count": 22,
   "id": "7133de1b",
   "metadata": {
    "ExecuteTime": {
     "end_time": "2021-05-05T19:59:31.398109Z",
     "start_time": "2021-05-05T19:59:31.391356Z"
    }
   },
   "outputs": [
    {
     "data": {
      "text/plain": [
       "TransactionDT      object\n",
       "TransactionAmt    float64\n",
       "ProductCD          object\n",
       "card1               int64\n",
       "card2             float64\n",
       "                   ...   \n",
       "V317              float64\n",
       "V318              float64\n",
       "V319              float64\n",
       "V320              float64\n",
       "V321              float64\n",
       "Length: 180, dtype: object"
      ]
     },
     "execution_count": 22,
     "metadata": {},
     "output_type": "execute_result"
    }
   ],
   "source": [
    "X_train.dtypes"
   ]
  },
  {
   "cell_type": "code",
   "execution_count": null,
   "id": "9e91205b",
   "metadata": {},
   "outputs": [],
   "source": []
  },
  {
   "cell_type": "code",
   "execution_count": null,
   "id": "5935294f",
   "metadata": {},
   "outputs": [],
   "source": []
  },
  {
   "cell_type": "code",
   "execution_count": null,
   "id": "2a56e9bd",
   "metadata": {},
   "outputs": [],
   "source": []
  },
  {
   "cell_type": "code",
   "execution_count": 23,
   "id": "927bd64b",
   "metadata": {
    "ExecuteTime": {
     "end_time": "2021-05-05T19:59:31.406811Z",
     "start_time": "2021-05-05T19:59:31.402331Z"
    }
   },
   "outputs": [],
   "source": [
    "numeric_features = make_column_selector(dtype_include=['float64','int64'])\n",
    "numeric_transformer = Pipeline(steps=[\n",
    "    ('imputer', KNNImputer(n_neighbors=3)),\n",
    "    ('scaler', StandardScaler())])"
   ]
  },
  {
   "cell_type": "code",
   "execution_count": 24,
   "id": "2f39d827",
   "metadata": {
    "ExecuteTime": {
     "end_time": "2021-05-05T19:59:31.414061Z",
     "start_time": "2021-05-05T19:59:31.408754Z"
    }
   },
   "outputs": [],
   "source": [
    "categorical_features = make_column_selector(dtype_include='object')\n",
    "categorical_transformer = OneHotEncoder(handle_unknown='ignore')"
   ]
  },
  {
   "cell_type": "code",
   "execution_count": 25,
   "id": "27edff5b",
   "metadata": {
    "ExecuteTime": {
     "end_time": "2021-05-05T19:59:31.424806Z",
     "start_time": "2021-05-05T19:59:31.415576Z"
    }
   },
   "outputs": [],
   "source": [
    "preprocessor = ColumnTransformer(\n",
    "    transformers=[\n",
    "        ('num', numeric_transformer, numeric_features),\n",
    "        ('cat', categorical_transformer, categorical_features)])"
   ]
  },
  {
   "cell_type": "code",
   "execution_count": 26,
   "id": "3e3da5d3",
   "metadata": {
    "ExecuteTime": {
     "end_time": "2021-05-05T19:59:31.430169Z",
     "start_time": "2021-05-05T19:59:31.426539Z"
    }
   },
   "outputs": [],
   "source": [
    "pipe = Pipeline(steps=[('preprocessor', preprocessor),\n",
    "                        ('pca', PCA(n_components=50)),\n",
    "                      ('classifier', SVC())],\n",
    "               verbose=True)"
   ]
  },
  {
   "cell_type": "code",
   "execution_count": null,
   "id": "666af857",
   "metadata": {},
   "outputs": [],
   "source": []
  },
  {
   "cell_type": "code",
   "execution_count": null,
   "id": "75019e76",
   "metadata": {},
   "outputs": [],
   "source": []
  },
  {
   "cell_type": "code",
   "execution_count": null,
   "id": "9e172bfd",
   "metadata": {},
   "outputs": [],
   "source": []
  },
  {
   "cell_type": "code",
   "execution_count": null,
   "id": "ba1c5de2",
   "metadata": {},
   "outputs": [],
   "source": []
  },
  {
   "cell_type": "code",
   "execution_count": 27,
   "id": "61f06715",
   "metadata": {
    "ExecuteTime": {
     "end_time": "2021-05-05T19:59:31.434356Z",
     "start_time": "2021-05-05T19:59:31.431634Z"
    }
   },
   "outputs": [],
   "source": [
    "ss = ShuffleSplit(test_size=0.5, n_splits=1, random_state=7)"
   ]
  },
  {
   "cell_type": "code",
   "execution_count": 28,
   "id": "0955d3ab",
   "metadata": {
    "ExecuteTime": {
     "end_time": "2021-05-05T19:59:31.443643Z",
     "start_time": "2021-05-05T19:59:31.436427Z"
    }
   },
   "outputs": [],
   "source": [
    "param_grid = [{\n",
    "                  'classifier': (KNeighborsClassifier(),),\n",
    "                  'classifier__n_neighbors':[20], \n",
    "                  'classifier__metric':['manhattan'],\n",
    "                  'classifier__weights':['distance'],\n",
    "                  'pca__n_components':[100]        \n",
    "              },\n",
    "              {\n",
    "                  'classifier': (SVC(gamma=\"auto\",probability=True),),\n",
    "                  'pca__n_components':[100]  \n",
    "              },\n",
    "              {\n",
    "                  'classifier': (MLPClassifier(hidden_layer_sizes=(100,), max_iter=20, alpha=1e-4,\n",
    "                    solver='sgd', verbose=0, random_state=1,\n",
    "                    learning_rate_init=.1),),\n",
    "                  'pca__n_components':[100],\n",
    "                  'classifier__alpha':[1e-6],\n",
    "                  'classifier__hidden_layer_sizes':[(50,)],\n",
    "                  'classifier__max_iter':[100],\n",
    "                  'classifier__learning_rate_init':[0.01],\n",
    "              },\n",
    "                  {\n",
    "                  'classifier': (LogisticRegression(solver='liblinear'),),\n",
    "                  'pca__n_components':[100]  \n",
    "              }\n",
    "              ]\n"
   ]
  },
  {
   "cell_type": "code",
   "execution_count": 29,
   "id": "61461496",
   "metadata": {
    "ExecuteTime": {
     "end_time": "2021-05-05T19:59:31.448708Z",
     "start_time": "2021-05-05T19:59:31.445164Z"
    }
   },
   "outputs": [],
   "source": [
    "pipe_gs = GridSearchCV(pipe, param_grid, cv=ss, scoring=\"roc_auc\",\n",
    "                      verbose = 10, n_jobs = -1)"
   ]
  },
  {
   "cell_type": "code",
   "execution_count": 30,
   "id": "5f547628",
   "metadata": {
    "ExecuteTime": {
     "end_time": "2021-05-05T20:05:07.037132Z",
     "start_time": "2021-05-05T19:59:31.450355Z"
    }
   },
   "outputs": [
    {
     "name": "stdout",
     "output_type": "stream",
     "text": [
      "Fitting 1 folds for each of 4 candidates, totalling 4 fits\n",
      "[Pipeline] ...... (step 1 of 3) Processing preprocessor, total= 3.2min\n",
      "[Pipeline] ............... (step 2 of 3) Processing pca, total=   1.1s\n",
      "[Pipeline] ........ (step 3 of 3) Processing classifier, total=   0.0s\n"
     ]
    }
   ],
   "source": [
    "pipe_gs = pipe_gs.fit(X_train, y_train)"
   ]
  },
  {
   "cell_type": "code",
   "execution_count": 31,
   "id": "c46f5b5c",
   "metadata": {
    "ExecuteTime": {
     "end_time": "2021-05-05T20:05:07.088121Z",
     "start_time": "2021-05-05T20:05:07.043510Z"
    }
   },
   "outputs": [
    {
     "data": {
      "text/plain": [
       "{'classifier': KNeighborsClassifier(metric='manhattan', n_neighbors=20, weights='distance'),\n",
       " 'classifier__metric': 'manhattan',\n",
       " 'classifier__n_neighbors': 20,\n",
       " 'classifier__weights': 'distance',\n",
       " 'pca__n_components': 100}"
      ]
     },
     "execution_count": 31,
     "metadata": {},
     "output_type": "execute_result"
    }
   ],
   "source": [
    "pipe_gs.best_params_"
   ]
  },
  {
   "cell_type": "code",
   "execution_count": 32,
   "id": "9f028396",
   "metadata": {
    "ExecuteTime": {
     "end_time": "2021-05-05T20:05:07.115250Z",
     "start_time": "2021-05-05T20:05:07.090689Z"
    }
   },
   "outputs": [
    {
     "data": {
      "text/plain": [
       "{'mean_fit_time': array([ 64.2783215 , 114.60409451,  68.751266  ,  63.76017356]),\n",
       " 'std_fit_time': array([0., 0., 0., 0.]),\n",
       " 'mean_score_time': array([56.79827905, 26.59423852, 45.34440684, 47.59935236]),\n",
       " 'std_score_time': array([0., 0., 0., 0.]),\n",
       " 'param_classifier': masked_array(data=[KNeighborsClassifier(metric='manhattan', n_neighbors=20, weights='distance'),\n",
       "                    SVC(gamma='auto', probability=True),\n",
       "                    MLPClassifier(learning_rate_init=0.1, max_iter=20, random_state=1, solver='sgd',\n",
       "                                  verbose=0)                                                        ,\n",
       "                    LogisticRegression(solver='liblinear')],\n",
       "              mask=[False, False, False, False],\n",
       "        fill_value='?',\n",
       "             dtype=object),\n",
       " 'param_classifier__metric': masked_array(data=['manhattan', --, --, --],\n",
       "              mask=[False,  True,  True,  True],\n",
       "        fill_value='?',\n",
       "             dtype=object),\n",
       " 'param_classifier__n_neighbors': masked_array(data=[20, --, --, --],\n",
       "              mask=[False,  True,  True,  True],\n",
       "        fill_value='?',\n",
       "             dtype=object),\n",
       " 'param_classifier__weights': masked_array(data=['distance', --, --, --],\n",
       "              mask=[False,  True,  True,  True],\n",
       "        fill_value='?',\n",
       "             dtype=object),\n",
       " 'param_pca__n_components': masked_array(data=[100, 100, 100, 100],\n",
       "              mask=[False, False, False, False],\n",
       "        fill_value='?',\n",
       "             dtype=object),\n",
       " 'param_classifier__alpha': masked_array(data=[--, --, 1e-06, --],\n",
       "              mask=[ True,  True, False,  True],\n",
       "        fill_value='?',\n",
       "             dtype=object),\n",
       " 'param_classifier__hidden_layer_sizes': masked_array(data=[--, --, (50,), --],\n",
       "              mask=[ True,  True, False,  True],\n",
       "        fill_value='?',\n",
       "             dtype=object),\n",
       " 'param_classifier__learning_rate_init': masked_array(data=[--, --, 0.01, --],\n",
       "              mask=[ True,  True, False,  True],\n",
       "        fill_value='?',\n",
       "             dtype=object),\n",
       " 'param_classifier__max_iter': masked_array(data=[--, --, 100, --],\n",
       "              mask=[ True,  True, False,  True],\n",
       "        fill_value='?',\n",
       "             dtype=object),\n",
       " 'params': [{'classifier': KNeighborsClassifier(metric='manhattan', n_neighbors=20, weights='distance'),\n",
       "   'classifier__metric': 'manhattan',\n",
       "   'classifier__n_neighbors': 20,\n",
       "   'classifier__weights': 'distance',\n",
       "   'pca__n_components': 100},\n",
       "  {'classifier': SVC(gamma='auto', probability=True),\n",
       "   'pca__n_components': 100},\n",
       "  {'classifier': MLPClassifier(learning_rate_init=0.1, max_iter=20, random_state=1, solver='sgd',\n",
       "                 verbose=0),\n",
       "   'classifier__alpha': 1e-06,\n",
       "   'classifier__hidden_layer_sizes': (50,),\n",
       "   'classifier__learning_rate_init': 0.01,\n",
       "   'classifier__max_iter': 100,\n",
       "   'pca__n_components': 100},\n",
       "  {'classifier': LogisticRegression(solver='liblinear'),\n",
       "   'pca__n_components': 100}],\n",
       " 'split0_test_score': array([0.82583728, 0.82560003, 0.82355534, 0.80971907]),\n",
       " 'mean_test_score': array([0.82583728, 0.82560003, 0.82355534, 0.80971907]),\n",
       " 'std_test_score': array([0., 0., 0., 0.]),\n",
       " 'rank_test_score': array([1, 2, 3, 4], dtype=int32)}"
      ]
     },
     "execution_count": 32,
     "metadata": {},
     "output_type": "execute_result"
    }
   ],
   "source": [
    "pipe_gs.cv_results_"
   ]
  },
  {
   "cell_type": "code",
   "execution_count": 33,
   "id": "4957f5cc",
   "metadata": {
    "ExecuteTime": {
     "end_time": "2021-05-05T20:05:07.173438Z",
     "start_time": "2021-05-05T20:05:07.118310Z"
    }
   },
   "outputs": [
    {
     "data": {
      "text/html": [
       "<div>\n",
       "<style scoped>\n",
       "    .dataframe tbody tr th:only-of-type {\n",
       "        vertical-align: middle;\n",
       "    }\n",
       "\n",
       "    .dataframe tbody tr th {\n",
       "        vertical-align: top;\n",
       "    }\n",
       "\n",
       "    .dataframe thead th {\n",
       "        text-align: right;\n",
       "    }\n",
       "</style>\n",
       "<table border=\"1\" class=\"dataframe\">\n",
       "  <thead>\n",
       "    <tr style=\"text-align: right;\">\n",
       "      <th></th>\n",
       "      <th>classifier</th>\n",
       "      <th>classifier__metric</th>\n",
       "      <th>classifier__n_neighbors</th>\n",
       "      <th>classifier__weights</th>\n",
       "      <th>pca__n_components</th>\n",
       "      <th>classifier__alpha</th>\n",
       "      <th>classifier__hidden_layer_sizes</th>\n",
       "      <th>classifier__learning_rate_init</th>\n",
       "      <th>classifier__max_iter</th>\n",
       "      <th>roc_auc</th>\n",
       "    </tr>\n",
       "  </thead>\n",
       "  <tbody>\n",
       "    <tr>\n",
       "      <th>0</th>\n",
       "      <td>KNeighborsClassifier(metric='manhattan', n_nei...</td>\n",
       "      <td>manhattan</td>\n",
       "      <td>20.0</td>\n",
       "      <td>distance</td>\n",
       "      <td>100</td>\n",
       "      <td>NaN</td>\n",
       "      <td>NaN</td>\n",
       "      <td>NaN</td>\n",
       "      <td>NaN</td>\n",
       "      <td>0.825837</td>\n",
       "    </tr>\n",
       "    <tr>\n",
       "      <th>1</th>\n",
       "      <td>SVC(gamma='auto', probability=True)</td>\n",
       "      <td>NaN</td>\n",
       "      <td>NaN</td>\n",
       "      <td>NaN</td>\n",
       "      <td>100</td>\n",
       "      <td>NaN</td>\n",
       "      <td>NaN</td>\n",
       "      <td>NaN</td>\n",
       "      <td>NaN</td>\n",
       "      <td>0.825600</td>\n",
       "    </tr>\n",
       "    <tr>\n",
       "      <th>2</th>\n",
       "      <td>MLPClassifier(learning_rate_init=0.1, max_iter...</td>\n",
       "      <td>NaN</td>\n",
       "      <td>NaN</td>\n",
       "      <td>NaN</td>\n",
       "      <td>100</td>\n",
       "      <td>0.000001</td>\n",
       "      <td>(50,)</td>\n",
       "      <td>0.01</td>\n",
       "      <td>100.0</td>\n",
       "      <td>0.823555</td>\n",
       "    </tr>\n",
       "    <tr>\n",
       "      <th>3</th>\n",
       "      <td>LogisticRegression(solver='liblinear')</td>\n",
       "      <td>NaN</td>\n",
       "      <td>NaN</td>\n",
       "      <td>NaN</td>\n",
       "      <td>100</td>\n",
       "      <td>NaN</td>\n",
       "      <td>NaN</td>\n",
       "      <td>NaN</td>\n",
       "      <td>NaN</td>\n",
       "      <td>0.809719</td>\n",
       "    </tr>\n",
       "  </tbody>\n",
       "</table>\n",
       "</div>"
      ],
      "text/plain": [
       "                                          classifier classifier__metric  \\\n",
       "0  KNeighborsClassifier(metric='manhattan', n_nei...          manhattan   \n",
       "1                SVC(gamma='auto', probability=True)                NaN   \n",
       "2  MLPClassifier(learning_rate_init=0.1, max_iter...                NaN   \n",
       "3             LogisticRegression(solver='liblinear')                NaN   \n",
       "\n",
       "   classifier__n_neighbors classifier__weights  pca__n_components  \\\n",
       "0                     20.0            distance                100   \n",
       "1                      NaN                 NaN                100   \n",
       "2                      NaN                 NaN                100   \n",
       "3                      NaN                 NaN                100   \n",
       "\n",
       "   classifier__alpha classifier__hidden_layer_sizes  \\\n",
       "0                NaN                            NaN   \n",
       "1                NaN                            NaN   \n",
       "2           0.000001                          (50,)   \n",
       "3                NaN                            NaN   \n",
       "\n",
       "   classifier__learning_rate_init  classifier__max_iter   roc_auc  \n",
       "0                             NaN                   NaN  0.825837  \n",
       "1                             NaN                   NaN  0.825600  \n",
       "2                            0.01                 100.0  0.823555  \n",
       "3                             NaN                   NaN  0.809719  "
      ]
     },
     "execution_count": 33,
     "metadata": {},
     "output_type": "execute_result"
    }
   ],
   "source": [
    "(pd.concat([pd.DataFrame(pipe_gs\n",
    "                        .cv_results_[\"params\"]),\n",
    "           pd.DataFrame(pipe_gs.cv_results_[\"mean_test_score\"],\n",
    "                        columns=[\"roc_auc\"])],\n",
    "          axis=1)\n",
    " .sort_values(\"roc_auc\",ascending=False)\n",
    ")\n"
   ]
  },
  {
   "cell_type": "code",
   "execution_count": null,
   "id": "a8184e48",
   "metadata": {},
   "outputs": [],
   "source": []
  },
  {
   "cell_type": "code",
   "execution_count": null,
   "id": "66a31ea5",
   "metadata": {},
   "outputs": [],
   "source": []
  },
  {
   "cell_type": "code",
   "execution_count": 34,
   "id": "19ecfda2",
   "metadata": {
    "ExecuteTime": {
     "end_time": "2021-05-05T20:05:07.189182Z",
     "start_time": "2021-05-05T20:05:07.175884Z"
    }
   },
   "outputs": [
    {
     "data": {
      "text/plain": [
       "['TransactionID',\n",
       " 'TransactionDT',\n",
       " 'TransactionAmt',\n",
       " 'ProductCD',\n",
       " 'card1',\n",
       " 'card2',\n",
       " 'card3',\n",
       " 'card4',\n",
       " 'card5',\n",
       " 'card6',\n",
       " 'addr1',\n",
       " 'addr2',\n",
       " 'dist1',\n",
       " 'dist2',\n",
       " 'P_emaildomain',\n",
       " 'R_emaildomain',\n",
       " 'C1',\n",
       " 'C2',\n",
       " 'C3',\n",
       " 'C4',\n",
       " 'C5',\n",
       " 'C6',\n",
       " 'C7',\n",
       " 'C8',\n",
       " 'C9',\n",
       " 'C10',\n",
       " 'C11',\n",
       " 'C12',\n",
       " 'C13',\n",
       " 'C14',\n",
       " 'D1',\n",
       " 'D2',\n",
       " 'D3',\n",
       " 'D4',\n",
       " 'D5',\n",
       " 'D6',\n",
       " 'D7',\n",
       " 'D8',\n",
       " 'D9',\n",
       " 'D10',\n",
       " 'D11',\n",
       " 'D12',\n",
       " 'D13',\n",
       " 'D14',\n",
       " 'D15',\n",
       " 'M1',\n",
       " 'M2',\n",
       " 'M3',\n",
       " 'M4',\n",
       " 'M5',\n",
       " 'M6',\n",
       " 'M7',\n",
       " 'M8',\n",
       " 'M9',\n",
       " 'V1',\n",
       " 'V2',\n",
       " 'V3',\n",
       " 'V4',\n",
       " 'V5',\n",
       " 'V6',\n",
       " 'V7',\n",
       " 'V8',\n",
       " 'V9',\n",
       " 'V10',\n",
       " 'V11',\n",
       " 'V12',\n",
       " 'V13',\n",
       " 'V14',\n",
       " 'V15',\n",
       " 'V16',\n",
       " 'V17',\n",
       " 'V18',\n",
       " 'V19',\n",
       " 'V20',\n",
       " 'V21',\n",
       " 'V22',\n",
       " 'V23',\n",
       " 'V24',\n",
       " 'V25',\n",
       " 'V26',\n",
       " 'V27',\n",
       " 'V28',\n",
       " 'V29',\n",
       " 'V30',\n",
       " 'V31',\n",
       " 'V32',\n",
       " 'V33',\n",
       " 'V34',\n",
       " 'V35',\n",
       " 'V36',\n",
       " 'V37',\n",
       " 'V38',\n",
       " 'V39',\n",
       " 'V40',\n",
       " 'V41',\n",
       " 'V42',\n",
       " 'V43',\n",
       " 'V44',\n",
       " 'V45',\n",
       " 'V46',\n",
       " 'V47',\n",
       " 'V48',\n",
       " 'V49',\n",
       " 'V50',\n",
       " 'V51',\n",
       " 'V52',\n",
       " 'V53',\n",
       " 'V54',\n",
       " 'V55',\n",
       " 'V56',\n",
       " 'V57',\n",
       " 'V58',\n",
       " 'V59',\n",
       " 'V60',\n",
       " 'V61',\n",
       " 'V62',\n",
       " 'V63',\n",
       " 'V64',\n",
       " 'V65',\n",
       " 'V66',\n",
       " 'V67',\n",
       " 'V68',\n",
       " 'V69',\n",
       " 'V70',\n",
       " 'V71',\n",
       " 'V72',\n",
       " 'V73',\n",
       " 'V74',\n",
       " 'V75',\n",
       " 'V76',\n",
       " 'V77',\n",
       " 'V78',\n",
       " 'V79',\n",
       " 'V80',\n",
       " 'V81',\n",
       " 'V82',\n",
       " 'V83',\n",
       " 'V84',\n",
       " 'V85',\n",
       " 'V86',\n",
       " 'V87',\n",
       " 'V88',\n",
       " 'V89',\n",
       " 'V90',\n",
       " 'V91',\n",
       " 'V92',\n",
       " 'V93',\n",
       " 'V94',\n",
       " 'V95',\n",
       " 'V96',\n",
       " 'V97',\n",
       " 'V98',\n",
       " 'V99',\n",
       " 'V100',\n",
       " 'V101',\n",
       " 'V102',\n",
       " 'V103',\n",
       " 'V104',\n",
       " 'V105',\n",
       " 'V106',\n",
       " 'V107',\n",
       " 'V108',\n",
       " 'V109',\n",
       " 'V110',\n",
       " 'V111',\n",
       " 'V112',\n",
       " 'V113',\n",
       " 'V114',\n",
       " 'V115',\n",
       " 'V116',\n",
       " 'V117',\n",
       " 'V118',\n",
       " 'V119',\n",
       " 'V120',\n",
       " 'V121',\n",
       " 'V122',\n",
       " 'V123',\n",
       " 'V124',\n",
       " 'V125',\n",
       " 'V126',\n",
       " 'V127',\n",
       " 'V128',\n",
       " 'V129',\n",
       " 'V130',\n",
       " 'V131',\n",
       " 'V132',\n",
       " 'V133',\n",
       " 'V134',\n",
       " 'V135',\n",
       " 'V136',\n",
       " 'V137',\n",
       " 'V138',\n",
       " 'V139',\n",
       " 'V140',\n",
       " 'V141',\n",
       " 'V142',\n",
       " 'V143',\n",
       " 'V144',\n",
       " 'V145',\n",
       " 'V146',\n",
       " 'V147',\n",
       " 'V148',\n",
       " 'V149',\n",
       " 'V150',\n",
       " 'V151',\n",
       " 'V152',\n",
       " 'V153',\n",
       " 'V154',\n",
       " 'V155',\n",
       " 'V156',\n",
       " 'V157',\n",
       " 'V158',\n",
       " 'V159',\n",
       " 'V160',\n",
       " 'V161',\n",
       " 'V162',\n",
       " 'V163',\n",
       " 'V164',\n",
       " 'V165',\n",
       " 'V166',\n",
       " 'V167',\n",
       " 'V168',\n",
       " 'V169',\n",
       " 'V170',\n",
       " 'V171',\n",
       " 'V172',\n",
       " 'V173',\n",
       " 'V174',\n",
       " 'V175',\n",
       " 'V176',\n",
       " 'V177',\n",
       " 'V178',\n",
       " 'V179',\n",
       " 'V180',\n",
       " 'V181',\n",
       " 'V182',\n",
       " 'V183',\n",
       " 'V184',\n",
       " 'V185',\n",
       " 'V186',\n",
       " 'V187',\n",
       " 'V188',\n",
       " 'V189',\n",
       " 'V190',\n",
       " 'V191',\n",
       " 'V192',\n",
       " 'V193',\n",
       " 'V194',\n",
       " 'V195',\n",
       " 'V196',\n",
       " 'V197',\n",
       " 'V198',\n",
       " 'V199',\n",
       " 'V200',\n",
       " 'V201',\n",
       " 'V202',\n",
       " 'V203',\n",
       " 'V204',\n",
       " 'V205',\n",
       " 'V206',\n",
       " 'V207',\n",
       " 'V208',\n",
       " 'V209',\n",
       " 'V210',\n",
       " 'V211',\n",
       " 'V212',\n",
       " 'V213',\n",
       " 'V214',\n",
       " 'V215',\n",
       " 'V216',\n",
       " 'V217',\n",
       " 'V218',\n",
       " 'V219',\n",
       " 'V220',\n",
       " 'V221',\n",
       " 'V222',\n",
       " 'V223',\n",
       " 'V224',\n",
       " 'V225',\n",
       " 'V226',\n",
       " 'V227',\n",
       " 'V228',\n",
       " 'V229',\n",
       " 'V230',\n",
       " 'V231',\n",
       " 'V232',\n",
       " 'V233',\n",
       " 'V234',\n",
       " 'V235',\n",
       " 'V236',\n",
       " 'V237',\n",
       " 'V238',\n",
       " 'V239',\n",
       " 'V240',\n",
       " 'V241',\n",
       " 'V242',\n",
       " 'V243',\n",
       " 'V244',\n",
       " 'V245',\n",
       " 'V246',\n",
       " 'V247',\n",
       " 'V248',\n",
       " 'V249',\n",
       " 'V250',\n",
       " 'V251',\n",
       " 'V252',\n",
       " 'V253',\n",
       " 'V254',\n",
       " 'V255',\n",
       " 'V256',\n",
       " 'V257',\n",
       " 'V258',\n",
       " 'V259',\n",
       " 'V260',\n",
       " 'V261',\n",
       " 'V262',\n",
       " 'V263',\n",
       " 'V264',\n",
       " 'V265',\n",
       " 'V266',\n",
       " 'V267',\n",
       " 'V268',\n",
       " 'V269',\n",
       " 'V270',\n",
       " 'V271',\n",
       " 'V272',\n",
       " 'V273',\n",
       " 'V274',\n",
       " 'V275',\n",
       " 'V276',\n",
       " 'V277',\n",
       " 'V278',\n",
       " 'V279',\n",
       " 'V280',\n",
       " 'V281',\n",
       " 'V282',\n",
       " 'V283',\n",
       " 'V284',\n",
       " 'V285',\n",
       " 'V286',\n",
       " 'V287',\n",
       " 'V288',\n",
       " 'V289',\n",
       " 'V290',\n",
       " 'V291',\n",
       " 'V292',\n",
       " 'V293',\n",
       " 'V294',\n",
       " 'V295',\n",
       " 'V296',\n",
       " 'V297',\n",
       " 'V298',\n",
       " 'V299',\n",
       " 'V300',\n",
       " 'V301',\n",
       " 'V302',\n",
       " 'V303',\n",
       " 'V304',\n",
       " 'V305',\n",
       " 'V306',\n",
       " 'V307',\n",
       " 'V308',\n",
       " 'V309',\n",
       " 'V310',\n",
       " 'V311',\n",
       " 'V312',\n",
       " 'V313',\n",
       " 'V314',\n",
       " 'V315',\n",
       " 'V316',\n",
       " 'V317',\n",
       " 'V318',\n",
       " 'V319',\n",
       " 'V320',\n",
       " 'V321',\n",
       " 'V322',\n",
       " 'V323',\n",
       " 'V324',\n",
       " 'V325',\n",
       " 'V326',\n",
       " 'V327',\n",
       " 'V328',\n",
       " 'V329',\n",
       " 'V330',\n",
       " 'V331',\n",
       " 'V332',\n",
       " 'V333',\n",
       " 'V334',\n",
       " 'V335',\n",
       " 'V336',\n",
       " 'V337',\n",
       " 'V338',\n",
       " 'V339',\n",
       " 'id_01',\n",
       " 'id_02',\n",
       " 'id_03',\n",
       " 'id_04',\n",
       " 'id_05',\n",
       " 'id_06',\n",
       " 'id_07',\n",
       " 'id_08',\n",
       " 'id_09',\n",
       " 'id_10',\n",
       " 'id_11',\n",
       " 'id_12',\n",
       " 'id_13',\n",
       " 'id_14',\n",
       " 'id_15',\n",
       " 'id_16',\n",
       " 'id_17',\n",
       " 'id_18',\n",
       " 'id_19',\n",
       " 'id_20',\n",
       " 'id_21',\n",
       " 'id_22',\n",
       " 'id_23',\n",
       " 'id_24',\n",
       " 'id_25',\n",
       " 'id_26',\n",
       " 'id_27',\n",
       " 'id_28',\n",
       " 'id_29',\n",
       " 'id_30',\n",
       " 'id_31',\n",
       " 'id_32',\n",
       " 'id_33',\n",
       " 'id_34',\n",
       " 'id_35',\n",
       " 'id_36',\n",
       " 'id_37',\n",
       " 'id_38',\n",
       " 'DeviceType',\n",
       " 'DeviceInfo']"
      ]
     },
     "execution_count": 34,
     "metadata": {},
     "output_type": "execute_result"
    }
   ],
   "source": [
    "list(X_train_hold.columns)"
   ]
  },
  {
   "cell_type": "markdown",
   "id": "8acf4047",
   "metadata": {},
   "source": [
    "# test model on hold out test from above"
   ]
  },
  {
   "cell_type": "code",
   "execution_count": 35,
   "id": "23426539",
   "metadata": {
    "ExecuteTime": {
     "end_time": "2021-05-05T20:05:12.568513Z",
     "start_time": "2021-05-05T20:05:07.192884Z"
    }
   },
   "outputs": [],
   "source": [
    "X_test_hold.drop(columns=dropped_columns, inplace=True)\n",
    "X_test_hold.loc[:, \"TransactionDT\"] = X_test_hold[\"TransactionDT\"].apply(lambda x: start + pd.Timedelta(seconds=x)).dt.day_name()\n",
    "X_test_hold.set_index(\"TransactionID\", inplace=True)"
   ]
  },
  {
   "cell_type": "code",
   "execution_count": 36,
   "id": "7db719cb",
   "metadata": {
    "ExecuteTime": {
     "end_time": "2021-05-05T20:13:52.772157Z",
     "start_time": "2021-05-05T20:05:12.570922Z"
    }
   },
   "outputs": [],
   "source": [
    "y_pred_gs = pipe_gs.predict(X_test_hold)"
   ]
  },
  {
   "cell_type": "code",
   "execution_count": 37,
   "id": "ed16659f",
   "metadata": {
    "ExecuteTime": {
     "end_time": "2021-05-05T20:13:53.063356Z",
     "start_time": "2021-05-05T20:13:52.824703Z"
    }
   },
   "outputs": [
    {
     "name": "stdout",
     "output_type": "stream",
     "text": [
      "Accuracy: 0.94\n"
     ]
    }
   ],
   "source": [
    "print(\"Accuracy: {0:4.2f}\".format(accuracy_score(y_test_hold,y_pred_gs)))"
   ]
  },
  {
   "cell_type": "code",
   "execution_count": null,
   "id": "9ea79772",
   "metadata": {
    "ExecuteTime": {
     "start_time": "2021-05-05T19:59:02.957Z"
    }
   },
   "outputs": [],
   "source": [
    "y_test_hold_probs = pipe_gs.predict_proba(X_test_hold)[:, 1]"
   ]
  },
  {
   "cell_type": "code",
   "execution_count": null,
   "id": "c5b6295c",
   "metadata": {
    "ExecuteTime": {
     "start_time": "2021-05-05T19:59:02.959Z"
    }
   },
   "outputs": [],
   "source": [
    "print(\"roc_auc_score: {0:4.2f}\".format(roc_auc_score(y_test_hold, y_test_hold_probs)))"
   ]
  },
  {
   "cell_type": "code",
   "execution_count": null,
   "id": "47e6d8d9",
   "metadata": {},
   "outputs": [],
   "source": []
  },
  {
   "cell_type": "code",
   "execution_count": null,
   "id": "70094c46",
   "metadata": {},
   "outputs": [],
   "source": []
  },
  {
   "cell_type": "code",
   "execution_count": null,
   "id": "3d9f33e5",
   "metadata": {
    "ExecuteTime": {
     "start_time": "2021-05-05T19:59:02.964Z"
    }
   },
   "outputs": [],
   "source": [
    "raise Exception(\"Stop right here!\") "
   ]
  },
  {
   "cell_type": "markdown",
   "id": "b4cdfbe4",
   "metadata": {},
   "source": [
    "# Finally predict the Kaggle test data set"
   ]
  },
  {
   "cell_type": "code",
   "execution_count": null,
   "id": "e9ed4fd0",
   "metadata": {
    "ExecuteTime": {
     "start_time": "2021-05-05T19:59:02.966Z"
    }
   },
   "outputs": [],
   "source": [
    "test_identity = pd.read_csv('data/ieee-fraud-detection/test_identity.csv')\n",
    "test_transaction = pd.read_csv('data/ieee-fraud-detection/test_transaction.csv')\n",
    "test = pd.merge(test_transaction, test_identity, on='TransactionID', how='left')\n",
    "test.shape"
   ]
  },
  {
   "cell_type": "code",
   "execution_count": null,
   "id": "d7aa73f6",
   "metadata": {
    "ExecuteTime": {
     "start_time": "2021-05-05T19:59:02.969Z"
    }
   },
   "outputs": [],
   "source": [
    "test.columns=test.columns.str.replace('-','_')"
   ]
  },
  {
   "cell_type": "code",
   "execution_count": null,
   "id": "205a574c",
   "metadata": {
    "ExecuteTime": {
     "start_time": "2021-05-05T19:59:02.971Z"
    }
   },
   "outputs": [],
   "source": [
    "test.drop(columns=dropped_columns, inplace=True)"
   ]
  },
  {
   "cell_type": "code",
   "execution_count": null,
   "id": "a169e2ba",
   "metadata": {
    "ExecuteTime": {
     "start_time": "2021-05-05T19:59:02.972Z"
    }
   },
   "outputs": [],
   "source": [
    "test_isFraud_prob = pipe_gs.predict_proba(test)[:, 1]"
   ]
  },
  {
   "cell_type": "code",
   "execution_count": null,
   "id": "ca3bcf26",
   "metadata": {},
   "outputs": [],
   "source": []
  },
  {
   "cell_type": "code",
   "execution_count": null,
   "id": "69ae5825",
   "metadata": {
    "ExecuteTime": {
     "start_time": "2021-05-05T19:59:02.977Z"
    }
   },
   "outputs": [],
   "source": [
    "def package_for_kaggle(test_isFraud_prob):\n",
    "    submission = pd.DataFrame({\"TransactionID\": test.TransactionID, \"isFraud\": test_isFraud_prob}) \n",
    "    submission.to_csv(\"data/submission.csv\", index=False)\n",
    "    \n",
    "package_for_kaggle(test_isFraud_prob)"
   ]
  },
  {
   "cell_type": "code",
   "execution_count": null,
   "id": "9aa614ad",
   "metadata": {},
   "outputs": [],
   "source": []
  },
  {
   "cell_type": "code",
   "execution_count": null,
   "id": "f980e4f2",
   "metadata": {},
   "outputs": [],
   "source": []
  }
 ],
 "metadata": {
  "kernelspec": {
   "display_name": "Python 3",
   "language": "python",
   "name": "python3"
  },
  "language_info": {
   "codemirror_mode": {
    "name": "ipython",
    "version": 3
   },
   "file_extension": ".py",
   "mimetype": "text/x-python",
   "name": "python",
   "nbconvert_exporter": "python",
   "pygments_lexer": "ipython3",
   "version": "3.8.5"
  }
 },
 "nbformat": 4,
 "nbformat_minor": 5
}
