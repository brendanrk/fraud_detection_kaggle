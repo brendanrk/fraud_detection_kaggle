{
 "cells": [
  {
   "cell_type": "code",
   "execution_count": 1,
   "id": "dde7fe8f",
   "metadata": {
    "ExecuteTime": {
     "end_time": "2021-05-04T17:26:16.144624Z",
     "start_time": "2021-05-04T17:26:14.514442Z"
    }
   },
   "outputs": [],
   "source": [
    "import pandas as pd\n",
    "import numpy as np\n",
    "import gc\n",
    "import matplotlib.pyplot as plt  \n",
    "from sklearn.neighbors import KNeighborsClassifier\n",
    "from sklearn.impute import SimpleImputer, KNNImputer\n",
    "from sklearn.pipeline import Pipeline\n",
    "from sklearn.model_selection import train_test_split\n",
    "from sklearn.metrics import confusion_matrix, accuracy_score, plot_roc_curve, roc_auc_score\n",
    "from sklearn.preprocessing import StandardScaler\n",
    "from sklearn.preprocessing import OneHotEncoder\n",
    "from sklearn.model_selection import cross_val_score\n",
    "from sklearn.model_selection import GridSearchCV\n",
    "from sklearn.compose import make_column_selector \n",
    "from sklearn.compose import ColumnTransformer\n",
    "from sklearn.model_selection import ShuffleSplit\n",
    "from sklearn.decomposition import PCA\n",
    "from sklearn.neural_network import MLPClassifier\n",
    "from sklearn.svm import SVC\n",
    "from sklearn.tree import DecisionTreeClassifier\n",
    "from sklearn.linear_model import LogisticRegression"
   ]
  },
  {
   "cell_type": "code",
   "execution_count": 2,
   "id": "510f8e41",
   "metadata": {
    "ExecuteTime": {
     "end_time": "2021-05-04T17:26:16.148124Z",
     "start_time": "2021-05-04T17:26:16.145974Z"
    }
   },
   "outputs": [],
   "source": [
    "skip_start = True"
   ]
  },
  {
   "cell_type": "markdown",
   "id": "d6e453a6",
   "metadata": {},
   "source": [
    "# Import data"
   ]
  },
  {
   "cell_type": "code",
   "execution_count": 3,
   "id": "f0558a08",
   "metadata": {
    "ExecuteTime": {
     "end_time": "2021-05-04T17:26:22.653166Z",
     "start_time": "2021-05-04T17:26:16.149633Z"
    }
   },
   "outputs": [],
   "source": [
    "if not skip_start:\n",
    "    train_identity = pd.read_csv('data/ieee-fraud-detection/train_identity.csv')\n",
    "    train_transaction = pd.read_csv('data/ieee-fraud-detection/train_transaction.csv')\n",
    "    train = pd.merge(train_transaction, train_identity, on='TransactionID', how='left')\n",
    "    print(train.shape)\n",
    "    del train_identity, train_transaction\n",
    "    gc.collect()\n",
    "    train.to_pickle(\"train.pkl\")\n",
    "else:\n",
    "    train = pd.read_pickle(\"train.pkl\")"
   ]
  },
  {
   "cell_type": "code",
   "execution_count": 4,
   "id": "c1b2b661",
   "metadata": {
    "ExecuteTime": {
     "end_time": "2021-05-04T17:26:28.758536Z",
     "start_time": "2021-05-04T17:26:22.654901Z"
    }
   },
   "outputs": [
    {
     "name": "stdout",
     "output_type": "stream",
     "text": [
      "(590540, 433) (590540,)\n"
     ]
    }
   ],
   "source": [
    "y = train['isFraud']   # target class\n",
    "X = train.drop('isFraud', axis=1)\n",
    "print(X.shape, y.shape)"
   ]
  },
  {
   "cell_type": "code",
   "execution_count": 5,
   "id": "8366646f",
   "metadata": {
    "ExecuteTime": {
     "end_time": "2021-05-04T17:26:28.938436Z",
     "start_time": "2021-05-04T17:26:28.760920Z"
    }
   },
   "outputs": [
    {
     "data": {
      "text/plain": [
       "40"
      ]
     },
     "execution_count": 5,
     "metadata": {},
     "output_type": "execute_result"
    }
   ],
   "source": [
    "del train\n",
    "gc.collect()"
   ]
  },
  {
   "cell_type": "markdown",
   "id": "00b1da02",
   "metadata": {},
   "source": [
    "# split data into test and train"
   ]
  },
  {
   "cell_type": "code",
   "execution_count": 6,
   "id": "e0e47afb",
   "metadata": {
    "ExecuteTime": {
     "end_time": "2021-05-04T17:26:34.519597Z",
     "start_time": "2021-05-04T17:26:28.939992Z"
    }
   },
   "outputs": [
    {
     "data": {
      "text/plain": [
       "((395661, 433), (194879, 433), (395661,), (194879,))"
      ]
     },
     "execution_count": 6,
     "metadata": {},
     "output_type": "execute_result"
    }
   ],
   "source": [
    "X_train_hold, X_test_hold, y_train_hold, y_test_hold = train_test_split(X, y, test_size=0.33, random_state=42)\n",
    "X_train_hold.shape, X_test_hold.shape, y_train_hold.shape, y_test_hold.shape"
   ]
  },
  {
   "cell_type": "code",
   "execution_count": 7,
   "id": "381757f1",
   "metadata": {
    "ExecuteTime": {
     "end_time": "2021-05-04T17:26:34.642175Z",
     "start_time": "2021-05-04T17:26:34.521389Z"
    }
   },
   "outputs": [
    {
     "data": {
      "text/plain": [
       "40"
      ]
     },
     "execution_count": 7,
     "metadata": {},
     "output_type": "execute_result"
    }
   ],
   "source": [
    "del X, y\n",
    "gc.collect()"
   ]
  },
  {
   "cell_type": "markdown",
   "id": "8cba8656",
   "metadata": {},
   "source": [
    "# Now work on train"
   ]
  },
  {
   "cell_type": "markdown",
   "id": "1f64192f",
   "metadata": {},
   "source": [
    "### Parameters to tune:"
   ]
  },
  {
   "cell_type": "code",
   "execution_count": 8,
   "id": "4c97b0d3",
   "metadata": {
    "ExecuteTime": {
     "end_time": "2021-05-04T17:26:34.648028Z",
     "start_time": "2021-05-04T17:26:34.645620Z"
    }
   },
   "outputs": [],
   "source": [
    "pick_sample_size_for_speed = 20000 # to speed up the processing - False meaning skip "
   ]
  },
  {
   "cell_type": "code",
   "execution_count": 9,
   "id": "a40706ca",
   "metadata": {
    "ExecuteTime": {
     "end_time": "2021-05-04T17:26:34.653373Z",
     "start_time": "2021-05-04T17:26:34.650106Z"
    }
   },
   "outputs": [],
   "source": [
    "threshold_column_missing = 0.65 # more than this number is not used"
   ]
  },
  {
   "cell_type": "code",
   "execution_count": 10,
   "id": "7cb9224e",
   "metadata": {
    "ExecuteTime": {
     "end_time": "2021-05-04T17:26:34.659833Z",
     "start_time": "2021-05-04T17:26:34.654942Z"
    }
   },
   "outputs": [],
   "source": [
    "correct_bias_isFruad_times_multiply = 2 # x times as many not fraud as fraud"
   ]
  },
  {
   "cell_type": "markdown",
   "id": "68ec3af7",
   "metadata": {},
   "source": [
    "## handle bias in data for isFraud"
   ]
  },
  {
   "cell_type": "code",
   "execution_count": 11,
   "id": "a3736be7",
   "metadata": {
    "ExecuteTime": {
     "end_time": "2021-05-04T17:26:35.158010Z",
     "start_time": "2021-05-04T17:26:34.661458Z"
    }
   },
   "outputs": [],
   "source": [
    "X_train = X_train_hold.copy()"
   ]
  },
  {
   "cell_type": "code",
   "execution_count": 12,
   "id": "a1218382",
   "metadata": {
    "ExecuteTime": {
     "end_time": "2021-05-04T17:26:35.167541Z",
     "start_time": "2021-05-04T17:26:35.159632Z"
    }
   },
   "outputs": [],
   "source": [
    "X_train.loc[:, 'isFraud'] = y_train_hold"
   ]
  },
  {
   "cell_type": "code",
   "execution_count": 13,
   "id": "4aef49a8",
   "metadata": {
    "ExecuteTime": {
     "end_time": "2021-05-04T17:26:36.876541Z",
     "start_time": "2021-05-04T17:26:35.168948Z"
    }
   },
   "outputs": [
    {
     "data": {
      "text/plain": [
       "isFraud\n",
       "0          381944\n",
       "1           13717\n",
       "dtype: int64"
      ]
     },
     "execution_count": 13,
     "metadata": {},
     "output_type": "execute_result"
    }
   ],
   "source": [
    "total_is_fraud = X_train[X_train[\"isFraud\"] == 1][\"isFraud\"].value_counts().item()\n",
    "total_is_not_fraud = X_train[X_train[\"isFraud\"] == 0][\"isFraud\"].value_counts().item()\n",
    "(X_train\n",
    "    .filter(['isFraud'])\n",
    "    .value_counts()\n",
    ")"
   ]
  },
  {
   "cell_type": "code",
   "execution_count": 14,
   "id": "45cb07c3",
   "metadata": {
    "ExecuteTime": {
     "end_time": "2021-05-04T17:26:38.922617Z",
     "start_time": "2021-05-04T17:26:36.877997Z"
    }
   },
   "outputs": [
    {
     "data": {
      "text/plain": [
       "(41151, 434)"
      ]
     },
     "execution_count": 14,
     "metadata": {},
     "output_type": "execute_result"
    }
   ],
   "source": [
    "X_train = X_train[X_train[\"isFraud\"] == 1].append(X_train[X_train[\"isFraud\"] == 0].sample(total_is_fraud*correct_bias_isFruad_times_multiply))\n",
    "X_train.shape"
   ]
  },
  {
   "cell_type": "code",
   "execution_count": 15,
   "id": "b874c2a4",
   "metadata": {
    "ExecuteTime": {
     "end_time": "2021-05-04T17:26:39.054450Z",
     "start_time": "2021-05-04T17:26:38.924569Z"
    }
   },
   "outputs": [
    {
     "data": {
      "text/plain": [
       "isFraud\n",
       "0          27434\n",
       "1          13717\n",
       "dtype: int64"
      ]
     },
     "execution_count": 15,
     "metadata": {},
     "output_type": "execute_result"
    }
   ],
   "source": [
    "(X_train\n",
    "    .filter(['isFraud'])\n",
    "    .value_counts()\n",
    ")"
   ]
  },
  {
   "cell_type": "code",
   "execution_count": null,
   "id": "dcfd10eb",
   "metadata": {},
   "outputs": [],
   "source": []
  },
  {
   "cell_type": "code",
   "execution_count": 16,
   "id": "9b14eec1",
   "metadata": {
    "ExecuteTime": {
     "end_time": "2021-05-04T17:26:39.137152Z",
     "start_time": "2021-05-04T17:26:39.056233Z"
    }
   },
   "outputs": [
    {
     "name": "stdout",
     "output_type": "stream",
     "text": [
      "pick_sample_size_for_speed 20000\n"
     ]
    }
   ],
   "source": [
    "if pick_sample_size_for_speed:\n",
    "    print(\"pick_sample_size_for_speed\", pick_sample_size_for_speed)\n",
    "    X_train = X_train.sample(pick_sample_size_for_speed)\n",
    "    y_train = X_train.loc[:, 'isFraud']\n",
    "else:\n",
    "    X_train = X_train\n",
    "    y_train = X_train.loc[:, 'isFraud']"
   ]
  },
  {
   "cell_type": "code",
   "execution_count": 17,
   "id": "98788ec7",
   "metadata": {
    "ExecuteTime": {
     "end_time": "2021-05-04T17:26:39.247262Z",
     "start_time": "2021-05-04T17:26:39.139258Z"
    }
   },
   "outputs": [
    {
     "name": "stdout",
     "output_type": "stream",
     "text": [
      "dropping:\n"
     ]
    },
    {
     "data": {
      "text/plain": [
       "['dist2',\n",
       " 'R_emaildomain',\n",
       " 'D6',\n",
       " 'D7',\n",
       " 'D8',\n",
       " 'D9',\n",
       " 'D12',\n",
       " 'D13',\n",
       " 'D14',\n",
       " 'V138',\n",
       " 'V139',\n",
       " 'V140',\n",
       " 'V141',\n",
       " 'V142',\n",
       " 'V143',\n",
       " 'V144',\n",
       " 'V145',\n",
       " 'V146',\n",
       " 'V147',\n",
       " 'V148',\n",
       " 'V149',\n",
       " 'V150',\n",
       " 'V151',\n",
       " 'V152',\n",
       " 'V153',\n",
       " 'V154',\n",
       " 'V155',\n",
       " 'V156',\n",
       " 'V157',\n",
       " 'V158',\n",
       " 'V159',\n",
       " 'V160',\n",
       " 'V161',\n",
       " 'V162',\n",
       " 'V163',\n",
       " 'V164',\n",
       " 'V165',\n",
       " 'V166',\n",
       " 'V167',\n",
       " 'V168',\n",
       " 'V169',\n",
       " 'V170',\n",
       " 'V171',\n",
       " 'V172',\n",
       " 'V173',\n",
       " 'V174',\n",
       " 'V175',\n",
       " 'V176',\n",
       " 'V177',\n",
       " 'V178',\n",
       " 'V179',\n",
       " 'V180',\n",
       " 'V181',\n",
       " 'V182',\n",
       " 'V183',\n",
       " 'V184',\n",
       " 'V185',\n",
       " 'V186',\n",
       " 'V187',\n",
       " 'V188',\n",
       " 'V189',\n",
       " 'V190',\n",
       " 'V191',\n",
       " 'V192',\n",
       " 'V193',\n",
       " 'V194',\n",
       " 'V195',\n",
       " 'V196',\n",
       " 'V197',\n",
       " 'V198',\n",
       " 'V199',\n",
       " 'V200',\n",
       " 'V201',\n",
       " 'V202',\n",
       " 'V203',\n",
       " 'V204',\n",
       " 'V205',\n",
       " 'V206',\n",
       " 'V207',\n",
       " 'V208',\n",
       " 'V209',\n",
       " 'V210',\n",
       " 'V211',\n",
       " 'V212',\n",
       " 'V213',\n",
       " 'V214',\n",
       " 'V215',\n",
       " 'V216',\n",
       " 'V217',\n",
       " 'V218',\n",
       " 'V219',\n",
       " 'V220',\n",
       " 'V221',\n",
       " 'V222',\n",
       " 'V223',\n",
       " 'V224',\n",
       " 'V225',\n",
       " 'V226',\n",
       " 'V227',\n",
       " 'V228',\n",
       " 'V229',\n",
       " 'V230',\n",
       " 'V231',\n",
       " 'V232',\n",
       " 'V233',\n",
       " 'V234',\n",
       " 'V235',\n",
       " 'V236',\n",
       " 'V237',\n",
       " 'V238',\n",
       " 'V239',\n",
       " 'V240',\n",
       " 'V241',\n",
       " 'V242',\n",
       " 'V243',\n",
       " 'V244',\n",
       " 'V245',\n",
       " 'V246',\n",
       " 'V247',\n",
       " 'V248',\n",
       " 'V249',\n",
       " 'V250',\n",
       " 'V251',\n",
       " 'V252',\n",
       " 'V253',\n",
       " 'V254',\n",
       " 'V255',\n",
       " 'V256',\n",
       " 'V257',\n",
       " 'V258',\n",
       " 'V259',\n",
       " 'V260',\n",
       " 'V261',\n",
       " 'V262',\n",
       " 'V263',\n",
       " 'V264',\n",
       " 'V265',\n",
       " 'V266',\n",
       " 'V267',\n",
       " 'V268',\n",
       " 'V269',\n",
       " 'V270',\n",
       " 'V271',\n",
       " 'V272',\n",
       " 'V273',\n",
       " 'V274',\n",
       " 'V275',\n",
       " 'V276',\n",
       " 'V277',\n",
       " 'V278',\n",
       " 'V322',\n",
       " 'V323',\n",
       " 'V324',\n",
       " 'V325',\n",
       " 'V326',\n",
       " 'V327',\n",
       " 'V328',\n",
       " 'V329',\n",
       " 'V330',\n",
       " 'V331',\n",
       " 'V332',\n",
       " 'V333',\n",
       " 'V334',\n",
       " 'V335',\n",
       " 'V336',\n",
       " 'V337',\n",
       " 'V338',\n",
       " 'V339',\n",
       " 'id_01',\n",
       " 'id_02',\n",
       " 'id_03',\n",
       " 'id_04',\n",
       " 'id_05',\n",
       " 'id_06',\n",
       " 'id_07',\n",
       " 'id_08',\n",
       " 'id_09',\n",
       " 'id_10',\n",
       " 'id_11',\n",
       " 'id_12',\n",
       " 'id_13',\n",
       " 'id_14',\n",
       " 'id_15',\n",
       " 'id_16',\n",
       " 'id_17',\n",
       " 'id_18',\n",
       " 'id_19',\n",
       " 'id_20',\n",
       " 'id_21',\n",
       " 'id_22',\n",
       " 'id_23',\n",
       " 'id_24',\n",
       " 'id_25',\n",
       " 'id_26',\n",
       " 'id_27',\n",
       " 'id_28',\n",
       " 'id_29',\n",
       " 'id_30',\n",
       " 'id_31',\n",
       " 'id_32',\n",
       " 'id_33',\n",
       " 'id_34',\n",
       " 'id_35',\n",
       " 'id_36',\n",
       " 'id_37',\n",
       " 'id_38',\n",
       " 'DeviceType',\n",
       " 'DeviceInfo']"
      ]
     },
     "execution_count": 17,
     "metadata": {},
     "output_type": "execute_result"
    }
   ],
   "source": [
    "print(\"dropping:\")\n",
    "dropped_columns = X_train.loc[:,\n",
    "    (X_train\n",
    "        .isna()\n",
    "        .mean()\n",
    "        .ge(threshold_column_missing)\n",
    "     )\n",
    "].columns.tolist()\n",
    "dropped_columns"
   ]
  },
  {
   "cell_type": "code",
   "execution_count": 18,
   "id": "778f8977",
   "metadata": {
    "ExecuteTime": {
     "end_time": "2021-05-04T17:26:39.344790Z",
     "start_time": "2021-05-04T17:26:39.250280Z"
    }
   },
   "outputs": [],
   "source": [
    "X_train = X_train.loc[:,\n",
    "    (X_train\n",
    "        .isna()\n",
    "        .mean()\n",
    "        .le(threshold_column_missing)\n",
    "     )\n",
    "]"
   ]
  },
  {
   "cell_type": "code",
   "execution_count": 19,
   "id": "d929b8e5",
   "metadata": {
    "ExecuteTime": {
     "end_time": "2021-05-04T17:26:39.417226Z",
     "start_time": "2021-05-04T17:26:39.346276Z"
    }
   },
   "outputs": [
    {
     "data": {
      "text/html": [
       "<div>\n",
       "<style scoped>\n",
       "    .dataframe tbody tr th:only-of-type {\n",
       "        vertical-align: middle;\n",
       "    }\n",
       "\n",
       "    .dataframe tbody tr th {\n",
       "        vertical-align: top;\n",
       "    }\n",
       "\n",
       "    .dataframe thead th {\n",
       "        text-align: right;\n",
       "    }\n",
       "</style>\n",
       "<table border=\"1\" class=\"dataframe\">\n",
       "  <thead>\n",
       "    <tr style=\"text-align: right;\">\n",
       "      <th></th>\n",
       "      <th>TransactionID</th>\n",
       "      <th>TransactionDT</th>\n",
       "      <th>TransactionAmt</th>\n",
       "      <th>ProductCD</th>\n",
       "      <th>card1</th>\n",
       "      <th>card2</th>\n",
       "      <th>card3</th>\n",
       "      <th>card4</th>\n",
       "      <th>card5</th>\n",
       "      <th>card6</th>\n",
       "      <th>...</th>\n",
       "      <th>V313</th>\n",
       "      <th>V314</th>\n",
       "      <th>V315</th>\n",
       "      <th>V316</th>\n",
       "      <th>V317</th>\n",
       "      <th>V318</th>\n",
       "      <th>V319</th>\n",
       "      <th>V320</th>\n",
       "      <th>V321</th>\n",
       "      <th>isFraud</th>\n",
       "    </tr>\n",
       "  </thead>\n",
       "  <tbody>\n",
       "    <tr>\n",
       "      <th>422167</th>\n",
       "      <td>3409167</td>\n",
       "      <td>10693104</td>\n",
       "      <td>77.000</td>\n",
       "      <td>W</td>\n",
       "      <td>9175</td>\n",
       "      <td>111.0</td>\n",
       "      <td>150.0</td>\n",
       "      <td>visa</td>\n",
       "      <td>226.0</td>\n",
       "      <td>debit</td>\n",
       "      <td>...</td>\n",
       "      <td>0.0</td>\n",
       "      <td>0.0</td>\n",
       "      <td>0.0</td>\n",
       "      <td>0.0</td>\n",
       "      <td>0.0</td>\n",
       "      <td>0.0</td>\n",
       "      <td>0.0</td>\n",
       "      <td>0.0</td>\n",
       "      <td>0.0</td>\n",
       "      <td>0</td>\n",
       "    </tr>\n",
       "    <tr>\n",
       "      <th>374709</th>\n",
       "      <td>3361709</td>\n",
       "      <td>9331983</td>\n",
       "      <td>445.000</td>\n",
       "      <td>W</td>\n",
       "      <td>11106</td>\n",
       "      <td>100.0</td>\n",
       "      <td>150.0</td>\n",
       "      <td>visa</td>\n",
       "      <td>226.0</td>\n",
       "      <td>credit</td>\n",
       "      <td>...</td>\n",
       "      <td>0.0</td>\n",
       "      <td>0.0</td>\n",
       "      <td>0.0</td>\n",
       "      <td>0.0</td>\n",
       "      <td>0.0</td>\n",
       "      <td>0.0</td>\n",
       "      <td>0.0</td>\n",
       "      <td>0.0</td>\n",
       "      <td>0.0</td>\n",
       "      <td>0</td>\n",
       "    </tr>\n",
       "    <tr>\n",
       "      <th>406038</th>\n",
       "      <td>3393038</td>\n",
       "      <td>10259622</td>\n",
       "      <td>31.902</td>\n",
       "      <td>C</td>\n",
       "      <td>15885</td>\n",
       "      <td>545.0</td>\n",
       "      <td>185.0</td>\n",
       "      <td>visa</td>\n",
       "      <td>138.0</td>\n",
       "      <td>debit</td>\n",
       "      <td>...</td>\n",
       "      <td>0.0</td>\n",
       "      <td>0.0</td>\n",
       "      <td>0.0</td>\n",
       "      <td>0.0</td>\n",
       "      <td>0.0</td>\n",
       "      <td>0.0</td>\n",
       "      <td>0.0</td>\n",
       "      <td>0.0</td>\n",
       "      <td>0.0</td>\n",
       "      <td>0</td>\n",
       "    </tr>\n",
       "    <tr>\n",
       "      <th>279279</th>\n",
       "      <td>3266279</td>\n",
       "      <td>6805579</td>\n",
       "      <td>171.000</td>\n",
       "      <td>W</td>\n",
       "      <td>16132</td>\n",
       "      <td>111.0</td>\n",
       "      <td>150.0</td>\n",
       "      <td>visa</td>\n",
       "      <td>226.0</td>\n",
       "      <td>debit</td>\n",
       "      <td>...</td>\n",
       "      <td>0.0</td>\n",
       "      <td>0.0</td>\n",
       "      <td>0.0</td>\n",
       "      <td>0.0</td>\n",
       "      <td>0.0</td>\n",
       "      <td>0.0</td>\n",
       "      <td>0.0</td>\n",
       "      <td>0.0</td>\n",
       "      <td>0.0</td>\n",
       "      <td>0</td>\n",
       "    </tr>\n",
       "    <tr>\n",
       "      <th>571737</th>\n",
       "      <td>3558737</td>\n",
       "      <td>15186595</td>\n",
       "      <td>59.000</td>\n",
       "      <td>W</td>\n",
       "      <td>6755</td>\n",
       "      <td>586.0</td>\n",
       "      <td>150.0</td>\n",
       "      <td>mastercard</td>\n",
       "      <td>224.0</td>\n",
       "      <td>credit</td>\n",
       "      <td>...</td>\n",
       "      <td>117.0</td>\n",
       "      <td>477.0</td>\n",
       "      <td>293.0</td>\n",
       "      <td>92.0</td>\n",
       "      <td>209.0</td>\n",
       "      <td>92.0</td>\n",
       "      <td>0.0</td>\n",
       "      <td>0.0</td>\n",
       "      <td>0.0</td>\n",
       "      <td>0</td>\n",
       "    </tr>\n",
       "    <tr>\n",
       "      <th>...</th>\n",
       "      <td>...</td>\n",
       "      <td>...</td>\n",
       "      <td>...</td>\n",
       "      <td>...</td>\n",
       "      <td>...</td>\n",
       "      <td>...</td>\n",
       "      <td>...</td>\n",
       "      <td>...</td>\n",
       "      <td>...</td>\n",
       "      <td>...</td>\n",
       "      <td>...</td>\n",
       "      <td>...</td>\n",
       "      <td>...</td>\n",
       "      <td>...</td>\n",
       "      <td>...</td>\n",
       "      <td>...</td>\n",
       "      <td>...</td>\n",
       "      <td>...</td>\n",
       "      <td>...</td>\n",
       "      <td>...</td>\n",
       "      <td>...</td>\n",
       "    </tr>\n",
       "    <tr>\n",
       "      <th>19503</th>\n",
       "      <td>3006503</td>\n",
       "      <td>510505</td>\n",
       "      <td>40.000</td>\n",
       "      <td>W</td>\n",
       "      <td>5853</td>\n",
       "      <td>225.0</td>\n",
       "      <td>150.0</td>\n",
       "      <td>mastercard</td>\n",
       "      <td>117.0</td>\n",
       "      <td>debit</td>\n",
       "      <td>...</td>\n",
       "      <td>0.0</td>\n",
       "      <td>0.0</td>\n",
       "      <td>0.0</td>\n",
       "      <td>0.0</td>\n",
       "      <td>0.0</td>\n",
       "      <td>0.0</td>\n",
       "      <td>0.0</td>\n",
       "      <td>0.0</td>\n",
       "      <td>0.0</td>\n",
       "      <td>1</td>\n",
       "    </tr>\n",
       "    <tr>\n",
       "      <th>429044</th>\n",
       "      <td>3416044</td>\n",
       "      <td>10853164</td>\n",
       "      <td>13.403</td>\n",
       "      <td>C</td>\n",
       "      <td>9917</td>\n",
       "      <td>142.0</td>\n",
       "      <td>185.0</td>\n",
       "      <td>visa</td>\n",
       "      <td>138.0</td>\n",
       "      <td>debit</td>\n",
       "      <td>...</td>\n",
       "      <td>0.0</td>\n",
       "      <td>0.0</td>\n",
       "      <td>0.0</td>\n",
       "      <td>0.0</td>\n",
       "      <td>0.0</td>\n",
       "      <td>0.0</td>\n",
       "      <td>0.0</td>\n",
       "      <td>0.0</td>\n",
       "      <td>0.0</td>\n",
       "      <td>0</td>\n",
       "    </tr>\n",
       "    <tr>\n",
       "      <th>177238</th>\n",
       "      <td>3164238</td>\n",
       "      <td>3865429</td>\n",
       "      <td>49.000</td>\n",
       "      <td>W</td>\n",
       "      <td>1802</td>\n",
       "      <td>555.0</td>\n",
       "      <td>150.0</td>\n",
       "      <td>visa</td>\n",
       "      <td>226.0</td>\n",
       "      <td>debit</td>\n",
       "      <td>...</td>\n",
       "      <td>185.5</td>\n",
       "      <td>272.5</td>\n",
       "      <td>272.5</td>\n",
       "      <td>252.0</td>\n",
       "      <td>252.0</td>\n",
       "      <td>252.0</td>\n",
       "      <td>0.0</td>\n",
       "      <td>0.0</td>\n",
       "      <td>0.0</td>\n",
       "      <td>1</td>\n",
       "    </tr>\n",
       "    <tr>\n",
       "      <th>375409</th>\n",
       "      <td>3362409</td>\n",
       "      <td>9385161</td>\n",
       "      <td>70.691</td>\n",
       "      <td>C</td>\n",
       "      <td>5583</td>\n",
       "      <td>103.0</td>\n",
       "      <td>185.0</td>\n",
       "      <td>visa</td>\n",
       "      <td>226.0</td>\n",
       "      <td>credit</td>\n",
       "      <td>...</td>\n",
       "      <td>0.0</td>\n",
       "      <td>0.0</td>\n",
       "      <td>0.0</td>\n",
       "      <td>0.0</td>\n",
       "      <td>0.0</td>\n",
       "      <td>0.0</td>\n",
       "      <td>0.0</td>\n",
       "      <td>0.0</td>\n",
       "      <td>0.0</td>\n",
       "      <td>1</td>\n",
       "    </tr>\n",
       "    <tr>\n",
       "      <th>39545</th>\n",
       "      <td>3026545</td>\n",
       "      <td>959584</td>\n",
       "      <td>25.000</td>\n",
       "      <td>H</td>\n",
       "      <td>12582</td>\n",
       "      <td>298.0</td>\n",
       "      <td>150.0</td>\n",
       "      <td>visa</td>\n",
       "      <td>226.0</td>\n",
       "      <td>debit</td>\n",
       "      <td>...</td>\n",
       "      <td>0.0</td>\n",
       "      <td>0.0</td>\n",
       "      <td>0.0</td>\n",
       "      <td>0.0</td>\n",
       "      <td>0.0</td>\n",
       "      <td>0.0</td>\n",
       "      <td>0.0</td>\n",
       "      <td>0.0</td>\n",
       "      <td>0.0</td>\n",
       "      <td>0</td>\n",
       "    </tr>\n",
       "  </tbody>\n",
       "</table>\n",
       "<p>20000 rows × 226 columns</p>\n",
       "</div>"
      ],
      "text/plain": [
       "        TransactionID  TransactionDT  TransactionAmt ProductCD  card1  card2  \\\n",
       "422167        3409167       10693104          77.000         W   9175  111.0   \n",
       "374709        3361709        9331983         445.000         W  11106  100.0   \n",
       "406038        3393038       10259622          31.902         C  15885  545.0   \n",
       "279279        3266279        6805579         171.000         W  16132  111.0   \n",
       "571737        3558737       15186595          59.000         W   6755  586.0   \n",
       "...               ...            ...             ...       ...    ...    ...   \n",
       "19503         3006503         510505          40.000         W   5853  225.0   \n",
       "429044        3416044       10853164          13.403         C   9917  142.0   \n",
       "177238        3164238        3865429          49.000         W   1802  555.0   \n",
       "375409        3362409        9385161          70.691         C   5583  103.0   \n",
       "39545         3026545         959584          25.000         H  12582  298.0   \n",
       "\n",
       "        card3       card4  card5   card6  ...   V313   V314   V315   V316  \\\n",
       "422167  150.0        visa  226.0   debit  ...    0.0    0.0    0.0    0.0   \n",
       "374709  150.0        visa  226.0  credit  ...    0.0    0.0    0.0    0.0   \n",
       "406038  185.0        visa  138.0   debit  ...    0.0    0.0    0.0    0.0   \n",
       "279279  150.0        visa  226.0   debit  ...    0.0    0.0    0.0    0.0   \n",
       "571737  150.0  mastercard  224.0  credit  ...  117.0  477.0  293.0   92.0   \n",
       "...       ...         ...    ...     ...  ...    ...    ...    ...    ...   \n",
       "19503   150.0  mastercard  117.0   debit  ...    0.0    0.0    0.0    0.0   \n",
       "429044  185.0        visa  138.0   debit  ...    0.0    0.0    0.0    0.0   \n",
       "177238  150.0        visa  226.0   debit  ...  185.5  272.5  272.5  252.0   \n",
       "375409  185.0        visa  226.0  credit  ...    0.0    0.0    0.0    0.0   \n",
       "39545   150.0        visa  226.0   debit  ...    0.0    0.0    0.0    0.0   \n",
       "\n",
       "         V317   V318  V319  V320  V321  isFraud  \n",
       "422167    0.0    0.0   0.0   0.0   0.0        0  \n",
       "374709    0.0    0.0   0.0   0.0   0.0        0  \n",
       "406038    0.0    0.0   0.0   0.0   0.0        0  \n",
       "279279    0.0    0.0   0.0   0.0   0.0        0  \n",
       "571737  209.0   92.0   0.0   0.0   0.0        0  \n",
       "...       ...    ...   ...   ...   ...      ...  \n",
       "19503     0.0    0.0   0.0   0.0   0.0        1  \n",
       "429044    0.0    0.0   0.0   0.0   0.0        0  \n",
       "177238  252.0  252.0   0.0   0.0   0.0        1  \n",
       "375409    0.0    0.0   0.0   0.0   0.0        1  \n",
       "39545     0.0    0.0   0.0   0.0   0.0        0  \n",
       "\n",
       "[20000 rows x 226 columns]"
      ]
     },
     "execution_count": 19,
     "metadata": {},
     "output_type": "execute_result"
    }
   ],
   "source": [
    "X_train"
   ]
  },
  {
   "cell_type": "code",
   "execution_count": null,
   "id": "b1f877d6",
   "metadata": {},
   "outputs": [],
   "source": []
  },
  {
   "cell_type": "code",
   "execution_count": 20,
   "id": "0e468889",
   "metadata": {
    "ExecuteTime": {
     "end_time": "2021-05-04T17:26:39.424842Z",
     "start_time": "2021-05-04T17:26:39.419143Z"
    }
   },
   "outputs": [
    {
     "data": {
      "text/plain": [
       "TransactionID       int64\n",
       "TransactionDT       int64\n",
       "TransactionAmt    float64\n",
       "ProductCD          object\n",
       "card1               int64\n",
       "                   ...   \n",
       "V318              float64\n",
       "V319              float64\n",
       "V320              float64\n",
       "V321              float64\n",
       "isFraud             int64\n",
       "Length: 226, dtype: object"
      ]
     },
     "execution_count": 20,
     "metadata": {},
     "output_type": "execute_result"
    }
   ],
   "source": [
    "X_train.dtypes"
   ]
  },
  {
   "cell_type": "code",
   "execution_count": null,
   "id": "4d40c9e4",
   "metadata": {},
   "outputs": [],
   "source": []
  },
  {
   "cell_type": "code",
   "execution_count": null,
   "id": "4cbe9505",
   "metadata": {},
   "outputs": [],
   "source": []
  },
  {
   "cell_type": "code",
   "execution_count": null,
   "id": "a6ea1c41",
   "metadata": {},
   "outputs": [],
   "source": []
  },
  {
   "cell_type": "code",
   "execution_count": null,
   "id": "4599e381",
   "metadata": {},
   "outputs": [],
   "source": []
  },
  {
   "cell_type": "code",
   "execution_count": 22,
   "id": "e8f2a618",
   "metadata": {
    "ExecuteTime": {
     "end_time": "2021-05-04T17:26:39.447680Z",
     "start_time": "2021-05-04T17:26:39.444756Z"
    }
   },
   "outputs": [],
   "source": [
    "numeric_features = make_column_selector(dtype_include=['float64','int64'])\n",
    "numeric_transformer = Pipeline(steps=[\n",
    "#     ('imputer', SimpleImputer(strategy='median')),\n",
    "    ('imputer', KNNImputer(n_neighbors=3)),\n",
    "    ('scaler', StandardScaler())])"
   ]
  },
  {
   "cell_type": "code",
   "execution_count": 23,
   "id": "9c3191b4",
   "metadata": {
    "ExecuteTime": {
     "end_time": "2021-05-04T17:26:39.455318Z",
     "start_time": "2021-05-04T17:26:39.452399Z"
    }
   },
   "outputs": [],
   "source": [
    "categorical_features = make_column_selector(dtype_include='object')\n",
    "categorical_transformer = OneHotEncoder(handle_unknown='ignore')"
   ]
  },
  {
   "cell_type": "code",
   "execution_count": 24,
   "id": "bd5c9e00",
   "metadata": {
    "ExecuteTime": {
     "end_time": "2021-05-04T17:26:39.461096Z",
     "start_time": "2021-05-04T17:26:39.456990Z"
    }
   },
   "outputs": [],
   "source": [
    "preprocessor = ColumnTransformer(\n",
    "    transformers=[\n",
    "        ('num', numeric_transformer, numeric_features),\n",
    "        ('cat', categorical_transformer, categorical_features)])"
   ]
  },
  {
   "cell_type": "code",
   "execution_count": 25,
   "id": "64ef13dd",
   "metadata": {
    "ExecuteTime": {
     "end_time": "2021-05-04T17:26:39.468099Z",
     "start_time": "2021-05-04T17:26:39.462348Z"
    }
   },
   "outputs": [],
   "source": [
    "pipe = Pipeline(steps=[('preprocessor', preprocessor),\n",
    "                        ('pca', PCA(n_components=50)),\n",
    "                      ('classifier', SVC(probability=True))],\n",
    "               verbose=True)"
   ]
  },
  {
   "cell_type": "code",
   "execution_count": 26,
   "id": "daa4ef1f",
   "metadata": {
    "ExecuteTime": {
     "end_time": "2021-05-04T17:26:39.473766Z",
     "start_time": "2021-05-04T17:26:39.470511Z"
    }
   },
   "outputs": [],
   "source": [
    "# X_train, X_test, y_train, y_test = train_test_split(X, y, test_size=0.5,\n",
    "#                                                     random_state=0)"
   ]
  },
  {
   "cell_type": "code",
   "execution_count": 27,
   "id": "f0bb1747",
   "metadata": {
    "ExecuteTime": {
     "end_time": "2021-05-04T17:26:39.477571Z",
     "start_time": "2021-05-04T17:26:39.475030Z"
    }
   },
   "outputs": [],
   "source": [
    "# pipe.fit(X_train, y_train)"
   ]
  },
  {
   "cell_type": "code",
   "execution_count": 28,
   "id": "b7d06950",
   "metadata": {
    "ExecuteTime": {
     "end_time": "2021-05-04T17:26:39.483100Z",
     "start_time": "2021-05-04T17:26:39.478795Z"
    },
    "scrolled": true
   },
   "outputs": [],
   "source": [
    "# print(\"model score: %.3f\" % pipe.score(X_test, y_test))"
   ]
  },
  {
   "cell_type": "code",
   "execution_count": 29,
   "id": "4b58095d",
   "metadata": {
    "ExecuteTime": {
     "end_time": "2021-05-04T17:26:39.486576Z",
     "start_time": "2021-05-04T17:26:39.484194Z"
    }
   },
   "outputs": [],
   "source": [
    "# y_prob = pipe.predict_proba(X_test)\n",
    "# y_prob[:, 1]"
   ]
  },
  {
   "cell_type": "code",
   "execution_count": 30,
   "id": "3d31acb2",
   "metadata": {
    "ExecuteTime": {
     "end_time": "2021-05-04T17:26:39.491986Z",
     "start_time": "2021-05-04T17:26:39.487702Z"
    }
   },
   "outputs": [],
   "source": [
    "# y_prob"
   ]
  },
  {
   "cell_type": "code",
   "execution_count": 31,
   "id": "2e26f29b",
   "metadata": {
    "ExecuteTime": {
     "end_time": "2021-05-04T17:26:39.497728Z",
     "start_time": "2021-05-04T17:26:39.493253Z"
    }
   },
   "outputs": [],
   "source": [
    "# print(\"model roc_auc_score: %.3f\" % roc_auc_score(y_true=y_test, y_score=y_prob[:, 1]))"
   ]
  },
  {
   "cell_type": "code",
   "execution_count": 32,
   "id": "1f6c9fef",
   "metadata": {
    "ExecuteTime": {
     "end_time": "2021-05-04T17:26:39.503209Z",
     "start_time": "2021-05-04T17:26:39.498847Z"
    }
   },
   "outputs": [],
   "source": [
    "# pipe.get_params"
   ]
  },
  {
   "cell_type": "code",
   "execution_count": 33,
   "id": "a11a5ff8",
   "metadata": {
    "ExecuteTime": {
     "end_time": "2021-05-04T17:26:39.508987Z",
     "start_time": "2021-05-04T17:26:39.504640Z"
    }
   },
   "outputs": [],
   "source": [
    "# plot_roc_curve(pipe, X_test, y_test)  \n",
    "# plt.show()   "
   ]
  },
  {
   "cell_type": "code",
   "execution_count": null,
   "id": "727efaa0",
   "metadata": {},
   "outputs": [],
   "source": []
  },
  {
   "cell_type": "code",
   "execution_count": null,
   "id": "5e58e1db",
   "metadata": {},
   "outputs": [],
   "source": []
  },
  {
   "cell_type": "code",
   "execution_count": null,
   "id": "bd4e94cd",
   "metadata": {},
   "outputs": [],
   "source": []
  },
  {
   "cell_type": "code",
   "execution_count": null,
   "id": "2934fe6c",
   "metadata": {},
   "outputs": [],
   "source": []
  },
  {
   "cell_type": "code",
   "execution_count": 34,
   "id": "7234018d",
   "metadata": {
    "ExecuteTime": {
     "end_time": "2021-05-04T17:26:39.515107Z",
     "start_time": "2021-05-04T17:26:39.510179Z"
    }
   },
   "outputs": [],
   "source": [
    "ss = ShuffleSplit(test_size=0.5, n_splits=1, random_state=7)"
   ]
  },
  {
   "cell_type": "code",
   "execution_count": 35,
   "id": "21fde630",
   "metadata": {
    "ExecuteTime": {
     "end_time": "2021-05-04T17:26:39.521366Z",
     "start_time": "2021-05-04T17:26:39.516629Z"
    }
   },
   "outputs": [],
   "source": [
    "param_grid = [{\n",
    "                  'classifier': (KNeighborsClassifier(),),\n",
    "                  'classifier__n_neighbors':[20], \n",
    "                  'classifier__metric':['manhattan'],\n",
    "                  'classifier__weights':['distance'],\n",
    "                  'pca__n_components':[100]        \n",
    "              },\n",
    "              {\n",
    "                  'classifier': (SVC(gamma=\"auto\"),),\n",
    "                  'pca__n_components':[100]  \n",
    "#                   'pca': (None,),\n",
    "              },\n",
    "              {\n",
    "                  'classifier': (MLPClassifier(hidden_layer_sizes=(100,), max_iter=20, alpha=1e-4,\n",
    "                    solver='sgd', verbose=0, random_state=1,\n",
    "                    learning_rate_init=.1),),\n",
    "                  'pca__n_components':[100],\n",
    "                  'classifier__alpha':[1e-6],\n",
    "                  'classifier__hidden_layer_sizes':[(50,)],\n",
    "                  'classifier__max_iter':[100],\n",
    "                  'classifier__learning_rate_init':[0.01],\n",
    "              },\n",
    "                  {\n",
    "                  'classifier': (LogisticRegression(solver='liblinear'),),\n",
    "                  'pca__n_components':[100]  \n",
    "              }\n",
    "              ]\n"
   ]
  },
  {
   "cell_type": "code",
   "execution_count": 36,
   "id": "3e9fe4aa",
   "metadata": {
    "ExecuteTime": {
     "end_time": "2021-05-04T17:26:39.527856Z",
     "start_time": "2021-05-04T17:26:39.522835Z"
    }
   },
   "outputs": [],
   "source": [
    "pipe_gs = GridSearchCV(pipe, param_grid, cv=ss, scoring=\"roc_auc\",\n",
    "                      verbose = 10, n_jobs = -1)"
   ]
  },
  {
   "cell_type": "code",
   "execution_count": 37,
   "id": "abda90a6",
   "metadata": {
    "ExecuteTime": {
     "end_time": "2021-05-04T17:36:28.614810Z",
     "start_time": "2021-05-04T17:26:39.529689Z"
    }
   },
   "outputs": [
    {
     "name": "stdout",
     "output_type": "stream",
     "text": [
      "Fitting 1 folds for each of 4 candidates, totalling 4 fits\n",
      "[Pipeline] ...... (step 1 of 3) Processing preprocessor, total= 4.8min\n",
      "[Pipeline] ............... (step 2 of 3) Processing pca, total=   0.7s\n",
      "[Pipeline] ........ (step 3 of 3) Processing classifier, total=   0.4s\n"
     ]
    }
   ],
   "source": [
    "pipe_gs = pipe_gs.fit(X_train, y_train)"
   ]
  },
  {
   "cell_type": "code",
   "execution_count": 38,
   "id": "3a726601",
   "metadata": {
    "ExecuteTime": {
     "end_time": "2021-05-04T17:36:28.777153Z",
     "start_time": "2021-05-04T17:36:28.642960Z"
    }
   },
   "outputs": [
    {
     "data": {
      "text/plain": [
       "{'classifier': LogisticRegression(solver='liblinear'),\n",
       " 'pca__n_components': 100}"
      ]
     },
     "execution_count": 38,
     "metadata": {},
     "output_type": "execute_result"
    }
   ],
   "source": [
    "pipe_gs.best_params_"
   ]
  },
  {
   "cell_type": "code",
   "execution_count": 40,
   "id": "ff816969",
   "metadata": {
    "ExecuteTime": {
     "end_time": "2021-05-04T18:42:49.016507Z",
     "start_time": "2021-05-04T18:42:48.998873Z"
    }
   },
   "outputs": [
    {
     "data": {
      "text/plain": [
       "{'mean_fit_time': array([161.5253253 , 165.96463966, 163.12080169, 162.12444234]),\n",
       " 'std_fit_time': array([0., 0., 0., 0.]),\n",
       " 'mean_score_time': array([138.03197622, 129.83034539, 129.74261093, 131.3827064 ]),\n",
       " 'std_score_time': array([0., 0., 0., 0.]),\n",
       " 'param_classifier': masked_array(data=[KNeighborsClassifier(), SVC(gamma='auto'),\n",
       "                    MLPClassifier(learning_rate_init=0.1, max_iter=20, random_state=1, solver='sgd',\n",
       "                                  verbose=0)                                                        ,\n",
       "                    LogisticRegression(solver='liblinear')],\n",
       "              mask=[False, False, False, False],\n",
       "        fill_value='?',\n",
       "             dtype=object),\n",
       " 'param_classifier__metric': masked_array(data=['manhattan', --, --, --],\n",
       "              mask=[False,  True,  True,  True],\n",
       "        fill_value='?',\n",
       "             dtype=object),\n",
       " 'param_classifier__n_neighbors': masked_array(data=[20, --, --, --],\n",
       "              mask=[False,  True,  True,  True],\n",
       "        fill_value='?',\n",
       "             dtype=object),\n",
       " 'param_classifier__weights': masked_array(data=['distance', --, --, --],\n",
       "              mask=[False,  True,  True,  True],\n",
       "        fill_value='?',\n",
       "             dtype=object),\n",
       " 'param_pca__n_components': masked_array(data=[100, 100, 100, 100],\n",
       "              mask=[False, False, False, False],\n",
       "        fill_value='?',\n",
       "             dtype=object),\n",
       " 'param_classifier__alpha': masked_array(data=[--, --, 1e-06, --],\n",
       "              mask=[ True,  True, False,  True],\n",
       "        fill_value='?',\n",
       "             dtype=object),\n",
       " 'param_classifier__hidden_layer_sizes': masked_array(data=[--, --, (50,), --],\n",
       "              mask=[ True,  True, False,  True],\n",
       "        fill_value='?',\n",
       "             dtype=object),\n",
       " 'param_classifier__learning_rate_init': masked_array(data=[--, --, 0.01, --],\n",
       "              mask=[ True,  True, False,  True],\n",
       "        fill_value='?',\n",
       "             dtype=object),\n",
       " 'param_classifier__max_iter': masked_array(data=[--, --, 100, --],\n",
       "              mask=[ True,  True, False,  True],\n",
       "        fill_value='?',\n",
       "             dtype=object),\n",
       " 'params': [{'classifier': KNeighborsClassifier(),\n",
       "   'classifier__metric': 'manhattan',\n",
       "   'classifier__n_neighbors': 20,\n",
       "   'classifier__weights': 'distance',\n",
       "   'pca__n_components': 100},\n",
       "  {'classifier': SVC(gamma='auto'), 'pca__n_components': 100},\n",
       "  {'classifier': MLPClassifier(learning_rate_init=0.1, max_iter=20, random_state=1, solver='sgd',\n",
       "                 verbose=0),\n",
       "   'classifier__alpha': 1e-06,\n",
       "   'classifier__hidden_layer_sizes': (50,),\n",
       "   'classifier__learning_rate_init': 0.01,\n",
       "   'classifier__max_iter': 100,\n",
       "   'pca__n_components': 100},\n",
       "  {'classifier': LogisticRegression(solver='liblinear'),\n",
       "   'pca__n_components': 100}],\n",
       " 'split0_test_score': array([0.9685437 , 0.99917042, 0.99999959, 1.        ]),\n",
       " 'mean_test_score': array([0.9685437 , 0.99917042, 0.99999959, 1.        ]),\n",
       " 'std_test_score': array([0., 0., 0., 0.]),\n",
       " 'rank_test_score': array([4, 3, 2, 1], dtype=int32)}"
      ]
     },
     "execution_count": 40,
     "metadata": {},
     "output_type": "execute_result"
    }
   ],
   "source": [
    "pipe_gs.cv_results_"
   ]
  },
  {
   "cell_type": "code",
   "execution_count": 41,
   "id": "2bfaf5d9",
   "metadata": {
    "ExecuteTime": {
     "end_time": "2021-05-04T18:42:51.115076Z",
     "start_time": "2021-05-04T18:42:51.049621Z"
    }
   },
   "outputs": [
    {
     "data": {
      "text/html": [
       "<div>\n",
       "<style scoped>\n",
       "    .dataframe tbody tr th:only-of-type {\n",
       "        vertical-align: middle;\n",
       "    }\n",
       "\n",
       "    .dataframe tbody tr th {\n",
       "        vertical-align: top;\n",
       "    }\n",
       "\n",
       "    .dataframe thead th {\n",
       "        text-align: right;\n",
       "    }\n",
       "</style>\n",
       "<table border=\"1\" class=\"dataframe\">\n",
       "  <thead>\n",
       "    <tr style=\"text-align: right;\">\n",
       "      <th></th>\n",
       "      <th>classifier</th>\n",
       "      <th>classifier__metric</th>\n",
       "      <th>classifier__n_neighbors</th>\n",
       "      <th>classifier__weights</th>\n",
       "      <th>pca__n_components</th>\n",
       "      <th>classifier__alpha</th>\n",
       "      <th>classifier__hidden_layer_sizes</th>\n",
       "      <th>classifier__learning_rate_init</th>\n",
       "      <th>classifier__max_iter</th>\n",
       "      <th>roc_auc</th>\n",
       "    </tr>\n",
       "  </thead>\n",
       "  <tbody>\n",
       "    <tr>\n",
       "      <th>3</th>\n",
       "      <td>LogisticRegression(solver='liblinear')</td>\n",
       "      <td>NaN</td>\n",
       "      <td>NaN</td>\n",
       "      <td>NaN</td>\n",
       "      <td>100</td>\n",
       "      <td>NaN</td>\n",
       "      <td>NaN</td>\n",
       "      <td>NaN</td>\n",
       "      <td>NaN</td>\n",
       "      <td>1.000000</td>\n",
       "    </tr>\n",
       "    <tr>\n",
       "      <th>2</th>\n",
       "      <td>MLPClassifier(learning_rate_init=0.1, max_iter...</td>\n",
       "      <td>NaN</td>\n",
       "      <td>NaN</td>\n",
       "      <td>NaN</td>\n",
       "      <td>100</td>\n",
       "      <td>0.000001</td>\n",
       "      <td>(50,)</td>\n",
       "      <td>0.01</td>\n",
       "      <td>100.0</td>\n",
       "      <td>1.000000</td>\n",
       "    </tr>\n",
       "    <tr>\n",
       "      <th>1</th>\n",
       "      <td>SVC(gamma='auto')</td>\n",
       "      <td>NaN</td>\n",
       "      <td>NaN</td>\n",
       "      <td>NaN</td>\n",
       "      <td>100</td>\n",
       "      <td>NaN</td>\n",
       "      <td>NaN</td>\n",
       "      <td>NaN</td>\n",
       "      <td>NaN</td>\n",
       "      <td>0.999170</td>\n",
       "    </tr>\n",
       "    <tr>\n",
       "      <th>0</th>\n",
       "      <td>KNeighborsClassifier()</td>\n",
       "      <td>manhattan</td>\n",
       "      <td>20.0</td>\n",
       "      <td>distance</td>\n",
       "      <td>100</td>\n",
       "      <td>NaN</td>\n",
       "      <td>NaN</td>\n",
       "      <td>NaN</td>\n",
       "      <td>NaN</td>\n",
       "      <td>0.968544</td>\n",
       "    </tr>\n",
       "  </tbody>\n",
       "</table>\n",
       "</div>"
      ],
      "text/plain": [
       "                                          classifier classifier__metric  \\\n",
       "3             LogisticRegression(solver='liblinear')                NaN   \n",
       "2  MLPClassifier(learning_rate_init=0.1, max_iter...                NaN   \n",
       "1                                  SVC(gamma='auto')                NaN   \n",
       "0                             KNeighborsClassifier()          manhattan   \n",
       "\n",
       "   classifier__n_neighbors classifier__weights  pca__n_components  \\\n",
       "3                      NaN                 NaN                100   \n",
       "2                      NaN                 NaN                100   \n",
       "1                      NaN                 NaN                100   \n",
       "0                     20.0            distance                100   \n",
       "\n",
       "   classifier__alpha classifier__hidden_layer_sizes  \\\n",
       "3                NaN                            NaN   \n",
       "2           0.000001                          (50,)   \n",
       "1                NaN                            NaN   \n",
       "0                NaN                            NaN   \n",
       "\n",
       "   classifier__learning_rate_init  classifier__max_iter   roc_auc  \n",
       "3                             NaN                   NaN  1.000000  \n",
       "2                            0.01                 100.0  1.000000  \n",
       "1                             NaN                   NaN  0.999170  \n",
       "0                             NaN                   NaN  0.968544  "
      ]
     },
     "execution_count": 41,
     "metadata": {},
     "output_type": "execute_result"
    }
   ],
   "source": [
    "(pd.concat([pd.DataFrame(pipe_gs\n",
    "                        .cv_results_[\"params\"]),\n",
    "           pd.DataFrame(pipe_gs.cv_results_[\"mean_test_score\"],\n",
    "                        columns=[\"roc_auc\"])],\n",
    "          axis=1)\n",
    " .sort_values(\"roc_auc\",ascending=False)\n",
    ")\n"
   ]
  },
  {
   "cell_type": "code",
   "execution_count": null,
   "id": "a2b9551c",
   "metadata": {},
   "outputs": [],
   "source": []
  },
  {
   "cell_type": "code",
   "execution_count": null,
   "id": "fc31693a",
   "metadata": {},
   "outputs": [],
   "source": []
  },
  {
   "cell_type": "markdown",
   "id": "f506db1b",
   "metadata": {},
   "source": [
    "# test model on hold out test from above"
   ]
  },
  {
   "cell_type": "code",
   "execution_count": 42,
   "id": "1afb4947",
   "metadata": {
    "ExecuteTime": {
     "end_time": "2021-05-04T18:45:25.709937Z",
     "start_time": "2021-05-04T18:45:09.397668Z"
    }
   },
   "outputs": [],
   "source": [
    "X_test_hold = X_test_hold.drop(columns=dropped_columns)"
   ]
  },
  {
   "cell_type": "code",
   "execution_count": 44,
   "id": "f857e216",
   "metadata": {
    "ExecuteTime": {
     "end_time": "2021-05-04T18:48:23.381401Z",
     "start_time": "2021-05-04T18:48:23.376489Z"
    }
   },
   "outputs": [
    {
     "data": {
      "text/plain": [
       "Index(['TransactionID', 'TransactionDT', 'TransactionAmt', 'ProductCD',\n",
       "       'card1', 'card2', 'card3', 'card4', 'card5', 'card6',\n",
       "       ...\n",
       "       'V312', 'V313', 'V314', 'V315', 'V316', 'V317', 'V318', 'V319', 'V320',\n",
       "       'V321'],\n",
       "      dtype='object', length=225)"
      ]
     },
     "execution_count": 44,
     "metadata": {},
     "output_type": "execute_result"
    }
   ],
   "source": [
    "X_test_hold.columns"
   ]
  },
  {
   "cell_type": "code",
   "execution_count": 45,
   "id": "849b548c",
   "metadata": {
    "ExecuteTime": {
     "end_time": "2021-05-04T18:48:35.528815Z",
     "start_time": "2021-05-04T18:48:35.517080Z"
    }
   },
   "outputs": [
    {
     "data": {
      "text/plain": [
       "Index(['TransactionID', 'TransactionDT', 'TransactionAmt', 'ProductCD',\n",
       "       'card1', 'card2', 'card3', 'card4', 'card5', 'card6',\n",
       "       ...\n",
       "       'V313', 'V314', 'V315', 'V316', 'V317', 'V318', 'V319', 'V320', 'V321',\n",
       "       'isFraud'],\n",
       "      dtype='object', length=226)"
      ]
     },
     "execution_count": 45,
     "metadata": {},
     "output_type": "execute_result"
    }
   ],
   "source": [
    "X_train.columns"
   ]
  },
  {
   "cell_type": "code",
   "execution_count": 43,
   "id": "813c368a",
   "metadata": {
    "ExecuteTime": {
     "end_time": "2021-05-04T18:47:03.423942Z",
     "start_time": "2021-05-04T18:47:03.399462Z"
    }
   },
   "outputs": [
    {
     "ename": "ValueError",
     "evalue": "X has 225 features, but ColumnTransformer is expecting 226 features as input.",
     "output_type": "error",
     "traceback": [
      "\u001b[0;31m---------------------------------------------------------------------------\u001b[0m",
      "\u001b[0;31mValueError\u001b[0m                                Traceback (most recent call last)",
      "\u001b[0;32m<ipython-input-43-852362b9914c>\u001b[0m in \u001b[0;36m<module>\u001b[0;34m\u001b[0m\n\u001b[0;32m----> 1\u001b[0;31m \u001b[0my_pred_gs\u001b[0m \u001b[0;34m=\u001b[0m \u001b[0mpipe_gs\u001b[0m\u001b[0;34m.\u001b[0m\u001b[0mpredict\u001b[0m\u001b[0;34m(\u001b[0m\u001b[0mX_test_hold\u001b[0m\u001b[0;34m)\u001b[0m\u001b[0;34m\u001b[0m\u001b[0;34m\u001b[0m\u001b[0m\n\u001b[0m",
      "\u001b[0;32m~/anaconda3/lib/python3.8/site-packages/sklearn/utils/metaestimators.py\u001b[0m in \u001b[0;36m<lambda>\u001b[0;34m(*args, **kwargs)\u001b[0m\n\u001b[1;32m    118\u001b[0m \u001b[0;34m\u001b[0m\u001b[0m\n\u001b[1;32m    119\u001b[0m         \u001b[0;31m# lambda, but not partial, allows help() to work with update_wrapper\u001b[0m\u001b[0;34m\u001b[0m\u001b[0;34m\u001b[0m\u001b[0;34m\u001b[0m\u001b[0m\n\u001b[0;32m--> 120\u001b[0;31m         \u001b[0mout\u001b[0m \u001b[0;34m=\u001b[0m \u001b[0;32mlambda\u001b[0m \u001b[0;34m*\u001b[0m\u001b[0margs\u001b[0m\u001b[0;34m,\u001b[0m \u001b[0;34m**\u001b[0m\u001b[0mkwargs\u001b[0m\u001b[0;34m:\u001b[0m \u001b[0mself\u001b[0m\u001b[0;34m.\u001b[0m\u001b[0mfn\u001b[0m\u001b[0;34m(\u001b[0m\u001b[0mobj\u001b[0m\u001b[0;34m,\u001b[0m \u001b[0;34m*\u001b[0m\u001b[0margs\u001b[0m\u001b[0;34m,\u001b[0m \u001b[0;34m**\u001b[0m\u001b[0mkwargs\u001b[0m\u001b[0;34m)\u001b[0m\u001b[0;34m\u001b[0m\u001b[0;34m\u001b[0m\u001b[0m\n\u001b[0m\u001b[1;32m    121\u001b[0m         \u001b[0;31m# update the docstring of the returned function\u001b[0m\u001b[0;34m\u001b[0m\u001b[0;34m\u001b[0m\u001b[0;34m\u001b[0m\u001b[0m\n\u001b[1;32m    122\u001b[0m         \u001b[0mupdate_wrapper\u001b[0m\u001b[0;34m(\u001b[0m\u001b[0mout\u001b[0m\u001b[0;34m,\u001b[0m \u001b[0mself\u001b[0m\u001b[0;34m.\u001b[0m\u001b[0mfn\u001b[0m\u001b[0;34m)\u001b[0m\u001b[0;34m\u001b[0m\u001b[0;34m\u001b[0m\u001b[0m\n",
      "\u001b[0;32m~/anaconda3/lib/python3.8/site-packages/sklearn/model_selection/_search.py\u001b[0m in \u001b[0;36mpredict\u001b[0;34m(self, X)\u001b[0m\n\u001b[1;32m    538\u001b[0m         \"\"\"\n\u001b[1;32m    539\u001b[0m         \u001b[0mself\u001b[0m\u001b[0;34m.\u001b[0m\u001b[0m_check_is_fitted\u001b[0m\u001b[0;34m(\u001b[0m\u001b[0;34m'predict'\u001b[0m\u001b[0;34m)\u001b[0m\u001b[0;34m\u001b[0m\u001b[0;34m\u001b[0m\u001b[0m\n\u001b[0;32m--> 540\u001b[0;31m         \u001b[0;32mreturn\u001b[0m \u001b[0mself\u001b[0m\u001b[0;34m.\u001b[0m\u001b[0mbest_estimator_\u001b[0m\u001b[0;34m.\u001b[0m\u001b[0mpredict\u001b[0m\u001b[0;34m(\u001b[0m\u001b[0mX\u001b[0m\u001b[0;34m)\u001b[0m\u001b[0;34m\u001b[0m\u001b[0;34m\u001b[0m\u001b[0m\n\u001b[0m\u001b[1;32m    541\u001b[0m \u001b[0;34m\u001b[0m\u001b[0m\n\u001b[1;32m    542\u001b[0m     \u001b[0;34m@\u001b[0m\u001b[0mif_delegate_has_method\u001b[0m\u001b[0;34m(\u001b[0m\u001b[0mdelegate\u001b[0m\u001b[0;34m=\u001b[0m\u001b[0;34m(\u001b[0m\u001b[0;34m'best_estimator_'\u001b[0m\u001b[0;34m,\u001b[0m \u001b[0;34m'estimator'\u001b[0m\u001b[0;34m)\u001b[0m\u001b[0;34m)\u001b[0m\u001b[0;34m\u001b[0m\u001b[0;34m\u001b[0m\u001b[0m\n",
      "\u001b[0;32m~/anaconda3/lib/python3.8/site-packages/sklearn/utils/metaestimators.py\u001b[0m in \u001b[0;36m<lambda>\u001b[0;34m(*args, **kwargs)\u001b[0m\n\u001b[1;32m    118\u001b[0m \u001b[0;34m\u001b[0m\u001b[0m\n\u001b[1;32m    119\u001b[0m         \u001b[0;31m# lambda, but not partial, allows help() to work with update_wrapper\u001b[0m\u001b[0;34m\u001b[0m\u001b[0;34m\u001b[0m\u001b[0;34m\u001b[0m\u001b[0m\n\u001b[0;32m--> 120\u001b[0;31m         \u001b[0mout\u001b[0m \u001b[0;34m=\u001b[0m \u001b[0;32mlambda\u001b[0m \u001b[0;34m*\u001b[0m\u001b[0margs\u001b[0m\u001b[0;34m,\u001b[0m \u001b[0;34m**\u001b[0m\u001b[0mkwargs\u001b[0m\u001b[0;34m:\u001b[0m \u001b[0mself\u001b[0m\u001b[0;34m.\u001b[0m\u001b[0mfn\u001b[0m\u001b[0;34m(\u001b[0m\u001b[0mobj\u001b[0m\u001b[0;34m,\u001b[0m \u001b[0;34m*\u001b[0m\u001b[0margs\u001b[0m\u001b[0;34m,\u001b[0m \u001b[0;34m**\u001b[0m\u001b[0mkwargs\u001b[0m\u001b[0;34m)\u001b[0m\u001b[0;34m\u001b[0m\u001b[0;34m\u001b[0m\u001b[0m\n\u001b[0m\u001b[1;32m    121\u001b[0m         \u001b[0;31m# update the docstring of the returned function\u001b[0m\u001b[0;34m\u001b[0m\u001b[0;34m\u001b[0m\u001b[0;34m\u001b[0m\u001b[0m\n\u001b[1;32m    122\u001b[0m         \u001b[0mupdate_wrapper\u001b[0m\u001b[0;34m(\u001b[0m\u001b[0mout\u001b[0m\u001b[0;34m,\u001b[0m \u001b[0mself\u001b[0m\u001b[0;34m.\u001b[0m\u001b[0mfn\u001b[0m\u001b[0;34m)\u001b[0m\u001b[0;34m\u001b[0m\u001b[0;34m\u001b[0m\u001b[0m\n",
      "\u001b[0;32m~/anaconda3/lib/python3.8/site-packages/sklearn/pipeline.py\u001b[0m in \u001b[0;36mpredict\u001b[0;34m(self, X, **predict_params)\u001b[0m\n\u001b[1;32m    416\u001b[0m         \u001b[0mXt\u001b[0m \u001b[0;34m=\u001b[0m \u001b[0mX\u001b[0m\u001b[0;34m\u001b[0m\u001b[0;34m\u001b[0m\u001b[0m\n\u001b[1;32m    417\u001b[0m         \u001b[0;32mfor\u001b[0m \u001b[0m_\u001b[0m\u001b[0;34m,\u001b[0m \u001b[0mname\u001b[0m\u001b[0;34m,\u001b[0m \u001b[0mtransform\u001b[0m \u001b[0;32min\u001b[0m \u001b[0mself\u001b[0m\u001b[0;34m.\u001b[0m\u001b[0m_iter\u001b[0m\u001b[0;34m(\u001b[0m\u001b[0mwith_final\u001b[0m\u001b[0;34m=\u001b[0m\u001b[0;32mFalse\u001b[0m\u001b[0;34m)\u001b[0m\u001b[0;34m:\u001b[0m\u001b[0;34m\u001b[0m\u001b[0;34m\u001b[0m\u001b[0m\n\u001b[0;32m--> 418\u001b[0;31m             \u001b[0mXt\u001b[0m \u001b[0;34m=\u001b[0m \u001b[0mtransform\u001b[0m\u001b[0;34m.\u001b[0m\u001b[0mtransform\u001b[0m\u001b[0;34m(\u001b[0m\u001b[0mXt\u001b[0m\u001b[0;34m)\u001b[0m\u001b[0;34m\u001b[0m\u001b[0;34m\u001b[0m\u001b[0m\n\u001b[0m\u001b[1;32m    419\u001b[0m         \u001b[0;32mreturn\u001b[0m \u001b[0mself\u001b[0m\u001b[0;34m.\u001b[0m\u001b[0msteps\u001b[0m\u001b[0;34m[\u001b[0m\u001b[0;34m-\u001b[0m\u001b[0;36m1\u001b[0m\u001b[0;34m]\u001b[0m\u001b[0;34m[\u001b[0m\u001b[0;34m-\u001b[0m\u001b[0;36m1\u001b[0m\u001b[0;34m]\u001b[0m\u001b[0;34m.\u001b[0m\u001b[0mpredict\u001b[0m\u001b[0;34m(\u001b[0m\u001b[0mXt\u001b[0m\u001b[0;34m,\u001b[0m \u001b[0;34m**\u001b[0m\u001b[0mpredict_params\u001b[0m\u001b[0;34m)\u001b[0m\u001b[0;34m\u001b[0m\u001b[0;34m\u001b[0m\u001b[0m\n\u001b[1;32m    420\u001b[0m \u001b[0;34m\u001b[0m\u001b[0m\n",
      "\u001b[0;32m~/anaconda3/lib/python3.8/site-packages/sklearn/compose/_column_transformer.py\u001b[0m in \u001b[0;36mtransform\u001b[0;34m(self, X)\u001b[0m\n\u001b[1;32m    554\u001b[0m             \u001b[0mX_feature_names\u001b[0m \u001b[0;34m=\u001b[0m \u001b[0;32mNone\u001b[0m\u001b[0;34m\u001b[0m\u001b[0;34m\u001b[0m\u001b[0m\n\u001b[1;32m    555\u001b[0m \u001b[0;34m\u001b[0m\u001b[0m\n\u001b[0;32m--> 556\u001b[0;31m         \u001b[0mself\u001b[0m\u001b[0;34m.\u001b[0m\u001b[0m_check_n_features\u001b[0m\u001b[0;34m(\u001b[0m\u001b[0mX\u001b[0m\u001b[0;34m,\u001b[0m \u001b[0mreset\u001b[0m\u001b[0;34m=\u001b[0m\u001b[0;32mFalse\u001b[0m\u001b[0;34m)\u001b[0m\u001b[0;34m\u001b[0m\u001b[0;34m\u001b[0m\u001b[0m\n\u001b[0m\u001b[1;32m    557\u001b[0m         if (self._feature_names_in is not None and\n\u001b[1;32m    558\u001b[0m             \u001b[0mX_feature_names\u001b[0m \u001b[0;32mis\u001b[0m \u001b[0;32mnot\u001b[0m \u001b[0;32mNone\u001b[0m \u001b[0;32mand\u001b[0m\u001b[0;34m\u001b[0m\u001b[0;34m\u001b[0m\u001b[0m\n",
      "\u001b[0;32m~/anaconda3/lib/python3.8/site-packages/sklearn/base.py\u001b[0m in \u001b[0;36m_check_n_features\u001b[0;34m(self, X, reset)\u001b[0m\n\u001b[1;32m    363\u001b[0m \u001b[0;34m\u001b[0m\u001b[0m\n\u001b[1;32m    364\u001b[0m         \u001b[0;32mif\u001b[0m \u001b[0mn_features\u001b[0m \u001b[0;34m!=\u001b[0m \u001b[0mself\u001b[0m\u001b[0;34m.\u001b[0m\u001b[0mn_features_in_\u001b[0m\u001b[0;34m:\u001b[0m\u001b[0;34m\u001b[0m\u001b[0;34m\u001b[0m\u001b[0m\n\u001b[0;32m--> 365\u001b[0;31m             raise ValueError(\n\u001b[0m\u001b[1;32m    366\u001b[0m                 \u001b[0;34mf\"X has {n_features} features, but {self.__class__.__name__} \"\u001b[0m\u001b[0;34m\u001b[0m\u001b[0;34m\u001b[0m\u001b[0m\n\u001b[1;32m    367\u001b[0m                 f\"is expecting {self.n_features_in_} features as input.\")\n",
      "\u001b[0;31mValueError\u001b[0m: X has 225 features, but ColumnTransformer is expecting 226 features as input."
     ]
    }
   ],
   "source": [
    "y_pred_gs = pipe_gs.predict(X_test_hold)"
   ]
  },
  {
   "cell_type": "code",
   "execution_count": null,
   "id": "90a53a1d",
   "metadata": {},
   "outputs": [],
   "source": [
    "print(\"Accuracy: {0:4.2f}\".format(accuracy_score(y_test_hold,y_pred_gs)))"
   ]
  },
  {
   "cell_type": "code",
   "execution_count": null,
   "id": "4bf91827",
   "metadata": {},
   "outputs": [],
   "source": []
  },
  {
   "cell_type": "code",
   "execution_count": null,
   "id": "2a39df05",
   "metadata": {},
   "outputs": [],
   "source": []
  },
  {
   "cell_type": "code",
   "execution_count": null,
   "id": "d0eee839",
   "metadata": {},
   "outputs": [],
   "source": []
  },
  {
   "cell_type": "code",
   "execution_count": null,
   "id": "c97217a1",
   "metadata": {},
   "outputs": [],
   "source": []
  },
  {
   "cell_type": "markdown",
   "id": "075aaad2",
   "metadata": {},
   "source": [
    "# Finally predict the Kaggle test data set"
   ]
  },
  {
   "cell_type": "code",
   "execution_count": null,
   "id": "a2c555aa",
   "metadata": {},
   "outputs": [],
   "source": []
  },
  {
   "cell_type": "code",
   "execution_count": null,
   "id": "8909f8d2",
   "metadata": {},
   "outputs": [],
   "source": []
  },
  {
   "cell_type": "code",
   "execution_count": null,
   "id": "a0b8e915",
   "metadata": {},
   "outputs": [],
   "source": []
  },
  {
   "cell_type": "code",
   "execution_count": null,
   "id": "f5bd8f83",
   "metadata": {},
   "outputs": [],
   "source": []
  }
 ],
 "metadata": {
  "kernelspec": {
   "display_name": "Python 3",
   "language": "python",
   "name": "python3"
  },
  "language_info": {
   "codemirror_mode": {
    "name": "ipython",
    "version": 3
   },
   "file_extension": ".py",
   "mimetype": "text/x-python",
   "name": "python",
   "nbconvert_exporter": "python",
   "pygments_lexer": "ipython3",
   "version": "3.8.5"
  }
 },
 "nbformat": 4,
 "nbformat_minor": 5
}
