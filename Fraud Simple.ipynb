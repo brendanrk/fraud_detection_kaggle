{
 "cells": [
  {
   "cell_type": "code",
   "execution_count": 1,
   "id": "dde7fe8f",
   "metadata": {
    "ExecuteTime": {
     "end_time": "2021-05-04T18:54:20.962095Z",
     "start_time": "2021-05-04T18:54:19.427313Z"
    }
   },
   "outputs": [],
   "source": [
    "import pandas as pd\n",
    "import numpy as np\n",
    "import gc\n",
    "import matplotlib.pyplot as plt  \n",
    "from sklearn.neighbors import KNeighborsClassifier\n",
    "from sklearn.impute import SimpleImputer, KNNImputer\n",
    "from sklearn.pipeline import Pipeline\n",
    "from sklearn.model_selection import train_test_split\n",
    "from sklearn.metrics import confusion_matrix, accuracy_score, plot_roc_curve, roc_auc_score\n",
    "from sklearn.preprocessing import StandardScaler\n",
    "from sklearn.preprocessing import OneHotEncoder\n",
    "from sklearn.model_selection import cross_val_score\n",
    "from sklearn.model_selection import GridSearchCV\n",
    "from sklearn.compose import make_column_selector \n",
    "from sklearn.compose import ColumnTransformer\n",
    "from sklearn.model_selection import ShuffleSplit\n",
    "from sklearn.decomposition import PCA\n",
    "from sklearn.neural_network import MLPClassifier\n",
    "from sklearn.svm import SVC\n",
    "from sklearn.tree import DecisionTreeClassifier\n",
    "from sklearn.linear_model import LogisticRegression"
   ]
  },
  {
   "cell_type": "code",
   "execution_count": 2,
   "id": "510f8e41",
   "metadata": {
    "ExecuteTime": {
     "end_time": "2021-05-04T18:54:20.965746Z",
     "start_time": "2021-05-04T18:54:20.963441Z"
    }
   },
   "outputs": [],
   "source": [
    "skip_start = True"
   ]
  },
  {
   "cell_type": "markdown",
   "id": "2de6b5e1",
   "metadata": {},
   "source": [
    "# Import data"
   ]
  },
  {
   "cell_type": "code",
   "execution_count": 3,
   "id": "f0558a08",
   "metadata": {
    "ExecuteTime": {
     "end_time": "2021-05-04T18:54:25.907246Z",
     "start_time": "2021-05-04T18:54:20.967712Z"
    }
   },
   "outputs": [],
   "source": [
    "if not skip_start:\n",
    "    train_identity = pd.read_csv('data/ieee-fraud-detection/train_identity.csv')\n",
    "    train_transaction = pd.read_csv('data/ieee-fraud-detection/train_transaction.csv')\n",
    "    train = pd.merge(train_transaction, train_identity, on='TransactionID', how='left')\n",
    "    print(train.shape)\n",
    "    del train_identity, train_transaction\n",
    "    gc.collect()\n",
    "    train.to_pickle(\"train.pkl\")\n",
    "else:\n",
    "    train = pd.read_pickle(\"train.pkl\")"
   ]
  },
  {
   "cell_type": "code",
   "execution_count": 4,
   "id": "4bb2e8a3",
   "metadata": {
    "ExecuteTime": {
     "end_time": "2021-05-04T18:54:43.323613Z",
     "start_time": "2021-05-04T18:54:25.908907Z"
    }
   },
   "outputs": [
    {
     "name": "stdout",
     "output_type": "stream",
     "text": [
      "(590540, 433) (590540,)\n"
     ]
    }
   ],
   "source": [
    "y = train['isFraud']   # target class\n",
    "X = train.drop('isFraud', axis=1)\n",
    "print(X.shape, y.shape)"
   ]
  },
  {
   "cell_type": "code",
   "execution_count": 5,
   "id": "3413b6d1",
   "metadata": {
    "ExecuteTime": {
     "end_time": "2021-05-04T18:54:43.628190Z",
     "start_time": "2021-05-04T18:54:43.328650Z"
    }
   },
   "outputs": [
    {
     "data": {
      "text/plain": [
       "40"
      ]
     },
     "execution_count": 5,
     "metadata": {},
     "output_type": "execute_result"
    }
   ],
   "source": [
    "del train\n",
    "gc.collect()"
   ]
  },
  {
   "cell_type": "markdown",
   "id": "80a1e9b2",
   "metadata": {},
   "source": [
    "# split data into test and train"
   ]
  },
  {
   "cell_type": "code",
   "execution_count": 6,
   "id": "729f1dc8",
   "metadata": {
    "ExecuteTime": {
     "end_time": "2021-05-04T18:54:49.659720Z",
     "start_time": "2021-05-04T18:54:43.629925Z"
    }
   },
   "outputs": [
    {
     "data": {
      "text/plain": [
       "((395661, 433), (194879, 433), (395661,), (194879,))"
      ]
     },
     "execution_count": 6,
     "metadata": {},
     "output_type": "execute_result"
    }
   ],
   "source": [
    "X_train_hold, X_test_hold, y_train_hold, y_test_hold = train_test_split(X, y, test_size=0.33, random_state=42)\n",
    "X_train_hold.shape, X_test_hold.shape, y_train_hold.shape, y_test_hold.shape"
   ]
  },
  {
   "cell_type": "code",
   "execution_count": 7,
   "id": "68f67f57",
   "metadata": {
    "ExecuteTime": {
     "end_time": "2021-05-04T18:54:49.789274Z",
     "start_time": "2021-05-04T18:54:49.661679Z"
    }
   },
   "outputs": [
    {
     "data": {
      "text/plain": [
       "40"
      ]
     },
     "execution_count": 7,
     "metadata": {},
     "output_type": "execute_result"
    }
   ],
   "source": [
    "del X, y\n",
    "gc.collect()"
   ]
  },
  {
   "cell_type": "markdown",
   "id": "bdbdd14a",
   "metadata": {},
   "source": [
    "# Now work on train"
   ]
  },
  {
   "cell_type": "markdown",
   "id": "a8f11b81",
   "metadata": {},
   "source": [
    "### Parameters to tune:"
   ]
  },
  {
   "cell_type": "code",
   "execution_count": 8,
   "id": "211ae51d",
   "metadata": {
    "ExecuteTime": {
     "end_time": "2021-05-04T18:54:49.794631Z",
     "start_time": "2021-05-04T18:54:49.791737Z"
    }
   },
   "outputs": [],
   "source": [
    "pick_sample_size_for_speed = 20000 # to speed up the processing - False meaning skip "
   ]
  },
  {
   "cell_type": "code",
   "execution_count": 9,
   "id": "e2cf7ce0",
   "metadata": {
    "ExecuteTime": {
     "end_time": "2021-05-04T18:54:49.799696Z",
     "start_time": "2021-05-04T18:54:49.796466Z"
    }
   },
   "outputs": [],
   "source": [
    "threshold_column_missing = 0.65 # more than this number is not used"
   ]
  },
  {
   "cell_type": "code",
   "execution_count": 10,
   "id": "a7e96d36",
   "metadata": {
    "ExecuteTime": {
     "end_time": "2021-05-04T18:54:49.805529Z",
     "start_time": "2021-05-04T18:54:49.801093Z"
    }
   },
   "outputs": [],
   "source": [
    "correct_bias_isFruad_times_multiply = 2 # x times as many not fraud as fraud"
   ]
  },
  {
   "cell_type": "markdown",
   "id": "ff8551f4",
   "metadata": {},
   "source": [
    "## handle bias in data for isFraud"
   ]
  },
  {
   "cell_type": "code",
   "execution_count": 11,
   "id": "d0d83547",
   "metadata": {
    "ExecuteTime": {
     "end_time": "2021-05-04T18:54:50.309316Z",
     "start_time": "2021-05-04T18:54:49.807287Z"
    }
   },
   "outputs": [],
   "source": [
    "X_train = X_train_hold.copy()"
   ]
  },
  {
   "cell_type": "code",
   "execution_count": 12,
   "id": "3f0f3f1c",
   "metadata": {
    "ExecuteTime": {
     "end_time": "2021-05-04T18:54:50.318750Z",
     "start_time": "2021-05-04T18:54:50.310836Z"
    }
   },
   "outputs": [],
   "source": [
    "X_train.loc[:, 'isFraud'] = y_train_hold"
   ]
  },
  {
   "cell_type": "code",
   "execution_count": 13,
   "id": "898fdbf5",
   "metadata": {
    "ExecuteTime": {
     "end_time": "2021-05-04T18:54:51.791473Z",
     "start_time": "2021-05-04T18:54:50.320116Z"
    }
   },
   "outputs": [
    {
     "data": {
      "text/plain": [
       "isFraud\n",
       "0          381944\n",
       "1           13717\n",
       "dtype: int64"
      ]
     },
     "execution_count": 13,
     "metadata": {},
     "output_type": "execute_result"
    }
   ],
   "source": [
    "total_is_fraud = X_train[X_train[\"isFraud\"] == 1][\"isFraud\"].value_counts().item()\n",
    "total_is_not_fraud = X_train[X_train[\"isFraud\"] == 0][\"isFraud\"].value_counts().item()\n",
    "(X_train\n",
    "    .filter(['isFraud'])\n",
    "    .value_counts()\n",
    ")"
   ]
  },
  {
   "cell_type": "code",
   "execution_count": 14,
   "id": "2863744e",
   "metadata": {
    "ExecuteTime": {
     "end_time": "2021-05-04T18:54:53.672679Z",
     "start_time": "2021-05-04T18:54:51.792883Z"
    }
   },
   "outputs": [
    {
     "data": {
      "text/plain": [
       "(41151, 434)"
      ]
     },
     "execution_count": 14,
     "metadata": {},
     "output_type": "execute_result"
    }
   ],
   "source": [
    "X_train = X_train[X_train[\"isFraud\"] == 1].append(X_train[X_train[\"isFraud\"] == 0].sample(total_is_fraud*correct_bias_isFruad_times_multiply))\n",
    "X_train.shape"
   ]
  },
  {
   "cell_type": "code",
   "execution_count": 15,
   "id": "b874c2a4",
   "metadata": {
    "ExecuteTime": {
     "end_time": "2021-05-04T18:54:53.808320Z",
     "start_time": "2021-05-04T18:54:53.674807Z"
    }
   },
   "outputs": [
    {
     "data": {
      "text/plain": [
       "isFraud\n",
       "0          27434\n",
       "1          13717\n",
       "dtype: int64"
      ]
     },
     "execution_count": 15,
     "metadata": {},
     "output_type": "execute_result"
    }
   ],
   "source": [
    "(X_train\n",
    "    .filter(['isFraud'])\n",
    "    .value_counts()\n",
    ")"
   ]
  },
  {
   "cell_type": "code",
   "execution_count": null,
   "id": "6180f05f",
   "metadata": {},
   "outputs": [],
   "source": []
  },
  {
   "cell_type": "code",
   "execution_count": 16,
   "id": "e01fd731",
   "metadata": {
    "ExecuteTime": {
     "end_time": "2021-05-04T18:54:53.929484Z",
     "start_time": "2021-05-04T18:54:53.810135Z"
    }
   },
   "outputs": [
    {
     "name": "stdout",
     "output_type": "stream",
     "text": [
      "pick_sample_size_for_speed 20000\n"
     ]
    }
   ],
   "source": [
    "if pick_sample_size_for_speed:\n",
    "    print(\"pick_sample_size_for_speed\", pick_sample_size_for_speed)\n",
    "    X_train = X_train.sample(pick_sample_size_for_speed)\n",
    "    y_train = X_train.loc[:, 'isFraud']\n",
    "    X_train.drop(labels=['isFraud'], axis=1, inplace = True)\n",
    "else:\n",
    "    X_train = X_train\n",
    "    y_train = X_train.loc[:, 'isFraud']\n",
    "    X_train.drop(labels=['isFraud'], axis=1, inplace = True)"
   ]
  },
  {
   "cell_type": "code",
   "execution_count": 17,
   "id": "2a1ae412",
   "metadata": {
    "ExecuteTime": {
     "end_time": "2021-05-04T18:54:54.059579Z",
     "start_time": "2021-05-04T18:54:53.931370Z"
    }
   },
   "outputs": [
    {
     "name": "stdout",
     "output_type": "stream",
     "text": [
      "dropping:\n"
     ]
    },
    {
     "data": {
      "text/plain": [
       "['dist1',\n",
       " 'dist2',\n",
       " 'R_emaildomain',\n",
       " 'D6',\n",
       " 'D7',\n",
       " 'D8',\n",
       " 'D9',\n",
       " 'D12',\n",
       " 'D13',\n",
       " 'D14',\n",
       " 'V138',\n",
       " 'V139',\n",
       " 'V140',\n",
       " 'V141',\n",
       " 'V142',\n",
       " 'V143',\n",
       " 'V144',\n",
       " 'V145',\n",
       " 'V146',\n",
       " 'V147',\n",
       " 'V148',\n",
       " 'V149',\n",
       " 'V150',\n",
       " 'V151',\n",
       " 'V152',\n",
       " 'V153',\n",
       " 'V154',\n",
       " 'V155',\n",
       " 'V156',\n",
       " 'V157',\n",
       " 'V158',\n",
       " 'V159',\n",
       " 'V160',\n",
       " 'V161',\n",
       " 'V162',\n",
       " 'V163',\n",
       " 'V164',\n",
       " 'V165',\n",
       " 'V166',\n",
       " 'V167',\n",
       " 'V168',\n",
       " 'V169',\n",
       " 'V170',\n",
       " 'V171',\n",
       " 'V172',\n",
       " 'V173',\n",
       " 'V174',\n",
       " 'V175',\n",
       " 'V176',\n",
       " 'V177',\n",
       " 'V178',\n",
       " 'V179',\n",
       " 'V180',\n",
       " 'V181',\n",
       " 'V182',\n",
       " 'V183',\n",
       " 'V184',\n",
       " 'V185',\n",
       " 'V186',\n",
       " 'V187',\n",
       " 'V188',\n",
       " 'V189',\n",
       " 'V190',\n",
       " 'V191',\n",
       " 'V192',\n",
       " 'V193',\n",
       " 'V194',\n",
       " 'V195',\n",
       " 'V196',\n",
       " 'V197',\n",
       " 'V198',\n",
       " 'V199',\n",
       " 'V200',\n",
       " 'V201',\n",
       " 'V202',\n",
       " 'V203',\n",
       " 'V204',\n",
       " 'V205',\n",
       " 'V206',\n",
       " 'V207',\n",
       " 'V208',\n",
       " 'V209',\n",
       " 'V210',\n",
       " 'V211',\n",
       " 'V212',\n",
       " 'V213',\n",
       " 'V214',\n",
       " 'V215',\n",
       " 'V216',\n",
       " 'V217',\n",
       " 'V218',\n",
       " 'V219',\n",
       " 'V220',\n",
       " 'V221',\n",
       " 'V222',\n",
       " 'V223',\n",
       " 'V224',\n",
       " 'V225',\n",
       " 'V226',\n",
       " 'V227',\n",
       " 'V228',\n",
       " 'V229',\n",
       " 'V230',\n",
       " 'V231',\n",
       " 'V232',\n",
       " 'V233',\n",
       " 'V234',\n",
       " 'V235',\n",
       " 'V236',\n",
       " 'V237',\n",
       " 'V238',\n",
       " 'V239',\n",
       " 'V240',\n",
       " 'V241',\n",
       " 'V242',\n",
       " 'V243',\n",
       " 'V244',\n",
       " 'V245',\n",
       " 'V246',\n",
       " 'V247',\n",
       " 'V248',\n",
       " 'V249',\n",
       " 'V250',\n",
       " 'V251',\n",
       " 'V252',\n",
       " 'V253',\n",
       " 'V254',\n",
       " 'V255',\n",
       " 'V256',\n",
       " 'V257',\n",
       " 'V258',\n",
       " 'V259',\n",
       " 'V260',\n",
       " 'V261',\n",
       " 'V262',\n",
       " 'V263',\n",
       " 'V264',\n",
       " 'V265',\n",
       " 'V266',\n",
       " 'V267',\n",
       " 'V268',\n",
       " 'V269',\n",
       " 'V270',\n",
       " 'V271',\n",
       " 'V272',\n",
       " 'V273',\n",
       " 'V274',\n",
       " 'V275',\n",
       " 'V276',\n",
       " 'V277',\n",
       " 'V278',\n",
       " 'V322',\n",
       " 'V323',\n",
       " 'V324',\n",
       " 'V325',\n",
       " 'V326',\n",
       " 'V327',\n",
       " 'V328',\n",
       " 'V329',\n",
       " 'V330',\n",
       " 'V331',\n",
       " 'V332',\n",
       " 'V333',\n",
       " 'V334',\n",
       " 'V335',\n",
       " 'V336',\n",
       " 'V337',\n",
       " 'V338',\n",
       " 'V339',\n",
       " 'id_01',\n",
       " 'id_02',\n",
       " 'id_03',\n",
       " 'id_04',\n",
       " 'id_05',\n",
       " 'id_06',\n",
       " 'id_07',\n",
       " 'id_08',\n",
       " 'id_09',\n",
       " 'id_10',\n",
       " 'id_11',\n",
       " 'id_12',\n",
       " 'id_13',\n",
       " 'id_14',\n",
       " 'id_15',\n",
       " 'id_16',\n",
       " 'id_17',\n",
       " 'id_18',\n",
       " 'id_19',\n",
       " 'id_20',\n",
       " 'id_21',\n",
       " 'id_22',\n",
       " 'id_23',\n",
       " 'id_24',\n",
       " 'id_25',\n",
       " 'id_26',\n",
       " 'id_27',\n",
       " 'id_28',\n",
       " 'id_29',\n",
       " 'id_30',\n",
       " 'id_31',\n",
       " 'id_32',\n",
       " 'id_33',\n",
       " 'id_34',\n",
       " 'id_35',\n",
       " 'id_36',\n",
       " 'id_37',\n",
       " 'id_38',\n",
       " 'DeviceType',\n",
       " 'DeviceInfo']"
      ]
     },
     "execution_count": 17,
     "metadata": {},
     "output_type": "execute_result"
    }
   ],
   "source": [
    "print(\"dropping:\")\n",
    "dropped_columns = X_train.loc[:,\n",
    "    (X_train\n",
    "        .isna()\n",
    "        .mean()\n",
    "        .ge(threshold_column_missing)\n",
    "     )\n",
    "].columns.tolist()\n",
    "dropped_columns"
   ]
  },
  {
   "cell_type": "code",
   "execution_count": 18,
   "id": "778f8977",
   "metadata": {
    "ExecuteTime": {
     "end_time": "2021-05-04T18:54:54.149474Z",
     "start_time": "2021-05-04T18:54:54.060900Z"
    }
   },
   "outputs": [],
   "source": [
    "X_train = X_train.loc[:,\n",
    "    (X_train\n",
    "        .isna()\n",
    "        .mean()\n",
    "        .le(threshold_column_missing)\n",
    "     )\n",
    "]"
   ]
  },
  {
   "cell_type": "code",
   "execution_count": 19,
   "id": "d929b8e5",
   "metadata": {
    "ExecuteTime": {
     "end_time": "2021-05-04T18:54:54.198290Z",
     "start_time": "2021-05-04T18:54:54.151627Z"
    }
   },
   "outputs": [
    {
     "data": {
      "text/html": [
       "<div>\n",
       "<style scoped>\n",
       "    .dataframe tbody tr th:only-of-type {\n",
       "        vertical-align: middle;\n",
       "    }\n",
       "\n",
       "    .dataframe tbody tr th {\n",
       "        vertical-align: top;\n",
       "    }\n",
       "\n",
       "    .dataframe thead th {\n",
       "        text-align: right;\n",
       "    }\n",
       "</style>\n",
       "<table border=\"1\" class=\"dataframe\">\n",
       "  <thead>\n",
       "    <tr style=\"text-align: right;\">\n",
       "      <th></th>\n",
       "      <th>TransactionID</th>\n",
       "      <th>TransactionDT</th>\n",
       "      <th>TransactionAmt</th>\n",
       "      <th>ProductCD</th>\n",
       "      <th>card1</th>\n",
       "      <th>card2</th>\n",
       "      <th>card3</th>\n",
       "      <th>card4</th>\n",
       "      <th>card5</th>\n",
       "      <th>card6</th>\n",
       "      <th>...</th>\n",
       "      <th>V312</th>\n",
       "      <th>V313</th>\n",
       "      <th>V314</th>\n",
       "      <th>V315</th>\n",
       "      <th>V316</th>\n",
       "      <th>V317</th>\n",
       "      <th>V318</th>\n",
       "      <th>V319</th>\n",
       "      <th>V320</th>\n",
       "      <th>V321</th>\n",
       "    </tr>\n",
       "  </thead>\n",
       "  <tbody>\n",
       "    <tr>\n",
       "      <th>149657</th>\n",
       "      <td>3136657</td>\n",
       "      <td>3089033</td>\n",
       "      <td>485.950</td>\n",
       "      <td>W</td>\n",
       "      <td>15323</td>\n",
       "      <td>216.0</td>\n",
       "      <td>150.0</td>\n",
       "      <td>visa</td>\n",
       "      <td>226.0</td>\n",
       "      <td>credit</td>\n",
       "      <td>...</td>\n",
       "      <td>0.000000</td>\n",
       "      <td>0.000000</td>\n",
       "      <td>0.000000</td>\n",
       "      <td>0.000000</td>\n",
       "      <td>0.0</td>\n",
       "      <td>0.000000</td>\n",
       "      <td>0.000000</td>\n",
       "      <td>0.0</td>\n",
       "      <td>0.0</td>\n",
       "      <td>0.0</td>\n",
       "    </tr>\n",
       "    <tr>\n",
       "      <th>251749</th>\n",
       "      <td>3238749</td>\n",
       "      <td>6019402</td>\n",
       "      <td>125.000</td>\n",
       "      <td>R</td>\n",
       "      <td>11862</td>\n",
       "      <td>562.0</td>\n",
       "      <td>150.0</td>\n",
       "      <td>visa</td>\n",
       "      <td>226.0</td>\n",
       "      <td>credit</td>\n",
       "      <td>...</td>\n",
       "      <td>125.000000</td>\n",
       "      <td>125.000000</td>\n",
       "      <td>125.000000</td>\n",
       "      <td>125.000000</td>\n",
       "      <td>0.0</td>\n",
       "      <td>0.000000</td>\n",
       "      <td>0.000000</td>\n",
       "      <td>225.0</td>\n",
       "      <td>225.0</td>\n",
       "      <td>225.0</td>\n",
       "    </tr>\n",
       "    <tr>\n",
       "      <th>76949</th>\n",
       "      <td>3063949</td>\n",
       "      <td>1694145</td>\n",
       "      <td>100.000</td>\n",
       "      <td>R</td>\n",
       "      <td>1260</td>\n",
       "      <td>512.0</td>\n",
       "      <td>150.0</td>\n",
       "      <td>mastercard</td>\n",
       "      <td>117.0</td>\n",
       "      <td>debit</td>\n",
       "      <td>...</td>\n",
       "      <td>0.000000</td>\n",
       "      <td>0.000000</td>\n",
       "      <td>0.000000</td>\n",
       "      <td>0.000000</td>\n",
       "      <td>100.0</td>\n",
       "      <td>100.000000</td>\n",
       "      <td>100.000000</td>\n",
       "      <td>0.0</td>\n",
       "      <td>0.0</td>\n",
       "      <td>0.0</td>\n",
       "    </tr>\n",
       "    <tr>\n",
       "      <th>473736</th>\n",
       "      <td>3460736</td>\n",
       "      <td>12246555</td>\n",
       "      <td>95.000</td>\n",
       "      <td>W</td>\n",
       "      <td>12598</td>\n",
       "      <td>111.0</td>\n",
       "      <td>150.0</td>\n",
       "      <td>visa</td>\n",
       "      <td>166.0</td>\n",
       "      <td>debit</td>\n",
       "      <td>...</td>\n",
       "      <td>0.000000</td>\n",
       "      <td>0.000000</td>\n",
       "      <td>0.000000</td>\n",
       "      <td>0.000000</td>\n",
       "      <td>0.0</td>\n",
       "      <td>0.000000</td>\n",
       "      <td>0.000000</td>\n",
       "      <td>0.0</td>\n",
       "      <td>0.0</td>\n",
       "      <td>0.0</td>\n",
       "    </tr>\n",
       "    <tr>\n",
       "      <th>344812</th>\n",
       "      <td>3331812</td>\n",
       "      <td>8515982</td>\n",
       "      <td>226.000</td>\n",
       "      <td>W</td>\n",
       "      <td>10613</td>\n",
       "      <td>250.0</td>\n",
       "      <td>150.0</td>\n",
       "      <td>visa</td>\n",
       "      <td>226.0</td>\n",
       "      <td>debit</td>\n",
       "      <td>...</td>\n",
       "      <td>0.000000</td>\n",
       "      <td>0.000000</td>\n",
       "      <td>0.000000</td>\n",
       "      <td>0.000000</td>\n",
       "      <td>0.0</td>\n",
       "      <td>0.000000</td>\n",
       "      <td>0.000000</td>\n",
       "      <td>0.0</td>\n",
       "      <td>280.0</td>\n",
       "      <td>280.0</td>\n",
       "    </tr>\n",
       "    <tr>\n",
       "      <th>...</th>\n",
       "      <td>...</td>\n",
       "      <td>...</td>\n",
       "      <td>...</td>\n",
       "      <td>...</td>\n",
       "      <td>...</td>\n",
       "      <td>...</td>\n",
       "      <td>...</td>\n",
       "      <td>...</td>\n",
       "      <td>...</td>\n",
       "      <td>...</td>\n",
       "      <td>...</td>\n",
       "      <td>...</td>\n",
       "      <td>...</td>\n",
       "      <td>...</td>\n",
       "      <td>...</td>\n",
       "      <td>...</td>\n",
       "      <td>...</td>\n",
       "      <td>...</td>\n",
       "      <td>...</td>\n",
       "      <td>...</td>\n",
       "      <td>...</td>\n",
       "    </tr>\n",
       "    <tr>\n",
       "      <th>541930</th>\n",
       "      <td>3528930</td>\n",
       "      <td>14304704</td>\n",
       "      <td>280.000</td>\n",
       "      <td>W</td>\n",
       "      <td>5606</td>\n",
       "      <td>318.0</td>\n",
       "      <td>150.0</td>\n",
       "      <td>visa</td>\n",
       "      <td>166.0</td>\n",
       "      <td>debit</td>\n",
       "      <td>...</td>\n",
       "      <td>157.000000</td>\n",
       "      <td>146.000000</td>\n",
       "      <td>457.000000</td>\n",
       "      <td>300.000000</td>\n",
       "      <td>0.0</td>\n",
       "      <td>0.000000</td>\n",
       "      <td>0.000000</td>\n",
       "      <td>0.0</td>\n",
       "      <td>0.0</td>\n",
       "      <td>0.0</td>\n",
       "    </tr>\n",
       "    <tr>\n",
       "      <th>475387</th>\n",
       "      <td>3462387</td>\n",
       "      <td>12277745</td>\n",
       "      <td>29.000</td>\n",
       "      <td>W</td>\n",
       "      <td>2518</td>\n",
       "      <td>555.0</td>\n",
       "      <td>150.0</td>\n",
       "      <td>visa</td>\n",
       "      <td>226.0</td>\n",
       "      <td>debit</td>\n",
       "      <td>...</td>\n",
       "      <td>49.000000</td>\n",
       "      <td>0.000000</td>\n",
       "      <td>0.000000</td>\n",
       "      <td>0.000000</td>\n",
       "      <td>0.0</td>\n",
       "      <td>0.000000</td>\n",
       "      <td>0.000000</td>\n",
       "      <td>0.0</td>\n",
       "      <td>0.0</td>\n",
       "      <td>0.0</td>\n",
       "    </tr>\n",
       "    <tr>\n",
       "      <th>180274</th>\n",
       "      <td>3167274</td>\n",
       "      <td>3963848</td>\n",
       "      <td>49.000</td>\n",
       "      <td>W</td>\n",
       "      <td>15372</td>\n",
       "      <td>241.0</td>\n",
       "      <td>150.0</td>\n",
       "      <td>visa</td>\n",
       "      <td>226.0</td>\n",
       "      <td>debit</td>\n",
       "      <td>...</td>\n",
       "      <td>49.000000</td>\n",
       "      <td>49.000000</td>\n",
       "      <td>152.500000</td>\n",
       "      <td>49.000000</td>\n",
       "      <td>49.0</td>\n",
       "      <td>108.000000</td>\n",
       "      <td>49.000000</td>\n",
       "      <td>0.0</td>\n",
       "      <td>0.0</td>\n",
       "      <td>0.0</td>\n",
       "    </tr>\n",
       "    <tr>\n",
       "      <th>363227</th>\n",
       "      <td>3350227</td>\n",
       "      <td>9010206</td>\n",
       "      <td>45.436</td>\n",
       "      <td>C</td>\n",
       "      <td>18301</td>\n",
       "      <td>459.0</td>\n",
       "      <td>185.0</td>\n",
       "      <td>mastercard</td>\n",
       "      <td>224.0</td>\n",
       "      <td>credit</td>\n",
       "      <td>...</td>\n",
       "      <td>39.333401</td>\n",
       "      <td>39.333401</td>\n",
       "      <td>39.333401</td>\n",
       "      <td>39.333401</td>\n",
       "      <td>0.0</td>\n",
       "      <td>38.970901</td>\n",
       "      <td>38.970901</td>\n",
       "      <td>0.0</td>\n",
       "      <td>0.0</td>\n",
       "      <td>0.0</td>\n",
       "    </tr>\n",
       "    <tr>\n",
       "      <th>359733</th>\n",
       "      <td>3346733</td>\n",
       "      <td>8905331</td>\n",
       "      <td>57.950</td>\n",
       "      <td>W</td>\n",
       "      <td>9500</td>\n",
       "      <td>321.0</td>\n",
       "      <td>150.0</td>\n",
       "      <td>visa</td>\n",
       "      <td>226.0</td>\n",
       "      <td>debit</td>\n",
       "      <td>...</td>\n",
       "      <td>0.000000</td>\n",
       "      <td>0.000000</td>\n",
       "      <td>0.000000</td>\n",
       "      <td>0.000000</td>\n",
       "      <td>0.0</td>\n",
       "      <td>0.000000</td>\n",
       "      <td>0.000000</td>\n",
       "      <td>0.0</td>\n",
       "      <td>0.0</td>\n",
       "      <td>0.0</td>\n",
       "    </tr>\n",
       "  </tbody>\n",
       "</table>\n",
       "<p>20000 rows × 224 columns</p>\n",
       "</div>"
      ],
      "text/plain": [
       "        TransactionID  TransactionDT  TransactionAmt ProductCD  card1  card2  \\\n",
       "149657        3136657        3089033         485.950         W  15323  216.0   \n",
       "251749        3238749        6019402         125.000         R  11862  562.0   \n",
       "76949         3063949        1694145         100.000         R   1260  512.0   \n",
       "473736        3460736       12246555          95.000         W  12598  111.0   \n",
       "344812        3331812        8515982         226.000         W  10613  250.0   \n",
       "...               ...            ...             ...       ...    ...    ...   \n",
       "541930        3528930       14304704         280.000         W   5606  318.0   \n",
       "475387        3462387       12277745          29.000         W   2518  555.0   \n",
       "180274        3167274        3963848          49.000         W  15372  241.0   \n",
       "363227        3350227        9010206          45.436         C  18301  459.0   \n",
       "359733        3346733        8905331          57.950         W   9500  321.0   \n",
       "\n",
       "        card3       card4  card5   card6  ...        V312        V313  \\\n",
       "149657  150.0        visa  226.0  credit  ...    0.000000    0.000000   \n",
       "251749  150.0        visa  226.0  credit  ...  125.000000  125.000000   \n",
       "76949   150.0  mastercard  117.0   debit  ...    0.000000    0.000000   \n",
       "473736  150.0        visa  166.0   debit  ...    0.000000    0.000000   \n",
       "344812  150.0        visa  226.0   debit  ...    0.000000    0.000000   \n",
       "...       ...         ...    ...     ...  ...         ...         ...   \n",
       "541930  150.0        visa  166.0   debit  ...  157.000000  146.000000   \n",
       "475387  150.0        visa  226.0   debit  ...   49.000000    0.000000   \n",
       "180274  150.0        visa  226.0   debit  ...   49.000000   49.000000   \n",
       "363227  185.0  mastercard  224.0  credit  ...   39.333401   39.333401   \n",
       "359733  150.0        visa  226.0   debit  ...    0.000000    0.000000   \n",
       "\n",
       "              V314        V315   V316        V317        V318   V319   V320  \\\n",
       "149657    0.000000    0.000000    0.0    0.000000    0.000000    0.0    0.0   \n",
       "251749  125.000000  125.000000    0.0    0.000000    0.000000  225.0  225.0   \n",
       "76949     0.000000    0.000000  100.0  100.000000  100.000000    0.0    0.0   \n",
       "473736    0.000000    0.000000    0.0    0.000000    0.000000    0.0    0.0   \n",
       "344812    0.000000    0.000000    0.0    0.000000    0.000000    0.0  280.0   \n",
       "...            ...         ...    ...         ...         ...    ...    ...   \n",
       "541930  457.000000  300.000000    0.0    0.000000    0.000000    0.0    0.0   \n",
       "475387    0.000000    0.000000    0.0    0.000000    0.000000    0.0    0.0   \n",
       "180274  152.500000   49.000000   49.0  108.000000   49.000000    0.0    0.0   \n",
       "363227   39.333401   39.333401    0.0   38.970901   38.970901    0.0    0.0   \n",
       "359733    0.000000    0.000000    0.0    0.000000    0.000000    0.0    0.0   \n",
       "\n",
       "         V321  \n",
       "149657    0.0  \n",
       "251749  225.0  \n",
       "76949     0.0  \n",
       "473736    0.0  \n",
       "344812  280.0  \n",
       "...       ...  \n",
       "541930    0.0  \n",
       "475387    0.0  \n",
       "180274    0.0  \n",
       "363227    0.0  \n",
       "359733    0.0  \n",
       "\n",
       "[20000 rows x 224 columns]"
      ]
     },
     "execution_count": 19,
     "metadata": {},
     "output_type": "execute_result"
    }
   ],
   "source": [
    "X_train"
   ]
  },
  {
   "cell_type": "code",
   "execution_count": null,
   "id": "973ece33",
   "metadata": {},
   "outputs": [],
   "source": []
  },
  {
   "cell_type": "code",
   "execution_count": 20,
   "id": "8143953a",
   "metadata": {
    "ExecuteTime": {
     "end_time": "2021-05-04T18:54:54.205257Z",
     "start_time": "2021-05-04T18:54:54.200052Z"
    }
   },
   "outputs": [
    {
     "data": {
      "text/plain": [
       "TransactionID       int64\n",
       "TransactionDT       int64\n",
       "TransactionAmt    float64\n",
       "ProductCD          object\n",
       "card1               int64\n",
       "                   ...   \n",
       "V317              float64\n",
       "V318              float64\n",
       "V319              float64\n",
       "V320              float64\n",
       "V321              float64\n",
       "Length: 224, dtype: object"
      ]
     },
     "execution_count": 20,
     "metadata": {},
     "output_type": "execute_result"
    }
   ],
   "source": [
    "X_train.dtypes"
   ]
  },
  {
   "cell_type": "code",
   "execution_count": null,
   "id": "c1aa4092",
   "metadata": {},
   "outputs": [],
   "source": []
  },
  {
   "cell_type": "code",
   "execution_count": null,
   "id": "5e95d8a0",
   "metadata": {},
   "outputs": [],
   "source": []
  },
  {
   "cell_type": "code",
   "execution_count": null,
   "id": "9521d49b",
   "metadata": {},
   "outputs": [],
   "source": []
  },
  {
   "cell_type": "code",
   "execution_count": null,
   "id": "875620d5",
   "metadata": {},
   "outputs": [],
   "source": []
  },
  {
   "cell_type": "code",
   "execution_count": 21,
   "id": "ba0f968d",
   "metadata": {
    "ExecuteTime": {
     "end_time": "2021-05-04T18:54:54.209930Z",
     "start_time": "2021-05-04T18:54:54.206718Z"
    }
   },
   "outputs": [],
   "source": [
    "numeric_features = make_column_selector(dtype_include=['float64','int64'])\n",
    "numeric_transformer = Pipeline(steps=[\n",
    "#     ('imputer', SimpleImputer(strategy='median')),\n",
    "    ('imputer', KNNImputer(n_neighbors=3)),\n",
    "    ('scaler', StandardScaler())])"
   ]
  },
  {
   "cell_type": "code",
   "execution_count": 22,
   "id": "5840e81a",
   "metadata": {
    "ExecuteTime": {
     "end_time": "2021-05-04T18:54:54.215139Z",
     "start_time": "2021-05-04T18:54:54.211117Z"
    }
   },
   "outputs": [],
   "source": [
    "categorical_features = make_column_selector(dtype_include='object')\n",
    "categorical_transformer = OneHotEncoder(handle_unknown='ignore')"
   ]
  },
  {
   "cell_type": "code",
   "execution_count": 23,
   "id": "1abbb626",
   "metadata": {
    "ExecuteTime": {
     "end_time": "2021-05-04T18:54:54.220426Z",
     "start_time": "2021-05-04T18:54:54.217676Z"
    }
   },
   "outputs": [],
   "source": [
    "preprocessor = ColumnTransformer(\n",
    "    transformers=[\n",
    "        ('num', numeric_transformer, numeric_features),\n",
    "        ('cat', categorical_transformer, categorical_features)])"
   ]
  },
  {
   "cell_type": "code",
   "execution_count": 24,
   "id": "a3966430",
   "metadata": {
    "ExecuteTime": {
     "end_time": "2021-05-04T18:54:54.226312Z",
     "start_time": "2021-05-04T18:54:54.221626Z"
    }
   },
   "outputs": [],
   "source": [
    "pipe = Pipeline(steps=[('preprocessor', preprocessor),\n",
    "                        ('pca', PCA(n_components=50)),\n",
    "                      ('classifier', SVC(probability=True))],\n",
    "               verbose=True)"
   ]
  },
  {
   "cell_type": "code",
   "execution_count": null,
   "id": "8ff6f143",
   "metadata": {},
   "outputs": [],
   "source": []
  },
  {
   "cell_type": "code",
   "execution_count": null,
   "id": "09923fdd",
   "metadata": {},
   "outputs": [],
   "source": []
  },
  {
   "cell_type": "code",
   "execution_count": null,
   "id": "9e546371",
   "metadata": {},
   "outputs": [],
   "source": []
  },
  {
   "cell_type": "code",
   "execution_count": null,
   "id": "1624613e",
   "metadata": {},
   "outputs": [],
   "source": []
  },
  {
   "cell_type": "code",
   "execution_count": 25,
   "id": "d34da3e6",
   "metadata": {
    "ExecuteTime": {
     "end_time": "2021-05-04T18:54:54.231427Z",
     "start_time": "2021-05-04T18:54:54.227363Z"
    }
   },
   "outputs": [],
   "source": [
    "ss = ShuffleSplit(test_size=0.5, n_splits=1, random_state=7)"
   ]
  },
  {
   "cell_type": "code",
   "execution_count": 26,
   "id": "a61d65cb",
   "metadata": {
    "ExecuteTime": {
     "end_time": "2021-05-04T18:54:54.239143Z",
     "start_time": "2021-05-04T18:54:54.232530Z"
    }
   },
   "outputs": [],
   "source": [
    "param_grid = [{\n",
    "                  'classifier': (KNeighborsClassifier(),),\n",
    "                  'classifier__n_neighbors':[20], \n",
    "                  'classifier__metric':['manhattan'],\n",
    "                  'classifier__weights':['distance'],\n",
    "                  'pca__n_components':[100]        \n",
    "              },\n",
    "              {\n",
    "                  'classifier': (SVC(gamma=\"auto\"),),\n",
    "                  'pca__n_components':[100]  \n",
    "              },\n",
    "              {\n",
    "                  'classifier': (MLPClassifier(hidden_layer_sizes=(100,), max_iter=20, alpha=1e-4,\n",
    "                    solver='sgd', verbose=0, random_state=1,\n",
    "                    learning_rate_init=.1),),\n",
    "                  'pca__n_components':[100],\n",
    "                  'classifier__alpha':[1e-6],\n",
    "                  'classifier__hidden_layer_sizes':[(50,)],\n",
    "                  'classifier__max_iter':[100],\n",
    "                  'classifier__learning_rate_init':[0.01],\n",
    "              },\n",
    "                  {\n",
    "                  'classifier': (LogisticRegression(solver='liblinear'),),\n",
    "                  'pca__n_components':[100]  \n",
    "              }\n",
    "              ]\n"
   ]
  },
  {
   "cell_type": "code",
   "execution_count": 27,
   "id": "b32b03a3",
   "metadata": {
    "ExecuteTime": {
     "end_time": "2021-05-04T18:54:54.246245Z",
     "start_time": "2021-05-04T18:54:54.240169Z"
    }
   },
   "outputs": [],
   "source": [
    "pipe_gs = GridSearchCV(pipe, param_grid, cv=ss, scoring=\"roc_auc\",\n",
    "                      verbose = 10, n_jobs = -1)"
   ]
  },
  {
   "cell_type": "code",
   "execution_count": 28,
   "id": "6e36711a",
   "metadata": {
    "ExecuteTime": {
     "end_time": "2021-05-04T19:08:06.808066Z",
     "start_time": "2021-05-04T18:54:54.248712Z"
    }
   },
   "outputs": [
    {
     "name": "stdout",
     "output_type": "stream",
     "text": [
      "Fitting 1 folds for each of 4 candidates, totalling 4 fits\n",
      "[Pipeline] ...... (step 1 of 3) Processing preprocessor, total= 5.5min\n",
      "[Pipeline] ............... (step 2 of 3) Processing pca, total=   1.3s\n",
      "[Pipeline] ........ (step 3 of 3) Processing classifier, total=  47.2s\n"
     ]
    }
   ],
   "source": [
    "pipe_gs = pipe_gs.fit(X_train, y_train)"
   ]
  },
  {
   "cell_type": "code",
   "execution_count": 29,
   "id": "686d47e3",
   "metadata": {
    "ExecuteTime": {
     "end_time": "2021-05-04T19:08:07.020972Z",
     "start_time": "2021-05-04T19:08:06.841218Z"
    }
   },
   "outputs": [
    {
     "data": {
      "text/plain": [
       "{'classifier': SVC(gamma='auto'), 'pca__n_components': 100}"
      ]
     },
     "execution_count": 29,
     "metadata": {},
     "output_type": "execute_result"
    }
   ],
   "source": [
    "pipe_gs.best_params_"
   ]
  },
  {
   "cell_type": "code",
   "execution_count": 30,
   "id": "e55de08c",
   "metadata": {
    "ExecuteTime": {
     "end_time": "2021-05-04T19:08:07.071957Z",
     "start_time": "2021-05-04T19:08:07.028333Z"
    }
   },
   "outputs": [
    {
     "data": {
      "text/plain": [
       "{'mean_fit_time': array([181.63479519, 204.0879879 , 186.44016051, 183.39459372]),\n",
       " 'std_fit_time': array([0., 0., 0., 0.]),\n",
       " 'mean_score_time': array([228.06550479, 206.89650273, 214.16485524, 215.20980072]),\n",
       " 'std_score_time': array([0., 0., 0., 0.]),\n",
       " 'param_classifier': masked_array(data=[KNeighborsClassifier(), SVC(gamma='auto'),\n",
       "                    MLPClassifier(learning_rate_init=0.1, max_iter=20, random_state=1, solver='sgd',\n",
       "                                  verbose=0)                                                        ,\n",
       "                    LogisticRegression(solver='liblinear')],\n",
       "              mask=[False, False, False, False],\n",
       "        fill_value='?',\n",
       "             dtype=object),\n",
       " 'param_classifier__metric': masked_array(data=['manhattan', --, --, --],\n",
       "              mask=[False,  True,  True,  True],\n",
       "        fill_value='?',\n",
       "             dtype=object),\n",
       " 'param_classifier__n_neighbors': masked_array(data=[20, --, --, --],\n",
       "              mask=[False,  True,  True,  True],\n",
       "        fill_value='?',\n",
       "             dtype=object),\n",
       " 'param_classifier__weights': masked_array(data=['distance', --, --, --],\n",
       "              mask=[False,  True,  True,  True],\n",
       "        fill_value='?',\n",
       "             dtype=object),\n",
       " 'param_pca__n_components': masked_array(data=[100, 100, 100, 100],\n",
       "              mask=[False, False, False, False],\n",
       "        fill_value='?',\n",
       "             dtype=object),\n",
       " 'param_classifier__alpha': masked_array(data=[--, --, 1e-06, --],\n",
       "              mask=[ True,  True, False,  True],\n",
       "        fill_value='?',\n",
       "             dtype=object),\n",
       " 'param_classifier__hidden_layer_sizes': masked_array(data=[--, --, (50,), --],\n",
       "              mask=[ True,  True, False,  True],\n",
       "        fill_value='?',\n",
       "             dtype=object),\n",
       " 'param_classifier__learning_rate_init': masked_array(data=[--, --, 0.01, --],\n",
       "              mask=[ True,  True, False,  True],\n",
       "        fill_value='?',\n",
       "             dtype=object),\n",
       " 'param_classifier__max_iter': masked_array(data=[--, --, 100, --],\n",
       "              mask=[ True,  True, False,  True],\n",
       "        fill_value='?',\n",
       "             dtype=object),\n",
       " 'params': [{'classifier': KNeighborsClassifier(),\n",
       "   'classifier__metric': 'manhattan',\n",
       "   'classifier__n_neighbors': 20,\n",
       "   'classifier__weights': 'distance',\n",
       "   'pca__n_components': 100},\n",
       "  {'classifier': SVC(gamma='auto'), 'pca__n_components': 100},\n",
       "  {'classifier': MLPClassifier(learning_rate_init=0.1, max_iter=20, random_state=1, solver='sgd',\n",
       "                 verbose=0),\n",
       "   'classifier__alpha': 1e-06,\n",
       "   'classifier__hidden_layer_sizes': (50,),\n",
       "   'classifier__learning_rate_init': 0.01,\n",
       "   'classifier__max_iter': 100,\n",
       "   'pca__n_components': 100},\n",
       "  {'classifier': LogisticRegression(solver='liblinear'),\n",
       "   'pca__n_components': 100}],\n",
       " 'split0_test_score': array([0.8398159 , 0.85017768, 0.83918822, 0.81893049]),\n",
       " 'mean_test_score': array([0.8398159 , 0.85017768, 0.83918822, 0.81893049]),\n",
       " 'std_test_score': array([0., 0., 0., 0.]),\n",
       " 'rank_test_score': array([2, 1, 3, 4], dtype=int32)}"
      ]
     },
     "execution_count": 30,
     "metadata": {},
     "output_type": "execute_result"
    }
   ],
   "source": [
    "pipe_gs.cv_results_"
   ]
  },
  {
   "cell_type": "code",
   "execution_count": 31,
   "id": "29e931e8",
   "metadata": {
    "ExecuteTime": {
     "end_time": "2021-05-04T19:08:07.211424Z",
     "start_time": "2021-05-04T19:08:07.076649Z"
    }
   },
   "outputs": [
    {
     "data": {
      "text/html": [
       "<div>\n",
       "<style scoped>\n",
       "    .dataframe tbody tr th:only-of-type {\n",
       "        vertical-align: middle;\n",
       "    }\n",
       "\n",
       "    .dataframe tbody tr th {\n",
       "        vertical-align: top;\n",
       "    }\n",
       "\n",
       "    .dataframe thead th {\n",
       "        text-align: right;\n",
       "    }\n",
       "</style>\n",
       "<table border=\"1\" class=\"dataframe\">\n",
       "  <thead>\n",
       "    <tr style=\"text-align: right;\">\n",
       "      <th></th>\n",
       "      <th>classifier</th>\n",
       "      <th>classifier__metric</th>\n",
       "      <th>classifier__n_neighbors</th>\n",
       "      <th>classifier__weights</th>\n",
       "      <th>pca__n_components</th>\n",
       "      <th>classifier__alpha</th>\n",
       "      <th>classifier__hidden_layer_sizes</th>\n",
       "      <th>classifier__learning_rate_init</th>\n",
       "      <th>classifier__max_iter</th>\n",
       "      <th>roc_auc</th>\n",
       "    </tr>\n",
       "  </thead>\n",
       "  <tbody>\n",
       "    <tr>\n",
       "      <th>1</th>\n",
       "      <td>SVC(gamma='auto')</td>\n",
       "      <td>NaN</td>\n",
       "      <td>NaN</td>\n",
       "      <td>NaN</td>\n",
       "      <td>100</td>\n",
       "      <td>NaN</td>\n",
       "      <td>NaN</td>\n",
       "      <td>NaN</td>\n",
       "      <td>NaN</td>\n",
       "      <td>0.850178</td>\n",
       "    </tr>\n",
       "    <tr>\n",
       "      <th>0</th>\n",
       "      <td>KNeighborsClassifier()</td>\n",
       "      <td>manhattan</td>\n",
       "      <td>20.0</td>\n",
       "      <td>distance</td>\n",
       "      <td>100</td>\n",
       "      <td>NaN</td>\n",
       "      <td>NaN</td>\n",
       "      <td>NaN</td>\n",
       "      <td>NaN</td>\n",
       "      <td>0.839816</td>\n",
       "    </tr>\n",
       "    <tr>\n",
       "      <th>2</th>\n",
       "      <td>MLPClassifier(learning_rate_init=0.1, max_iter...</td>\n",
       "      <td>NaN</td>\n",
       "      <td>NaN</td>\n",
       "      <td>NaN</td>\n",
       "      <td>100</td>\n",
       "      <td>0.000001</td>\n",
       "      <td>(50,)</td>\n",
       "      <td>0.01</td>\n",
       "      <td>100.0</td>\n",
       "      <td>0.839188</td>\n",
       "    </tr>\n",
       "    <tr>\n",
       "      <th>3</th>\n",
       "      <td>LogisticRegression(solver='liblinear')</td>\n",
       "      <td>NaN</td>\n",
       "      <td>NaN</td>\n",
       "      <td>NaN</td>\n",
       "      <td>100</td>\n",
       "      <td>NaN</td>\n",
       "      <td>NaN</td>\n",
       "      <td>NaN</td>\n",
       "      <td>NaN</td>\n",
       "      <td>0.818930</td>\n",
       "    </tr>\n",
       "  </tbody>\n",
       "</table>\n",
       "</div>"
      ],
      "text/plain": [
       "                                          classifier classifier__metric  \\\n",
       "1                                  SVC(gamma='auto')                NaN   \n",
       "0                             KNeighborsClassifier()          manhattan   \n",
       "2  MLPClassifier(learning_rate_init=0.1, max_iter...                NaN   \n",
       "3             LogisticRegression(solver='liblinear')                NaN   \n",
       "\n",
       "   classifier__n_neighbors classifier__weights  pca__n_components  \\\n",
       "1                      NaN                 NaN                100   \n",
       "0                     20.0            distance                100   \n",
       "2                      NaN                 NaN                100   \n",
       "3                      NaN                 NaN                100   \n",
       "\n",
       "   classifier__alpha classifier__hidden_layer_sizes  \\\n",
       "1                NaN                            NaN   \n",
       "0                NaN                            NaN   \n",
       "2           0.000001                          (50,)   \n",
       "3                NaN                            NaN   \n",
       "\n",
       "   classifier__learning_rate_init  classifier__max_iter   roc_auc  \n",
       "1                             NaN                   NaN  0.850178  \n",
       "0                             NaN                   NaN  0.839816  \n",
       "2                            0.01                 100.0  0.839188  \n",
       "3                             NaN                   NaN  0.818930  "
      ]
     },
     "execution_count": 31,
     "metadata": {},
     "output_type": "execute_result"
    }
   ],
   "source": [
    "(pd.concat([pd.DataFrame(pipe_gs\n",
    "                        .cv_results_[\"params\"]),\n",
    "           pd.DataFrame(pipe_gs.cv_results_[\"mean_test_score\"],\n",
    "                        columns=[\"roc_auc\"])],\n",
    "          axis=1)\n",
    " .sort_values(\"roc_auc\",ascending=False)\n",
    ")\n"
   ]
  },
  {
   "cell_type": "code",
   "execution_count": null,
   "id": "3e191242",
   "metadata": {},
   "outputs": [],
   "source": []
  },
  {
   "cell_type": "code",
   "execution_count": null,
   "id": "44a7d21a",
   "metadata": {},
   "outputs": [],
   "source": []
  },
  {
   "cell_type": "code",
   "execution_count": null,
   "id": "c08e0caa",
   "metadata": {},
   "outputs": [],
   "source": []
  },
  {
   "cell_type": "markdown",
   "id": "ff830bba",
   "metadata": {},
   "source": [
    "# test model on hold out test from above"
   ]
  },
  {
   "cell_type": "code",
   "execution_count": 32,
   "id": "2bf7d3dd",
   "metadata": {
    "ExecuteTime": {
     "end_time": "2021-05-04T19:08:28.777952Z",
     "start_time": "2021-05-04T19:08:07.215290Z"
    }
   },
   "outputs": [],
   "source": [
    "X_test_hold = X_test_hold.drop(columns=dropped_columns)"
   ]
  },
  {
   "cell_type": "code",
   "execution_count": null,
   "id": "dd3b3c15",
   "metadata": {
    "ExecuteTime": {
     "start_time": "2021-05-04T18:54:19.578Z"
    }
   },
   "outputs": [],
   "source": [
    "y_pred_gs = pipe_gs.predict(X_test_hold)"
   ]
  },
  {
   "cell_type": "code",
   "execution_count": null,
   "id": "59fa5c0a",
   "metadata": {
    "ExecuteTime": {
     "start_time": "2021-05-04T18:54:19.580Z"
    }
   },
   "outputs": [],
   "source": [
    "print(\"Accuracy: {0:4.2f}\".format(accuracy_score(y_test_hold,y_pred_gs)))"
   ]
  },
  {
   "cell_type": "code",
   "execution_count": null,
   "id": "0f4c4d78",
   "metadata": {},
   "outputs": [],
   "source": []
  },
  {
   "cell_type": "code",
   "execution_count": null,
   "id": "df4a1828",
   "metadata": {},
   "outputs": [],
   "source": []
  },
  {
   "cell_type": "code",
   "execution_count": null,
   "id": "6f3581e7",
   "metadata": {},
   "outputs": [],
   "source": []
  },
  {
   "cell_type": "code",
   "execution_count": null,
   "id": "998d6ba6",
   "metadata": {},
   "outputs": [],
   "source": []
  },
  {
   "cell_type": "markdown",
   "id": "5d3ff086",
   "metadata": {},
   "source": [
    "# Finally predict the Kaggle test data set"
   ]
  },
  {
   "cell_type": "code",
   "execution_count": null,
   "id": "aa621e8c",
   "metadata": {},
   "outputs": [],
   "source": [
    "test_identity = pd.read_csv('data/ieee-fraud-detection/test_identity.csv')\n",
    "test_transaction = pd.read_csv('data/ieee-fraud-detection/test_transaction.csv')\n",
    "test = pd.merge(test_transaction, test_identity, on='TransactionID', how='left')\n",
    "test.shape"
   ]
  },
  {
   "cell_type": "code",
   "execution_count": null,
   "id": "ddc392c5",
   "metadata": {},
   "outputs": [],
   "source": [
    "test.columns=test.columns.str.replace('-','_')"
   ]
  },
  {
   "cell_type": "code",
   "execution_count": null,
   "id": "21ed7fe6",
   "metadata": {},
   "outputs": [],
   "source": []
  },
  {
   "cell_type": "code",
   "execution_count": null,
   "id": "60938d81",
   "metadata": {},
   "outputs": [],
   "source": [
    "def package_for_kaggle(test_isFraud_prob):\n",
    "    submission = pd.DataFrame({\"TransactionID\": test.index, \"isFraud\": test_isFraud_prob[:,1]}) \n",
    "    submission.to_csv(\"data/submission.csv\", index=False)\n",
    "    \n",
    "package_for_kaggle(test_isFraud_prob)"
   ]
  },
  {
   "cell_type": "code",
   "execution_count": null,
   "id": "cbf64f8d",
   "metadata": {},
   "outputs": [],
   "source": []
  },
  {
   "cell_type": "code",
   "execution_count": null,
   "id": "52606d87",
   "metadata": {},
   "outputs": [],
   "source": []
  }
 ],
 "metadata": {
  "kernelspec": {
   "display_name": "Python 3",
   "language": "python",
   "name": "python3"
  },
  "language_info": {
   "codemirror_mode": {
    "name": "ipython",
    "version": 3
   },
   "file_extension": ".py",
   "mimetype": "text/x-python",
   "name": "python",
   "nbconvert_exporter": "python",
   "pygments_lexer": "ipython3",
   "version": "3.8.5"
  }
 },
 "nbformat": 4,
 "nbformat_minor": 5
}
