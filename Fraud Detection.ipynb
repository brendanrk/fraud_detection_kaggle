{
 "cells": [
  {
   "cell_type": "markdown",
   "id": "smooth-drink",
   "metadata": {},
   "source": [
    "Transaction Table *\n",
    "\n",
    "* TransactionDT: timedelta from a given reference datetime (not an actual timestamp)\n",
    "* TransactionAMT: transaction payment amount in USD\n",
    "* ProductCD: product code, the product for each transaction\n",
    "* card1 - card6: payment card information, such as card type, card category, issue bank, country, etc.\n",
    "* addr: address\n",
    "* dist: distance\n",
    "* P_ and (R__) emaildomain: purchaser and recipient email domain\n",
    "* C1-C14: counting, such as how many addresses are found to be associated with the payment card, etc. The actual meaning is masked.\n",
    "* D1-D15: timedelta, such as days between previous transaction, etc.\n",
    "* M1-M9: match, such as names on card and address, etc.\n",
    "* Vxxx: Vesta engineered rich features, including ranking, counting, and other entity relations.\n",
    "\n",
    "Categorical Features:\n",
    "\n",
    "* ProductCD\n",
    "* card1 - card6\n",
    "* addr1, addr2\n",
    "* P_emaildomain\n",
    "* R_emaildomain\n",
    "* M1 - M9\n",
    "\n",
    "Identity Table *\n",
    "\n",
    "Variables in this table are identity information – network connection information (IP, ISP, Proxy, etc) and digital signature (UA/browser/os/version, etc) associated with transactions.\n",
    "They're collected by Vesta’s fraud protection system and digital security partners.\n",
    "(The field names are masked and pairwise dictionary will not be provided for privacy protection and contract agreement)\n",
    "\n",
    "* Categorical Features:\n",
    "* DeviceType\n",
    "* DeviceInfo\n",
    "* id_12 - id_38\n",
    "\n"
   ]
  },
  {
   "cell_type": "code",
   "execution_count": 1,
   "id": "confidential-exchange",
   "metadata": {
    "ExecuteTime": {
     "end_time": "2021-04-28T18:27:26.338952Z",
     "start_time": "2021-04-28T18:27:25.489300Z"
    }
   },
   "outputs": [],
   "source": [
    "import pandas as pd\n",
    "import numpy as np\n",
    "import gc\n",
    "import re\n",
    "from collections import defaultdict\n",
    "import matplotlib.pyplot as plt\n",
    "import seaborn as sns\n",
    "from sklearn.preprocessing import StandardScaler, OneHotEncoder\n",
    "from sklearn.model_selection import train_test_split\n",
    "from sklearn.impute import SimpleImputer, KNNImputer\n",
    "from sklearn.naive_bayes import MultinomialNB, GaussianNB, BernoulliNB\n",
    "from sklearn.naive_bayes import CategoricalNB\n",
    "from sklearn.metrics import confusion_matrix, accuracy_score\n",
    "from sklearn.svm import OneClassSVM\n",
    "from matplotlib import rcParams\n",
    "# figure size in inches\n",
    "rcParams['figure.figsize'] = 12, 10"
   ]
  },
  {
   "cell_type": "code",
   "execution_count": null,
   "id": "confidential-laser",
   "metadata": {
    "ExecuteTime": {
     "end_time": "2021-04-28T18:12:03.354017Z",
     "start_time": "2021-04-28T18:11:44.921399Z"
    }
   },
   "outputs": [],
   "source": [
    "train_identity = pd.read_csv('data/ieee-fraud-detection/train_identity.csv')\n",
    "train_transaction = pd.read_csv('data/ieee-fraud-detection/train_transaction.csv')"
   ]
  },
  {
   "cell_type": "code",
   "execution_count": null,
   "id": "appreciated-jacob",
   "metadata": {
    "ExecuteTime": {
     "end_time": "2021-04-28T18:12:41.359831Z",
     "start_time": "2021-04-28T18:12:03.356227Z"
    }
   },
   "outputs": [],
   "source": [
    "train = pd.merge(train_transaction, train_identity, on='TransactionID', how='left')\n",
    "train = train.drop(columns=[x for x in train.columns if x.startswith(\"V\")])\n",
    "train.shape"
   ]
  },
  {
   "cell_type": "code",
   "execution_count": null,
   "id": "after-reality",
   "metadata": {
    "ExecuteTime": {
     "end_time": "2021-04-28T18:12:45.948129Z",
     "start_time": "2021-04-28T18:12:41.427753Z"
    }
   },
   "outputs": [],
   "source": [
    "del train_identity, train_transaction\n",
    "gc.collect()"
   ]
  },
  {
   "cell_type": "code",
   "execution_count": null,
   "id": "laughing-object",
   "metadata": {
    "ExecuteTime": {
     "end_time": "2021-04-28T18:13:20.612708Z",
     "start_time": "2021-04-28T18:12:45.952006Z"
    }
   },
   "outputs": [],
   "source": [
    "test_identity = pd.read_csv('data/ieee-fraud-detection/test_identity.csv')\n",
    "test_transaction = pd.read_csv('data/ieee-fraud-detection/test_transaction.csv')"
   ]
  },
  {
   "cell_type": "code",
   "execution_count": null,
   "id": "fourth-fitting",
   "metadata": {
    "ExecuteTime": {
     "end_time": "2021-04-28T18:13:53.521901Z",
     "start_time": "2021-04-28T18:13:20.614607Z"
    }
   },
   "outputs": [],
   "source": [
    "test = pd.merge(test_transaction, test_identity, on='TransactionID', how='left')\n",
    "test = test.drop(columns=[x for x in test.columns if x.startswith(\"V\")])\n",
    "test.shape"
   ]
  },
  {
   "cell_type": "code",
   "execution_count": null,
   "id": "boring-monaco",
   "metadata": {
    "ExecuteTime": {
     "end_time": "2021-04-28T18:13:55.484628Z",
     "start_time": "2021-04-28T18:13:53.542335Z"
    }
   },
   "outputs": [],
   "source": [
    "del test_identity, test_transaction\n",
    "gc.collect()"
   ]
  },
  {
   "cell_type": "code",
   "execution_count": null,
   "id": "accompanied-mystery",
   "metadata": {
    "ExecuteTime": {
     "end_time": "2021-04-28T18:13:55.510706Z",
     "start_time": "2021-04-28T18:13:55.492688Z"
    }
   },
   "outputs": [],
   "source": [
    "test[\"isFraud\"] = \"test\""
   ]
  },
  {
   "cell_type": "code",
   "execution_count": null,
   "id": "solid-theorem",
   "metadata": {
    "ExecuteTime": {
     "end_time": "2021-04-28T18:13:55.527559Z",
     "start_time": "2021-04-28T18:13:55.516869Z"
    }
   },
   "outputs": [],
   "source": [
    "train.shape, test.shape"
   ]
  },
  {
   "cell_type": "code",
   "execution_count": null,
   "id": "spectacular-attraction",
   "metadata": {
    "ExecuteTime": {
     "end_time": "2021-04-28T18:13:55.576888Z",
     "start_time": "2021-04-28T18:13:55.532051Z"
    }
   },
   "outputs": [],
   "source": [
    "for col in list(train.columns):\n",
    "    if col not in list(test.columns):\n",
    "        print(\" only in train: \", col, end = \"  \")\n",
    "for col in list(test.columns):\n",
    "    if col not in list(train.columns):\n",
    "        print(\" only in test: \", col, end = \"  \") "
   ]
  },
  {
   "cell_type": "code",
   "execution_count": null,
   "id": "electronic-completion",
   "metadata": {
    "ExecuteTime": {
     "end_time": "2021-04-28T18:13:55.589839Z",
     "start_time": "2021-04-28T18:13:55.579112Z"
    }
   },
   "outputs": [],
   "source": [
    "test.columns=test.columns.str.replace('-','_')"
   ]
  },
  {
   "cell_type": "code",
   "execution_count": null,
   "id": "previous-marketplace",
   "metadata": {
    "ExecuteTime": {
     "end_time": "2021-04-28T18:13:55.606934Z",
     "start_time": "2021-04-28T18:13:55.594138Z"
    }
   },
   "outputs": [],
   "source": [
    "for col in list(train.columns):\n",
    "    if col not in list(test.columns):\n",
    "        print(\" only in train: \", col, end = \"  \")\n",
    "for col in list(test.columns):\n",
    "    if col not in list(train.columns):\n",
    "        print(\" only in test: \", col, end = \"  \") "
   ]
  },
  {
   "cell_type": "code",
   "execution_count": null,
   "id": "favorite-aruba",
   "metadata": {
    "ExecuteTime": {
     "end_time": "2021-04-28T18:13:55.619667Z",
     "start_time": "2021-04-28T18:13:55.612256Z"
    }
   },
   "outputs": [],
   "source": [
    "train.shape, test.shape"
   ]
  },
  {
   "cell_type": "code",
   "execution_count": null,
   "id": "seven-isolation",
   "metadata": {
    "ExecuteTime": {
     "end_time": "2021-04-28T18:13:55.632719Z",
     "start_time": "2021-04-28T18:13:55.624497Z"
    }
   },
   "outputs": [],
   "source": [
    "list(set(train.columns) - set(test.columns))"
   ]
  },
  {
   "cell_type": "code",
   "execution_count": null,
   "id": "possible-secretary",
   "metadata": {
    "ExecuteTime": {
     "end_time": "2021-04-28T18:13:55.639535Z",
     "start_time": "2021-04-28T18:13:55.636874Z"
    }
   },
   "outputs": [],
   "source": [
    "# bigdata = train.append(test, ignore_index=True)\n",
    "# bigdata.shape"
   ]
  },
  {
   "cell_type": "code",
   "execution_count": null,
   "id": "pressing-mongolia",
   "metadata": {
    "ExecuteTime": {
     "end_time": "2021-04-28T18:13:55.648774Z",
     "start_time": "2021-04-28T18:13:55.641163Z"
    }
   },
   "outputs": [],
   "source": [
    "# dict(bigdata.isna().any())"
   ]
  },
  {
   "cell_type": "code",
   "execution_count": null,
   "id": "sorted-oracle",
   "metadata": {
    "ExecuteTime": {
     "end_time": "2021-04-28T18:13:55.655020Z",
     "start_time": "2021-04-28T18:13:55.651157Z"
    }
   },
   "outputs": [],
   "source": [
    "# print(bigdata.sample(5).T.to_string())\n"
   ]
  },
  {
   "cell_type": "code",
   "execution_count": null,
   "id": "gentle-mouth",
   "metadata": {
    "ExecuteTime": {
     "end_time": "2021-04-28T18:13:55.662484Z",
     "start_time": "2021-04-28T18:13:55.658360Z"
    }
   },
   "outputs": [],
   "source": [
    "# dict(zip(bigdata.columns, bigdata.isna().sum()))"
   ]
  },
  {
   "cell_type": "code",
   "execution_count": null,
   "id": "imposed-posting",
   "metadata": {
    "ExecuteTime": {
     "end_time": "2021-04-28T18:13:55.702571Z",
     "start_time": "2021-04-28T18:13:55.665194Z"
    }
   },
   "outputs": [],
   "source": [
    "frauds = train.shape[0]\n",
    "yes = train['isFraud'].sum()\n",
    "no = frauds - yes\n",
    "print('{} frauds'.format(frauds))\n",
    "print('{} yes \\n{} no'.format(yes,no))"
   ]
  },
  {
   "cell_type": "markdown",
   "id": "promising-mixture",
   "metadata": {},
   "source": [
    "# remove columns over 80% missing"
   ]
  },
  {
   "cell_type": "code",
   "execution_count": null,
   "id": "dense-nylon",
   "metadata": {
    "ExecuteTime": {
     "end_time": "2021-04-28T18:14:05.296564Z",
     "start_time": "2021-04-28T18:13:55.707095Z"
    }
   },
   "outputs": [],
   "source": [
    "missing_perc = (train.isna().sum() / train.isna().count()).sort_values(ascending=False)\n",
    "dict(missing_perc)"
   ]
  },
  {
   "cell_type": "code",
   "execution_count": null,
   "id": "soviet-adaptation",
   "metadata": {
    "ExecuteTime": {
     "end_time": "2021-04-28T18:14:05.309071Z",
     "start_time": "2021-04-28T18:14:05.298923Z"
    },
    "scrolled": true
   },
   "outputs": [],
   "source": [
    "perc_too_high_cols = missing_perc[missing_perc > 0.80].index\n",
    "perc_too_high_cols"
   ]
  },
  {
   "cell_type": "code",
   "execution_count": null,
   "id": "apparent-mozambique",
   "metadata": {
    "ExecuteTime": {
     "end_time": "2021-04-28T18:14:07.266109Z",
     "start_time": "2021-04-28T18:14:05.312025Z"
    }
   },
   "outputs": [],
   "source": [
    "print(train.shape, test.shape)\n",
    "train.drop(columns=perc_too_high_cols, inplace=True)\n",
    "test.drop(columns=perc_too_high_cols, inplace=True)\n",
    "print(train.shape, test.shape)"
   ]
  },
  {
   "cell_type": "code",
   "execution_count": 8,
   "id": "criminal-identity",
   "metadata": {
    "ExecuteTime": {
     "end_time": "2021-04-28T18:28:43.227872Z",
     "start_time": "2021-04-28T18:28:42.811561Z"
    }
   },
   "outputs": [
    {
     "data": {
      "text/plain": [
       "['TransactionID',\n",
       " 'isFraud',\n",
       " 'TransactionDT',\n",
       " 'TransactionAmt',\n",
       " 'ProductCD',\n",
       " 'card1',\n",
       " 'card2',\n",
       " 'card3',\n",
       " 'card4',\n",
       " 'card5',\n",
       " 'card6',\n",
       " 'addr1',\n",
       " 'addr2',\n",
       " 'dist1',\n",
       " 'P_emaildomain',\n",
       " 'C1',\n",
       " 'C2',\n",
       " 'C3',\n",
       " 'C4',\n",
       " 'C5',\n",
       " 'C6',\n",
       " 'C7',\n",
       " 'C8',\n",
       " 'C9',\n",
       " 'C10',\n",
       " 'C11',\n",
       " 'C12',\n",
       " 'C13',\n",
       " 'C14',\n",
       " 'D1',\n",
       " 'D2',\n",
       " 'D3',\n",
       " 'D4',\n",
       " 'D5',\n",
       " 'D10',\n",
       " 'D11',\n",
       " 'D15',\n",
       " 'M1',\n",
       " 'M2',\n",
       " 'M3',\n",
       " 'M4',\n",
       " 'M5',\n",
       " 'M6',\n",
       " 'M7',\n",
       " 'M8',\n",
       " 'M9']"
      ]
     },
     "execution_count": 8,
     "metadata": {},
     "output_type": "execute_result"
    }
   ],
   "source": [
    "# save train and test\n",
    "# train.to_pickle(\"train1.pkl\")\n",
    "# test.to_pickle(\"test1.pkl\")\n",
    "train = pd.read_pickle(\"train1.pkl\")\n",
    "list(train.columns)"
   ]
  },
  {
   "cell_type": "markdown",
   "id": "complicated-stone",
   "metadata": {},
   "source": [
    "## Remove too many NaN on rows"
   ]
  },
  {
   "cell_type": "code",
   "execution_count": 6,
   "id": "peripheral-decline",
   "metadata": {
    "ExecuteTime": {
     "end_time": "2021-04-28T18:28:05.291167Z",
     "start_time": "2021-04-28T18:28:04.817093Z"
    }
   },
   "outputs": [
    {
     "name": "stdout",
     "output_type": "stream",
     "text": [
      "(590540, 46)\n",
      "(512130, 46)\n"
     ]
    }
   ],
   "source": [
    "def drop_more_than_N_Nan(N): # of the 68 columns, only 12 allowed to be NaN\n",
    "    print(train.shape)\n",
    "    train.dropna(thresh=train.shape[1]-N, inplace=True)\n",
    "    print(train.shape)\n",
    "    \n",
    "drop_more_than_N_Nan(12)"
   ]
  },
  {
   "cell_type": "markdown",
   "id": "eight-israeli",
   "metadata": {},
   "source": [
    "# Prepare Train "
   ]
  },
  {
   "cell_type": "code",
   "execution_count": 7,
   "id": "serious-establishment",
   "metadata": {
    "ExecuteTime": {
     "end_time": "2021-04-28T18:28:07.004428Z",
     "start_time": "2021-04-28T18:28:06.995424Z"
    }
   },
   "outputs": [
    {
     "data": {
      "text/plain": [
       "((512130, 45),\n",
       " Index(['isFraud', 'TransactionDT', 'TransactionAmt', 'ProductCD', 'card1',\n",
       "        'card2', 'card3', 'card4', 'card5', 'card6', 'addr1', 'addr2', 'dist1',\n",
       "        'P_emaildomain', 'C1', 'C2', 'C3', 'C4', 'C5', 'C6', 'C7', 'C8', 'C9',\n",
       "        'C10', 'C11', 'C12', 'C13', 'C14', 'D1', 'D2', 'D3', 'D4', 'D5', 'D10',\n",
       "        'D11', 'D15', 'M1', 'M2', 'M3', 'M4', 'M5', 'M6', 'M7', 'M8', 'M9'],\n",
       "       dtype='object'))"
      ]
     },
     "execution_count": 7,
     "metadata": {},
     "output_type": "execute_result"
    }
   ],
   "source": [
    "train.set_index(\"TransactionID\", inplace=True)\n",
    "train.shape, train.columns"
   ]
  },
  {
   "cell_type": "markdown",
   "id": "certified-stranger",
   "metadata": {},
   "source": [
    "## check categories"
   ]
  },
  {
   "cell_type": "code",
   "execution_count": null,
   "id": "animated-pollution",
   "metadata": {
    "ExecuteTime": {
     "end_time": "2021-04-28T18:06:53.326011Z",
     "start_time": "2021-04-28T18:06:53.306729Z"
    }
   },
   "outputs": [],
   "source": [
    "for col, values in train.loc[:, train.dtypes == object].iteritems():\n",
    "    num_uniques = values.nunique()\n",
    "    if num_uniques > 5:\n",
    "        print ('{name}: {num_unique}'.format(name=col, num_unique=num_uniques))\n",
    "        print (values.unique()[:20], \"....\")\n",
    "        print (\"\")\n",
    "        print (values.value_counts()[:10])\n",
    "        print ('\\n')"
   ]
  },
  {
   "cell_type": "code",
   "execution_count": null,
   "id": "industrial-midnight",
   "metadata": {
    "ExecuteTime": {
     "end_time": "2021-04-28T18:06:53.350464Z",
     "start_time": "2021-04-28T18:06:53.327506Z"
    }
   },
   "outputs": [],
   "source": [
    "train[[\"P_emaildomain\", \"R_emaildomain\"]]"
   ]
  },
  {
   "cell_type": "markdown",
   "id": "quality-intake",
   "metadata": {},
   "source": [
    "## add new column from emails which are the same"
   ]
  },
  {
   "cell_type": "code",
   "execution_count": null,
   "id": "confident-discount",
   "metadata": {
    "ExecuteTime": {
     "end_time": "2021-04-28T18:06:53.363831Z",
     "start_time": "2021-04-28T18:06:53.352485Z"
    }
   },
   "outputs": [],
   "source": [
    "train['is_email_same'] = train.apply(lambda x: x['P_emaildomain']== x['R_emaildomain'] and x['R_emaildomain'] != np.nan, axis=1)"
   ]
  },
  {
   "cell_type": "code",
   "execution_count": null,
   "id": "caroline-staff",
   "metadata": {
    "ExecuteTime": {
     "end_time": "2021-04-28T18:06:53.386739Z",
     "start_time": "2021-04-28T18:06:53.376176Z"
    }
   },
   "outputs": [],
   "source": [
    "train['is_email_same'].value_counts()"
   ]
  },
  {
   "cell_type": "code",
   "execution_count": null,
   "id": "stock-advertising",
   "metadata": {
    "ExecuteTime": {
     "end_time": "2021-04-28T18:06:53.399100Z",
     "start_time": "2021-04-28T18:06:53.389401Z"
    }
   },
   "outputs": [],
   "source": [
    "train[train['P_emaildomain'] == train['R_emaildomain']].filter([\"P_emaildomain\",\"R_emaildomain\"])"
   ]
  },
  {
   "cell_type": "code",
   "execution_count": null,
   "id": "focused-monthly",
   "metadata": {
    "ExecuteTime": {
     "end_time": "2021-04-28T18:06:53.408168Z",
     "start_time": "2021-04-28T18:06:53.402470Z"
    }
   },
   "outputs": [],
   "source": [
    "train['P_emaildomain'].value_counts()\n"
   ]
  },
  {
   "cell_type": "code",
   "execution_count": null,
   "id": "stopped-industry",
   "metadata": {
    "ExecuteTime": {
     "end_time": "2021-04-28T18:06:53.432433Z",
     "start_time": "2021-04-28T18:06:53.412145Z"
    }
   },
   "outputs": [],
   "source": [
    "train.groupby([\"P_emaildomain\", \"isFraud\"]).size().unstack(level=1)"
   ]
  },
  {
   "cell_type": "code",
   "execution_count": null,
   "id": "piano-doctor",
   "metadata": {
    "ExecuteTime": {
     "end_time": "2021-04-28T18:06:53.445868Z",
     "start_time": "2021-04-28T18:06:53.435274Z"
    }
   },
   "outputs": [],
   "source": [
    "train.groupby([\"P_emaildomain\"]).apply(lambda x: x['isFraud'].sum()/x['isFraud'].count())"
   ]
  },
  {
   "cell_type": "code",
   "execution_count": null,
   "id": "twenty-laptop",
   "metadata": {
    "ExecuteTime": {
     "end_time": "2021-04-28T18:06:53.456461Z",
     "start_time": "2021-04-28T18:06:53.447222Z"
    }
   },
   "outputs": [],
   "source": [
    "def get_perc(x):\n",
    "    return x.sum()/x.count()"
   ]
  },
  {
   "cell_type": "code",
   "execution_count": null,
   "id": "indian-microphone",
   "metadata": {
    "ExecuteTime": {
     "end_time": "2021-04-28T18:06:53.488976Z",
     "start_time": "2021-04-28T18:06:53.458702Z"
    }
   },
   "outputs": [],
   "source": [
    "train.groupby([\"P_emaildomain\"]).agg(P_emaildomain_PercFraud=(\"isFraud\", get_perc)).reset_index().sort_values(\"P_emaildomain_PercFraud\", ascending=False)"
   ]
  },
  {
   "cell_type": "code",
   "execution_count": null,
   "id": "incomplete-treasure",
   "metadata": {
    "ExecuteTime": {
     "end_time": "2021-04-28T18:25:07.744350Z",
     "start_time": "2021-04-28T18:25:07.736436Z"
    }
   },
   "outputs": [],
   "source": [
    "email_repl_dict = {re.compile('.*gmail.*'): 'gmail',\n",
    "             re.compile('.*hotmail.*'): 'hotmail',\n",
    "             re.compile('.*yahoo.*'): 'yahoo',\n",
    "             re.compile('.*aol.*'): 'aol',\n",
    "             re.compile('.*anonymous.*'): 'anonymous',\n",
    "             re.compile('.*outlook.*'): 'outlook',\n",
    "             re.compile('.*protonmail.*'): 'protonmail'}"
   ]
  },
  {
   "cell_type": "code",
   "execution_count": null,
   "id": "victorian-haven",
   "metadata": {
    "ExecuteTime": {
     "end_time": "2021-04-28T18:26:15.482455Z",
     "start_time": "2021-04-28T18:25:09.609393Z"
    }
   },
   "outputs": [],
   "source": [
    "# train['P_emaildomain'].replace(email_repl_dict, regex=True, inplace=True)\n",
    "# train['R_emaildomain'].replace(email_repl_dict, regex=True, inplace=True)\n",
    "d = defaultdict(lambda: 'other')\n",
    "d.update(dict(zip(email_repl_dict.values(), email_repl_dict.values())))\n",
    "train['P_emaildomain'] = train['P_emaildomain'].replace(email_repl_dict, regex=True, inplace=False).map(d)\n",
    "train['P_emaildomain'].value_counts().head(15)\n"
   ]
  },
  {
   "cell_type": "code",
   "execution_count": null,
   "id": "premier-translator",
   "metadata": {
    "ExecuteTime": {
     "end_time": "2021-04-28T18:26:15.565746Z",
     "start_time": "2021-04-28T18:26:15.484150Z"
    }
   },
   "outputs": [],
   "source": [
    "train['R_emaildomain'] = train['R_emaildomain'].replace(email_repl_dict, regex=True, inplace=False).map(d)\n",
    "train['R_emaildomain'].value_counts().head(15)"
   ]
  },
  {
   "cell_type": "code",
   "execution_count": null,
   "id": "unavailable-pressure",
   "metadata": {
    "ExecuteTime": {
     "end_time": "2021-04-28T18:06:53.604069Z",
     "start_time": "2021-04-28T18:06:53.530213Z"
    }
   },
   "outputs": [],
   "source": [
    "with pd.option_context('display.max_rows', None, 'display.max_columns', None):  # more options can be specified also\n",
    "    print(train.groupby([\"id_31\"]).agg({\"isFraud\":[get_perc, \"count\"]}, as_index=False).reset_index()[['id_31','isFraud']].sort_values(('isFraud','count'), ascending=False))"
   ]
  },
  {
   "cell_type": "code",
   "execution_count": null,
   "id": "structured-stand",
   "metadata": {
    "ExecuteTime": {
     "end_time": "2021-04-28T18:06:53.614281Z",
     "start_time": "2021-04-28T18:06:53.609422Z"
    }
   },
   "outputs": [],
   "source": [
    "# id_30_repl_dict = {re.compile('.*ndroid.*'): 'android',\n",
    "#              re.compile('.*indows.*'): 'windows',\n",
    "#              re.compile('.*iOS.*'): 'ios',\n",
    "#              re.compile('.*OS X.*'): 'mac',\n",
    "#              re.compile('.*Mac*'): 'mac'\n",
    "#                   }"
   ]
  },
  {
   "cell_type": "code",
   "execution_count": null,
   "id": "handled-nepal",
   "metadata": {
    "ExecuteTime": {
     "end_time": "2021-04-28T18:06:53.630664Z",
     "start_time": "2021-04-28T18:06:53.622788Z"
    }
   },
   "outputs": [],
   "source": [
    "# d = defaultdict(lambda: 'other')\n",
    "# d.update(dict(zip(id_30_repl_dict.values(), id_30_repl_dict.values())))\n",
    "# train['id_30'].replace(id_30_repl_dict, regex=True, inplace=False).map(d).value_counts().head(15)"
   ]
  },
  {
   "cell_type": "code",
   "execution_count": null,
   "id": "convinced-albany",
   "metadata": {
    "ExecuteTime": {
     "end_time": "2021-04-28T18:06:53.641957Z",
     "start_time": "2021-04-28T18:06:53.636868Z"
    }
   },
   "outputs": [],
   "source": [
    "# train.groupby([\"DeviceInfo\",\"isFraud\"]).size().to_frame('size').reset_index().sort_values(\"size\", ascending=False)"
   ]
  },
  {
   "cell_type": "code",
   "execution_count": null,
   "id": "earlier-slave",
   "metadata": {
    "ExecuteTime": {
     "end_time": "2021-04-28T18:06:53.676774Z",
     "start_time": "2021-04-28T18:06:53.648139Z"
    }
   },
   "outputs": [],
   "source": [
    "with pd.option_context('display.max_rows', None, 'display.max_columns', None):  # more options can be specified also\n",
    "    print(train.groupby([\"DeviceInfo\"]).agg({\"isFraud\":[get_perc, \"count\"]}, as_index=False).reset_index()[['DeviceInfo','isFraud']].sort_values(('isFraud','count'), ascending=False))"
   ]
  },
  {
   "cell_type": "code",
   "execution_count": null,
   "id": "mineral-marijuana",
   "metadata": {
    "ExecuteTime": {
     "end_time": "2021-04-28T18:26:15.567533Z",
     "start_time": "2021-04-28T18:25:16.343Z"
    }
   },
   "outputs": [],
   "source": [
    "DeviceInfo_repl_dict = {re.compile('.*rv.*'): 'rv',\n",
    "             re.compile('.*indows.*'): 'windows',\n",
    "             re.compile('.*iOS.*'): 'ios',\n",
    "             re.compile('.*Build.*'): 'build',\n",
    "             re.compile('.*rident.*'): 'trident',\n",
    "             re.compile('.*Moto.*'): 'moto'\n",
    "                  }"
   ]
  },
  {
   "cell_type": "code",
   "execution_count": null,
   "id": "designing-damage",
   "metadata": {
    "ExecuteTime": {
     "end_time": "2021-04-28T18:26:15.568315Z",
     "start_time": "2021-04-28T18:25:18.287Z"
    }
   },
   "outputs": [],
   "source": [
    "d = defaultdict(lambda: 'other')\n",
    "d.update(dict(zip(DeviceInfo_repl_dict.values(), DeviceInfo_repl_dict.values())))\n",
    "train['DeviceInfo'] = train['DeviceInfo'].replace(DeviceInfo_repl_dict, regex=True, inplace=False).map(d)\n",
    "train['DeviceInfo'].value_counts().head(15)"
   ]
  },
  {
   "cell_type": "code",
   "execution_count": null,
   "id": "smoking-amplifier",
   "metadata": {
    "ExecuteTime": {
     "end_time": "2021-04-28T18:06:53.749666Z",
     "start_time": "2021-04-28T18:06:53.717205Z"
    }
   },
   "outputs": [],
   "source": [
    "with pd.option_context('display.max_rows', None, 'display.max_columns', None):  # more options can be specified also\n",
    "    print(train.groupby([\"id_31\"]).agg({\"isFraud\":[get_perc, \"count\"]}, as_index=False).reset_index()[['id_31','isFraud']].sort_values(('isFraud','get_perc'), ascending=False))"
   ]
  },
  {
   "cell_type": "code",
   "execution_count": null,
   "id": "valuable-outline",
   "metadata": {
    "ExecuteTime": {
     "end_time": "2021-04-28T18:26:15.568910Z",
     "start_time": "2021-04-28T18:25:20.680Z"
    }
   },
   "outputs": [],
   "source": [
    "id_31_repl_dict = {re.compile('.*icedragon.*'): 'icedragon',\n",
    "             re.compile('.*irefox.*'): 'firefox',\n",
    "             re.compile('.*android.*'): 'android',\n",
    "             re.compile('.*chrome.*'): 'chrome',\n",
    "             re.compile('.*safari.*'): 'safari',\n",
    "             re.compile('.*ie.*'): 'ie',\n",
    "             re.compile('.*edge.*'): 'ie',\n",
    "             re.compile('.*samsung browser.*'): 'samsung',\n",
    "             re.compile('.*opera*'): 'opera'\n",
    "                  }"
   ]
  },
  {
   "cell_type": "code",
   "execution_count": null,
   "id": "limited-residence",
   "metadata": {
    "ExecuteTime": {
     "end_time": "2021-04-28T18:26:15.569535Z",
     "start_time": "2021-04-28T18:25:22.824Z"
    }
   },
   "outputs": [],
   "source": [
    "d = defaultdict(lambda: 'other')\n",
    "d.update(dict(zip(id_31_repl_dict.values(), id_31_repl_dict.values())))\n",
    "train['id_31'] = train['id_31'].replace(id_31_repl_dict, regex=True, inplace=False).map(d)\n",
    "train['id_31'].value_counts().head(15)"
   ]
  },
  {
   "cell_type": "code",
   "execution_count": null,
   "id": "fourth-caution",
   "metadata": {
    "ExecuteTime": {
     "end_time": "2021-04-28T18:06:56.598854Z",
     "start_time": "2021-04-28T18:06:53.798347Z"
    }
   },
   "outputs": [],
   "source": [
    "f = plt.figure(figsize=(19, 15))\n",
    "plt.matshow(train.corr(), fignum=f.number)\n",
    "plt.xticks(range(train.select_dtypes(['number']).shape[1]), train.select_dtypes(['number']).columns, fontsize=14, rotation=45)\n",
    "plt.yticks(range(train.select_dtypes(['number']).shape[1]), train.select_dtypes(['number']).columns, fontsize=14)\n",
    "cb = plt.colorbar()\n",
    "cb.ax.tick_params(labelsize=14)\n",
    "plt.title('Correlation Matrix', fontsize=16);"
   ]
  },
  {
   "cell_type": "code",
   "execution_count": null,
   "id": "simplified-engine",
   "metadata": {
    "ExecuteTime": {
     "end_time": "2021-04-28T18:26:35.304064Z",
     "start_time": "2021-04-28T18:26:33.696589Z"
    }
   },
   "outputs": [],
   "source": [
    "corrMatrix = train.corr()\n",
    "sns.heatmap(corrMatrix, annot=False, cmap=\"Greens\")\n",
    "plt.show()"
   ]
  },
  {
   "cell_type": "markdown",
   "id": "retired-singapore",
   "metadata": {
    "ExecuteTime": {
     "end_time": "2021-04-26T22:02:04.593272Z",
     "start_time": "2021-04-26T21:59:21.283Z"
    }
   },
   "source": [
    "as we can see no features are highly correlated if the isFruad, because that would make it too easy :) \n",
    "\n",
    "However card3 and is_email_same show promise"
   ]
  },
  {
   "cell_type": "code",
   "execution_count": null,
   "id": "completed-banks",
   "metadata": {
    "ExecuteTime": {
     "end_time": "2021-04-28T18:06:57.332691Z",
     "start_time": "2021-04-28T18:06:57.305603Z"
    }
   },
   "outputs": [],
   "source": [
    "print(train.sample(5).T.to_string())"
   ]
  },
  {
   "cell_type": "code",
   "execution_count": null,
   "id": "bacterial-protest",
   "metadata": {
    "ExecuteTime": {
     "end_time": "2021-04-28T18:06:57.338893Z",
     "start_time": "2021-04-28T18:06:57.336681Z"
    }
   },
   "outputs": [],
   "source": [
    "# (train\n",
    "#     .filter(corrMatrix.columns)\n",
    "#      .query(\"isFraud == 1\")\n",
    "#      .drop('isFraud', axis=1)\n",
    "# )"
   ]
  },
  {
   "cell_type": "markdown",
   "id": "combined-disney",
   "metadata": {},
   "source": [
    "I don't think we have ordinal values, but I need to encode to use them "
   ]
  },
  {
   "cell_type": "code",
   "execution_count": null,
   "id": "collective-survivor",
   "metadata": {
    "ExecuteTime": {
     "end_time": "2021-04-28T18:26:15.570801Z",
     "start_time": "2021-04-28T18:25:35.664Z"
    }
   },
   "outputs": [],
   "source": [
    "x = []\n",
    "for col in train.columns:\n",
    "    vals = train[col].value_counts().shape[0]\n",
    "    missing = round((train[col].isna().sum()/train[col].shape[0])*100,2)\n",
    "    x.append([col,vals,missing])\n",
    "with pd.option_context('display.max_rows', None, 'display.max_columns', None):\n",
    "    print(pd.DataFrame(x, columns=[\"col\",\"vals\",\"missing\"]).set_index(\"col\"))"
   ]
  },
  {
   "cell_type": "code",
   "execution_count": null,
   "id": "thick-italic",
   "metadata": {
    "ExecuteTime": {
     "end_time": "2021-04-28T18:06:57.452576Z",
     "start_time": "2021-04-28T18:06:57.444482Z"
    }
   },
   "outputs": [],
   "source": [
    "# list(train.columns)\n",
    "list(train.loc[:,train.dtypes != object])"
   ]
  },
  {
   "cell_type": "code",
   "execution_count": null,
   "id": "mental-diameter",
   "metadata": {
    "ExecuteTime": {
     "end_time": "2021-04-28T18:26:15.571401Z",
     "start_time": "2021-04-28T18:26:14.408Z"
    }
   },
   "outputs": [],
   "source": [
    "train.to_pickle(\"train2.pkl\")"
   ]
  },
  {
   "cell_type": "markdown",
   "id": "worst-penguin",
   "metadata": {},
   "source": [
    "# scale everything"
   ]
  },
  {
   "cell_type": "code",
   "execution_count": null,
   "id": "quiet-resident",
   "metadata": {
    "ExecuteTime": {
     "end_time": "2021-04-28T18:06:57.513886Z",
     "start_time": "2021-04-28T18:06:57.456658Z"
    }
   },
   "outputs": [],
   "source": [
    "num_cols_mask = (train.dtypes != object) & (train.nunique()>5)\n",
    "num_cols = train.columns[num_cols_mask]\n",
    "train.loc[:, num_cols_mask]"
   ]
  },
  {
   "cell_type": "code",
   "execution_count": null,
   "id": "proved-humidity",
   "metadata": {
    "ExecuteTime": {
     "end_time": "2021-04-28T18:06:57.526377Z",
     "start_time": "2021-04-28T18:06:57.515650Z"
    }
   },
   "outputs": [],
   "source": [
    "scaler = StandardScaler()\n",
    "train[num_cols] = scaler.fit_transform(train[num_cols])"
   ]
  },
  {
   "cell_type": "code",
   "execution_count": null,
   "id": "absolute-cooper",
   "metadata": {
    "ExecuteTime": {
     "end_time": "2021-04-28T18:06:57.560240Z",
     "start_time": "2021-04-28T18:06:57.535078Z"
    }
   },
   "outputs": [],
   "source": [
    "train[num_cols]"
   ]
  },
  {
   "cell_type": "code",
   "execution_count": null,
   "id": "final-graduation",
   "metadata": {
    "ExecuteTime": {
     "end_time": "2021-04-28T18:06:57.633584Z",
     "start_time": "2021-04-28T18:06:57.562069Z"
    },
    "scrolled": true
   },
   "outputs": [],
   "source": [
    "train[num_cols].describe().round(3).T.sort_values(\"max\", ascending=False)"
   ]
  },
  {
   "cell_type": "code",
   "execution_count": null,
   "id": "adaptive-metallic",
   "metadata": {
    "ExecuteTime": {
     "end_time": "2021-04-28T18:07:00.822878Z",
     "start_time": "2021-04-28T18:06:57.636366Z"
    },
    "scrolled": true
   },
   "outputs": [],
   "source": [
    "train[num_cols].diff().hist(color=\"k\", alpha=0.5, bins=50, figsize=(25,25));\n"
   ]
  },
  {
   "cell_type": "markdown",
   "id": "identical-liver",
   "metadata": {
    "ExecuteTime": {
     "end_time": "2021-04-27T22:22:47.533247Z",
     "start_time": "2021-04-27T22:22:45.203156Z"
    }
   },
   "source": [
    "Remove NaN"
   ]
  },
  {
   "cell_type": "markdown",
   "id": "attended-introduction",
   "metadata": {},
   "source": [
    "# fill missing and remove outliers"
   ]
  },
  {
   "cell_type": "code",
   "execution_count": null,
   "id": "expensive-floor",
   "metadata": {
    "ExecuteTime": {
     "end_time": "2021-04-28T18:00:02.137695Z",
     "start_time": "2021-04-28T17:53:16.228988Z"
    }
   },
   "outputs": [],
   "source": [
    "print(train.shape)\n",
    "imp_kNN = KNNImputer(missing_values = np.nan)\n",
    "imp_kNN.fit(train[num_cols])\n",
    "train[num_cols] = imp_kNN.transform(train[num_cols])\n",
    "print(train.shape)"
   ]
  },
  {
   "cell_type": "code",
   "execution_count": null,
   "id": "dominant-partition",
   "metadata": {
    "ExecuteTime": {
     "end_time": "2021-04-28T18:00:02.809428Z",
     "start_time": "2021-04-28T18:00:02.183382Z"
    }
   },
   "outputs": [],
   "source": [
    "# print dataframe.\n",
    "fig = plt.figure()\n",
    "ax = fig.add_subplot(121)\n",
    "ax.hist(np.log(train[\"TransactionAmt\"]), bins=100);\n",
    "ax = fig.add_subplot(122)\n",
    "ax.hist(train[\"TransactionAmt\"], bins=100);"
   ]
  },
  {
   "cell_type": "markdown",
   "id": "about-puzzle",
   "metadata": {},
   "source": [
    "# Hold Out Validation"
   ]
  },
  {
   "cell_type": "code",
   "execution_count": null,
   "id": "given-potential",
   "metadata": {},
   "outputs": [],
   "source": [
    "train"
   ]
  }
 ],
 "metadata": {
  "kernelspec": {
   "display_name": "Python 3",
   "language": "python",
   "name": "python3"
  },
  "language_info": {
   "codemirror_mode": {
    "name": "ipython",
    "version": 3
   },
   "file_extension": ".py",
   "mimetype": "text/x-python",
   "name": "python",
   "nbconvert_exporter": "python",
   "pygments_lexer": "ipython3",
   "version": "3.8.5"
  }
 },
 "nbformat": 4,
 "nbformat_minor": 5
}
